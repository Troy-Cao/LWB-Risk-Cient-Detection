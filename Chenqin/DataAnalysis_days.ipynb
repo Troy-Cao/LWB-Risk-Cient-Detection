{
 "cells": [
  {
   "cell_type": "code",
   "execution_count": 1,
   "metadata": {},
   "outputs": [],
   "source": [
    "import numpy as np\n",
    "import pandas as pd\n",
    "from IPython.core.interactiveshell import InteractiveShell\n",
    "InteractiveShell.ast_node_interactivity = \"all\"\n",
    "\n",
    "filename = \"../../20200404_LWB_Client_Events_Day.csv\""
   ]
  },
  {
   "cell_type": "code",
   "execution_count": null,
   "metadata": {},
   "outputs": [
    {
     "name": "stderr",
     "output_type": "stream",
     "text": [
      "/Users/chenqinzhang/opt/anaconda3/envs/sem1_2020/lib/python3.7/site-packages/IPython/core/interactiveshell.py:3063: DtypeWarning: Columns (949,960,962,963,968,969,970,972,1048,1049,1050,1052,1053,1054,1055,1056,1057,1058,1059,1061,1062,1063,1065,1066,1067,1086,1087,1088,1089,1090,1092,1093,1094,1098,1099,1100,1101,1102,1104,1105,1106,1107,1108,1109,1110,1111,1113,1114,1118,1119,1122,1127,1128,1129,1131,1133,1134,1135,1136,1137,1138,1139,1140,1143,1144,1145,1150,1152,1153,1154,1156,1157) have mixed types.Specify dtype option on import or set low_memory=False.\n",
      "  interactivity=interactivity, compiler=compiler, result=result)\n"
     ]
    }
   ],
   "source": [
    "fullData = pd.read_csv(filename)"
   ]
  },
  {
   "cell_type": "code",
   "execution_count": null,
   "metadata": {},
   "outputs": [],
   "source": [
    "fullData.shape\n",
    "fullData.head(5)\n",
    "fullData.tail(5)"
   ]
  },
  {
   "cell_type": "code",
   "execution_count": null,
   "metadata": {},
   "outputs": [],
   "source": []
  }
 ],
 "metadata": {
  "kernelspec": {
   "display_name": "Python 3",
   "language": "python",
   "name": "python3"
  },
  "language_info": {
   "codemirror_mode": {
    "name": "ipython",
    "version": 3
   },
   "file_extension": ".py",
   "mimetype": "text/x-python",
   "name": "python",
   "nbconvert_exporter": "python",
   "pygments_lexer": "ipython3",
   "version": "3.7.6"
  }
 },
 "nbformat": 4,
 "nbformat_minor": 4
}
