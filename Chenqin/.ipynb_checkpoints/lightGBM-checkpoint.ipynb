{
 "cells": [
  {
   "cell_type": "code",
   "execution_count": 209,
   "metadata": {},
   "outputs": [],
   "source": [
    "import lightgbm\n",
    "import pandas as pd\n",
    "\n",
    "part_1 = pd.read_csv(\"../../Data/dc_part_v3.csv\")"
   ]
  },
  {
   "cell_type": "code",
   "execution_count": 252,
   "metadata": {},
   "outputs": [
    {
     "ename": "NameError",
     "evalue": "name 'name' is not defined",
     "output_type": "error",
     "traceback": [
      "\u001b[0;31m---------------------------------------------------------------------------\u001b[0m",
      "\u001b[0;31mNameError\u001b[0m                                 Traceback (most recent call last)",
      "\u001b[0;32m<ipython-input-252-41929384dff4>\u001b[0m in \u001b[0;36m<module>\u001b[0;34m\u001b[0m\n\u001b[1;32m      1\u001b[0m \u001b[0mpart_2\u001b[0m \u001b[0;34m=\u001b[0m \u001b[0mpd\u001b[0m\u001b[0;34m.\u001b[0m\u001b[0mread_csv\u001b[0m\u001b[0;34m(\u001b[0m\u001b[0;34m\"../../Data/chenqin5%.csv\"\u001b[0m\u001b[0;34m)\u001b[0m\u001b[0;34m\u001b[0m\u001b[0;34m\u001b[0m\u001b[0m\n\u001b[1;32m      2\u001b[0m \u001b[0mpart_2\u001b[0m\u001b[0;34m.\u001b[0m\u001b[0mshape\u001b[0m\u001b[0;34m\u001b[0m\u001b[0;34m\u001b[0m\u001b[0m\n\u001b[0;32m----> 3\u001b[0;31m \u001b[0mname\u001b[0m\u001b[0;34m(\u001b[0m\u001b[0mpart_2\u001b[0m\u001b[0;34m)\u001b[0m\u001b[0;34m\u001b[0m\u001b[0;34m\u001b[0m\u001b[0m\n\u001b[0m",
      "\u001b[0;31mNameError\u001b[0m: name 'name' is not defined"
     ]
    }
   ],
   "source": [
    "part_2 = pd.read_csv(\"../../Data/chenqin5%.csv\")\n",
    "part_2.shape\n",
    "part_2"
   ]
  },
  {
   "cell_type": "code",
   "execution_count": 259,
   "metadata": {},
   "outputs": [
    {
     "name": "stdout",
     "output_type": "stream",
     "text": [
      "(124293, 239)\n"
     ]
    },
    {
     "data": {
      "text/html": [
       "<div>\n",
       "<style scoped>\n",
       "    .dataframe tbody tr th:only-of-type {\n",
       "        vertical-align: middle;\n",
       "    }\n",
       "\n",
       "    .dataframe tbody tr th {\n",
       "        vertical-align: top;\n",
       "    }\n",
       "\n",
       "    .dataframe thead th {\n",
       "        text-align: right;\n",
       "    }\n",
       "</style>\n",
       "<table border=\"1\" class=\"dataframe\">\n",
       "  <thead>\n",
       "    <tr style=\"text-align: right;\">\n",
       "      <th></th>\n",
       "    </tr>\n",
       "  </thead>\n",
       "  <tbody>\n",
       "    <tr>\n",
       "      <th>0</th>\n",
       "    </tr>\n",
       "    <tr>\n",
       "      <th>1</th>\n",
       "    </tr>\n",
       "    <tr>\n",
       "      <th>2</th>\n",
       "    </tr>\n",
       "    <tr>\n",
       "      <th>3</th>\n",
       "    </tr>\n",
       "    <tr>\n",
       "      <th>4</th>\n",
       "    </tr>\n",
       "    <tr>\n",
       "      <th>...</th>\n",
       "    </tr>\n",
       "    <tr>\n",
       "      <th>124288</th>\n",
       "    </tr>\n",
       "    <tr>\n",
       "      <th>124289</th>\n",
       "    </tr>\n",
       "    <tr>\n",
       "      <th>124290</th>\n",
       "    </tr>\n",
       "    <tr>\n",
       "      <th>124291</th>\n",
       "    </tr>\n",
       "    <tr>\n",
       "      <th>124292</th>\n",
       "    </tr>\n",
       "  </tbody>\n",
       "</table>\n",
       "<p>124293 rows × 0 columns</p>\n",
       "</div>"
      ],
      "text/plain": [
       "Empty DataFrame\n",
       "Columns: []\n",
       "Index: [0, 1, 2, 3, 4, 5, 6, 7, 8, 9, 10, 11, 12, 13, 14, 15, 16, 17, 18, 19, 20, 21, 22, 23, 24, 25, 26, 27, 28, 29, 30, 31, 32, 33, 34, 35, 36, 37, 38, 39, 40, 41, 42, 43, 44, 45, 46, 47, 48, 49, 50, 51, 52, 53, 54, 55, 56, 57, 58, 59, 60, 61, 62, 63, 64, 65, 66, 67, 68, 69, 70, 71, 72, 73, 74, 75, 76, 77, 78, 79, 80, 81, 82, 83, 84, 85, 86, 87, 88, 89, 90, 91, 92, 93, 94, 95, 96, 97, 98, 99, ...]\n",
       "\n",
       "[124293 rows x 0 columns]"
      ]
     },
     "execution_count": 259,
     "metadata": {},
     "output_type": "execute_result"
    }
   ],
   "source": [
    "init_record = pd.concat([part_1, part_2], axis=1, sort=False)\n",
    "print(init_record.shape)\n",
    "init_record.head()\n",
    "init_record.filter(regex=r'_piv$', axis=1)"
   ]
  },
  {
   "cell_type": "code",
   "execution_count": 218,
   "metadata": {},
   "outputs": [],
   "source": [
    "\n",
    "#init_record = pd.concat([part_1, part_2], axis=1, sort=False)\n",
    "init_record['_key_occurreddate_month']=init_record['_key_occurreddate_month'].astype(\"datetime64[ns]\")\n",
    "init_record = init_record.set_index(['_key_client_id', '_key_occurreddate_month'])"
   ]
  },
  {
   "cell_type": "markdown",
   "metadata": {},
   "source": [
    "## Split Dataset to three part: Training, evaluation and testing data"
   ]
  },
  {
   "cell_type": "code",
   "execution_count": 219,
   "metadata": {},
   "outputs": [
    {
     "data": {
      "text/plain": [
       "[('0000D172-EA88-432F-8235-9FAA00D29072', 12)]"
      ]
     },
     "execution_count": 219,
     "metadata": {},
     "output_type": "execute_result"
    }
   ],
   "source": [
    "from collections import Counter\n",
    "count = Counter()\n",
    "for i in init_record.index.get_level_values(0):\n",
    "    count[i] += 1\n",
    "count.most_common(1)"
   ]
  },
  {
   "cell_type": "markdown",
   "metadata": {},
   "source": [
    "## Construct feature Matrix with length k (k must smaller then n-1)"
   ]
  },
  {
   "cell_type": "code",
   "execution_count": 220,
   "metadata": {},
   "outputs": [],
   "source": [
    "n = 6\n",
    "deleteList = []\n",
    "for i in count:\n",
    "    if count[i] < n:\n",
    "        deleteList.append(i)"
   ]
  },
  {
   "cell_type": "code",
   "execution_count": 221,
   "metadata": {},
   "outputs": [],
   "source": [
    "init_record.drop(deleteList, inplace=True, level=0)"
   ]
  },
  {
   "cell_type": "code",
   "execution_count": null,
   "metadata": {},
   "outputs": [],
   "source": []
  },
  {
   "cell_type": "code",
   "execution_count": null,
   "metadata": {},
   "outputs": [],
   "source": []
  },
  {
   "cell_type": "code",
   "execution_count": 222,
   "metadata": {},
   "outputs": [],
   "source": [
    "import random\n",
    "clientList = list(set(init_record.index.get_level_values(0)))"
   ]
  },
  {
   "cell_type": "code",
   "execution_count": 223,
   "metadata": {},
   "outputs": [],
   "source": [
    "random.shuffle(clientList)"
   ]
  },
  {
   "cell_type": "code",
   "execution_count": 224,
   "metadata": {},
   "outputs": [],
   "source": [
    "length = len(clientList)\n",
    "ratio = int(length*0.1)\n",
    "trainIDs = clientList[ratio:]\n",
    "testIDs = clientList[:ratio]\n",
    "train0 = init_record.drop(testIDs, level=0)\n",
    "test = init_record.drop(trainIDs, level=0)"
   ]
  },
  {
   "cell_type": "code",
   "execution_count": 225,
   "metadata": {},
   "outputs": [
    {
     "name": "stdout",
     "output_type": "stream",
     "text": [
      "(101936, 237)\n",
      "(11376, 237)\n"
     ]
    }
   ],
   "source": [
    "print(train0.shape)\n",
    "print(test.shape)"
   ]
  },
  {
   "cell_type": "code",
   "execution_count": 226,
   "metadata": {},
   "outputs": [],
   "source": [
    "ratio = int(len(trainIDs)*0.25)\n",
    "trainRatio = trainIDs[ratio:]\n",
    "evalRatio  = trainIDs[:ratio]\n",
    "train = train0.drop(evalRatio, level=0)\n",
    "evl = train0.drop(trainRatio,level=0)"
   ]
  },
  {
   "cell_type": "code",
   "execution_count": 227,
   "metadata": {},
   "outputs": [
    {
     "name": "stdout",
     "output_type": "stream",
     "text": [
      "(76499, 237)\n",
      "(25437, 237)\n",
      "(11376, 237)\n"
     ]
    }
   ],
   "source": [
    "print(train.shape)\n",
    "print(evl.shape)\n",
    "print(test.shape)"
   ]
  },
  {
   "cell_type": "markdown",
   "metadata": {},
   "source": [
    "## Construct feature Matrix with length k (k must smaller then n-1)"
   ]
  },
  {
   "cell_type": "code",
   "execution_count": null,
   "metadata": {},
   "outputs": [],
   "source": []
  },
  {
   "cell_type": "code",
   "execution_count": 228,
   "metadata": {},
   "outputs": [],
   "source": [
    "import numpy as np"
   ]
  },
  {
   "cell_type": "code",
   "execution_count": 229,
   "metadata": {},
   "outputs": [],
   "source": [
    "\n",
    "def construct_feature_label(data,k=6):\n",
    "    x_train = []\n",
    "    y_train = []\n",
    "    clientList = list(set(data.index.get_level_values(0)))\n",
    "    for client in clientList:\n",
    "        subframe = data.xs(client, level=0)\n",
    "        subtrain = subframe.drop('response_variable',axis='columns')\n",
    "        sublabel = subframe['response_variable']\n",
    "        start = 0\n",
    "        end = k\n",
    "        while end<len(subframe)-1:\n",
    "            x_train.append(subtrain[start:end].values)\n",
    "            y_train.append(sublabel[end+1])\n",
    "            end+=1\n",
    "            start+=1\n",
    "    return x_train, y_train\n",
    "\n",
    "x_train ,y_train = construct_feature_label(train)\n",
    "x_eval, y_eval = construct_feature_label(evl)"
   ]
  },
  {
   "cell_type": "code",
   "execution_count": 230,
   "metadata": {},
   "outputs": [
    {
     "name": "stdout",
     "output_type": "stream",
     "text": [
      "28164\n",
      "28164\n",
      "6\n",
      "236\n"
     ]
    }
   ],
   "source": [
    "print(len(x_train))\n",
    "print(len(y_train))\n",
    "print(len(x_train[0]))\n",
    "print(len(x_train[0][0]))\n",
    "x_train = np.array(x_train)\n",
    "x_eval = np.array(x_eval)"
   ]
  },
  {
   "cell_type": "code",
   "execution_count": 231,
   "metadata": {},
   "outputs": [],
   "source": [
    "def reshape_featrue_label(x, y):\n",
    "    new_y = []\n",
    "    for i in y:\n",
    "        new_y+=[i]*len(x[0])\n",
    "    x = x.reshape(len(x)*len(x[0]),len(x[0][0]))\n",
    "    new_y = np.array(new_y)\n",
    "    return x, new_y\n",
    "\n",
    "x_train ,y_train = reshape_featrue_label(x_train ,y_train)\n",
    "x_eval, y_eval = reshape_featrue_label(x_eval, y_eval)"
   ]
  },
  {
   "cell_type": "code",
   "execution_count": 232,
   "metadata": {},
   "outputs": [
    {
     "name": "stdout",
     "output_type": "stream",
     "text": [
      "(168984, 236)\n",
      "(168984,)\n"
     ]
    }
   ],
   "source": [
    "print(x_train.shape)\n",
    "print(y_train.shape)"
   ]
  },
  {
   "cell_type": "code",
   "execution_count": 233,
   "metadata": {},
   "outputs": [
    {
     "name": "stdout",
     "output_type": "stream",
     "text": [
      "(55890, 236)\n",
      "(55890,)\n"
     ]
    }
   ],
   "source": [
    "print(x_eval.shape)\n",
    "print(y_eval.shape)"
   ]
  },
  {
   "cell_type": "code",
   "execution_count": null,
   "metadata": {},
   "outputs": [],
   "source": []
  },
  {
   "cell_type": "code",
   "execution_count": null,
   "metadata": {},
   "outputs": [],
   "source": []
  },
  {
   "cell_type": "code",
   "execution_count": 234,
   "metadata": {},
   "outputs": [],
   "source": [
    "for i in range(len(x_train)-1):\n",
    "    if len(x_train[i+1])!=len(x_train[i]):\n",
    "        print(1)"
   ]
  },
  {
   "cell_type": "code",
   "execution_count": null,
   "metadata": {},
   "outputs": [],
   "source": []
  },
  {
   "cell_type": "code",
   "execution_count": 235,
   "metadata": {},
   "outputs": [],
   "source": [
    "train_data = lightgbm.Dataset(x_train, label=y_train)\n",
    "eval_data = lightgbm.Dataset(x_eval, label=y_eval)"
   ]
  },
  {
   "cell_type": "code",
   "execution_count": 236,
   "metadata": {},
   "outputs": [],
   "source": [
    "parameters = {\n",
    "    'application': 'binary',\n",
    "    'objective': 'binary',\n",
    "    'metric': 'auc',\n",
    "    'is_unbalance': 'true',\n",
    "    'boosting': 'gbdt',\n",
    "    'num_leaves': 31,\n",
    "    'feature_fraction': 0.5,\n",
    "    'bagging_fraction': 0.5,\n",
    "    'bagging_freq': 20,\n",
    "    'learning_rate': 0.05,\n",
    "    'verbose': 0\n",
    "}\n"
   ]
  },
  {
   "cell_type": "code",
   "execution_count": 237,
   "metadata": {},
   "outputs": [
    {
     "name": "stdout",
     "output_type": "stream",
     "text": [
      "[LightGBM] [Warning] objective is set=binary, application=binary will be ignored. Current value: objective=binary\n",
      "[LightGBM] [Warning] objective is set=binary, application=binary will be ignored. Current value: objective=binary\n",
      "[LightGBM] [Warning] Auto-choosing row-wise multi-threading, the overhead of testing was 0.118666 seconds.\n",
      "You can set `force_row_wise=true` to remove the overhead.\n",
      "And if memory is not enough, you can set `force_col_wise=true`.\n",
      "[LightGBM] [Warning] objective is set=binary, application=binary will be ignored. Current value: objective=binary\n",
      "[1]\tvalid_0's auc: 0.821939\n",
      "Training until validation scores don't improve for 100 rounds\n",
      "[2]\tvalid_0's auc: 0.830572\n",
      "[3]\tvalid_0's auc: 0.840139\n",
      "[4]\tvalid_0's auc: 0.843278\n",
      "[5]\tvalid_0's auc: 0.843531\n",
      "[6]\tvalid_0's auc: 0.844675\n",
      "[7]\tvalid_0's auc: 0.845108\n",
      "[8]\tvalid_0's auc: 0.845683\n",
      "[9]\tvalid_0's auc: 0.846809\n",
      "[10]\tvalid_0's auc: 0.847665\n",
      "[11]\tvalid_0's auc: 0.848309\n",
      "[12]\tvalid_0's auc: 0.848723\n",
      "[13]\tvalid_0's auc: 0.849209\n",
      "[14]\tvalid_0's auc: 0.849427\n",
      "[15]\tvalid_0's auc: 0.849604\n",
      "[16]\tvalid_0's auc: 0.849927\n",
      "[17]\tvalid_0's auc: 0.849931\n",
      "[18]\tvalid_0's auc: 0.849984\n",
      "[19]\tvalid_0's auc: 0.850131\n",
      "[20]\tvalid_0's auc: 0.850437\n",
      "[21]\tvalid_0's auc: 0.850584\n",
      "[22]\tvalid_0's auc: 0.850603\n",
      "[23]\tvalid_0's auc: 0.850369\n",
      "[24]\tvalid_0's auc: 0.850476\n",
      "[25]\tvalid_0's auc: 0.850606\n",
      "[26]\tvalid_0's auc: 0.850514\n",
      "[27]\tvalid_0's auc: 0.850724\n",
      "[28]\tvalid_0's auc: 0.851075\n",
      "[29]\tvalid_0's auc: 0.851066\n",
      "[30]\tvalid_0's auc: 0.851313\n",
      "[31]\tvalid_0's auc: 0.851144\n",
      "[32]\tvalid_0's auc: 0.851163\n",
      "[33]\tvalid_0's auc: 0.851453\n",
      "[34]\tvalid_0's auc: 0.851348\n",
      "[35]\tvalid_0's auc: 0.851436\n",
      "[36]\tvalid_0's auc: 0.851453\n",
      "[37]\tvalid_0's auc: 0.85173\n",
      "[38]\tvalid_0's auc: 0.851753\n",
      "[39]\tvalid_0's auc: 0.851802\n",
      "[40]\tvalid_0's auc: 0.8518\n",
      "[41]\tvalid_0's auc: 0.851968\n",
      "[42]\tvalid_0's auc: 0.852098\n",
      "[43]\tvalid_0's auc: 0.85236\n",
      "[44]\tvalid_0's auc: 0.852299\n",
      "[45]\tvalid_0's auc: 0.852489\n",
      "[46]\tvalid_0's auc: 0.852858\n",
      "[47]\tvalid_0's auc: 0.852725\n",
      "[48]\tvalid_0's auc: 0.852735\n",
      "[49]\tvalid_0's auc: 0.852639\n",
      "[50]\tvalid_0's auc: 0.852709\n",
      "[51]\tvalid_0's auc: 0.852637\n",
      "[52]\tvalid_0's auc: 0.852418\n",
      "[53]\tvalid_0's auc: 0.852262\n",
      "[54]\tvalid_0's auc: 0.852439\n",
      "[55]\tvalid_0's auc: 0.852552\n",
      "[56]\tvalid_0's auc: 0.852565\n",
      "[57]\tvalid_0's auc: 0.852626\n",
      "[58]\tvalid_0's auc: 0.852682\n",
      "[59]\tvalid_0's auc: 0.852693\n",
      "[60]\tvalid_0's auc: 0.852748\n",
      "[61]\tvalid_0's auc: 0.852757\n",
      "[62]\tvalid_0's auc: 0.852831\n",
      "[63]\tvalid_0's auc: 0.853015\n",
      "[64]\tvalid_0's auc: 0.853158\n",
      "[65]\tvalid_0's auc: 0.853089\n",
      "[66]\tvalid_0's auc: 0.853331\n",
      "[67]\tvalid_0's auc: 0.853442\n",
      "[68]\tvalid_0's auc: 0.853463\n",
      "[69]\tvalid_0's auc: 0.853542\n",
      "[70]\tvalid_0's auc: 0.853641\n",
      "[71]\tvalid_0's auc: 0.853803\n",
      "[72]\tvalid_0's auc: 0.853989\n",
      "[73]\tvalid_0's auc: 0.854097\n",
      "[74]\tvalid_0's auc: 0.854042\n",
      "[75]\tvalid_0's auc: 0.853995\n",
      "[76]\tvalid_0's auc: 0.854101\n",
      "[77]\tvalid_0's auc: 0.854282\n",
      "[78]\tvalid_0's auc: 0.854344\n",
      "[79]\tvalid_0's auc: 0.854436\n",
      "[80]\tvalid_0's auc: 0.854525\n",
      "[81]\tvalid_0's auc: 0.854542\n",
      "[82]\tvalid_0's auc: 0.854453\n",
      "[83]\tvalid_0's auc: 0.854552\n",
      "[84]\tvalid_0's auc: 0.854267\n",
      "[85]\tvalid_0's auc: 0.854215\n",
      "[86]\tvalid_0's auc: 0.854134\n",
      "[87]\tvalid_0's auc: 0.8541\n",
      "[88]\tvalid_0's auc: 0.85402\n",
      "[89]\tvalid_0's auc: 0.853893\n",
      "[90]\tvalid_0's auc: 0.853908\n",
      "[91]\tvalid_0's auc: 0.853857\n",
      "[92]\tvalid_0's auc: 0.85398\n",
      "[93]\tvalid_0's auc: 0.853802\n",
      "[94]\tvalid_0's auc: 0.853892\n",
      "[95]\tvalid_0's auc: 0.85371\n",
      "[96]\tvalid_0's auc: 0.853673\n",
      "[97]\tvalid_0's auc: 0.853723\n",
      "[98]\tvalid_0's auc: 0.853759\n",
      "[99]\tvalid_0's auc: 0.853632\n",
      "[100]\tvalid_0's auc: 0.853639\n",
      "[101]\tvalid_0's auc: 0.853699\n",
      "[102]\tvalid_0's auc: 0.853741\n",
      "[103]\tvalid_0's auc: 0.853904\n",
      "[104]\tvalid_0's auc: 0.854046\n",
      "[105]\tvalid_0's auc: 0.853941\n",
      "[106]\tvalid_0's auc: 0.85377\n",
      "[107]\tvalid_0's auc: 0.853774\n",
      "[108]\tvalid_0's auc: 0.853869\n",
      "[109]\tvalid_0's auc: 0.853807\n",
      "[110]\tvalid_0's auc: 0.853925\n",
      "[111]\tvalid_0's auc: 0.853883\n",
      "[112]\tvalid_0's auc: 0.85401\n",
      "[113]\tvalid_0's auc: 0.853975\n",
      "[114]\tvalid_0's auc: 0.85397\n",
      "[115]\tvalid_0's auc: 0.854116\n",
      "[116]\tvalid_0's auc: 0.854136\n",
      "[117]\tvalid_0's auc: 0.854188\n",
      "[118]\tvalid_0's auc: 0.8541\n",
      "[119]\tvalid_0's auc: 0.854011\n",
      "[120]\tvalid_0's auc: 0.853852\n",
      "[121]\tvalid_0's auc: 0.853905\n",
      "[122]\tvalid_0's auc: 0.853859\n",
      "[123]\tvalid_0's auc: 0.853859\n",
      "[124]\tvalid_0's auc: 0.853939\n",
      "[125]\tvalid_0's auc: 0.853898\n",
      "[126]\tvalid_0's auc: 0.853762\n",
      "[127]\tvalid_0's auc: 0.85381\n",
      "[128]\tvalid_0's auc: 0.853877\n",
      "[129]\tvalid_0's auc: 0.853499\n",
      "[130]\tvalid_0's auc: 0.853527\n",
      "[131]\tvalid_0's auc: 0.853602\n",
      "[132]\tvalid_0's auc: 0.853607\n",
      "[133]\tvalid_0's auc: 0.853615\n",
      "[134]\tvalid_0's auc: 0.853631\n",
      "[135]\tvalid_0's auc: 0.853448\n",
      "[136]\tvalid_0's auc: 0.853444\n",
      "[137]\tvalid_0's auc: 0.853363\n",
      "[138]\tvalid_0's auc: 0.853429\n",
      "[139]\tvalid_0's auc: 0.853515\n",
      "[140]\tvalid_0's auc: 0.853583\n",
      "[141]\tvalid_0's auc: 0.853572\n",
      "[142]\tvalid_0's auc: 0.85345\n",
      "[143]\tvalid_0's auc: 0.85331\n",
      "[144]\tvalid_0's auc: 0.853301\n",
      "[145]\tvalid_0's auc: 0.853306\n",
      "[146]\tvalid_0's auc: 0.853168\n",
      "[147]\tvalid_0's auc: 0.853177\n",
      "[148]\tvalid_0's auc: 0.852858\n",
      "[149]\tvalid_0's auc: 0.853025\n",
      "[150]\tvalid_0's auc: 0.853042\n",
      "[151]\tvalid_0's auc: 0.853108\n",
      "[152]\tvalid_0's auc: 0.853109\n",
      "[153]\tvalid_0's auc: 0.853025\n",
      "[154]\tvalid_0's auc: 0.85284\n",
      "[155]\tvalid_0's auc: 0.852815\n",
      "[156]\tvalid_0's auc: 0.852713\n",
      "[157]\tvalid_0's auc: 0.85277\n",
      "[158]\tvalid_0's auc: 0.852654\n",
      "[159]\tvalid_0's auc: 0.852775\n",
      "[160]\tvalid_0's auc: 0.852757\n",
      "[161]\tvalid_0's auc: 0.852842\n",
      "[162]\tvalid_0's auc: 0.852891\n",
      "[163]\tvalid_0's auc: 0.85292\n",
      "[164]\tvalid_0's auc: 0.852913\n",
      "[165]\tvalid_0's auc: 0.852887\n",
      "[166]\tvalid_0's auc: 0.852833\n",
      "[167]\tvalid_0's auc: 0.852893\n",
      "[168]\tvalid_0's auc: 0.853076\n",
      "[169]\tvalid_0's auc: 0.852989\n",
      "[170]\tvalid_0's auc: 0.852997\n",
      "[171]\tvalid_0's auc: 0.853023\n",
      "[172]\tvalid_0's auc: 0.853073\n",
      "[173]\tvalid_0's auc: 0.852847\n",
      "[174]\tvalid_0's auc: 0.852834\n",
      "[175]\tvalid_0's auc: 0.852869\n",
      "[176]\tvalid_0's auc: 0.852794\n",
      "[177]\tvalid_0's auc: 0.852998\n",
      "[178]\tvalid_0's auc: 0.853078\n",
      "[179]\tvalid_0's auc: 0.853091\n",
      "[180]\tvalid_0's auc: 0.853129\n",
      "[181]\tvalid_0's auc: 0.853041\n",
      "[182]\tvalid_0's auc: 0.852999\n",
      "[183]\tvalid_0's auc: 0.852961\n",
      "Early stopping, best iteration is:\n",
      "[83]\tvalid_0's auc: 0.854552\n"
     ]
    }
   ],
   "source": [
    "model = lightgbm.train(parameters,\n",
    "                       train_data,\n",
    "                       valid_sets=eval_data,\n",
    "                       num_boost_round=5000,\n",
    "                       early_stopping_rounds=100)"
   ]
  },
  {
   "cell_type": "code",
   "execution_count": 244,
   "metadata": {},
   "outputs": [],
   "source": [
    "from sklearn.metrics import f1_score\n",
    "from sklearn import metrics"
   ]
  },
  {
   "cell_type": "code",
   "execution_count": 245,
   "metadata": {},
   "outputs": [],
   "source": [
    "y_hat = np.where(model.predict(x_eval) < 0.5, 0, 1)  "
   ]
  },
  {
   "cell_type": "code",
   "execution_count": 246,
   "metadata": {},
   "outputs": [
    {
     "data": {
      "text/plain": [
       "0.3806210201536138"
      ]
     },
     "execution_count": 246,
     "metadata": {},
     "output_type": "execute_result"
    }
   ],
   "source": [
    "f1_score(y_eval,y_hat)"
   ]
  },
  {
   "cell_type": "code",
   "execution_count": 247,
   "metadata": {},
   "outputs": [],
   "source": [
    "fpr, tpr, thresholds = metrics.roc_curve(y_eval,y_hat, pos_label=2)"
   ]
  },
  {
   "cell_type": "code",
   "execution_count": null,
   "metadata": {},
   "outputs": [],
   "source": []
  },
  {
   "cell_type": "code",
   "execution_count": 242,
   "metadata": {},
   "outputs": [
    {
     "data": {
      "text/plain": [
       "array([0, 0, 0, ..., 0, 0, 0])"
      ]
     },
     "execution_count": 242,
     "metadata": {},
     "output_type": "execute_result"
    }
   ],
   "source": [
    "y_eval"
   ]
  },
  {
   "cell_type": "code",
   "execution_count": null,
   "metadata": {},
   "outputs": [],
   "source": []
  }
 ],
 "metadata": {
  "kernelspec": {
   "display_name": "Python 3",
   "language": "python",
   "name": "python3"
  },
  "language_info": {
   "codemirror_mode": {
    "name": "ipython",
    "version": 3
   },
   "file_extension": ".py",
   "mimetype": "text/x-python",
   "name": "python",
   "nbconvert_exporter": "python",
   "pygments_lexer": "ipython3",
   "version": "3.8.5"
  }
 },
 "nbformat": 4,
 "nbformat_minor": 4
}
