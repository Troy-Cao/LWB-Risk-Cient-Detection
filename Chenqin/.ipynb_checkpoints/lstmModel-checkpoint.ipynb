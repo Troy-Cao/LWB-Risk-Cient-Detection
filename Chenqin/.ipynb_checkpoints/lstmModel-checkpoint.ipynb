{
 "cells": [
  {
   "cell_type": "code",
   "execution_count": 1,
   "metadata": {},
   "outputs": [],
   "source": [
    "import pandas as pd\n",
    "\n",
    "part_1 = pd.read_csv(\"../../Data/dc_part_v3.csv\")"
   ]
  },
  {
   "cell_type": "code",
   "execution_count": 2,
   "metadata": {},
   "outputs": [
    {
     "name": "stdout",
     "output_type": "stream",
     "text": [
      "(124293, 147)\n"
     ]
    }
   ],
   "source": [
    "part_1.head()\n",
    "print(part_1.shape)"
   ]
  },
  {
   "cell_type": "code",
   "execution_count": 3,
   "metadata": {},
   "outputs": [
    {
     "name": "stdout",
     "output_type": "stream",
     "text": [
      "(124293, 92)\n"
     ]
    }
   ],
   "source": [
    "part_2 = pd.read_csv(\"../../Data/chenqin5%.csv\")\n",
    "print(part_2.shape)"
   ]
  },
  {
   "cell_type": "code",
   "execution_count": 4,
   "metadata": {},
   "outputs": [
    {
     "data": {
      "text/html": [
       "<div>\n",
       "<style scoped>\n",
       "    .dataframe tbody tr th:only-of-type {\n",
       "        vertical-align: middle;\n",
       "    }\n",
       "\n",
       "    .dataframe tbody tr th {\n",
       "        vertical-align: top;\n",
       "    }\n",
       "\n",
       "    .dataframe thead th {\n",
       "        text-align: right;\n",
       "    }\n",
       "</style>\n",
       "<table border=\"1\" class=\"dataframe\">\n",
       "  <thead>\n",
       "    <tr style=\"text-align: right;\">\n",
       "      <th></th>\n",
       "      <th>prgcontct_other_organisation_piv</th>\n",
       "      <th>prgcontct_lwb_worker_piv</th>\n",
       "      <th>prgcontct_both_client_and_carer_piv</th>\n",
       "      <th>prgcontct_department_piv</th>\n",
       "      <th>prgcontct_family_piv</th>\n",
       "      <th>prgcontct_carer_piv</th>\n",
       "      <th>prgcontct_client_piv</th>\n",
       "      <th>prgcontct_meeting_group_of_people_piv_sum_n_days</th>\n",
       "      <th>prgcontct_other_organisation_piv_sum_n_days</th>\n",
       "      <th>prgcontct_educational_institution_piv_sum_n_days</th>\n",
       "      <th>...</th>\n",
       "      <th>progsubjcat_youth_justice_summary_report_piv_days_since</th>\n",
       "      <th>progsubjcat_training_and_development_piv_days_since</th>\n",
       "      <th>progsubjcat_annual_review_piv_days_since</th>\n",
       "      <th>progsubjcat_monthly_report_piv_days_since</th>\n",
       "      <th>progsubjcat_biological_family_carer_piv_days_since</th>\n",
       "      <th>progsubjcat_extra_curricular_activities_piv_days_since</th>\n",
       "      <th>progsubjcat_household_dynamics_piv_days_since</th>\n",
       "      <th>progsubjcat_direct_support_shift_report_piv_days_since</th>\n",
       "      <th>progsubjcat_other_piv_days_since</th>\n",
       "      <th>client_status_active_piv</th>\n",
       "    </tr>\n",
       "  </thead>\n",
       "  <tbody>\n",
       "    <tr>\n",
       "      <th>0</th>\n",
       "      <td>0</td>\n",
       "      <td>0</td>\n",
       "      <td>0</td>\n",
       "      <td>0</td>\n",
       "      <td>1</td>\n",
       "      <td>0</td>\n",
       "      <td>0</td>\n",
       "      <td>0.0</td>\n",
       "      <td>0.0</td>\n",
       "      <td>0.0</td>\n",
       "      <td>...</td>\n",
       "      <td>3650</td>\n",
       "      <td>3650</td>\n",
       "      <td>3650</td>\n",
       "      <td>3650</td>\n",
       "      <td>3650</td>\n",
       "      <td>3650</td>\n",
       "      <td>3650</td>\n",
       "      <td>3650</td>\n",
       "      <td>3650</td>\n",
       "      <td>28</td>\n",
       "    </tr>\n",
       "    <tr>\n",
       "      <th>1</th>\n",
       "      <td>0</td>\n",
       "      <td>0</td>\n",
       "      <td>0</td>\n",
       "      <td>0</td>\n",
       "      <td>0</td>\n",
       "      <td>0</td>\n",
       "      <td>0</td>\n",
       "      <td>0.0</td>\n",
       "      <td>0.0</td>\n",
       "      <td>0.0</td>\n",
       "      <td>...</td>\n",
       "      <td>3650</td>\n",
       "      <td>3650</td>\n",
       "      <td>3650</td>\n",
       "      <td>3650</td>\n",
       "      <td>3650</td>\n",
       "      <td>3650</td>\n",
       "      <td>3650</td>\n",
       "      <td>3650</td>\n",
       "      <td>3650</td>\n",
       "      <td>31</td>\n",
       "    </tr>\n",
       "    <tr>\n",
       "      <th>2</th>\n",
       "      <td>0</td>\n",
       "      <td>0</td>\n",
       "      <td>0</td>\n",
       "      <td>0</td>\n",
       "      <td>0</td>\n",
       "      <td>0</td>\n",
       "      <td>0</td>\n",
       "      <td>0.0</td>\n",
       "      <td>0.0</td>\n",
       "      <td>0.0</td>\n",
       "      <td>...</td>\n",
       "      <td>3650</td>\n",
       "      <td>3650</td>\n",
       "      <td>3650</td>\n",
       "      <td>3650</td>\n",
       "      <td>3650</td>\n",
       "      <td>3650</td>\n",
       "      <td>3650</td>\n",
       "      <td>3650</td>\n",
       "      <td>3650</td>\n",
       "      <td>30</td>\n",
       "    </tr>\n",
       "    <tr>\n",
       "      <th>3</th>\n",
       "      <td>0</td>\n",
       "      <td>0</td>\n",
       "      <td>0</td>\n",
       "      <td>0</td>\n",
       "      <td>0</td>\n",
       "      <td>0</td>\n",
       "      <td>1</td>\n",
       "      <td>0.0</td>\n",
       "      <td>0.0</td>\n",
       "      <td>0.0</td>\n",
       "      <td>...</td>\n",
       "      <td>3650</td>\n",
       "      <td>3650</td>\n",
       "      <td>3650</td>\n",
       "      <td>3650</td>\n",
       "      <td>3650</td>\n",
       "      <td>3650</td>\n",
       "      <td>3650</td>\n",
       "      <td>3650</td>\n",
       "      <td>3650</td>\n",
       "      <td>31</td>\n",
       "    </tr>\n",
       "    <tr>\n",
       "      <th>4</th>\n",
       "      <td>0</td>\n",
       "      <td>0</td>\n",
       "      <td>0</td>\n",
       "      <td>0</td>\n",
       "      <td>0</td>\n",
       "      <td>0</td>\n",
       "      <td>2</td>\n",
       "      <td>0.0</td>\n",
       "      <td>0.0</td>\n",
       "      <td>0.0</td>\n",
       "      <td>...</td>\n",
       "      <td>3650</td>\n",
       "      <td>3650</td>\n",
       "      <td>3650</td>\n",
       "      <td>3650</td>\n",
       "      <td>3650</td>\n",
       "      <td>3650</td>\n",
       "      <td>3650</td>\n",
       "      <td>3650</td>\n",
       "      <td>3650</td>\n",
       "      <td>31</td>\n",
       "    </tr>\n",
       "  </tbody>\n",
       "</table>\n",
       "<p>5 rows × 92 columns</p>\n",
       "</div>"
      ],
      "text/plain": [
       "   prgcontct_other_organisation_piv  prgcontct_lwb_worker_piv  \\\n",
       "0                                 0                         0   \n",
       "1                                 0                         0   \n",
       "2                                 0                         0   \n",
       "3                                 0                         0   \n",
       "4                                 0                         0   \n",
       "\n",
       "   prgcontct_both_client_and_carer_piv  prgcontct_department_piv  \\\n",
       "0                                    0                         0   \n",
       "1                                    0                         0   \n",
       "2                                    0                         0   \n",
       "3                                    0                         0   \n",
       "4                                    0                         0   \n",
       "\n",
       "   prgcontct_family_piv  prgcontct_carer_piv  prgcontct_client_piv  \\\n",
       "0                     1                    0                     0   \n",
       "1                     0                    0                     0   \n",
       "2                     0                    0                     0   \n",
       "3                     0                    0                     1   \n",
       "4                     0                    0                     2   \n",
       "\n",
       "   prgcontct_meeting_group_of_people_piv_sum_n_days  \\\n",
       "0                                               0.0   \n",
       "1                                               0.0   \n",
       "2                                               0.0   \n",
       "3                                               0.0   \n",
       "4                                               0.0   \n",
       "\n",
       "   prgcontct_other_organisation_piv_sum_n_days  \\\n",
       "0                                          0.0   \n",
       "1                                          0.0   \n",
       "2                                          0.0   \n",
       "3                                          0.0   \n",
       "4                                          0.0   \n",
       "\n",
       "   prgcontct_educational_institution_piv_sum_n_days  ...  \\\n",
       "0                                               0.0  ...   \n",
       "1                                               0.0  ...   \n",
       "2                                               0.0  ...   \n",
       "3                                               0.0  ...   \n",
       "4                                               0.0  ...   \n",
       "\n",
       "   progsubjcat_youth_justice_summary_report_piv_days_since  \\\n",
       "0                                               3650         \n",
       "1                                               3650         \n",
       "2                                               3650         \n",
       "3                                               3650         \n",
       "4                                               3650         \n",
       "\n",
       "   progsubjcat_training_and_development_piv_days_since  \\\n",
       "0                                               3650     \n",
       "1                                               3650     \n",
       "2                                               3650     \n",
       "3                                               3650     \n",
       "4                                               3650     \n",
       "\n",
       "   progsubjcat_annual_review_piv_days_since  \\\n",
       "0                                      3650   \n",
       "1                                      3650   \n",
       "2                                      3650   \n",
       "3                                      3650   \n",
       "4                                      3650   \n",
       "\n",
       "   progsubjcat_monthly_report_piv_days_since  \\\n",
       "0                                       3650   \n",
       "1                                       3650   \n",
       "2                                       3650   \n",
       "3                                       3650   \n",
       "4                                       3650   \n",
       "\n",
       "   progsubjcat_biological_family_carer_piv_days_since  \\\n",
       "0                                               3650    \n",
       "1                                               3650    \n",
       "2                                               3650    \n",
       "3                                               3650    \n",
       "4                                               3650    \n",
       "\n",
       "   progsubjcat_extra_curricular_activities_piv_days_since  \\\n",
       "0                                               3650        \n",
       "1                                               3650        \n",
       "2                                               3650        \n",
       "3                                               3650        \n",
       "4                                               3650        \n",
       "\n",
       "   progsubjcat_household_dynamics_piv_days_since  \\\n",
       "0                                           3650   \n",
       "1                                           3650   \n",
       "2                                           3650   \n",
       "3                                           3650   \n",
       "4                                           3650   \n",
       "\n",
       "   progsubjcat_direct_support_shift_report_piv_days_since  \\\n",
       "0                                               3650        \n",
       "1                                               3650        \n",
       "2                                               3650        \n",
       "3                                               3650        \n",
       "4                                               3650        \n",
       "\n",
       "   progsubjcat_other_piv_days_since  client_status_active_piv  \n",
       "0                              3650                        28  \n",
       "1                              3650                        31  \n",
       "2                              3650                        30  \n",
       "3                              3650                        31  \n",
       "4                              3650                        31  \n",
       "\n",
       "[5 rows x 92 columns]"
      ]
     },
     "execution_count": 4,
     "metadata": {},
     "output_type": "execute_result"
    }
   ],
   "source": [
    "part_2.head()\n"
   ]
  },
  {
   "cell_type": "code",
   "execution_count": 5,
   "metadata": {},
   "outputs": [
    {
     "name": "stdout",
     "output_type": "stream",
     "text": [
      "(124293, 162)\n"
     ]
    },
    {
     "name": "stderr",
     "output_type": "stream",
     "text": [
      "/Users/chenqinzhang/opt/anaconda3/envs/sem2_2020/lib/python3.8/site-packages/IPython/core/interactiveshell.py:3145: DtypeWarning: Columns (27,32,38,39,40) have mixed types.Specify dtype option on import or set low_memory=False.\n",
      "  has_raised = await self.run_ast_nodes(code_ast.body, cell_name,\n"
     ]
    }
   ],
   "source": [
    "part_3 = pd.read_csv(\"../../Data/miaoqin_part.csv\")\n",
    "print(part_3.shape)"
   ]
  },
  {
   "cell_type": "code",
   "execution_count": 6,
   "metadata": {},
   "outputs": [
    {
     "data": {
      "text/html": [
       "<div>\n",
       "<style scoped>\n",
       "    .dataframe tbody tr th:only-of-type {\n",
       "        vertical-align: middle;\n",
       "    }\n",
       "\n",
       "    .dataframe tbody tr th {\n",
       "        vertical-align: top;\n",
       "    }\n",
       "\n",
       "    .dataframe thead th {\n",
       "        text-align: right;\n",
       "    }\n",
       "</style>\n",
       "<table border=\"1\" class=\"dataframe\">\n",
       "  <thead>\n",
       "    <tr style=\"text-align: right;\">\n",
       "      <th></th>\n",
       "      <th>allrows_client_didexistprecirts</th>\n",
       "      <th>allrows_client_isactive</th>\n",
       "      <th>allrows_client_statusreason</th>\n",
       "      <th>allrows_client_gender</th>\n",
       "      <th>allrows_client_dobestimated</th>\n",
       "      <th>allrows_client_maoridescent</th>\n",
       "      <th>allrows_client_cald</th>\n",
       "      <th>allrows_client_interpreterrequired</th>\n",
       "      <th>allrows_client_has_disability_diagnosis_bool</th>\n",
       "      <th>allrows_client_incident_critical_total_count</th>\n",
       "      <th>...</th>\n",
       "      <th>25 to 34</th>\n",
       "      <th>35 to 44</th>\n",
       "      <th>45 to 54</th>\n",
       "      <th>5 and under</th>\n",
       "      <th>55 to 64</th>\n",
       "      <th>6 to 12</th>\n",
       "      <th>65 to 74</th>\n",
       "      <th>75 to 84</th>\n",
       "      <th>85 to 94</th>\n",
       "      <th>95 and over</th>\n",
       "    </tr>\n",
       "  </thead>\n",
       "  <tbody>\n",
       "    <tr>\n",
       "      <th>0</th>\n",
       "      <td>1</td>\n",
       "      <td>1</td>\n",
       "      <td>0.0</td>\n",
       "      <td>1</td>\n",
       "      <td>0</td>\n",
       "      <td>0</td>\n",
       "      <td>0</td>\n",
       "      <td>3</td>\n",
       "      <td>1.0</td>\n",
       "      <td>0.0</td>\n",
       "      <td>...</td>\n",
       "      <td>0</td>\n",
       "      <td>0</td>\n",
       "      <td>0</td>\n",
       "      <td>0</td>\n",
       "      <td>0</td>\n",
       "      <td>0</td>\n",
       "      <td>0</td>\n",
       "      <td>0</td>\n",
       "      <td>0</td>\n",
       "      <td>0</td>\n",
       "    </tr>\n",
       "    <tr>\n",
       "      <th>1</th>\n",
       "      <td>1</td>\n",
       "      <td>1</td>\n",
       "      <td>0.0</td>\n",
       "      <td>1</td>\n",
       "      <td>0</td>\n",
       "      <td>0</td>\n",
       "      <td>0</td>\n",
       "      <td>3</td>\n",
       "      <td>1.0</td>\n",
       "      <td>0.0</td>\n",
       "      <td>...</td>\n",
       "      <td>0</td>\n",
       "      <td>0</td>\n",
       "      <td>0</td>\n",
       "      <td>0</td>\n",
       "      <td>0</td>\n",
       "      <td>0</td>\n",
       "      <td>0</td>\n",
       "      <td>0</td>\n",
       "      <td>0</td>\n",
       "      <td>0</td>\n",
       "    </tr>\n",
       "    <tr>\n",
       "      <th>2</th>\n",
       "      <td>1</td>\n",
       "      <td>1</td>\n",
       "      <td>0.0</td>\n",
       "      <td>1</td>\n",
       "      <td>0</td>\n",
       "      <td>0</td>\n",
       "      <td>0</td>\n",
       "      <td>3</td>\n",
       "      <td>1.0</td>\n",
       "      <td>0.0</td>\n",
       "      <td>...</td>\n",
       "      <td>0</td>\n",
       "      <td>0</td>\n",
       "      <td>0</td>\n",
       "      <td>0</td>\n",
       "      <td>0</td>\n",
       "      <td>0</td>\n",
       "      <td>0</td>\n",
       "      <td>0</td>\n",
       "      <td>0</td>\n",
       "      <td>0</td>\n",
       "    </tr>\n",
       "    <tr>\n",
       "      <th>3</th>\n",
       "      <td>1</td>\n",
       "      <td>1</td>\n",
       "      <td>0.0</td>\n",
       "      <td>1</td>\n",
       "      <td>0</td>\n",
       "      <td>0</td>\n",
       "      <td>0</td>\n",
       "      <td>3</td>\n",
       "      <td>1.0</td>\n",
       "      <td>0.0</td>\n",
       "      <td>...</td>\n",
       "      <td>0</td>\n",
       "      <td>0</td>\n",
       "      <td>0</td>\n",
       "      <td>0</td>\n",
       "      <td>0</td>\n",
       "      <td>0</td>\n",
       "      <td>0</td>\n",
       "      <td>0</td>\n",
       "      <td>0</td>\n",
       "      <td>0</td>\n",
       "    </tr>\n",
       "    <tr>\n",
       "      <th>4</th>\n",
       "      <td>1</td>\n",
       "      <td>1</td>\n",
       "      <td>0.0</td>\n",
       "      <td>1</td>\n",
       "      <td>0</td>\n",
       "      <td>0</td>\n",
       "      <td>0</td>\n",
       "      <td>3</td>\n",
       "      <td>1.0</td>\n",
       "      <td>0.0</td>\n",
       "      <td>...</td>\n",
       "      <td>0</td>\n",
       "      <td>0</td>\n",
       "      <td>0</td>\n",
       "      <td>0</td>\n",
       "      <td>0</td>\n",
       "      <td>0</td>\n",
       "      <td>0</td>\n",
       "      <td>0</td>\n",
       "      <td>0</td>\n",
       "      <td>0</td>\n",
       "    </tr>\n",
       "  </tbody>\n",
       "</table>\n",
       "<p>5 rows × 161 columns</p>\n",
       "</div>"
      ],
      "text/plain": [
       "   allrows_client_didexistprecirts  allrows_client_isactive  \\\n",
       "0                                1                        1   \n",
       "1                                1                        1   \n",
       "2                                1                        1   \n",
       "3                                1                        1   \n",
       "4                                1                        1   \n",
       "\n",
       "   allrows_client_statusreason  allrows_client_gender  \\\n",
       "0                          0.0                      1   \n",
       "1                          0.0                      1   \n",
       "2                          0.0                      1   \n",
       "3                          0.0                      1   \n",
       "4                          0.0                      1   \n",
       "\n",
       "   allrows_client_dobestimated  allrows_client_maoridescent  \\\n",
       "0                            0                            0   \n",
       "1                            0                            0   \n",
       "2                            0                            0   \n",
       "3                            0                            0   \n",
       "4                            0                            0   \n",
       "\n",
       "   allrows_client_cald  allrows_client_interpreterrequired  \\\n",
       "0                    0                                   3   \n",
       "1                    0                                   3   \n",
       "2                    0                                   3   \n",
       "3                    0                                   3   \n",
       "4                    0                                   3   \n",
       "\n",
       "   allrows_client_has_disability_diagnosis_bool  \\\n",
       "0                                           1.0   \n",
       "1                                           1.0   \n",
       "2                                           1.0   \n",
       "3                                           1.0   \n",
       "4                                           1.0   \n",
       "\n",
       "   allrows_client_incident_critical_total_count  ...  25 to 34  35 to 44  \\\n",
       "0                                           0.0  ...         0         0   \n",
       "1                                           0.0  ...         0         0   \n",
       "2                                           0.0  ...         0         0   \n",
       "3                                           0.0  ...         0         0   \n",
       "4                                           0.0  ...         0         0   \n",
       "\n",
       "   45 to 54  5 and under  55 to 64  6 to 12  65 to 74  75 to 84  85 to 94  \\\n",
       "0         0            0         0        0         0         0         0   \n",
       "1         0            0         0        0         0         0         0   \n",
       "2         0            0         0        0         0         0         0   \n",
       "3         0            0         0        0         0         0         0   \n",
       "4         0            0         0        0         0         0         0   \n",
       "\n",
       "   95 and over  \n",
       "0            0  \n",
       "1            0  \n",
       "2            0  \n",
       "3            0  \n",
       "4            0  \n",
       "\n",
       "[5 rows x 161 columns]"
      ]
     },
     "execution_count": 6,
     "metadata": {},
     "output_type": "execute_result"
    }
   ],
   "source": [
    "part_3 = part_3.drop([\"Unnamed: 0\"], axis='columns')\n",
    "part_3.head()"
   ]
  },
  {
   "cell_type": "code",
   "execution_count": 7,
   "metadata": {},
   "outputs": [
    {
     "name": "stdout",
     "output_type": "stream",
     "text": [
      "(124293, 74)\n"
     ]
    }
   ],
   "source": [
    "part_4 = pd.read_csv(\"../../Data/yl-data.csv\")\n",
    "print(part_4.shape)"
   ]
  },
  {
   "cell_type": "code",
   "execution_count": 8,
   "metadata": {},
   "outputs": [
    {
     "data": {
      "text/html": [
       "<div>\n",
       "<style scoped>\n",
       "    .dataframe tbody tr th:only-of-type {\n",
       "        vertical-align: middle;\n",
       "    }\n",
       "\n",
       "    .dataframe tbody tr th {\n",
       "        vertical-align: top;\n",
       "    }\n",
       "\n",
       "    .dataframe thead th {\n",
       "        text-align: right;\n",
       "    }\n",
       "</style>\n",
       "<table border=\"1\" class=\"dataframe\">\n",
       "  <thead>\n",
       "    <tr style=\"text-align: right;\">\n",
       "      <th></th>\n",
       "      <th>Incident</th>\n",
       "      <th>rowtype_client_address_addition_piv</th>\n",
       "      <th>rowtype_progress_note_piv</th>\n",
       "      <th>rowtype_diagnosis_piv</th>\n",
       "      <th>rowtype_medictn_start_piv</th>\n",
       "      <th>rowtype_client_plan_start_piv</th>\n",
       "      <th>rowtype_client_plan_end_piv</th>\n",
       "      <th>rowtype_keyworker_change_piv</th>\n",
       "      <th>rowtype_reference_piv</th>\n",
       "      <th>rowtype_plcment_end_piv</th>\n",
       "      <th>...</th>\n",
       "      <th>medc_acqtyp</th>\n",
       "      <th>medc_admintype</th>\n",
       "      <th>medc_levelofindependencetype</th>\n",
       "      <th>medc_adminfreqid</th>\n",
       "      <th>status_placement</th>\n",
       "      <th>status_client_plan</th>\n",
       "      <th>status_rp_mechanical_restraint</th>\n",
       "      <th>status_rp_restricted_access</th>\n",
       "      <th>status_rp_chemical_restraint</th>\n",
       "      <th>status_rp_other</th>\n",
       "    </tr>\n",
       "  </thead>\n",
       "  <tbody>\n",
       "    <tr>\n",
       "      <th>0</th>\n",
       "      <td>0</td>\n",
       "      <td>0</td>\n",
       "      <td>1</td>\n",
       "      <td>0</td>\n",
       "      <td>0</td>\n",
       "      <td>0</td>\n",
       "      <td>0</td>\n",
       "      <td>0</td>\n",
       "      <td>28</td>\n",
       "      <td>0</td>\n",
       "      <td>...</td>\n",
       "      <td>0</td>\n",
       "      <td>0</td>\n",
       "      <td>0</td>\n",
       "      <td>0</td>\n",
       "      <td>placement_none</td>\n",
       "      <td>client_plan_none</td>\n",
       "      <td>rp_mechanical_restraint_none</td>\n",
       "      <td>rp_restricted_access_none</td>\n",
       "      <td>rp_chemical_restraint_none</td>\n",
       "      <td>rp_other_none</td>\n",
       "    </tr>\n",
       "    <tr>\n",
       "      <th>1</th>\n",
       "      <td>0</td>\n",
       "      <td>0</td>\n",
       "      <td>0</td>\n",
       "      <td>0</td>\n",
       "      <td>0</td>\n",
       "      <td>0</td>\n",
       "      <td>0</td>\n",
       "      <td>0</td>\n",
       "      <td>31</td>\n",
       "      <td>0</td>\n",
       "      <td>...</td>\n",
       "      <td>0</td>\n",
       "      <td>0</td>\n",
       "      <td>0</td>\n",
       "      <td>0</td>\n",
       "      <td>placement_none</td>\n",
       "      <td>client_plan_none</td>\n",
       "      <td>rp_mechanical_restraint_none</td>\n",
       "      <td>rp_restricted_access_none</td>\n",
       "      <td>rp_chemical_restraint_none</td>\n",
       "      <td>rp_other_none</td>\n",
       "    </tr>\n",
       "    <tr>\n",
       "      <th>2</th>\n",
       "      <td>0</td>\n",
       "      <td>1</td>\n",
       "      <td>0</td>\n",
       "      <td>0</td>\n",
       "      <td>0</td>\n",
       "      <td>0</td>\n",
       "      <td>0</td>\n",
       "      <td>0</td>\n",
       "      <td>30</td>\n",
       "      <td>0</td>\n",
       "      <td>...</td>\n",
       "      <td>0</td>\n",
       "      <td>0</td>\n",
       "      <td>0</td>\n",
       "      <td>0</td>\n",
       "      <td>placement_none</td>\n",
       "      <td>client_plan_none</td>\n",
       "      <td>rp_mechanical_restraint_none</td>\n",
       "      <td>rp_restricted_access_none</td>\n",
       "      <td>rp_chemical_restraint_none</td>\n",
       "      <td>rp_other_none</td>\n",
       "    </tr>\n",
       "    <tr>\n",
       "      <th>3</th>\n",
       "      <td>0</td>\n",
       "      <td>0</td>\n",
       "      <td>1</td>\n",
       "      <td>0</td>\n",
       "      <td>0</td>\n",
       "      <td>0</td>\n",
       "      <td>0</td>\n",
       "      <td>0</td>\n",
       "      <td>31</td>\n",
       "      <td>0</td>\n",
       "      <td>...</td>\n",
       "      <td>0</td>\n",
       "      <td>0</td>\n",
       "      <td>0</td>\n",
       "      <td>0</td>\n",
       "      <td>placement_none</td>\n",
       "      <td>client_plan_none</td>\n",
       "      <td>rp_mechanical_restraint_none</td>\n",
       "      <td>rp_restricted_access_none</td>\n",
       "      <td>rp_chemical_restraint_none</td>\n",
       "      <td>rp_other_none</td>\n",
       "    </tr>\n",
       "    <tr>\n",
       "      <th>4</th>\n",
       "      <td>0</td>\n",
       "      <td>0</td>\n",
       "      <td>2</td>\n",
       "      <td>0</td>\n",
       "      <td>0</td>\n",
       "      <td>0</td>\n",
       "      <td>0</td>\n",
       "      <td>0</td>\n",
       "      <td>31</td>\n",
       "      <td>0</td>\n",
       "      <td>...</td>\n",
       "      <td>0</td>\n",
       "      <td>0</td>\n",
       "      <td>0</td>\n",
       "      <td>0</td>\n",
       "      <td>placement_none</td>\n",
       "      <td>client_plan_none</td>\n",
       "      <td>rp_mechanical_restraint_none</td>\n",
       "      <td>rp_restricted_access_none</td>\n",
       "      <td>rp_chemical_restraint_none</td>\n",
       "      <td>rp_other_none</td>\n",
       "    </tr>\n",
       "  </tbody>\n",
       "</table>\n",
       "<p>5 rows × 73 columns</p>\n",
       "</div>"
      ],
      "text/plain": [
       "   Incident  rowtype_client_address_addition_piv  rowtype_progress_note_piv  \\\n",
       "0         0                                    0                          1   \n",
       "1         0                                    0                          0   \n",
       "2         0                                    1                          0   \n",
       "3         0                                    0                          1   \n",
       "4         0                                    0                          2   \n",
       "\n",
       "   rowtype_diagnosis_piv  rowtype_medictn_start_piv  \\\n",
       "0                      0                          0   \n",
       "1                      0                          0   \n",
       "2                      0                          0   \n",
       "3                      0                          0   \n",
       "4                      0                          0   \n",
       "\n",
       "   rowtype_client_plan_start_piv  rowtype_client_plan_end_piv  \\\n",
       "0                              0                            0   \n",
       "1                              0                            0   \n",
       "2                              0                            0   \n",
       "3                              0                            0   \n",
       "4                              0                            0   \n",
       "\n",
       "   rowtype_keyworker_change_piv  rowtype_reference_piv  \\\n",
       "0                             0                     28   \n",
       "1                             0                     31   \n",
       "2                             0                     30   \n",
       "3                             0                     31   \n",
       "4                             0                     31   \n",
       "\n",
       "   rowtype_plcment_end_piv  ...  medc_acqtyp  medc_admintype  \\\n",
       "0                        0  ...            0               0   \n",
       "1                        0  ...            0               0   \n",
       "2                        0  ...            0               0   \n",
       "3                        0  ...            0               0   \n",
       "4                        0  ...            0               0   \n",
       "\n",
       "   medc_levelofindependencetype  medc_adminfreqid  status_placement  \\\n",
       "0                             0                 0    placement_none   \n",
       "1                             0                 0    placement_none   \n",
       "2                             0                 0    placement_none   \n",
       "3                             0                 0    placement_none   \n",
       "4                             0                 0    placement_none   \n",
       "\n",
       "   status_client_plan  status_rp_mechanical_restraint  \\\n",
       "0    client_plan_none    rp_mechanical_restraint_none   \n",
       "1    client_plan_none    rp_mechanical_restraint_none   \n",
       "2    client_plan_none    rp_mechanical_restraint_none   \n",
       "3    client_plan_none    rp_mechanical_restraint_none   \n",
       "4    client_plan_none    rp_mechanical_restraint_none   \n",
       "\n",
       "   status_rp_restricted_access  status_rp_chemical_restraint  status_rp_other  \n",
       "0    rp_restricted_access_none    rp_chemical_restraint_none    rp_other_none  \n",
       "1    rp_restricted_access_none    rp_chemical_restraint_none    rp_other_none  \n",
       "2    rp_restricted_access_none    rp_chemical_restraint_none    rp_other_none  \n",
       "3    rp_restricted_access_none    rp_chemical_restraint_none    rp_other_none  \n",
       "4    rp_restricted_access_none    rp_chemical_restraint_none    rp_other_none  \n",
       "\n",
       "[5 rows x 73 columns]"
      ]
     },
     "execution_count": 8,
     "metadata": {},
     "output_type": "execute_result"
    }
   ],
   "source": [
    "part_4 = part_4.drop([\"Unnamed: 0\"], axis='columns')\n",
    "part_4.head()"
   ]
  },
  {
   "cell_type": "markdown",
   "metadata": {},
   "source": [
    " Only use Di Cao's part for now, convate other features later after feature engineer has been done"
   ]
  },
  {
   "cell_type": "markdown",
   "metadata": {},
   "source": [
    "-------------------------"
   ]
  },
  {
   "cell_type": "markdown",
   "metadata": {},
   "source": [
    "## Split Dataset to three part: Training, evaluation and testing data"
   ]
  },
  {
   "cell_type": "code",
   "execution_count": 9,
   "metadata": {},
   "outputs": [],
   "source": [
    "#init_record = part_1\n",
    "init_record = pd.concat([part_1, part_2], axis=1, sort=False)\n",
    "init_record['_key_occurreddate_month']=init_record['_key_occurreddate_month'].astype(\"datetime64[ns]\")"
   ]
  },
  {
   "cell_type": "code",
   "execution_count": 10,
   "metadata": {},
   "outputs": [],
   "source": [
    "init_record = init_record.set_index(['_key_client_id', '_key_occurreddate_month'])"
   ]
  },
  {
   "cell_type": "code",
   "execution_count": 11,
   "metadata": {},
   "outputs": [
    {
     "data": {
      "text/plain": [
       "(124293, 237)"
      ]
     },
     "execution_count": 11,
     "metadata": {},
     "output_type": "execute_result"
    }
   ],
   "source": [
    "init_record.shape"
   ]
  },
  {
   "cell_type": "code",
   "execution_count": 12,
   "metadata": {},
   "outputs": [
    {
     "data": {
      "text/plain": [
       "8.639257663168138"
      ]
     },
     "execution_count": 12,
     "metadata": {},
     "output_type": "execute_result"
    }
   ],
   "source": [
    "init_record.shape[0]/len(set(init_record.index.get_level_values(0)))"
   ]
  },
  {
   "cell_type": "code",
   "execution_count": 13,
   "metadata": {},
   "outputs": [
    {
     "data": {
      "text/plain": [
       "[('0000D172-EA88-432F-8235-9FAA00D29072', 12)]"
      ]
     },
     "execution_count": 13,
     "metadata": {},
     "output_type": "execute_result"
    }
   ],
   "source": [
    "from collections import Counter\n",
    "count = Counter()\n",
    "for i in init_record.index.get_level_values(0):\n",
    "    count[i] += 1\n",
    "count.most_common(1)"
   ]
  },
  {
   "cell_type": "markdown",
   "metadata": {},
   "source": [
    "##### Only keep clients that has at least n records."
   ]
  },
  {
   "cell_type": "code",
   "execution_count": 14,
   "metadata": {},
   "outputs": [],
   "source": [
    "n = 12\n",
    "deleteList = []\n",
    "for i in count:\n",
    "    if count[i] < n:\n",
    "        deleteList.append(i)\n",
    "\n",
    "    "
   ]
  },
  {
   "cell_type": "code",
   "execution_count": 15,
   "metadata": {},
   "outputs": [
    {
     "data": {
      "text/plain": [
       "7007"
      ]
     },
     "execution_count": 15,
     "metadata": {},
     "output_type": "execute_result"
    }
   ],
   "source": [
    "len(deleteList)"
   ]
  },
  {
   "cell_type": "code",
   "execution_count": 16,
   "metadata": {},
   "outputs": [],
   "source": [
    "init_record.drop(deleteList, inplace=True, level=0)"
   ]
  },
  {
   "cell_type": "code",
   "execution_count": 17,
   "metadata": {},
   "outputs": [
    {
     "data": {
      "text/plain": [
       "(88560, 237)"
      ]
     },
     "execution_count": 17,
     "metadata": {},
     "output_type": "execute_result"
    }
   ],
   "source": [
    "init_record.shape"
   ]
  },
  {
   "cell_type": "markdown",
   "metadata": {},
   "source": [
    "Now, start to split. Randomly choose 10% of clients as testing data."
   ]
  },
  {
   "cell_type": "code",
   "execution_count": 18,
   "metadata": {},
   "outputs": [],
   "source": [
    "import random\n",
    "clientList = list(set(init_record.index.get_level_values(0)))"
   ]
  },
  {
   "cell_type": "code",
   "execution_count": 19,
   "metadata": {},
   "outputs": [
    {
     "ename": "NameError",
     "evalue": "name 'clienList' is not defined",
     "output_type": "error",
     "traceback": [
      "\u001b[0;31m---------------------------------------------------------------------------\u001b[0m",
      "\u001b[0;31mNameError\u001b[0m                                 Traceback (most recent call last)",
      "\u001b[0;32m<ipython-input-19-c44513b7c8b4>\u001b[0m in \u001b[0;36m<module>\u001b[0;34m\u001b[0m\n\u001b[0;32m----> 1\u001b[0;31m \u001b[0mrandom\u001b[0m\u001b[0;34m.\u001b[0m\u001b[0mshuffle\u001b[0m\u001b[0;34m(\u001b[0m\u001b[0mclienList\u001b[0m\u001b[0;34m)\u001b[0m\u001b[0;34m\u001b[0m\u001b[0;34m\u001b[0m\u001b[0m\n\u001b[0m",
      "\u001b[0;31mNameError\u001b[0m: name 'clienList' is not defined"
     ]
    }
   ],
   "source": [
    "random.shuffle(clientList)"
   ]
  },
  {
   "cell_type": "code",
   "execution_count": null,
   "metadata": {},
   "outputs": [],
   "source": [
    "length = len(clientList)\n",
    "ratio = int(length*0.1)\n",
    "trainIDs = clientList[ratio:]\n",
    "testIDs = clientList[:ratio]\n",
    "train0 = init_record.drop(testIDs, level=0)\n",
    "test = init_record.drop(trainIDs, level=0)\n"
   ]
  },
  {
   "cell_type": "code",
   "execution_count": null,
   "metadata": {},
   "outputs": [],
   "source": [
    "print(train0.shape)\n",
    "print(test.shape)"
   ]
  },
  {
   "cell_type": "code",
   "execution_count": null,
   "metadata": {},
   "outputs": [],
   "source": [
    "ratio = int(len(trainIDs)*0.25)\n",
    "trainRatio = trainIDs[ratio:]\n",
    "evalRatio  = trainIDs[:ratio]\n",
    "train = train0.drop(evalRatio, level=0)\n",
    "evl = train0.drop(trainRatio,level=0)"
   ]
  },
  {
   "cell_type": "code",
   "execution_count": null,
   "metadata": {},
   "outputs": [],
   "source": [
    "print(train.shape)\n",
    "print(evl.shape)\n",
    "print(test.shape)"
   ]
  },
  {
   "cell_type": "markdown",
   "metadata": {},
   "source": [
    "## Construct feature Matrix with length k (k must smaller then n-1)"
   ]
  },
  {
   "cell_type": "code",
   "execution_count": null,
   "metadata": {},
   "outputs": [],
   "source": [
    "\n",
    "def construct_feature_label(data,k=6):\n",
    "    x_train = []\n",
    "    y_train = []\n",
    "    clientList = list(set(data.index.get_level_values(0)))\n",
    "    for client in clientList:\n",
    "        subframe = data.xs(client, level=0)\n",
    "        subtrain = subframe.drop('response_variable',axis='columns')\n",
    "        sublabel = subframe['response_variable']\n",
    "        start = 0\n",
    "        end = k\n",
    "        while end<len(subframe)-1:\n",
    "            x_train.append(subtrain[start:end].values)\n",
    "            y_train.append(sublabel[end+1])\n",
    "            end+=1\n",
    "            start+=1\n",
    "    return x_train, y_train\n",
    "\n",
    "x_train ,y_train = construct_feature_label(train)\n",
    "x_eval, y_eval = construct_feature_label(evl)"
   ]
  },
  {
   "cell_type": "code",
   "execution_count": null,
   "metadata": {},
   "outputs": [],
   "source": [
    "print(len(y_train))\n",
    "print(len(x_train))\n",
    "print(len(x_train[0]))\n",
    "print(len(y_eval))\n",
    "print(len(x_eval))\n",
    "print(x_evl[0].shape)"
   ]
  },
  {
   "cell_type": "markdown",
   "metadata": {},
   "source": [
    "# Model construction"
   ]
  },
  {
   "cell_type": "markdown",
   "metadata": {},
   "source": [
    "#### The CNN model"
   ]
  },
  {
   "cell_type": "code",
   "execution_count": null,
   "metadata": {},
   "outputs": [],
   "source": [
    "import torch.nn as nn\n",
    "import torch.nn.functional as F\n",
    "\n",
    "class MV_time_CNN(nn.Module):\n",
    "    def __init__(self, input_dim, output_dim, window_size):\n",
    "        super().__init__()\n",
    "        self.conv1 = nn.Conv2d(in_channels = input_dim, out_channels = output_dim, kernel_size = (4, window_size[0]))\n",
    "        self.conv2 = nn.Conv2d(in_channels = input_dim, out_channels = output_dim, kernel_size = (4, window_size[1]))\n",
    "        self.conv3 = nn.Conv2d(in_channels = input_dim, out_channels = output_dim, kernel_size = (4, window_size[2]))\n",
    "        self.full_connect = nn.Linear(in_features = 699, out_features = 1)\n",
    "        self.dropout = nn.Dropout(p = 0.5)\n",
    "        \n",
    "    def forward(self, data):\n",
    "        data = torch.unsqueeze(data, 1)\n",
    "        hidden_layer1 = self.conv1(data)\n",
    "        hidden_layer2 = self.conv2(data)\n",
    "        hidden_layer3 = self.conv3(data)\n",
    "        hidden_layer = torch.cat([hidden_layer1, hidden_layer2, hidden_layer3], dim=3)\n",
    "        hidden_layer = hidden_layer.squeeze(1)\n",
    "        hidden_layer = hidden_layer.squeeze(1)\n",
    "        output = self.full_connect(hidden_layer)\n",
    "        return output"
   ]
  },
  {
   "cell_type": "markdown",
   "metadata": {},
   "source": [
    "#### Another CNN"
   ]
  },
  {
   "cell_type": "code",
   "execution_count": null,
   "metadata": {},
   "outputs": [],
   "source": [
    "class Net(nn.Module):\n",
    "    def __init__(self):\n",
    "        super(Net, self).__init__()\n",
    "        # 1 input image channel, 6 output channels, 4x4 square convolution\n",
    "        # kernel\n",
    "        self.conv1 = nn.Conv2d(1, 6, 3)\n",
    "        self.conv2 = nn.Conv2d(6, 32, 3)\n",
    "        self.dropout1 = nn.Dropout2d(0.25)\n",
    "        self.dropout2 = nn.Dropout2d(0.5)\n",
    "        # an affine operation: y = Wx + b\n",
    "        self.fc1 = nn.Linear(1704, 120)  # 6*6 from image dimension\n",
    "        self.fc2 = nn.Linear(120, 84)\n",
    "        self.fc3 = nn.Linear(84, 1)\n",
    "    def forward(self, data):\n",
    "        data = torch.unsqueeze(data, 1)\n",
    "        x = self.conv1(data)\n",
    "        x = F.relu(x)\n",
    "        #x = self.conv2(data)\n",
    "        #x = F.relu(x)\n",
    "        x = torch.flatten(x, 1)\n",
    "        x = self.fc1(x)\n",
    "        x = F.relu(x)\n",
    "        x = self.fc2(x)\n",
    "        x = F.relu(x)\n",
    "        x = self.fc3(x)\n",
    "        return x\n",
    "\n",
    "    "
   ]
  },
  {
   "cell_type": "markdown",
   "metadata": {},
   "source": [
    "#### The LSTM Model"
   ]
  },
  {
   "cell_type": "code",
   "execution_count": null,
   "metadata": {},
   "outputs": [],
   "source": [
    "class LSTMClassifier(nn.Module):\n",
    "    \"\"\"Very simple implementation of LSTM-based time-series classifier.\"\"\"\n",
    "    \n",
    "    def __init__(self, input_dim, hidden_dim, layer_dim, output_dim):\n",
    "        super().__init__()\n",
    "        self.hidden_dim = hidden_dim\n",
    "        self.layer_dim = layer_dim\n",
    "        self.rnn = nn.LSTM(input_dim, hidden_dim, layer_dim, batch_first=True)\n",
    "        self.fc = nn.Linear(hidden_dim, output_dim)\n",
    "        self.batch_size = None\n",
    "        self.hidden = None\n",
    "    \n",
    "    def forward(self, x):\n",
    "        h0, c0 = self.init_hidden(x)\n",
    "        out, (hn, cn) = self.rnn(x, (h0, c0))\n",
    "        out = self.fc(out[:, -1, :])\n",
    "        return out\n",
    "    \n",
    "    def init_hidden(self, x):\n",
    "        h0 = torch.zeros(self.layer_dim, x.size(0), self.hidden_dim)\n",
    "        c0 = torch.zeros(self.layer_dim, x.size(0), self.hidden_dim)\n",
    "        return [t for t in (h0, c0)]"
   ]
  },
  {
   "cell_type": "code",
   "execution_count": null,
   "metadata": {},
   "outputs": [],
   "source": [
    "torch.randn(2, 3, 20)"
   ]
  },
  {
   "cell_type": "markdown",
   "metadata": {},
   "source": [
    "## Transfer data to torch type"
   ]
  },
  {
   "cell_type": "code",
   "execution_count": null,
   "metadata": {},
   "outputs": [],
   "source": [
    "from torch.utils.data import TensorDataset, DataLoader, RandomSampler\n",
    "import torch\n",
    "\n",
    "x_train_tensor = torch.Tensor(x_train)\n",
    "y_train_tensor = torch.Tensor(y_train)\n",
    "\n",
    "train_data = TensorDataset(x_train_tensor, y_train_tensor)\n",
    "train_data_loader = DataLoader(train_data, sampler=RandomSampler(train_data), batch_size=100)\n",
    "\n",
    "print(len(train_data_loader))\n"
   ]
  },
  {
   "cell_type": "code",
   "execution_count": null,
   "metadata": {},
   "outputs": [],
   "source": [
    "print(train_data_loader.dataset[0][0].shape)"
   ]
  },
  {
   "cell_type": "code",
   "execution_count": null,
   "metadata": {},
   "outputs": [],
   "source": [
    "x_eval_tensor = torch.Tensor(x_eval)\n",
    "y_eval_tensor = torch.Tensor(y_eval)\n",
    "\n",
    "eval_data = TensorDataset(x_eval_tensor, y_eval_tensor)\n",
    "eval_data_loader = DataLoader(eval_data, sampler=RandomSampler(eval_data), batch_size=100)\n",
    "print(len(eval_data_loader))"
   ]
  },
  {
   "cell_type": "markdown",
   "metadata": {},
   "source": [
    "## Training"
   ]
  },
  {
   "cell_type": "code",
   "execution_count": null,
   "metadata": {},
   "outputs": [],
   "source": [
    "import torch.optim as optim\n",
    "\n",
    "#model = MV_time_CNN(1, 1, [3, 4, 5])\n",
    "input_dim = 236   \n",
    "hidden_dim = 256\n",
    "layer_dim = 6\n",
    "output_dim = 1\n",
    "seq_dim = 6\n",
    "model = LSTMClassifier(input_dim, hidden_dim, layer_dim, output_dim)\n",
    "optimizer = optim.Adam(model.parameters())"
   ]
  },
  {
   "cell_type": "code",
   "execution_count": null,
   "metadata": {},
   "outputs": [],
   "source": [
    "#defining our loss and porting our model and loss to GPU\n",
    "criterion = nn.BCEWithLogitsLoss()\n",
    "\n",
    "#model.to(device)\n",
    "#criterion.to(device)"
   ]
  },
  {
   "cell_type": "code",
   "execution_count": null,
   "metadata": {},
   "outputs": [],
   "source": [
    "def binary_accuracy(pred, actual_label):\n",
    "    rounded_preds = torch.round(torch.sigmoid(pred))\n",
    "    correct = (rounded_preds == actual_label).float() #convert into float for division \n",
    "    acc = correct.sum() / len(correct)\n",
    "    return acc"
   ]
  },
  {
   "cell_type": "code",
   "execution_count": null,
   "metadata": {},
   "outputs": [],
   "source": [
    "from sklearn.metrics import f1_score\n",
    "\n",
    "def f_score_measure(pred, actual_label):\n",
    "    rounded_preds = torch.round(torch.sigmoid(pred.cpu()))\n",
    "    preds = rounded_preds.data.numpy()\n",
    "    actual_labels = actual_label.cpu().data.numpy()\n",
    "    score = f1_score(preds, actual_labels)\n",
    "\n",
    "    return score"
   ]
  },
  {
   "cell_type": "code",
   "execution_count": null,
   "metadata": {},
   "outputs": [],
   "source": [
    "#defining the training method\n",
    "def train(model, iterator, optimizer, criterion):\n",
    "    \n",
    "    epoch_loss = 0\n",
    "    epoch_acc = 0\n",
    "    epoch_F1_score = 0\n",
    "\n",
    "    model.train()\n",
    "    \n",
    "    for batch in iterator:\n",
    "        \n",
    "        #input_data = batch[0].to(device)\n",
    "        #labels = batch[1].to(device)\n",
    "        input_data = batch[0]\n",
    "        labels = batch[1]\n",
    "\n",
    "        optimizer.zero_grad()\n",
    "        \n",
    "        predictions = model(input_data).squeeze(1)\n",
    "        \n",
    "        loss = criterion(predictions,labels)\n",
    "        \n",
    "        acc = binary_accuracy(predictions, labels)\n",
    "        f_score = f_score_measure(predictions, labels)\n",
    "\n",
    "        loss.backward()\n",
    "        \n",
    "        optimizer.step()\n",
    "        \n",
    "        epoch_loss += loss.item()\n",
    "        epoch_acc += acc.item()\n",
    "        epoch_F1_score += f_score.item()\n",
    "        \n",
    "    return epoch_loss / len(iterator), epoch_acc / len(iterator), epoch_F1_score / len(iterator)"
   ]
  },
  {
   "cell_type": "code",
   "execution_count": null,
   "metadata": {},
   "outputs": [],
   "source": [
    "#defining the validation method\n",
    "def evaluate(model, iterator, criterion):\n",
    "    \n",
    "    epoch_loss = 0\n",
    "    epoch_acc = 0\n",
    "    epoch_F1_score = 0\n",
    "    \n",
    "    model.eval()\n",
    "\n",
    "    \n",
    "    with torch.no_grad():\n",
    "    \n",
    "        for batch in iterator:\n",
    "            #input_data = batch[0].to(device)\n",
    "            #labels = batch[1].to(device)\n",
    "            input_data = batch[0]\n",
    "            labels = batch[1]\n",
    "\n",
    "            predictions = model(input_data).squeeze(1)\n",
    "            \n",
    "            loss = criterion(predictions, labels)\n",
    "            \n",
    "            acc = binary_accuracy(predictions, labels)\n",
    "            f_score = f_score_measure(predictions, labels)\n",
    "\n",
    "            epoch_loss += loss.item()\n",
    "            epoch_acc += acc.item()\n",
    "            epoch_F1_score += f_score.item()\n",
    "\n",
    "    return epoch_loss / len(iterator), epoch_acc / len(iterator), epoch_F1_score / len(iterator)"
   ]
  },
  {
   "cell_type": "code",
   "execution_count": null,
   "metadata": {},
   "outputs": [],
   "source": [
    "#defining the method to calculate epoch time\n",
    "import time\n",
    "\n",
    "def epoch_time(start_time, end_time):\n",
    "    elapsed_time = end_time - start_time\n",
    "    elapsed_mins = int(elapsed_time / 60)\n",
    "    elapsed_secs = int(elapsed_time - (elapsed_mins * 60))\n",
    "    return elapsed_mins, elapsed_secs"
   ]
  },
  {
   "cell_type": "code",
   "execution_count": null,
   "metadata": {},
   "outputs": [],
   "source": [
    "#TRAINING!\n",
    "N_EPOCHS = 200\n",
    "\n",
    "best_valid_loss = float('inf')\n",
    "\n",
    "for epoch in range(N_EPOCHS):\n",
    "\n",
    "    start_time = time.time()\n",
    "\n",
    "    train_loss, train_acc, train_f_score = train(model, train_data_loader, optimizer, criterion)\n",
    "    valid_loss, valid_acc, valid_f_score = evaluate(model, eval_data_loader, criterion)\n",
    "    \n",
    "    end_time = time.time()\n",
    "\n",
    "    epoch_mins, epoch_secs = epoch_time(start_time, end_time)\n",
    "    \n",
    "    if valid_loss < best_valid_loss:\n",
    "        best_valid_loss = valid_loss\n",
    "        torch.save(model.state_dict(), 'lstm_version-comb2P-1.0.pt')\n",
    "    \n",
    "    print(f'Epoch: {epoch+1:02} | Epoch Time: {epoch_mins}m {epoch_secs}s')\n",
    "    print(f'\\tTrain Loss: {train_loss:.3f} | Train Acc: {train_acc*100:.2f}% | Train F1_score: {train_f_score:.3f}')\n",
    "    print(f'\\t Val. Loss: {valid_loss:.3f} |  Val. Acc: {valid_acc*100:.2f}% | Val. F1_score: {valid_f_score:.3f}')"
   ]
  },
  {
   "cell_type": "code",
   "execution_count": null,
   "metadata": {},
   "outputs": [],
   "source": [
    "rnn = nn.LSTM(10, 20, 2)\n",
    "rnn"
   ]
  },
  {
   "cell_type": "code",
   "execution_count": null,
   "metadata": {},
   "outputs": [],
   "source": [
    "input = torch.randn(5, 3, 10)\n",
    "input"
   ]
  },
  {
   "cell_type": "code",
   "execution_count": null,
   "metadata": {},
   "outputs": [],
   "source": [
    "h0 = torch.randn(2, 3, 20)\n",
    "h0"
   ]
  },
  {
   "cell_type": "code",
   "execution_count": null,
   "metadata": {},
   "outputs": [],
   "source": [
    "c0 = torch.randn(2, 3, 20)"
   ]
  },
  {
   "cell_type": "code",
   "execution_count": null,
   "metadata": {},
   "outputs": [],
   "source": [
    "output, (hn, cn) = rnn(input, (h0, c0))"
   ]
  },
  {
   "cell_type": "code",
   "execution_count": null,
   "metadata": {},
   "outputs": [],
   "source": [
    "output.shape"
   ]
  },
  {
   "cell_type": "code",
   "execution_count": null,
   "metadata": {},
   "outputs": [],
   "source": [
    "hn.shape"
   ]
  },
  {
   "cell_type": "code",
   "execution_count": null,
   "metadata": {},
   "outputs": [],
   "source": [
    "print(hn)"
   ]
  },
  {
   "cell_type": "code",
   "execution_count": null,
   "metadata": {},
   "outputs": [],
   "source": []
  }
 ],
 "metadata": {
  "kernelspec": {
   "display_name": "Python 3",
   "language": "python",
   "name": "python3"
  },
  "language_info": {
   "codemirror_mode": {
    "name": "ipython",
    "version": 3
   },
   "file_extension": ".py",
   "mimetype": "text/x-python",
   "name": "python",
   "nbconvert_exporter": "python",
   "pygments_lexer": "ipython3",
   "version": "3.8.5"
  }
 },
 "nbformat": 4,
 "nbformat_minor": 4
}
