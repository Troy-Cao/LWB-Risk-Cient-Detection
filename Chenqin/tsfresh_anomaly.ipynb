{
 "cells": [
  {
   "cell_type": "code",
   "execution_count": 47,
   "metadata": {},
   "outputs": [],
   "source": [
    "import lightgbm\n",
    "import pandas as pd"
   ]
  },
  {
   "cell_type": "code",
   "execution_count": 87,
   "metadata": {},
   "outputs": [],
   "source": [
    "init_record = pd.read_csv(\"../../Data/LWB_Monthly_data.csv\")\n"
   ]
  },
  {
   "cell_type": "code",
   "execution_count": 51,
   "metadata": {},
   "outputs": [],
   "source": [
    "init_record['_key_occurreddate_month']=init_record['_key_occurreddate_month'].astype(\"datetime64[ns]\")\n",
    "init_record = init_record.set_index(['_key_client_id', '_key_occurreddate_month'])"
   ]
  },
  {
   "cell_type": "code",
   "execution_count": 52,
   "metadata": {},
   "outputs": [
    {
     "name": "stdout",
     "output_type": "stream",
     "text": [
      "(123311, 339)\n"
     ]
    },
    {
     "data": {
      "text/plain": [
       "_key_client_id                        _key_occurreddate_month\n",
       "0000D172-EA88-432F-8235-9FAA00D29072  2019-04-01                 0\n",
       "                                      2019-05-01                 0\n",
       "                                      2019-06-01                 0\n",
       "                                      2019-07-01                 0\n",
       "                                      2019-08-01                 0\n",
       "                                                                ..\n",
       "FFFF7C4D-F6DD-46D0-A9C0-AE3C2DC51132  2019-09-01                 0\n",
       "                                      2019-10-01                 0\n",
       "                                      2019-11-01                 0\n",
       "                                      2019-12-01                 0\n",
       "                                      2020-01-01                 0\n",
       "Name: response_variable, Length: 123311, dtype: int64"
      ]
     },
     "execution_count": 52,
     "metadata": {},
     "output_type": "execute_result"
    }
   ],
   "source": [
    "print(init_record.shape)\n",
    "init_record['response_variable']"
   ]
  },
  {
   "cell_type": "code",
   "execution_count": 53,
   "metadata": {},
   "outputs": [],
   "source": [
    "def construct_feature_label(data):\n",
    "    y = []\n",
    "    clientList = list(set(data.index.get_level_values(0)))\n",
    "    data['response_variable'] = data.groupby(level=0)['response_variable'].shift(-1)  \n",
    "    data = data.groupby(level=0, as_index=False).apply(lambda group: group.iloc[:-1])\n",
    "    last_month_y = list(data.groupby(level=0).apply(lambda group: group.iloc[-1])['response_variable'].astype('int32'))\n",
    "    #print(data.loc[\"0000D172-EA88-432F-8235-9FAA00D29072\"]['response_variable'])\n",
    "    y = data['response_variable'].astype('int32')\n",
    "    x = data.drop('response_variable',axis='columns')\n",
    "    return x, y, last_month_y\n",
    "\n",
    "feature, y, last_month_y = construct_feature_label(init_record)"
   ]
  },
  {
   "cell_type": "markdown",
   "metadata": {},
   "source": [
    "## Use tsfresh to extract features"
   ]
  },
  {
   "cell_type": "code",
   "execution_count": 54,
   "metadata": {},
   "outputs": [],
   "source": [
    "from tsfresh import extract_features\n",
    "from tsfresh.feature_extraction import ComprehensiveFCParameters, MinimalFCParameters, EfficientFCParameters\n",
    "from tsfresh.utilities.distribution import MultiprocessingDistributor\n",
    "import re\n",
    "import numpy as np\n",
    "from sklearn.metrics import f1_score, confusion_matrix, roc_curve\n",
    "from sklearn import metrics\n",
    "import matplotlib.pyplot as plt"
   ]
  },
  {
   "cell_type": "code",
   "execution_count": 55,
   "metadata": {},
   "outputs": [],
   "source": [
    "feature.columns = [re.sub(r\"__*\", \"_\", name) for name in feature.columns]"
   ]
  },
  {
   "cell_type": "code",
   "execution_count": 58,
   "metadata": {},
   "outputs": [],
   "source": [
    "feature = feature.reset_index()"
   ]
  },
  {
   "cell_type": "code",
   "execution_count": 59,
   "metadata": {},
   "outputs": [],
   "source": [
    "Distributor = MultiprocessingDistributor(n_workers=4,\n",
    "                                         disable_progressbar=False,\n",
    "                                         progressbar_title=\"Feature Extraction\")\n",
    "settings = MinimalFCParameters()"
   ]
  },
  {
   "cell_type": "code",
   "execution_count": 60,
   "metadata": {},
   "outputs": [
    {
     "name": "stderr",
     "output_type": "stream",
     "text": [
      "Feature Extraction: 100%|██████████| 20/20 [1:08:40<00:00, 206.03s/it]\n"
     ]
    }
   ],
   "source": [
    "extracted = extract_features(feature, column_id=\"_key_client_id\", column_sort=\"_key_occurreddate_month\",\n",
    "                                   default_fc_parameters=settings, distributor=Distributor)"
   ]
  },
  {
   "cell_type": "code",
   "execution_count": 61,
   "metadata": {},
   "outputs": [],
   "source": [
    "from sklearn.ensemble import IsolationForest"
   ]
  },
  {
   "cell_type": "code",
   "execution_count": 62,
   "metadata": {},
   "outputs": [
    {
     "data": {
      "text/plain": [
       "IsolationForest(contamination=0.1, n_estimators=50)"
      ]
     },
     "execution_count": 62,
     "metadata": {},
     "output_type": "execute_result"
    }
   ],
   "source": [
    "model=IsolationForest(n_estimators=50, max_samples='auto', contamination=float(0.1),max_features=1.0)\n",
    "model.fit(extracted)"
   ]
  },
  {
   "cell_type": "code",
   "execution_count": 63,
   "metadata": {},
   "outputs": [],
   "source": [
    "y_hat = model.predict(extracted)"
   ]
  },
  {
   "cell_type": "code",
   "execution_count": 64,
   "metadata": {},
   "outputs": [],
   "source": [
    "y_hat = np.where(y_hat == -1, 1, 0)  "
   ]
  },
  {
   "cell_type": "code",
   "execution_count": 66,
   "metadata": {},
   "outputs": [
    {
     "data": {
      "text/plain": [
       "0.22261904761904763"
      ]
     },
     "execution_count": 66,
     "metadata": {},
     "output_type": "execute_result"
    }
   ],
   "source": [
    "f1_score(y_hat, last_month_y)"
   ]
  },
  {
   "cell_type": "code",
   "execution_count": null,
   "metadata": {},
   "outputs": [],
   "source": [
    "confusion_matrix(y, last_month_y)"
   ]
  },
  {
   "cell_type": "markdown",
   "metadata": {},
   "source": [
    "# Select certain columns"
   ]
  },
  {
   "cell_type": "code",
   "execution_count": 90,
   "metadata": {},
   "outputs": [],
   "source": [
    "selected = init_record[init_record.filter(regex=r'allrows', axis=1).columns]\n",
    "selected\n",
    "selected = pd.concat([selected, init_record['response_variable'], init_record['_key_client_id'], init_record['_key_occurreddate_month']], axis=1)\n",
    "selected\n",
    "selected['_key_occurreddate_month']=selected['_key_occurreddate_month'].astype(\"datetime64[ns]\")\n",
    "selected = selected.set_index(['_key_client_id', '_key_occurreddate_month'])\n"
   ]
  },
  {
   "cell_type": "code",
   "execution_count": 91,
   "metadata": {},
   "outputs": [],
   "source": [
    "def construct_feature_label(data):\n",
    "    y = []\n",
    "    clientList = list(set(data.index.get_level_values(0)))\n",
    "    data['response_variable'] = data.groupby(level=0)['response_variable'].shift(-1)  \n",
    "    data = data.groupby(level=0, as_index=False).apply(lambda group: group.iloc[:-1])\n",
    "    last_month_y = list(data.groupby(level=0).apply(lambda group: group.iloc[-1])['response_variable'].astype('int32'))\n",
    "    #print(data.loc[\"0000D172-EA88-432F-8235-9FAA00D29072\"]['response_variable'])\n",
    "    y = data['response_variable'].astype('int32')\n",
    "    x = data.drop('response_variable',axis='columns')\n",
    "    return x, y, last_month_y\n",
    "\n",
    "selected_feature, selected_y, selected_last_month_y = construct_feature_label(selected)"
   ]
  },
  {
   "cell_type": "code",
   "execution_count": 92,
   "metadata": {},
   "outputs": [
    {
     "data": {
      "text/plain": [
       "(109906, 60)"
      ]
     },
     "execution_count": 92,
     "metadata": {},
     "output_type": "execute_result"
    }
   ],
   "source": [
    "selected_feature.shape"
   ]
  },
  {
   "cell_type": "code",
   "execution_count": null,
   "metadata": {},
   "outputs": [],
   "source": []
  },
  {
   "cell_type": "code",
   "execution_count": 93,
   "metadata": {},
   "outputs": [],
   "source": [
    "from tsfresh import extract_features\n",
    "from tsfresh.feature_extraction import ComprehensiveFCParameters, MinimalFCParameters, EfficientFCParameters\n",
    "from tsfresh.utilities.distribution import MultiprocessingDistributor\n",
    "import re\n",
    "import numpy as np\n",
    "from sklearn.metrics import f1_score, confusion_matrix, roc_curve\n",
    "from sklearn import metrics\n",
    "import matplotlib.pyplot as plt"
   ]
  },
  {
   "cell_type": "code",
   "execution_count": 94,
   "metadata": {},
   "outputs": [],
   "source": [
    "selected_feature.columns = [re.sub(r\"__*\", \"_\", name) for name in selected_feature.columns]"
   ]
  },
  {
   "cell_type": "code",
   "execution_count": 95,
   "metadata": {},
   "outputs": [],
   "source": [
    "selected_feature = selected_feature.reset_index()"
   ]
  },
  {
   "cell_type": "code",
   "execution_count": 96,
   "metadata": {},
   "outputs": [],
   "source": [
    "Distributor = MultiprocessingDistributor(n_workers=4,\n",
    "                                         disable_progressbar=False,\n",
    "                                         progressbar_title=\"Feature Extraction\")\n",
    "settings = EfficientFCParameters()"
   ]
  },
  {
   "cell_type": "code",
   "execution_count": null,
   "metadata": {},
   "outputs": [
    {
     "name": "stderr",
     "output_type": "stream",
     "text": [
      "\r",
      "Feature Extraction:   0%|          | 0/20 [00:00<?, ?it/s]"
     ]
    }
   ],
   "source": [
    "extracted = extract_features(selected_feature, column_id=\"_key_client_id\", column_sort=\"_key_occurreddate_month\",\n",
    "                                   default_fc_parameters=settings, distributor=Distributor)"
   ]
  },
  {
   "cell_type": "code",
   "execution_count": null,
   "metadata": {},
   "outputs": [],
   "source": [
    "model=IsolationForest(n_estimators=50, max_samples='auto', contamination=float(0.1),max_features=1.0)\n",
    "model.fit(extracted)"
   ]
  },
  {
   "cell_type": "code",
   "execution_count": null,
   "metadata": {},
   "outputs": [],
   "source": [
    "y_hat = model.predict(extracted)\n",
    "y_hat = np.where(y_hat == -1, 1, 0)  "
   ]
  },
  {
   "cell_type": "code",
   "execution_count": null,
   "metadata": {},
   "outputs": [],
   "source": [
    "f1_score(y_hat, last_month_y)"
   ]
  },
  {
   "cell_type": "code",
   "execution_count": null,
   "metadata": {},
   "outputs": [],
   "source": []
  }
 ],
 "metadata": {
  "kernelspec": {
   "display_name": "Python 3",
   "language": "python",
   "name": "python3"
  },
  "language_info": {
   "codemirror_mode": {
    "name": "ipython",
    "version": 3
   },
   "file_extension": ".py",
   "mimetype": "text/x-python",
   "name": "python",
   "nbconvert_exporter": "python",
   "pygments_lexer": "ipython3",
   "version": "3.8.5"
  }
 },
 "nbformat": 4,
 "nbformat_minor": 4
}
