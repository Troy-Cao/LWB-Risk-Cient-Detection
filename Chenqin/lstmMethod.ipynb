{
 "cells": [
  {
   "cell_type": "code",
   "execution_count": 1,
   "metadata": {},
   "outputs": [],
   "source": [
    "import pandas as pd\n",
    "\n",
    "part_1 = pd.read_csv(\"../../Data/dc_part_v3.csv\")"
   ]
  },
  {
   "cell_type": "code",
   "execution_count": 2,
   "metadata": {},
   "outputs": [
    {
     "data": {
      "text/html": [
       "<div>\n",
       "<style scoped>\n",
       "    .dataframe tbody tr th:only-of-type {\n",
       "        vertical-align: middle;\n",
       "    }\n",
       "\n",
       "    .dataframe tbody tr th {\n",
       "        vertical-align: top;\n",
       "    }\n",
       "\n",
       "    .dataframe thead th {\n",
       "        text-align: right;\n",
       "    }\n",
       "</style>\n",
       "<table border=\"1\" class=\"dataframe\">\n",
       "  <thead>\n",
       "    <tr style=\"text-align: right;\">\n",
       "      <th></th>\n",
       "      <th>_key_client_id</th>\n",
       "      <th>_key_occurreddate_month</th>\n",
       "      <th>incident_catgry_care_concern_piv</th>\n",
       "      <th>incident_catgry_medication_piv</th>\n",
       "      <th>incident_catgry_medical_piv</th>\n",
       "      <th>incident_catgry__piv</th>\n",
       "      <th>incident_catgry_death_piv</th>\n",
       "      <th>incident_catgry_property_and_vehicles_piv</th>\n",
       "      <th>incident_catgry_physical_and_sexual_assault_piv</th>\n",
       "      <th>incident_catgry_client_missing_piv</th>\n",
       "      <th>...</th>\n",
       "      <th>diagnosiscat_acquired_brain_injury_piv</th>\n",
       "      <th>diagnosiscat_spina_bifida_piv</th>\n",
       "      <th>diagnosiscat_psychiatric_disability_piv</th>\n",
       "      <th>diagnosiscat_other_physical_piv</th>\n",
       "      <th>diagnosiscat_other_neurological_piv</th>\n",
       "      <th>diagnosiscat_cerebral_palsy_piv</th>\n",
       "      <th>diagnosiscat_rett_syndrome_piv</th>\n",
       "      <th>diagnosiscat_prader_willi_syndrome_piv</th>\n",
       "      <th>diagnosiscat_other_piv</th>\n",
       "      <th>diagnosiscat_dementia_piv</th>\n",
       "    </tr>\n",
       "  </thead>\n",
       "  <tbody>\n",
       "    <tr>\n",
       "      <th>0</th>\n",
       "      <td>0000D172-EA88-432F-8235-9FAA00D29072</td>\n",
       "      <td>2019-04-01T00:00:00.0</td>\n",
       "      <td>0</td>\n",
       "      <td>0</td>\n",
       "      <td>0</td>\n",
       "      <td>0</td>\n",
       "      <td>0</td>\n",
       "      <td>0</td>\n",
       "      <td>0</td>\n",
       "      <td>0</td>\n",
       "      <td>...</td>\n",
       "      <td>0</td>\n",
       "      <td>0</td>\n",
       "      <td>0</td>\n",
       "      <td>0</td>\n",
       "      <td>0</td>\n",
       "      <td>0</td>\n",
       "      <td>0</td>\n",
       "      <td>0</td>\n",
       "      <td>0</td>\n",
       "      <td>0</td>\n",
       "    </tr>\n",
       "    <tr>\n",
       "      <th>1</th>\n",
       "      <td>0000D172-EA88-432F-8235-9FAA00D29072</td>\n",
       "      <td>2019-05-01T00:00:00.0</td>\n",
       "      <td>0</td>\n",
       "      <td>0</td>\n",
       "      <td>0</td>\n",
       "      <td>0</td>\n",
       "      <td>0</td>\n",
       "      <td>0</td>\n",
       "      <td>0</td>\n",
       "      <td>0</td>\n",
       "      <td>...</td>\n",
       "      <td>0</td>\n",
       "      <td>0</td>\n",
       "      <td>0</td>\n",
       "      <td>0</td>\n",
       "      <td>0</td>\n",
       "      <td>0</td>\n",
       "      <td>0</td>\n",
       "      <td>0</td>\n",
       "      <td>0</td>\n",
       "      <td>0</td>\n",
       "    </tr>\n",
       "    <tr>\n",
       "      <th>2</th>\n",
       "      <td>0000D172-EA88-432F-8235-9FAA00D29072</td>\n",
       "      <td>2019-06-01T00:00:00.0</td>\n",
       "      <td>0</td>\n",
       "      <td>0</td>\n",
       "      <td>0</td>\n",
       "      <td>0</td>\n",
       "      <td>0</td>\n",
       "      <td>0</td>\n",
       "      <td>0</td>\n",
       "      <td>0</td>\n",
       "      <td>...</td>\n",
       "      <td>0</td>\n",
       "      <td>0</td>\n",
       "      <td>0</td>\n",
       "      <td>0</td>\n",
       "      <td>0</td>\n",
       "      <td>0</td>\n",
       "      <td>0</td>\n",
       "      <td>0</td>\n",
       "      <td>0</td>\n",
       "      <td>0</td>\n",
       "    </tr>\n",
       "    <tr>\n",
       "      <th>3</th>\n",
       "      <td>0000D172-EA88-432F-8235-9FAA00D29072</td>\n",
       "      <td>2019-07-01T00:00:00.0</td>\n",
       "      <td>0</td>\n",
       "      <td>0</td>\n",
       "      <td>0</td>\n",
       "      <td>0</td>\n",
       "      <td>0</td>\n",
       "      <td>0</td>\n",
       "      <td>0</td>\n",
       "      <td>0</td>\n",
       "      <td>...</td>\n",
       "      <td>0</td>\n",
       "      <td>0</td>\n",
       "      <td>0</td>\n",
       "      <td>0</td>\n",
       "      <td>0</td>\n",
       "      <td>0</td>\n",
       "      <td>0</td>\n",
       "      <td>0</td>\n",
       "      <td>0</td>\n",
       "      <td>0</td>\n",
       "    </tr>\n",
       "    <tr>\n",
       "      <th>4</th>\n",
       "      <td>0000D172-EA88-432F-8235-9FAA00D29072</td>\n",
       "      <td>2019-08-01T00:00:00.0</td>\n",
       "      <td>0</td>\n",
       "      <td>0</td>\n",
       "      <td>0</td>\n",
       "      <td>0</td>\n",
       "      <td>0</td>\n",
       "      <td>0</td>\n",
       "      <td>0</td>\n",
       "      <td>0</td>\n",
       "      <td>...</td>\n",
       "      <td>0</td>\n",
       "      <td>0</td>\n",
       "      <td>0</td>\n",
       "      <td>0</td>\n",
       "      <td>0</td>\n",
       "      <td>0</td>\n",
       "      <td>0</td>\n",
       "      <td>0</td>\n",
       "      <td>0</td>\n",
       "      <td>0</td>\n",
       "    </tr>\n",
       "  </tbody>\n",
       "</table>\n",
       "<p>5 rows × 147 columns</p>\n",
       "</div>"
      ],
      "text/plain": [
       "                         _key_client_id _key_occurreddate_month  \\\n",
       "0  0000D172-EA88-432F-8235-9FAA00D29072   2019-04-01T00:00:00.0   \n",
       "1  0000D172-EA88-432F-8235-9FAA00D29072   2019-05-01T00:00:00.0   \n",
       "2  0000D172-EA88-432F-8235-9FAA00D29072   2019-06-01T00:00:00.0   \n",
       "3  0000D172-EA88-432F-8235-9FAA00D29072   2019-07-01T00:00:00.0   \n",
       "4  0000D172-EA88-432F-8235-9FAA00D29072   2019-08-01T00:00:00.0   \n",
       "\n",
       "   incident_catgry_care_concern_piv  incident_catgry_medication_piv  \\\n",
       "0                                 0                               0   \n",
       "1                                 0                               0   \n",
       "2                                 0                               0   \n",
       "3                                 0                               0   \n",
       "4                                 0                               0   \n",
       "\n",
       "   incident_catgry_medical_piv  incident_catgry__piv  \\\n",
       "0                            0                     0   \n",
       "1                            0                     0   \n",
       "2                            0                     0   \n",
       "3                            0                     0   \n",
       "4                            0                     0   \n",
       "\n",
       "   incident_catgry_death_piv  incident_catgry_property_and_vehicles_piv  \\\n",
       "0                          0                                          0   \n",
       "1                          0                                          0   \n",
       "2                          0                                          0   \n",
       "3                          0                                          0   \n",
       "4                          0                                          0   \n",
       "\n",
       "   incident_catgry_physical_and_sexual_assault_piv  \\\n",
       "0                                                0   \n",
       "1                                                0   \n",
       "2                                                0   \n",
       "3                                                0   \n",
       "4                                                0   \n",
       "\n",
       "   incident_catgry_client_missing_piv  ...  \\\n",
       "0                                   0  ...   \n",
       "1                                   0  ...   \n",
       "2                                   0  ...   \n",
       "3                                   0  ...   \n",
       "4                                   0  ...   \n",
       "\n",
       "   diagnosiscat_acquired_brain_injury_piv  diagnosiscat_spina_bifida_piv  \\\n",
       "0                                       0                              0   \n",
       "1                                       0                              0   \n",
       "2                                       0                              0   \n",
       "3                                       0                              0   \n",
       "4                                       0                              0   \n",
       "\n",
       "   diagnosiscat_psychiatric_disability_piv  diagnosiscat_other_physical_piv  \\\n",
       "0                                        0                                0   \n",
       "1                                        0                                0   \n",
       "2                                        0                                0   \n",
       "3                                        0                                0   \n",
       "4                                        0                                0   \n",
       "\n",
       "   diagnosiscat_other_neurological_piv  diagnosiscat_cerebral_palsy_piv  \\\n",
       "0                                    0                                0   \n",
       "1                                    0                                0   \n",
       "2                                    0                                0   \n",
       "3                                    0                                0   \n",
       "4                                    0                                0   \n",
       "\n",
       "   diagnosiscat_rett_syndrome_piv  diagnosiscat_prader_willi_syndrome_piv  \\\n",
       "0                               0                                       0   \n",
       "1                               0                                       0   \n",
       "2                               0                                       0   \n",
       "3                               0                                       0   \n",
       "4                               0                                       0   \n",
       "\n",
       "   diagnosiscat_other_piv  diagnosiscat_dementia_piv  \n",
       "0                       0                          0  \n",
       "1                       0                          0  \n",
       "2                       0                          0  \n",
       "3                       0                          0  \n",
       "4                       0                          0  \n",
       "\n",
       "[5 rows x 147 columns]"
      ]
     },
     "execution_count": 2,
     "metadata": {},
     "output_type": "execute_result"
    }
   ],
   "source": [
    "part_1.head()"
   ]
  },
  {
   "cell_type": "code",
   "execution_count": 3,
   "metadata": {},
   "outputs": [],
   "source": [
    "part_2 = pd.read_csv(\"../../Data/chenqin5%.csv\")"
   ]
  },
  {
   "cell_type": "code",
   "execution_count": 5,
   "metadata": {
    "collapsed": true
   },
   "outputs": [
    {
     "data": {
      "text/html": [
       "<div>\n",
       "<style scoped>\n",
       "    .dataframe tbody tr th:only-of-type {\n",
       "        vertical-align: middle;\n",
       "    }\n",
       "\n",
       "    .dataframe tbody tr th {\n",
       "        vertical-align: top;\n",
       "    }\n",
       "\n",
       "    .dataframe thead th {\n",
       "        text-align: right;\n",
       "    }\n",
       "</style>\n",
       "<table border=\"1\" class=\"dataframe\">\n",
       "  <thead>\n",
       "    <tr style=\"text-align: right;\">\n",
       "      <th></th>\n",
       "      <th>prgcontct_other_organisation_piv</th>\n",
       "      <th>prgcontct_lwb_worker_piv</th>\n",
       "      <th>prgcontct_both_client_and_carer_piv</th>\n",
       "      <th>prgcontct_department_piv</th>\n",
       "      <th>prgcontct_family_piv</th>\n",
       "      <th>prgcontct_carer_piv</th>\n",
       "      <th>prgcontct_client_piv</th>\n",
       "      <th>prgcontct_meeting_group_of_people_piv_sum_n_days</th>\n",
       "      <th>prgcontct_other_organisation_piv_sum_n_days</th>\n",
       "      <th>prgcontct_educational_institution_piv_sum_n_days</th>\n",
       "      <th>...</th>\n",
       "      <th>progsubjcat_youth_justice_summary_report_piv_days_since</th>\n",
       "      <th>progsubjcat_training_and_development_piv_days_since</th>\n",
       "      <th>progsubjcat_annual_review_piv_days_since</th>\n",
       "      <th>progsubjcat_monthly_report_piv_days_since</th>\n",
       "      <th>progsubjcat_biological_family_carer_piv_days_since</th>\n",
       "      <th>progsubjcat_extra_curricular_activities_piv_days_since</th>\n",
       "      <th>progsubjcat_household_dynamics_piv_days_since</th>\n",
       "      <th>progsubjcat_direct_support_shift_report_piv_days_since</th>\n",
       "      <th>progsubjcat_other_piv_days_since</th>\n",
       "      <th>client_status_active_piv</th>\n",
       "    </tr>\n",
       "  </thead>\n",
       "  <tbody>\n",
       "    <tr>\n",
       "      <th>0</th>\n",
       "      <td>0</td>\n",
       "      <td>0</td>\n",
       "      <td>0</td>\n",
       "      <td>0</td>\n",
       "      <td>1</td>\n",
       "      <td>0</td>\n",
       "      <td>0</td>\n",
       "      <td>0.0</td>\n",
       "      <td>0.0</td>\n",
       "      <td>0.0</td>\n",
       "      <td>...</td>\n",
       "      <td>3650</td>\n",
       "      <td>3650</td>\n",
       "      <td>3650</td>\n",
       "      <td>3650</td>\n",
       "      <td>3650</td>\n",
       "      <td>3650</td>\n",
       "      <td>3650</td>\n",
       "      <td>3650</td>\n",
       "      <td>3650</td>\n",
       "      <td>28</td>\n",
       "    </tr>\n",
       "    <tr>\n",
       "      <th>1</th>\n",
       "      <td>0</td>\n",
       "      <td>0</td>\n",
       "      <td>0</td>\n",
       "      <td>0</td>\n",
       "      <td>0</td>\n",
       "      <td>0</td>\n",
       "      <td>0</td>\n",
       "      <td>0.0</td>\n",
       "      <td>0.0</td>\n",
       "      <td>0.0</td>\n",
       "      <td>...</td>\n",
       "      <td>3650</td>\n",
       "      <td>3650</td>\n",
       "      <td>3650</td>\n",
       "      <td>3650</td>\n",
       "      <td>3650</td>\n",
       "      <td>3650</td>\n",
       "      <td>3650</td>\n",
       "      <td>3650</td>\n",
       "      <td>3650</td>\n",
       "      <td>31</td>\n",
       "    </tr>\n",
       "    <tr>\n",
       "      <th>2</th>\n",
       "      <td>0</td>\n",
       "      <td>0</td>\n",
       "      <td>0</td>\n",
       "      <td>0</td>\n",
       "      <td>0</td>\n",
       "      <td>0</td>\n",
       "      <td>0</td>\n",
       "      <td>0.0</td>\n",
       "      <td>0.0</td>\n",
       "      <td>0.0</td>\n",
       "      <td>...</td>\n",
       "      <td>3650</td>\n",
       "      <td>3650</td>\n",
       "      <td>3650</td>\n",
       "      <td>3650</td>\n",
       "      <td>3650</td>\n",
       "      <td>3650</td>\n",
       "      <td>3650</td>\n",
       "      <td>3650</td>\n",
       "      <td>3650</td>\n",
       "      <td>30</td>\n",
       "    </tr>\n",
       "    <tr>\n",
       "      <th>3</th>\n",
       "      <td>0</td>\n",
       "      <td>0</td>\n",
       "      <td>0</td>\n",
       "      <td>0</td>\n",
       "      <td>0</td>\n",
       "      <td>0</td>\n",
       "      <td>1</td>\n",
       "      <td>0.0</td>\n",
       "      <td>0.0</td>\n",
       "      <td>0.0</td>\n",
       "      <td>...</td>\n",
       "      <td>3650</td>\n",
       "      <td>3650</td>\n",
       "      <td>3650</td>\n",
       "      <td>3650</td>\n",
       "      <td>3650</td>\n",
       "      <td>3650</td>\n",
       "      <td>3650</td>\n",
       "      <td>3650</td>\n",
       "      <td>3650</td>\n",
       "      <td>31</td>\n",
       "    </tr>\n",
       "    <tr>\n",
       "      <th>4</th>\n",
       "      <td>0</td>\n",
       "      <td>0</td>\n",
       "      <td>0</td>\n",
       "      <td>0</td>\n",
       "      <td>0</td>\n",
       "      <td>0</td>\n",
       "      <td>2</td>\n",
       "      <td>0.0</td>\n",
       "      <td>0.0</td>\n",
       "      <td>0.0</td>\n",
       "      <td>...</td>\n",
       "      <td>3650</td>\n",
       "      <td>3650</td>\n",
       "      <td>3650</td>\n",
       "      <td>3650</td>\n",
       "      <td>3650</td>\n",
       "      <td>3650</td>\n",
       "      <td>3650</td>\n",
       "      <td>3650</td>\n",
       "      <td>3650</td>\n",
       "      <td>31</td>\n",
       "    </tr>\n",
       "  </tbody>\n",
       "</table>\n",
       "<p>5 rows × 92 columns</p>\n",
       "</div>"
      ],
      "text/plain": [
       "   prgcontct_other_organisation_piv  prgcontct_lwb_worker_piv  \\\n",
       "0                                 0                         0   \n",
       "1                                 0                         0   \n",
       "2                                 0                         0   \n",
       "3                                 0                         0   \n",
       "4                                 0                         0   \n",
       "\n",
       "   prgcontct_both_client_and_carer_piv  prgcontct_department_piv  \\\n",
       "0                                    0                         0   \n",
       "1                                    0                         0   \n",
       "2                                    0                         0   \n",
       "3                                    0                         0   \n",
       "4                                    0                         0   \n",
       "\n",
       "   prgcontct_family_piv  prgcontct_carer_piv  prgcontct_client_piv  \\\n",
       "0                     1                    0                     0   \n",
       "1                     0                    0                     0   \n",
       "2                     0                    0                     0   \n",
       "3                     0                    0                     1   \n",
       "4                     0                    0                     2   \n",
       "\n",
       "   prgcontct_meeting_group_of_people_piv_sum_n_days  \\\n",
       "0                                               0.0   \n",
       "1                                               0.0   \n",
       "2                                               0.0   \n",
       "3                                               0.0   \n",
       "4                                               0.0   \n",
       "\n",
       "   prgcontct_other_organisation_piv_sum_n_days  \\\n",
       "0                                          0.0   \n",
       "1                                          0.0   \n",
       "2                                          0.0   \n",
       "3                                          0.0   \n",
       "4                                          0.0   \n",
       "\n",
       "   prgcontct_educational_institution_piv_sum_n_days  ...  \\\n",
       "0                                               0.0  ...   \n",
       "1                                               0.0  ...   \n",
       "2                                               0.0  ...   \n",
       "3                                               0.0  ...   \n",
       "4                                               0.0  ...   \n",
       "\n",
       "   progsubjcat_youth_justice_summary_report_piv_days_since  \\\n",
       "0                                               3650         \n",
       "1                                               3650         \n",
       "2                                               3650         \n",
       "3                                               3650         \n",
       "4                                               3650         \n",
       "\n",
       "   progsubjcat_training_and_development_piv_days_since  \\\n",
       "0                                               3650     \n",
       "1                                               3650     \n",
       "2                                               3650     \n",
       "3                                               3650     \n",
       "4                                               3650     \n",
       "\n",
       "   progsubjcat_annual_review_piv_days_since  \\\n",
       "0                                      3650   \n",
       "1                                      3650   \n",
       "2                                      3650   \n",
       "3                                      3650   \n",
       "4                                      3650   \n",
       "\n",
       "   progsubjcat_monthly_report_piv_days_since  \\\n",
       "0                                       3650   \n",
       "1                                       3650   \n",
       "2                                       3650   \n",
       "3                                       3650   \n",
       "4                                       3650   \n",
       "\n",
       "   progsubjcat_biological_family_carer_piv_days_since  \\\n",
       "0                                               3650    \n",
       "1                                               3650    \n",
       "2                                               3650    \n",
       "3                                               3650    \n",
       "4                                               3650    \n",
       "\n",
       "   progsubjcat_extra_curricular_activities_piv_days_since  \\\n",
       "0                                               3650        \n",
       "1                                               3650        \n",
       "2                                               3650        \n",
       "3                                               3650        \n",
       "4                                               3650        \n",
       "\n",
       "   progsubjcat_household_dynamics_piv_days_since  \\\n",
       "0                                           3650   \n",
       "1                                           3650   \n",
       "2                                           3650   \n",
       "3                                           3650   \n",
       "4                                           3650   \n",
       "\n",
       "   progsubjcat_direct_support_shift_report_piv_days_since  \\\n",
       "0                                               3650        \n",
       "1                                               3650        \n",
       "2                                               3650        \n",
       "3                                               3650        \n",
       "4                                               3650        \n",
       "\n",
       "   progsubjcat_other_piv_days_since  client_status_active_piv  \n",
       "0                              3650                        28  \n",
       "1                              3650                        31  \n",
       "2                              3650                        30  \n",
       "3                              3650                        31  \n",
       "4                              3650                        31  \n",
       "\n",
       "[5 rows x 92 columns]"
      ]
     },
     "execution_count": 5,
     "metadata": {},
     "output_type": "execute_result"
    }
   ],
   "source": [
    "part_2.head()"
   ]
  },
  {
   "cell_type": "markdown",
   "metadata": {},
   "source": [
    " Only use Di Cao's part for now, convate other features later after feature engineer has been done"
   ]
  },
  {
   "cell_type": "markdown",
   "metadata": {},
   "source": [
    "-------------------------"
   ]
  },
  {
   "cell_type": "markdown",
   "metadata": {},
   "source": [
    "## Split Dataset to three part: Training, evaluation and testing data"
   ]
  },
  {
   "cell_type": "code",
   "execution_count": 354,
   "metadata": {},
   "outputs": [],
   "source": [
    "init_record = part_1 \n",
    "\n",
    "init_record['_key_occurreddate_month']=init_record['_key_occurreddate_month'].astype(\"datetime64[ns]\")"
   ]
  },
  {
   "cell_type": "code",
   "execution_count": 355,
   "metadata": {},
   "outputs": [],
   "source": [
    "init_record = init_record.set_index(['_key_client_id', '_key_occurreddate_month'])"
   ]
  },
  {
   "cell_type": "code",
   "execution_count": 356,
   "metadata": {},
   "outputs": [
    {
     "data": {
      "text/plain": [
       "(124293, 145)"
      ]
     },
     "execution_count": 356,
     "metadata": {},
     "output_type": "execute_result"
    }
   ],
   "source": [
    "init_record.shape"
   ]
  },
  {
   "cell_type": "code",
   "execution_count": 357,
   "metadata": {},
   "outputs": [
    {
     "data": {
      "text/plain": [
       "8.639257663168138"
      ]
     },
     "execution_count": 357,
     "metadata": {},
     "output_type": "execute_result"
    }
   ],
   "source": [
    "init_record.shape[0]/len(set(init_record.index.get_level_values(0)))"
   ]
  },
  {
   "cell_type": "code",
   "execution_count": 358,
   "metadata": {},
   "outputs": [
    {
     "data": {
      "text/plain": [
       "[('0000D172-EA88-432F-8235-9FAA00D29072', 12)]"
      ]
     },
     "execution_count": 358,
     "metadata": {},
     "output_type": "execute_result"
    }
   ],
   "source": [
    "from collections import Counter\n",
    "count = Counter()\n",
    "for i in init_record.index.get_level_values(0):\n",
    "    count[i] += 1\n",
    "count.most_common(1)"
   ]
  },
  {
   "cell_type": "markdown",
   "metadata": {},
   "source": [
    "##### Only keep clients that has at least k records."
   ]
  },
  {
   "cell_type": "code",
   "execution_count": 359,
   "metadata": {},
   "outputs": [],
   "source": [
    " k = 12\n",
    "deleteList = []\n",
    "for i in count:\n",
    "    if count[i] < 12:\n",
    "        deleteList.append(i)\n",
    "\n",
    "    "
   ]
  },
  {
   "cell_type": "code",
   "execution_count": 360,
   "metadata": {},
   "outputs": [
    {
     "data": {
      "text/plain": [
       "7007"
      ]
     },
     "execution_count": 360,
     "metadata": {},
     "output_type": "execute_result"
    }
   ],
   "source": [
    "len(deleteList)"
   ]
  },
  {
   "cell_type": "code",
   "execution_count": 361,
   "metadata": {},
   "outputs": [],
   "source": [
    "init_record.drop(deleteList, inplace=True, level=0)"
   ]
  },
  {
   "cell_type": "code",
   "execution_count": 362,
   "metadata": {},
   "outputs": [
    {
     "data": {
      "text/plain": [
       "(88560, 145)"
      ]
     },
     "execution_count": 362,
     "metadata": {},
     "output_type": "execute_result"
    }
   ],
   "source": [
    "init_record.shape"
   ]
  },
  {
   "cell_type": "markdown",
   "metadata": {},
   "source": [
    "Now, start to split. Randomly choose 80% of clients as training data and 20% are testing data"
   ]
  },
  {
   "cell_type": "code",
   "execution_count": 363,
   "metadata": {},
   "outputs": [],
   "source": [
    "import random\n",
    "clientList = list(set(init_record.index.get_level_values(0)))"
   ]
  },
  {
   "cell_type": "code",
   "execution_count": 364,
   "metadata": {},
   "outputs": [],
   "source": [
    "random.shuffle(clienList)"
   ]
  },
  {
   "cell_type": "code",
   "execution_count": 365,
   "metadata": {},
   "outputs": [],
   "source": [
    "length = len(clientList)\n",
    "ratio = int(length*0.1)\n",
    "trainIDs = clienList[ratio:]\n",
    "testIDs = clienList[:ratio]\n",
    "train0 = init_record.drop(testIDs, level=0)\n",
    "test = init_record.drop(trainIDs, level=0)\n"
   ]
  },
  {
   "cell_type": "code",
   "execution_count": 369,
   "metadata": {},
   "outputs": [
    {
     "name": "stdout",
     "output_type": "stream",
     "text": [
      "(79704, 145)\n",
      "(8856, 145)\n"
     ]
    }
   ],
   "source": [
    "print(train0.shape)\n",
    "print(test.shape)"
   ]
  },
  {
   "cell_type": "code",
   "execution_count": 367,
   "metadata": {},
   "outputs": [],
   "source": [
    "ratio = int(len(trainIDs)*0.25)\n",
    "trainRatio = trainIDs[ratio:]\n",
    "evalRatio  = trainIDs[:ratio]\n",
    "train = train0.drop(evalRatio, level=0)\n",
    "evl = train0.drop(trainRatio,level=0)"
   ]
  },
  {
   "cell_type": "code",
   "execution_count": 370,
   "metadata": {},
   "outputs": [
    {
     "name": "stdout",
     "output_type": "stream",
     "text": [
      "(59784, 145)\n",
      "(19920, 145)\n",
      "(8856, 145)\n"
     ]
    }
   ],
   "source": [
    "print(train.shape)\n",
    "print(evl.shape)\n",
    "print(test.shape)"
   ]
  },
  {
   "cell_type": "code",
   "execution_count": null,
   "metadata": {},
   "outputs": [],
   "source": []
  },
  {
   "cell_type": "code",
   "execution_count": null,
   "metadata": {},
   "outputs": [],
   "source": []
  }
 ],
 "metadata": {
  "kernelspec": {
   "display_name": "Python 3",
   "language": "python",
   "name": "python3"
  },
  "language_info": {
   "codemirror_mode": {
    "name": "ipython",
    "version": 3
   },
   "file_extension": ".py",
   "mimetype": "text/x-python",
   "name": "python",
   "nbconvert_exporter": "python",
   "pygments_lexer": "ipython3",
   "version": "3.8.5"
  }
 },
 "nbformat": 4,
 "nbformat_minor": 4
}
