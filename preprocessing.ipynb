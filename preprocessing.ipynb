{
 "cells": [
  {
   "cell_type": "code",
   "execution_count": 1,
   "metadata": {},
   "outputs": [
    {
     "name": "stderr",
     "output_type": "stream",
     "text": [
      "/Library/Frameworks/Python.framework/Versions/3.7/lib/python3.7/site-packages/IPython/core/interactiveshell.py:3063: DtypeWarning: Columns (849,856,934,935,936,938,939,940,941,942,943,944,945,947,948,949,951,952,953,975,976,978,1008,1014,1029) have mixed types. Specify dtype option on import or set low_memory=False.\n",
      "  interactivity=interactivity, compiler=compiler, result=result)\n"
     ]
    },
    {
     "name": "stdout",
     "output_type": "stream",
     "text": [
      "124293\n"
     ]
    }
   ],
   "source": [
    "import pandas as pd\n",
    "\n",
    "file_path = \"/Users/troycao/Documents/GitHub/MAST90106_Group-20/data/20200404_LWB_Client_Events_Month.csv\"\n",
    "\n",
    "content = pd.read_csv(file_path)\n",
    "print(len(content))"
   ]
  },
  {
   "cell_type": "code",
   "execution_count": 2,
   "metadata": {},
   "outputs": [
    {
     "name": "stdout",
     "output_type": "stream",
     "text": [
      "(124293, 1181)\n"
     ]
    }
   ],
   "source": [
    "print(content.shape)"
   ]
  },
  {
   "cell_type": "markdown",
   "metadata": {},
   "source": [
    "### Get The Selected Data"
   ]
  },
  {
   "cell_type": "code",
   "execution_count": 3,
   "metadata": {},
   "outputs": [
    {
     "name": "stdout",
     "output_type": "stream",
     "text": [
      "(124293, 236)\n"
     ]
    }
   ],
   "source": [
    "selected_data = content.iloc[:, :236]\n",
    "print(selected_data.shape)"
   ]
  },
  {
   "cell_type": "code",
   "execution_count": 6,
   "metadata": {},
   "outputs": [
    {
     "name": "stdout",
     "output_type": "stream",
     "text": [
      "incident_catgry_event_description_unauthorised_restrictive_practi_piv\n",
      "incident_catgry_event_description_phone_call_from_carer_regarding_piv\n",
      "incident_catgry_event_description_jayden_absconded_from_school_piv\n",
      "incident_catgry_event_description_client_unwell_sent_to_hospital_piv\n",
      "incident_catgry_event_description_client_hit_other_client_on_the_piv\n",
      "incident_catgry_event_description_noticed_bruise_and_nail_mark_on_piv\n",
      "incident_catgry_event_description_restrictive_practices_medicatio_piv\n",
      "(124293, 229)\n"
     ]
    }
   ],
   "source": [
    "for item in keys:\n",
    "    if item.startswith(\"incident_catgry_event_description_\"):\n",
    "        print(item)\n",
    "        selected_data = selected_data.drop(item, axis=1)\n",
    "print(selected_data.shape)"
   ]
  },
  {
   "cell_type": "code",
   "execution_count": 5,
   "metadata": {},
   "outputs": [
    {
     "name": "stdout",
     "output_type": "stream",
     "text": [
      "236\n"
     ]
    }
   ],
   "source": [
    "keys = selected_data.keys()\n",
    "print(len(keys))"
   ]
  },
  {
   "cell_type": "code",
   "execution_count": 7,
   "metadata": {},
   "outputs": [
    {
     "name": "stdout",
     "output_type": "stream",
     "text": [
      "229\n"
     ]
    }
   ],
   "source": [
    "# new keys\n",
    "new_keys = selected_data.keys()\n",
    "print(len(new_keys)) # 229"
   ]
  },
  {
   "cell_type": "code",
   "execution_count": 40,
   "metadata": {},
   "outputs": [
    {
     "name": "stdout",
     "output_type": "stream",
     "text": [
      "61\n"
     ]
    }
   ],
   "source": [
    "incident_catgry_title = []\n",
    "for item in new_keys:\n",
    "    if item.startswith(\"incident_catgry_\"):\n",
    "        incident_catgry_title.append(item)\n",
    "print(len(incident_catgry_title))"
   ]
  },
  {
   "cell_type": "markdown",
   "metadata": {},
   "source": [
    "### Categorize The Incident & Summarize the Information"
   ]
  },
  {
   "cell_type": "code",
   "execution_count": 8,
   "metadata": {},
   "outputs": [
    {
     "name": "stdout",
     "output_type": "stream",
     "text": [
      "(124293, 6)\n"
     ]
    }
   ],
   "source": [
    "# care_concern \n",
    "\n",
    "care_concern_list = []\n",
    "for item in keys:\n",
    "    if item.startswith(\"incident_catgry_care_concern_\"):\n",
    "        care_concern_list.append(item)\n",
    "care_concern_data = selected_data[care_concern_list]\n",
    "print(care_concern_data.shape)"
   ]
  },
  {
   "cell_type": "code",
   "execution_count": null,
   "metadata": {},
   "outputs": [],
   "source": [
    "print(care_concern_data.describe())"
   ]
  },
  {
   "cell_type": "code",
   "execution_count": null,
   "metadata": {},
   "outputs": [],
   "source": [
    "# justify whether total num in 'incident_catgry_care_concern_piv'\n",
    "print(care_concern_data['incident_catgry_care_concern_piv'] == care_concern_data['incident_catgry_care_concern_significant_wa_jurisdiction_piv'] + \n",
    "     care_concern_data[\"incident_catgry_care_concern_minor_event_description_piv\"] + care_concern_data[\"incident_catgry_care_concern_significant_event_descri_piv\"] + care_concern_data[\"incident_catgry_care_concern_minor_nsw_jurisdiction_categ_piv\"] + care_concern_data[\"incident_catgry_care_concern_minor_nsw_jurisdiction_category_piv\"] )\n",
    "# True\n",
    "# So Here we will take the care_concern_data[\"incident_catgry_care_concern_piv\"]."
   ]
  },
  {
   "cell_type": "code",
   "execution_count": null,
   "metadata": {},
   "outputs": [],
   "source": [
    "# catgry only have one attributes\n",
    "\n",
    "print(selected_data[\"incident_catgry_medication_piv\"].describe())\n",
    "print(selected_data[\"incident_catgry_medical_piv\"].describe())\n",
    "print(selected_data[\"incident_catgry__piv\"].describe())\n",
    "print(selected_data[\"incident_catgry_death_piv\"].describe())\n",
    "print(selected_data[\"incident_catgry_property_and_vehicles_piv\"].describe())\n",
    "print(selected_data[\"incident_catgry_physical_and_sexual_assault_piv\"].describe())\n",
    "print(selected_data[\"incident_catgry_client_missing_piv\"].describe())\n",
    "print(selected_data[\"incident_catgry_standard_of_care_soc_piv\"].describe())\n",
    "print(selected_data[\"incident_catgry_absconding_minor_significant_qld_jurisdi_piv\"].describe())\n",
    "print(selected_data[\"incident_catgry_emergency_situation_piv\"].describe())\n",
    "print(selected_data[\"incident_catgry_restrictive_practices_piv\"].describe())\n",
    "print(selected_data[\"incident_catgry_media_piv\"].describe())\n"
   ]
  },
  {
   "cell_type": "code",
   "execution_count": 24,
   "metadata": {},
   "outputs": [
    {
     "name": "stdout",
     "output_type": "stream",
     "text": [
      "(124293, 2)\n"
     ]
    }
   ],
   "source": [
    "# Drug data\n",
    "drug_list = []\n",
    "for item in keys:\n",
    "    if item.startswith(\"incident_catgry_drug\"):\n",
    "        drug_list.append(item)\n",
    "drug_data = selected_data[drug_list]\n",
    "print(drug_data.shape)"
   ]
  },
  {
   "cell_type": "code",
   "execution_count": 26,
   "metadata": {},
   "outputs": [
    {
     "name": "stdout",
     "output_type": "stream",
     "text": [
      "       incident_catgry_drug_use_and_alcohol_significant_nsw_jurisdic_piv  \\\n",
      "count                                      124293.000000                   \n",
      "mean                                            0.000016                   \n",
      "std                                             0.005673                   \n",
      "min                                             0.000000                   \n",
      "25%                                             0.000000                   \n",
      "50%                                             0.000000                   \n",
      "75%                                             0.000000                   \n",
      "max                                             2.000000                   \n",
      "\n",
      "       incident_catgry_drugs_alcohol_piv  \n",
      "count                      124293.000000  \n",
      "mean                            0.005527  \n",
      "std                             0.209999  \n",
      "min                             0.000000  \n",
      "25%                             0.000000  \n",
      "50%                             0.000000  \n",
      "75%                             0.000000  \n",
      "max                            34.000000  \n"
     ]
    }
   ],
   "source": [
    "print(drug_data.describe())\n",
    "# Here we only take the drug_data[\"incident_catgry_drugs_alcohol_piv\"]\n"
   ]
  },
  {
   "cell_type": "code",
   "execution_count": 35,
   "metadata": {},
   "outputs": [
    {
     "name": "stdout",
     "output_type": "stream",
     "text": [
      "(124293, 4)\n"
     ]
    }
   ],
   "source": [
    "# behavior\n",
    "behavior_list = []\n",
    "for item in keys:\n",
    "    if item.startswith(\"incident_catgry_behaviour\"):\n",
    "        behavior_list.append(item)\n",
    "behavior_data = selected_data[behavior_list]\n",
    "print(behavior_data.shape)"
   ]
  },
  {
   "cell_type": "code",
   "execution_count": 38,
   "metadata": {},
   "outputs": [
    {
     "name": "stdout",
     "output_type": "stream",
     "text": [
      "       incident_catgry_behaviour_minor_behaviour_minor_piv  \\\n",
      "count                                      124293.000000     \n",
      "mean                                            0.000008     \n",
      "std                                             0.002836     \n",
      "min                                             0.000000     \n",
      "25%                                             0.000000     \n",
      "50%                                             0.000000     \n",
      "75%                                             0.000000     \n",
      "max                                             1.000000     \n",
      "\n",
      "       incident_catgry_behaviour_piv  \\\n",
      "count                  124293.000000   \n",
      "mean                        0.074694   \n",
      "std                         0.548023   \n",
      "min                         0.000000   \n",
      "25%                         0.000000   \n",
      "50%                         0.000000   \n",
      "75%                         0.000000   \n",
      "max                        26.000000   \n",
      "\n",
      "       incident_catgry_behaviour_and_property_damage_nsw_jurisdiction_piv  \\\n",
      "count                                      124293.000000                    \n",
      "mean                                            0.000008                    \n",
      "std                                             0.002836                    \n",
      "min                                             0.000000                    \n",
      "25%                                             0.000000                    \n",
      "50%                                             0.000000                    \n",
      "75%                                             0.000000                    \n",
      "max                                             1.000000                    \n",
      "\n",
      "       incident_catgry_behaviour_minor_behaviour_piv  \n",
      "count                                  124293.000000  \n",
      "mean                                        0.000016  \n",
      "std                                         0.004011  \n",
      "min                                         0.000000  \n",
      "25%                                         0.000000  \n",
      "50%                                         0.000000  \n",
      "75%                                         0.000000  \n",
      "max                                         1.000000  \n"
     ]
    }
   ],
   "source": [
    "print(behavior_data.describe()) # Therefore we only take behavior_data[\"incident_catgry_behaviour_piv\"]"
   ]
  },
  {
   "cell_type": "code",
   "execution_count": 55,
   "metadata": {},
   "outputs": [
    {
     "name": "stdout",
     "output_type": "stream",
     "text": [
      "(124293, 2)\n"
     ]
    }
   ],
   "source": [
    "# Client_wellbeing\n",
    "client_wellbeing_list = []\n",
    "for item in keys:\n",
    "    if item.startswith(\"incident_catgry_client_wellbeing\"):\n",
    "        client_wellbeing_list.append(item)\n",
    "client_wellbeing_data = selected_data[client_wellbeing_list]\n",
    "print(client_wellbeing_data.shape)\n"
   ]
  },
  {
   "cell_type": "code",
   "execution_count": 56,
   "metadata": {},
   "outputs": [
    {
     "name": "stdout",
     "output_type": "stream",
     "text": [
      "       incident_catgry_client_wellbeing_piv  \\\n",
      "count                         124293.000000   \n",
      "mean                               0.015150   \n",
      "std                                0.157991   \n",
      "min                                0.000000   \n",
      "25%                                0.000000   \n",
      "50%                                0.000000   \n",
      "75%                                0.000000   \n",
      "max                               18.000000   \n",
      "\n",
      "       incident_catgry_client_wellbeing_minor_event_descript_piv  \n",
      "count                                      124293.000000          \n",
      "mean                                            0.000008          \n",
      "std                                             0.002836          \n",
      "min                                             0.000000          \n",
      "25%                                             0.000000          \n",
      "50%                                             0.000000          \n",
      "75%                                             0.000000          \n",
      "max                                             1.000000          \n"
     ]
    }
   ],
   "source": [
    "print(client_wellbeing_data.describe()) # take the client_wellbeing_data[\"incident_catgry_client_wellbeing_piv\"]"
   ]
  },
  {
   "cell_type": "code",
   "execution_count": 61,
   "metadata": {},
   "outputs": [
    {
     "name": "stdout",
     "output_type": "stream",
     "text": [
      "(124293, 21)\n"
     ]
    }
   ],
   "source": [
    "# offence Minor event\n",
    "Offence_Minor_list = []\n",
    "for item in keys:\n",
    "    if item.startswith(\"incident_catgry_offences_minor\"):\n",
    "        Offence_Minor_list.append(item)\n",
    "Offence_Minor_data = selected_data[Offence_Minor_list]\n",
    "print(Offence_Minor_data.shape)"
   ]
  },
  {
   "cell_type": "code",
   "execution_count": 62,
   "metadata": {},
   "outputs": [
    {
     "name": "stdout",
     "output_type": "stream",
     "text": [
      "       incident_catgry_offences_minor_niss_jurisdiction_category_piv  \\\n",
      "count                                      124293.000000               \n",
      "mean                                            0.000040               \n",
      "std                                             0.006342               \n",
      "min                                             0.000000               \n",
      "25%                                             0.000000               \n",
      "50%                                             0.000000               \n",
      "75%                                             0.000000               \n",
      "max                                             1.000000               \n",
      "\n",
      "       incident_catgry_offences_minor_vic_jurisdiction_category_piv  \\\n",
      "count                                      124293.000000              \n",
      "mean                                            0.000016              \n",
      "std                                             0.005673              \n",
      "min                                             0.000000              \n",
      "25%                                             0.000000              \n",
      "50%                                             0.000000              \n",
      "75%                                             0.000000              \n",
      "max                                             2.000000              \n",
      "\n",
      "       incident_catgry_offences_minor_client_missing_piv  \\\n",
      "count                                      124293.000000   \n",
      "mean                                            0.000169   \n",
      "std                                             0.019855   \n",
      "min                                             0.000000   \n",
      "25%                                             0.000000   \n",
      "50%                                             0.000000   \n",
      "75%                                             0.000000   \n",
      "max                                             3.000000   \n",
      "\n",
      "       incident_catgry_offences_minor_offences_minor_wa_jur_piv  \\\n",
      "count                                      124293.000000          \n",
      "mean                                            0.000008          \n",
      "std                                             0.002836          \n",
      "min                                             0.000000          \n",
      "25%                                             0.000000          \n",
      "50%                                             0.000000          \n",
      "75%                                             0.000000          \n",
      "max                                             1.000000          \n",
      "\n",
      "       incident_catgry_offences_minor_wa_jurisdiction_category_with_piv  \\\n",
      "count                                      124293.000000                  \n",
      "mean                                            0.000040                  \n",
      "std                                             0.009407                  \n",
      "min                                             0.000000                  \n",
      "25%                                             0.000000                  \n",
      "50%                                             0.000000                  \n",
      "75%                                             0.000000                  \n",
      "max                                             3.000000                  \n",
      "\n",
      "       incident_catgry_offences_minor_offences_minor_qld_ju_piv  \\\n",
      "count                                      124293.000000          \n",
      "mean                                            0.000024          \n",
      "std                                             0.004913          \n",
      "min                                             0.000000          \n",
      "25%                                             0.000000          \n",
      "50%                                             0.000000          \n",
      "75%                                             0.000000          \n",
      "max                                             1.000000          \n",
      "\n",
      "       incident_catgry_offences_minor_qld_jurisdiction_category_with_piv  \\\n",
      "count                                      124293.000000                   \n",
      "mean                                            0.000354                   \n",
      "std                                             0.023041                   \n",
      "min                                             0.000000                   \n",
      "25%                                             0.000000                   \n",
      "50%                                             0.000000                   \n",
      "75%                                             0.000000                   \n",
      "max                                             3.000000                   \n",
      "\n",
      "       incident_catgry_offences_minor_niss_jurisdiction_category_wit_piv  \\\n",
      "count                                      124293.000000                   \n",
      "mean                                            0.000008                   \n",
      "std                                             0.002836                   \n",
      "min                                             0.000000                   \n",
      "25%                                             0.000000                   \n",
      "50%                                             0.000000                   \n",
      "75%                                             0.000000                   \n",
      "max                                             1.000000                   \n",
      "\n",
      "       incident_catgry_offences_minor_nsw_jurisdiction_category_with_piv  \\\n",
      "count                                      124293.000000                   \n",
      "mean                                            0.000056                   \n",
      "std                                             0.008509                   \n",
      "min                                             0.000000                   \n",
      "25%                                             0.000000                   \n",
      "50%                                             0.000000                   \n",
      "75%                                             0.000000                   \n",
      "max                                             2.000000                   \n",
      "\n",
      "       incident_catgry_offences_minor_sa_jurisdiction_category_w_piv  \\\n",
      "count                                      124293.000000               \n",
      "mean                                            0.000032               \n",
      "std                                             0.006948               \n",
      "min                                             0.000000               \n",
      "25%                                             0.000000               \n",
      "50%                                             0.000000               \n",
      "75%                                             0.000000               \n",
      "max                                             2.000000               \n",
      "\n",
      "                          ...                      \\\n",
      "count                     ...                       \n",
      "mean                      ...                       \n",
      "std                       ...                       \n",
      "min                       ...                       \n",
      "25%                       ...                       \n",
      "50%                       ...                       \n",
      "75%                       ...                       \n",
      "max                       ...                       \n",
      "\n",
      "       incident_catgry_offences_minor_wa_jurisdiction_category_w_piv  \\\n",
      "count                                      124293.000000               \n",
      "mean                                            0.000016               \n",
      "std                                             0.004011               \n",
      "min                                             0.000000               \n",
      "25%                                             0.000000               \n",
      "50%                                             0.000000               \n",
      "75%                                             0.000000               \n",
      "max                                             1.000000               \n",
      "\n",
      "       incident_catgry_offences_minor_physical_and_sexual_assault_piv  \\\n",
      "count                                      124293.000000                \n",
      "mean                                            0.000008                \n",
      "std                                             0.002836                \n",
      "min                                             0.000000                \n",
      "25%                                             0.000000                \n",
      "50%                                             0.000000                \n",
      "75%                                             0.000000                \n",
      "max                                             1.000000                \n",
      "\n",
      "       incident_catgry_offences_minor_client_wellbeing_piv  \\\n",
      "count                                      124293.000000     \n",
      "mean                                            0.000024     \n",
      "std                                             0.004913     \n",
      "min                                             0.000000     \n",
      "25%                                             0.000000     \n",
      "50%                                             0.000000     \n",
      "75%                                             0.000000     \n",
      "max                                             1.000000     \n",
      "\n",
      "       incident_catgry_offences_minor_offences_minor_qld_jurisd_piv  \\\n",
      "count                                      124293.000000              \n",
      "mean                                            0.000008              \n",
      "std                                             0.002836              \n",
      "min                                             0.000000              \n",
      "25%                                             0.000000              \n",
      "50%                                             0.000000              \n",
      "75%                                             0.000000              \n",
      "max                                             1.000000              \n",
      "\n",
      "       incident_catgry_offences_minor_property_and_vehicles_piv  \\\n",
      "count                                      124293.000000          \n",
      "mean                                            0.000024          \n",
      "std                                             0.004913          \n",
      "min                                             0.000000          \n",
      "25%                                             0.000000          \n",
      "50%                                             0.000000          \n",
      "75%                                             0.000000          \n",
      "max                                             1.000000          \n",
      "\n",
      "       incident_catgry_offences_minor_tas_jurisdiction_category_with_piv  \\\n",
      "count                                      124293.000000                   \n",
      "mean                                            0.000008                   \n",
      "std                                             0.002836                   \n",
      "min                                             0.000000                   \n",
      "25%                                             0.000000                   \n",
      "50%                                             0.000000                   \n",
      "75%                                             0.000000                   \n",
      "max                                             1.000000                   \n",
      "\n",
      "       incident_catgry_offences_minor_behaviour_piv  \\\n",
      "count                                 124293.000000   \n",
      "mean                                       0.000056   \n",
      "std                                        0.008509   \n",
      "min                                        0.000000   \n",
      "25%                                        0.000000   \n",
      "50%                                        0.000000   \n",
      "75%                                        0.000000   \n",
      "max                                        2.000000   \n",
      "\n",
      "       incident_catgry_offences_minor_drugs_alcohol_piv  \\\n",
      "count                                     124293.000000   \n",
      "mean                                           0.000064   \n",
      "std                                            0.008969   \n",
      "min                                            0.000000   \n",
      "25%                                            0.000000   \n",
      "50%                                            0.000000   \n",
      "75%                                            0.000000   \n",
      "max                                            2.000000   \n",
      "\n",
      "       incident_catgry_offences_minor_qld_jurisdiction_category_piv  \\\n",
      "count                                      124293.000000              \n",
      "mean                                            0.000402              \n",
      "std                                             0.025367              \n",
      "min                                             0.000000              \n",
      "25%                                             0.000000              \n",
      "50%                                             0.000000              \n",
      "75%                                             0.000000              \n",
      "max                                             3.000000              \n",
      "\n",
      "       incident_catgry_offences_minor_medical_piv  \n",
      "count                               124293.000000  \n",
      "mean                                     0.000008  \n",
      "std                                      0.002836  \n",
      "min                                      0.000000  \n",
      "25%                                      0.000000  \n",
      "50%                                      0.000000  \n",
      "75%                                      0.000000  \n",
      "max                                      1.000000  \n",
      "\n",
      "[8 rows x 21 columns]\n"
     ]
    }
   ],
   "source": [
    "print(Offence_Minor_data.describe())"
   ]
  },
  {
   "cell_type": "code",
   "execution_count": null,
   "metadata": {},
   "outputs": [],
   "source": [
    "Offence_Minor_data[\"minor_event_total\"] = Offence_Minor_data.sum(axis=1)"
   ]
  },
  {
   "cell_type": "code",
   "execution_count": 65,
   "metadata": {},
   "outputs": [
    {
     "name": "stdout",
     "output_type": "stream",
     "text": [
      "count    124293.000000\n",
      "mean          0.001464\n",
      "std           0.052893\n",
      "min           0.000000\n",
      "25%           0.000000\n",
      "50%           0.000000\n",
      "75%           0.000000\n",
      "max           6.000000\n",
      "Name: minor_event_total, dtype: float64\n"
     ]
    }
   ],
   "source": [
    "print(Offence_Minor_data[\"minor_event_total\"].describe()) # pick up Offence_Minor_data[\"minor_event_total\"] "
   ]
  },
  {
   "cell_type": "code",
   "execution_count": 66,
   "metadata": {},
   "outputs": [
    {
     "name": "stdout",
     "output_type": "stream",
     "text": [
      "(124293, 11)\n"
     ]
    }
   ],
   "source": [
    "# offence significant events\n",
    "Offence_significant_list = []\n",
    "for item in keys:\n",
    "    if item.startswith(\"incident_catgry_offences_significant\"):\n",
    "        Offence_significant_list.append(item)\n",
    "Offence_significant_data = selected_data[Offence_significant_list]\n",
    "print(Offence_significant_data.shape)"
   ]
  },
  {
   "cell_type": "code",
   "execution_count": 68,
   "metadata": {},
   "outputs": [
    {
     "name": "stdout",
     "output_type": "stream",
     "text": [
      "       incident_catgry_offences_significant_sa_jurisdiction_cate_piv  \\\n",
      "count                                      124293.000000               \n",
      "mean                                            0.000008               \n",
      "std                                             0.002836               \n",
      "min                                             0.000000               \n",
      "25%                                             0.000000               \n",
      "50%                                             0.000000               \n",
      "75%                                             0.000000               \n",
      "max                                             1.000000               \n",
      "\n",
      "       incident_catgry_offences_significant_offences_minor_piv  \\\n",
      "count                                      124293.000000         \n",
      "mean                                            0.000008         \n",
      "std                                             0.002836         \n",
      "min                                             0.000000         \n",
      "25%                                             0.000000         \n",
      "50%                                             0.000000         \n",
      "75%                                             0.000000         \n",
      "max                                             1.000000         \n",
      "\n",
      "       incident_catgry_offences_significant_wa_jurisdiction_cate_piv  \\\n",
      "count                                      124293.000000               \n",
      "mean                                            0.000008               \n",
      "std                                             0.002836               \n",
      "min                                             0.000000               \n",
      "25%                                             0.000000               \n",
      "50%                                             0.000000               \n",
      "75%                                             0.000000               \n",
      "max                                             1.000000               \n",
      "\n",
      "       incident_catgry_offences_significant_client_missing_piv  \\\n",
      "count                                      124293.000000         \n",
      "mean                                            0.000008         \n",
      "std                                             0.002836         \n",
      "min                                             0.000000         \n",
      "25%                                             0.000000         \n",
      "50%                                             0.000000         \n",
      "75%                                             0.000000         \n",
      "max                                             1.000000         \n",
      "\n",
      "       incident_catgry_offences_significant_tas_jurisdiction_categor_piv  \\\n",
      "count                                      124293.000000                   \n",
      "mean                                            0.000008                   \n",
      "std                                             0.002836                   \n",
      "min                                             0.000000                   \n",
      "25%                                             0.000000                   \n",
      "50%                                             0.000000                   \n",
      "75%                                             0.000000                   \n",
      "max                                             1.000000                   \n",
      "\n",
      "       incident_catgry_offences_significant_vic_jurisdiction_cat_piv  \\\n",
      "count                                      124293.000000               \n",
      "mean                                            0.000008               \n",
      "std                                             0.002836               \n",
      "min                                             0.000000               \n",
      "25%                                             0.000000               \n",
      "50%                                             0.000000               \n",
      "75%                                             0.000000               \n",
      "max                                             1.000000               \n",
      "\n",
      "       incident_catgry_offences_significant_nsw_jurisdiction_cat_piv  \\\n",
      "count                                      124293.000000               \n",
      "mean                                            0.000089               \n",
      "std                                             0.010985               \n",
      "min                                             0.000000               \n",
      "25%                                             0.000000               \n",
      "50%                                             0.000000               \n",
      "75%                                             0.000000               \n",
      "max                                             2.000000               \n",
      "\n",
      "       incident_catgry_offences_significant_qld_jurisdiction_categor_piv  \\\n",
      "count                                      124293.000000                   \n",
      "mean                                            0.000072                   \n",
      "std                                             0.011695                   \n",
      "min                                             0.000000                   \n",
      "25%                                             0.000000                   \n",
      "50%                                             0.000000                   \n",
      "75%                                             0.000000                   \n",
      "max                                             3.000000                   \n",
      "\n",
      "       incident_catgry_offences_significant_event_descriptio_piv  \\\n",
      "count                                      124293.000000           \n",
      "mean                                            0.000008           \n",
      "std                                             0.002836           \n",
      "min                                             0.000000           \n",
      "25%                                             0.000000           \n",
      "50%                                             0.000000           \n",
      "75%                                             0.000000           \n",
      "max                                             1.000000           \n",
      "\n",
      "       incident_catgry_offences_significant_qld_jurisdiction_cat_piv  \\\n",
      "count                                      124293.000000               \n",
      "mean                                            0.000040               \n",
      "std                                             0.006342               \n",
      "min                                             0.000000               \n",
      "25%                                             0.000000               \n",
      "50%                                             0.000000               \n",
      "75%                                             0.000000               \n",
      "max                                             1.000000               \n",
      "\n",
      "       incident_catgry_offences_significant_physical_and_sexual_assa_piv  \n",
      "count                                      124293.000000                  \n",
      "mean                                            0.000016                  \n",
      "std                                             0.004011                  \n",
      "min                                             0.000000                  \n",
      "25%                                             0.000000                  \n",
      "50%                                             0.000000                  \n",
      "75%                                             0.000000                  \n",
      "max                                             1.000000                  \n"
     ]
    }
   ],
   "source": [
    "print(Offence_significant_data.describe())"
   ]
  },
  {
   "cell_type": "code",
   "execution_count": null,
   "metadata": {},
   "outputs": [],
   "source": [
    "Offence_significant_data[\"significant_event_total\"] = Offence_significant_data.sum(axis=1) # all store in Offence_significant_data[\"significant_event_total\"] \n"
   ]
  },
  {
   "cell_type": "code",
   "execution_count": 70,
   "metadata": {},
   "outputs": [
    {
     "name": "stdout",
     "output_type": "stream",
     "text": [
      "count    124293.000000\n",
      "mean          0.000274\n",
      "std           0.019236\n",
      "min           0.000000\n",
      "25%           0.000000\n",
      "50%           0.000000\n",
      "75%           0.000000\n",
      "max           3.000000\n",
      "Name: significant_event_total, dtype: float64\n"
     ]
    }
   ],
   "source": [
    "print(Offence_significant_data[\"significant_event_total\"].describe())"
   ]
  },
  {
   "cell_type": "code",
   "execution_count": 71,
   "metadata": {},
   "outputs": [
    {
     "name": "stdout",
     "output_type": "stream",
     "text": [
      "(124293, 3)\n"
     ]
    }
   ],
   "source": [
    "# offence critical events\n",
    "Offence_critical_list = []\n",
    "for item in keys:\n",
    "    if item.startswith(\"incident_catgry_offences_critical\"):\n",
    "        Offence_critical_list.append(item)\n",
    "Offence_critical_data = selected_data[Offence_critical_list]\n",
    "print(Offence_critical_data.shape)"
   ]
  },
  {
   "cell_type": "code",
   "execution_count": 72,
   "metadata": {},
   "outputs": [
    {
     "name": "stdout",
     "output_type": "stream",
     "text": [
      "       incident_catgry_offences_critical_qld_jurisdiction_catego_piv  \\\n",
      "count                                      124293.000000               \n",
      "mean                                            0.000064               \n",
      "std                                             0.008022               \n",
      "min                                             0.000000               \n",
      "25%                                             0.000000               \n",
      "50%                                             0.000000               \n",
      "75%                                             0.000000               \n",
      "max                                             1.000000               \n",
      "\n",
      "       incident_catgry_offences_critical_property_and_vehicles_piv  \\\n",
      "count                                      124293.000000             \n",
      "mean                                            0.000008             \n",
      "std                                             0.002836             \n",
      "min                                             0.000000             \n",
      "25%                                             0.000000             \n",
      "50%                                             0.000000             \n",
      "75%                                             0.000000             \n",
      "max                                             1.000000             \n",
      "\n",
      "       incident_catgry_offences_critical_qld_jurisdiction_category_w_piv  \n",
      "count                                      124293.000000                  \n",
      "mean                                            0.000032                  \n",
      "std                                             0.005673                  \n",
      "min                                             0.000000                  \n",
      "25%                                             0.000000                  \n",
      "50%                                             0.000000                  \n",
      "75%                                             0.000000                  \n",
      "max                                             1.000000                  \n"
     ]
    }
   ],
   "source": [
    "print(Offence_critical_data.describe())"
   ]
  },
  {
   "cell_type": "code",
   "execution_count": null,
   "metadata": {},
   "outputs": [],
   "source": [
    "Offence_critical_data[\"critical_event_total\"] = Offence_critical_data.sum(axis=1)"
   ]
  },
  {
   "cell_type": "code",
   "execution_count": 74,
   "metadata": {},
   "outputs": [
    {
     "name": "stdout",
     "output_type": "stream",
     "text": [
      "count    124293.000000\n",
      "mean          0.000105\n",
      "std           0.010985\n",
      "min           0.000000\n",
      "25%           0.000000\n",
      "50%           0.000000\n",
      "75%           0.000000\n",
      "max           2.000000\n",
      "Name: critical_event_total, dtype: float64\n"
     ]
    }
   ],
   "source": [
    "print(Offence_critical_data[\"critical_event_total\"].describe()) ## all store in Offence_critical_data[\"critical_event_total\"] \n"
   ]
  },
  {
   "cell_type": "markdown",
   "metadata": {},
   "source": [
    "### Now Summarize all the Offence event"
   ]
  },
  {
   "cell_type": "code",
   "execution_count": 90,
   "metadata": {},
   "outputs": [],
   "source": [
    "Offence_event = pd.concat([Offence_Minor_data[\"minor_event_total\"],Offence_significant_data[\"significant_event_total\"], Offence_critical_data[\"critical_event_total\"]], axis=1)\n",
    "       "
   ]
  },
  {
   "cell_type": "code",
   "execution_count": null,
   "metadata": {},
   "outputs": [],
   "source": [
    "print(Offence_event)"
   ]
  },
  {
   "cell_type": "code",
   "execution_count": 77,
   "metadata": {},
   "outputs": [],
   "source": [
    "Offence_event.loc[\"Total_num\"] = Offence_event.apply(lambda x: x.sum(), axis=0)"
   ]
  },
  {
   "cell_type": "code",
   "execution_count": 79,
   "metadata": {},
   "outputs": [
    {
     "name": "stdout",
     "output_type": "stream",
     "text": [
      "minor_event_total          182\n",
      "significant_event_total     34\n",
      "critical_event_total        13\n",
      "Name: Total_num, dtype: int64\n"
     ]
    }
   ],
   "source": [
    "print(Offence_event.loc[\"Total_num\"])"
   ]
  },
  {
   "cell_type": "code",
   "execution_count": 87,
   "metadata": {},
   "outputs": [
    {
     "data": {
      "image/png": "[encoded data removed]",
      "text/plain": [
       "<Figure size 432x288 with 1 Axes>"
      ]
     },
     "metadata": {},
     "output_type": "display_data"
    }
   ],
   "source": [
    "import matplotlib.pyplot as plt\n",
    "\n",
    "\n",
    "label = [u\"minor_event\", u\"significant_event\", u\"critical_event\"]\n",
    "offence_total = Offence_event.loc[\"Total_num\"]\n",
    "plt.pie(offence_total, labels=label, autopct='%1.1f%%')\n",
    "plt.legend()\n",
    "plt.show()"
   ]
  },
  {
   "cell_type": "code",
   "execution_count": 92,
   "metadata": {},
   "outputs": [
    {
     "data": {
      "text/plain": [
       "<matplotlib.axes._subplots.AxesSubplot at 0x126a012b0>"
      ]
     },
     "execution_count": 92,
     "metadata": {},
     "output_type": "execute_result"
    },
    {
     "data": {
      "image/png": "[encoded data removed]",
      "text/plain": [
       "<Figure size 792x288 with 1 Axes>"
      ]
     },
     "metadata": {},
     "output_type": "display_data"
    }
   ],
   "source": [
    "import seaborn as sns\n",
    "\n",
    "\n",
    "sns.set(rc={'figure.figsize':(11, 4)})\n",
    "Offence_event[\"minor_event_total\"].plot(linewidth=0.5)"
   ]
  },
  {
   "cell_type": "code",
   "execution_count": 93,
   "metadata": {},
   "outputs": [
    {
     "data": {
      "text/plain": [
       "<matplotlib.axes._subplots.AxesSubplot at 0x1295657f0>"
      ]
     },
     "execution_count": 93,
     "metadata": {},
     "output_type": "execute_result"
    },
    {
     "data": {
      "image/png": "[encoded data removed]",
      "text/plain": [
       "<Figure size 792x288 with 1 Axes>"
      ]
     },
     "metadata": {},
     "output_type": "display_data"
    }
   ],
   "source": [
    "Offence_event[\"significant_event_total\"].plot(linewidth=0.5)"
   ]
  },
  {
   "cell_type": "code",
   "execution_count": 94,
   "metadata": {},
   "outputs": [
    {
     "data": {
      "text/plain": [
       "<matplotlib.axes._subplots.AxesSubplot at 0x1264e3e80>"
      ]
     },
     "execution_count": 94,
     "metadata": {},
     "output_type": "execute_result"
    },
    {
     "data": {
      "image/png": "[encoded data removed]",
      "text/plain": [
       "<Figure size 792x288 with 1 Axes>"
      ]
     },
     "metadata": {},
     "output_type": "display_data"
    }
   ],
   "source": [
    "Offence_event[\"critical_event_total\"].plot(linewidth=0.5)"
   ]
  },
  {
   "cell_type": "markdown",
   "metadata": {},
   "source": [
    "### Summarize all the Incident Category Information & Get the Response Variable"
   ]
  },
  {
   "cell_type": "code",
   "execution_count": 95,
   "metadata": {},
   "outputs": [
    {
     "name": "stdout",
     "output_type": "stream",
     "text": [
      "(124293, 19)\n"
     ]
    }
   ],
   "source": [
    "incident_cat_list = [care_concern_data[\"incident_catgry_care_concern_piv\"], selected_data[\"incident_catgry_medication_piv\"],\n",
    "                    selected_data[\"incident_catgry_medical_piv\"],selected_data[\"incident_catgry__piv\"], selected_data[\"incident_catgry_death_piv\"],\n",
    "                    selected_data[\"incident_catgry_property_and_vehicles_piv\"],selected_data[\"incident_catgry_physical_and_sexual_assault_piv\"],\n",
    "                    selected_data[\"incident_catgry_client_missing_piv\"],selected_data[\"incident_catgry_standard_of_care_soc_piv\"],\n",
    "                    selected_data[\"incident_catgry_absconding_minor_significant_qld_jurisdi_piv\"],selected_data[\"incident_catgry_emergency_situation_piv\"],\n",
    "                    selected_data[\"incident_catgry_restrictive_practices_piv\"], selected_data[\"incident_catgry_media_piv\"], drug_data[\"incident_catgry_drugs_alcohol_piv\"],\n",
    "                    behavior_data[\"incident_catgry_behaviour_piv\"], client_wellbeing_data[\"incident_catgry_client_wellbeing_piv\"], Offence_Minor_data[\"minor_event_total\"],\n",
    "                    Offence_significant_data[\"significant_event_total\"], Offence_critical_data[\"critical_event_total\"]]\n",
    "\n",
    "\n",
    "incident_event_cat = pd.concat(incident_cat_list, axis=1)\n",
    "print(incident_event_cat.shape)\n"
   ]
  },
  {
   "cell_type": "code",
   "execution_count": 96,
   "metadata": {},
   "outputs": [],
   "source": [
    "incident_event_cat[\"Total_incident_count\"] = incident_event_cat.apply(lambda x: x.sum(), axis=1)"
   ]
  },
  {
   "cell_type": "code",
   "execution_count": 98,
   "metadata": {},
   "outputs": [
    {
     "name": "stdout",
     "output_type": "stream",
     "text": [
      "count    124293.000000\n",
      "mean          0.173638\n",
      "std           1.043014\n",
      "min           0.000000\n",
      "25%           0.000000\n",
      "50%           0.000000\n",
      "75%           0.000000\n",
      "max          68.000000\n",
      "Name: Total_incident_count, dtype: float64\n"
     ]
    }
   ],
   "source": [
    "print(incident_event_cat[\"Total_incident_count\"].describe())"
   ]
  },
  {
   "cell_type": "code",
   "execution_count": 99,
   "metadata": {},
   "outputs": [
    {
     "data": {
      "text/plain": [
       "<matplotlib.axes._subplots.AxesSubplot at 0x129555550>"
      ]
     },
     "execution_count": 99,
     "metadata": {},
     "output_type": "execute_result"
    },
    {
     "data": {
      "image/png": "[encoded data removed]",
      "text/plain": [
       "<Figure size 792x288 with 1 Axes>"
      ]
     },
     "metadata": {},
     "output_type": "display_data"
    }
   ],
   "source": [
    "incident_event_cat[\"Total_incident_count\"].plot(linewidth=0.5)"
   ]
  },
  {
   "cell_type": "code",
   "execution_count": 101,
   "metadata": {},
   "outputs": [],
   "source": [
    "incident_event_cat[\"response_variable\"] = incident_event_cat[\"Total_incident_count\"].apply(lambda x: 1 if x != 0 else 0)\n"
   ]
  },
  {
   "cell_type": "code",
   "execution_count": 105,
   "metadata": {},
   "outputs": [
    {
     "name": "stdout",
     "output_type": "stream",
     "text": [
      "0    114684\n",
      "1      9609\n",
      "Name: response_variable, dtype: int64\n"
     ]
    }
   ],
   "source": [
    "print(incident_event_cat.response_variable.value_counts())"
   ]
  },
  {
   "cell_type": "code",
   "execution_count": 107,
   "metadata": {},
   "outputs": [
    {
     "data": {
      "image/png": "[encoded data removed]",
      "text/plain": [
       "<Figure size 792x288 with 1 Axes>"
      ]
     },
     "metadata": {},
     "output_type": "display_data"
    }
   ],
   "source": [
    "labels = [u\"Without Incidents\", u\"With Incidents\"]\n",
    "counts_summary = incident_event_cat.response_variable.value_counts()\n",
    "\n",
    "plt.pie(counts_summary, labels=labels, autopct='%1.1f%%')\n",
    "plt.legend()\n",
    "plt.show()\n"
   ]
  },
  {
   "cell_type": "code",
   "execution_count": 108,
   "metadata": {},
   "outputs": [],
   "source": [
    "incident_event_cat.to_csv(\"Incident_cat.csv\")"
   ]
  },
  {
   "cell_type": "markdown",
   "metadata": {},
   "source": [
    "## Processing the Incident Subcategory"
   ]
  },
  {
   "cell_type": "code",
   "execution_count": null,
   "metadata": {},
   "outputs": [],
   "source": []
  },
  {
   "cell_type": "code",
   "execution_count": null,
   "metadata": {},
   "outputs": [],
   "source": []
  },
  {
   "cell_type": "code",
   "execution_count": null,
   "metadata": {},
   "outputs": [],
   "source": []
  },
  {
   "cell_type": "code",
   "execution_count": null,
   "metadata": {},
   "outputs": [],
   "source": []
  }
 ],
 "metadata": {
  "kernelspec": {
   "display_name": "Python 3",
   "language": "python",
   "name": "python3"
  },
  "language_info": {
   "codemirror_mode": {
    "name": "ipython",
    "version": 3
   },
   "file_extension": ".py",
   "mimetype": "text/x-python",
   "name": "python",
   "nbconvert_exporter": "python",
   "pygments_lexer": "ipython3",
   "version": "3.7.1"
  }
 },
 "nbformat": 4,
 "nbformat_minor": 2
}
