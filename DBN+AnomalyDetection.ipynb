{
  "nbformat": 4,
  "nbformat_minor": 0,
  "metadata": {
    "colab": {
      "name": "DBN+IsolatedForest.ipynb",
      "provenance": [],
      "collapsed_sections": []
    },
    "kernelspec": {
      "name": "python3",
      "display_name": "Python 3"
    },
    "accelerator": "GPU"
  },
  "cells": [
    {
      "cell_type": "code",
      "metadata": {
        "id": "oHVbcZwbM4W8"
      },
      "source": [
        "! kill -9 -1"
      ],
      "execution_count": null,
      "outputs": []
    },
    {
      "cell_type": "code",
      "metadata": {
        "id": "gzNOH03ZlCVE",
        "outputId": "14ce48ec-28b3-4aad-cf86-60bae25cdcc3",
        "colab": {
          "base_uri": "https://localhost:8080/",
          "height": 258
        }
      },
      "source": [
        "!ln -sf /opt/bin/nvidia-smi /usr/bin/nvidia-smi\n",
        "!pip install gputil\n",
        "!pip install psutil\n",
        "!pip install humanize\n",
        "import psutil\n",
        "import humanize\n",
        "import os\n",
        "import GPUtil as GPU\n",
        "from tqdm import tqdm\n",
        "GPUs = GPU.getGPUs()\n",
        "# XXX: only one GPU on Colab and isn’t guaranteed\n",
        "gpu = GPUs[0]\n",
        "def printm():\n",
        " process = psutil.Process(os.getpid())\n",
        " print(\"Gen RAM Free: \" + humanize.naturalsize( psutil.virtual_memory().available ), \" | Proc size: \" + humanize.naturalsize( process.memory_info().rss))\n",
        " print(\"GPU RAM Free: {0:.0f}MB | Used: {1:.0f}MB | Util {2:3.0f}% | Total {3:.0f}MB\".format(gpu.memoryFree, gpu.memoryUsed, gpu.memoryUtil*100, gpu.memoryTotal))\n",
        "printm()"
      ],
      "execution_count": 1,
      "outputs": [
        {
          "output_type": "stream",
          "text": [
            "Collecting gputil\n",
            "  Downloading https://files.pythonhosted.org/packages/ed/0e/5c61eedde9f6c87713e89d794f01e378cfd9565847d4576fa627d758c554/GPUtil-1.4.0.tar.gz\n",
            "Building wheels for collected packages: gputil\n",
            "  Building wheel for gputil (setup.py) ... \u001b[?25l\u001b[?25hdone\n",
            "  Created wheel for gputil: filename=GPUtil-1.4.0-cp36-none-any.whl size=7411 sha256=6f97fd725fdb44d993c1ea4c5ed6a779650e9c494b4b93bc619f1fa5b8de46d7\n",
            "  Stored in directory: /root/.cache/pip/wheels/3d/77/07/80562de4bb0786e5ea186911a2c831fdd0018bda69beab71fd\n",
            "Successfully built gputil\n",
            "Installing collected packages: gputil\n",
            "Successfully installed gputil-1.4.0\n",
            "Requirement already satisfied: psutil in /usr/local/lib/python3.6/dist-packages (5.4.8)\n",
            "Requirement already satisfied: humanize in /usr/local/lib/python3.6/dist-packages (0.5.1)\n",
            "Gen RAM Free: 12.8 GB  | Proc size: 112.7 MB\n",
            "GPU RAM Free: 15079MB | Used: 0MB | Util   0% | Total 15079MB\n"
          ],
          "name": "stdout"
        }
      ]
    },
    {
      "cell_type": "code",
      "metadata": {
        "id": "F3DLZCKWlKT_",
        "outputId": "a76a14c8-6742-4fba-993c-53e9560904a6",
        "colab": {
          "base_uri": "https://localhost:8080/",
          "height": 51
        }
      },
      "source": [
        "import torch\n",
        "\n",
        "torch.cuda.empty_cache()\n",
        "\n",
        "if torch.cuda.is_available():\n",
        "    device = torch.device(\"cuda\")\n",
        "    print(\"There are {} GPUs available.\".format(torch.cuda.device_count()))\n",
        "    print(\"We will use GPU {}\".format(torch.cuda.get_device_name(0)))\n",
        "else:\n",
        "    print(\"There is no GPU available, using the CPU instead!\")\n",
        "    device = torch.device(\"cpu\")"
      ],
      "execution_count": 2,
      "outputs": [
        {
          "output_type": "stream",
          "text": [
            "There are 1 GPUs available.\n",
            "We will use GPU Tesla T4\n"
          ],
          "name": "stdout"
        }
      ]
    },
    {
      "cell_type": "markdown",
      "metadata": {
        "id": "r8YSsnbFlNLk"
      },
      "source": [
        "Loading the Data"
      ]
    },
    {
      "cell_type": "code",
      "metadata": {
        "id": "nVVR2zQplOzY"
      },
      "source": [
        "import pandas as pd\n",
        "\n",
        "part_1 = pd.read_csv(\"LWB_Monthly_data.csv\")"
      ],
      "execution_count": 3,
      "outputs": []
    },
    {
      "cell_type": "code",
      "metadata": {
        "id": "rspDhcKAlc8R",
        "outputId": "713b6297-22dc-4ebb-e5d6-d1716504af5d",
        "colab": {
          "base_uri": "https://localhost:8080/",
          "height": 34
        }
      },
      "source": [
        "part_1.shape"
      ],
      "execution_count": 4,
      "outputs": [
        {
          "output_type": "execute_result",
          "data": {
            "text/plain": [
              "(123311, 341)"
            ]
          },
          "metadata": {
            "tags": []
          },
          "execution_count": 4
        }
      ]
    },
    {
      "cell_type": "code",
      "metadata": {
        "id": "DI_iUIPRlVMX",
        "outputId": "6835afbf-d87b-4d92-e7bd-0f6158c7d2a4",
        "colab": {
          "base_uri": "https://localhost:8080/",
          "height": 423
        }
      },
      "source": [
        "part_1.head(5)"
      ],
      "execution_count": 5,
      "outputs": [
        {
          "output_type": "execute_result",
          "data": {
            "text/html": [
              "<div>\n",
              "<style scoped>\n",
              "    .dataframe tbody tr th:only-of-type {\n",
              "        vertical-align: middle;\n",
              "    }\n",
              "\n",
              "    .dataframe tbody tr th {\n",
              "        vertical-align: top;\n",
              "    }\n",
              "\n",
              "    .dataframe thead th {\n",
              "        text-align: right;\n",
              "    }\n",
              "</style>\n",
              "<table border=\"1\" class=\"dataframe\">\n",
              "  <thead>\n",
              "    <tr style=\"text-align: right;\">\n",
              "      <th></th>\n",
              "      <th>_key_client_id</th>\n",
              "      <th>_key_occurreddate_month</th>\n",
              "      <th>incident_catgry_care_concern_piv</th>\n",
              "      <th>incident_catgry_medication_piv</th>\n",
              "      <th>incident_catgry_medical_piv</th>\n",
              "      <th>incident_catgry__piv</th>\n",
              "      <th>incident_catgry_death_piv</th>\n",
              "      <th>incident_catgry_property_and_vehicles_piv</th>\n",
              "      <th>incident_catgry_physical_and_sexual_assault_piv</th>\n",
              "      <th>incident_catgry_client_missing_piv</th>\n",
              "      <th>incident_catgry_standard_of_care_soc_piv</th>\n",
              "      <th>incident_catgry_absconding_minor_significant_qld_jurisdi_piv</th>\n",
              "      <th>incident_catgry_emergency_situation_piv</th>\n",
              "      <th>incident_catgry_restrictive_practices_piv</th>\n",
              "      <th>incident_catgry_media_piv</th>\n",
              "      <th>incident_catgry_drugs_alcohol_piv</th>\n",
              "      <th>incident_catgry_behaviour_piv</th>\n",
              "      <th>incident_catgry_client_wellbeing_piv</th>\n",
              "      <th>minor_event_total</th>\n",
              "      <th>significant_event_total</th>\n",
              "      <th>critical_event_total</th>\n",
              "      <th>Total_incident_count</th>\n",
              "      <th>response_variable</th>\n",
              "      <th>incident_subcatgry_verbal_abuse____nsw__piv</th>\n",
              "      <th>incident_subcatgry_breach_of_legislatio_piv</th>\n",
              "      <th>incident_subcatgry_ill_treatment_piv</th>\n",
              "      <th>incident_subcatgry_public_health_risk_piv</th>\n",
              "      <th>incident_subcatgry_prn_administered_piv</th>\n",
              "      <th>incident_subcatgry_family_and_domestic__piv</th>\n",
              "      <th>incident_subcatgry_reaction_to_medicati_piv</th>\n",
              "      <th>incident_subcatgry_behaviour_of_concern_piv</th>\n",
              "      <th>incident_subcatgry_possession_of_weapon_piv</th>\n",
              "      <th>incident_subcatgry_unknown_piv</th>\n",
              "      <th>incident_subcatgry_restricted_practice_piv</th>\n",
              "      <th>incident_subcatgry_physical_aggression_piv</th>\n",
              "      <th>incident_subcatgry_visitor_refused_acce_piv</th>\n",
              "      <th>incident_subcatgry_restrictive_practice_piv</th>\n",
              "      <th>incident_subcatgry_adverse_piv</th>\n",
              "      <th>incident_subcatgry_client_piv</th>\n",
              "      <th>incident_subcatgry_personal_finances_piv</th>\n",
              "      <th>...</th>\n",
              "      <th>rowtype_reference_piv</th>\n",
              "      <th>rowtype_plcment_end_piv</th>\n",
              "      <th>rowtype_incident_piv</th>\n",
              "      <th>rowtype_plcment_start_piv</th>\n",
              "      <th>rowtype_program_primary_service_type_start_piv</th>\n",
              "      <th>medc_acqtyp</th>\n",
              "      <th>medc_admintype</th>\n",
              "      <th>medc_levelofindependencetype</th>\n",
              "      <th>medc_adminfreqid</th>\n",
              "      <th>status_placement</th>\n",
              "      <th>status_client_plan</th>\n",
              "      <th>status_rp_mechanical_restraint</th>\n",
              "      <th>status_rp_restricted_access</th>\n",
              "      <th>status_rp_chemical_restraint</th>\n",
              "      <th>status_rp_other</th>\n",
              "      <th>Incident</th>\n",
              "      <th>rp_environmental_restraint_piv</th>\n",
              "      <th>rp_restricted_access_piv</th>\n",
              "      <th>rp_mechanical_restraint_piv</th>\n",
              "      <th>rp_exclusionary_time_out_not_including_seclusion_piv</th>\n",
              "      <th>rp_physical_restraint_prohibited_in_cyf_piv</th>\n",
              "      <th>rp_seclusion_over_18yrs_prohibited_in_cyf_piv</th>\n",
              "      <th>rp_other_piv</th>\n",
              "      <th>rp_chemical_restraint_psychotropic_medication_piv</th>\n",
              "      <th>rp_type_detail_rp_start_mechanical_restraint_piv</th>\n",
              "      <th>rp_type_detail_rp_end_physical_restraint_prohibited_in_cyf_piv</th>\n",
              "      <th>rp_type_detail_rp_start_other_piv</th>\n",
              "      <th>rp_type_detail_rp_end_other_piv</th>\n",
              "      <th>rp_type_detail_rp_start_physical_restraint_prohibited_in_cyf_piv</th>\n",
              "      <th>rp_type_detail_rp_start_seclusion_over_18yrs_prohibited_in_cyf_piv</th>\n",
              "      <th>rp_type_detail_rp_end_environmental_restraint_piv</th>\n",
              "      <th>rp_type_detail_rp_end_chemical_restraint_psychotropic_medication_piv</th>\n",
              "      <th>rp_type_detail_rp_end_restricted_access_piv</th>\n",
              "      <th>rp_type_detail_rp_start_restricted_access_piv</th>\n",
              "      <th>rp_type_detail_rp_end_mechanical_restraint_piv</th>\n",
              "      <th>rp_type_detail_rp_start_chemical_restraint_psychotropic_medication_piv</th>\n",
              "      <th>rp_type_detail_rp_start_environmental_restraint_piv</th>\n",
              "      <th>rp_type_detail_rp_end_exclusionary_time_out_not_including_seclusion_piv</th>\n",
              "      <th>restrictivepractice_isemergency_false_piv</th>\n",
              "      <th>restrictivepractice_isemergency_true_piv</th>\n",
              "    </tr>\n",
              "  </thead>\n",
              "  <tbody>\n",
              "    <tr>\n",
              "      <th>0</th>\n",
              "      <td>0000D172-EA88-432F-8235-9FAA00D29072</td>\n",
              "      <td>2019-04-01</td>\n",
              "      <td>0</td>\n",
              "      <td>0</td>\n",
              "      <td>0</td>\n",
              "      <td>0</td>\n",
              "      <td>0</td>\n",
              "      <td>0</td>\n",
              "      <td>0</td>\n",
              "      <td>0</td>\n",
              "      <td>0</td>\n",
              "      <td>0</td>\n",
              "      <td>0</td>\n",
              "      <td>0</td>\n",
              "      <td>0</td>\n",
              "      <td>0</td>\n",
              "      <td>0</td>\n",
              "      <td>0</td>\n",
              "      <td>0</td>\n",
              "      <td>0</td>\n",
              "      <td>0</td>\n",
              "      <td>0</td>\n",
              "      <td>0</td>\n",
              "      <td>0</td>\n",
              "      <td>0</td>\n",
              "      <td>0</td>\n",
              "      <td>0</td>\n",
              "      <td>0</td>\n",
              "      <td>0</td>\n",
              "      <td>0</td>\n",
              "      <td>0</td>\n",
              "      <td>0</td>\n",
              "      <td>29</td>\n",
              "      <td>0</td>\n",
              "      <td>0</td>\n",
              "      <td>0</td>\n",
              "      <td>0</td>\n",
              "      <td>0</td>\n",
              "      <td>0</td>\n",
              "      <td>0</td>\n",
              "      <td>...</td>\n",
              "      <td>27</td>\n",
              "      <td>0</td>\n",
              "      <td>0</td>\n",
              "      <td>0</td>\n",
              "      <td>0</td>\n",
              "      <td>0</td>\n",
              "      <td>0</td>\n",
              "      <td>0</td>\n",
              "      <td>0</td>\n",
              "      <td>2</td>\n",
              "      <td>2</td>\n",
              "      <td>1</td>\n",
              "      <td>2</td>\n",
              "      <td>2</td>\n",
              "      <td>2</td>\n",
              "      <td>0</td>\n",
              "      <td>0</td>\n",
              "      <td>0</td>\n",
              "      <td>0</td>\n",
              "      <td>0</td>\n",
              "      <td>0</td>\n",
              "      <td>0</td>\n",
              "      <td>0</td>\n",
              "      <td>0</td>\n",
              "      <td>0</td>\n",
              "      <td>0</td>\n",
              "      <td>0</td>\n",
              "      <td>0</td>\n",
              "      <td>0</td>\n",
              "      <td>0</td>\n",
              "      <td>0</td>\n",
              "      <td>0</td>\n",
              "      <td>0</td>\n",
              "      <td>0</td>\n",
              "      <td>0</td>\n",
              "      <td>0</td>\n",
              "      <td>0</td>\n",
              "      <td>0</td>\n",
              "      <td>0</td>\n",
              "      <td>0</td>\n",
              "    </tr>\n",
              "    <tr>\n",
              "      <th>1</th>\n",
              "      <td>0000D172-EA88-432F-8235-9FAA00D29072</td>\n",
              "      <td>2019-05-01</td>\n",
              "      <td>0</td>\n",
              "      <td>0</td>\n",
              "      <td>0</td>\n",
              "      <td>0</td>\n",
              "      <td>0</td>\n",
              "      <td>0</td>\n",
              "      <td>0</td>\n",
              "      <td>0</td>\n",
              "      <td>0</td>\n",
              "      <td>0</td>\n",
              "      <td>0</td>\n",
              "      <td>0</td>\n",
              "      <td>0</td>\n",
              "      <td>0</td>\n",
              "      <td>0</td>\n",
              "      <td>0</td>\n",
              "      <td>0</td>\n",
              "      <td>0</td>\n",
              "      <td>0</td>\n",
              "      <td>0</td>\n",
              "      <td>0</td>\n",
              "      <td>0</td>\n",
              "      <td>0</td>\n",
              "      <td>0</td>\n",
              "      <td>0</td>\n",
              "      <td>0</td>\n",
              "      <td>0</td>\n",
              "      <td>0</td>\n",
              "      <td>0</td>\n",
              "      <td>0</td>\n",
              "      <td>31</td>\n",
              "      <td>0</td>\n",
              "      <td>0</td>\n",
              "      <td>0</td>\n",
              "      <td>0</td>\n",
              "      <td>0</td>\n",
              "      <td>0</td>\n",
              "      <td>0</td>\n",
              "      <td>...</td>\n",
              "      <td>30</td>\n",
              "      <td>0</td>\n",
              "      <td>0</td>\n",
              "      <td>0</td>\n",
              "      <td>0</td>\n",
              "      <td>0</td>\n",
              "      <td>0</td>\n",
              "      <td>0</td>\n",
              "      <td>0</td>\n",
              "      <td>2</td>\n",
              "      <td>2</td>\n",
              "      <td>1</td>\n",
              "      <td>2</td>\n",
              "      <td>2</td>\n",
              "      <td>2</td>\n",
              "      <td>0</td>\n",
              "      <td>0</td>\n",
              "      <td>0</td>\n",
              "      <td>0</td>\n",
              "      <td>0</td>\n",
              "      <td>0</td>\n",
              "      <td>0</td>\n",
              "      <td>0</td>\n",
              "      <td>0</td>\n",
              "      <td>0</td>\n",
              "      <td>0</td>\n",
              "      <td>0</td>\n",
              "      <td>0</td>\n",
              "      <td>0</td>\n",
              "      <td>0</td>\n",
              "      <td>0</td>\n",
              "      <td>0</td>\n",
              "      <td>0</td>\n",
              "      <td>0</td>\n",
              "      <td>0</td>\n",
              "      <td>0</td>\n",
              "      <td>0</td>\n",
              "      <td>0</td>\n",
              "      <td>0</td>\n",
              "      <td>0</td>\n",
              "    </tr>\n",
              "    <tr>\n",
              "      <th>2</th>\n",
              "      <td>0000D172-EA88-432F-8235-9FAA00D29072</td>\n",
              "      <td>2019-06-01</td>\n",
              "      <td>0</td>\n",
              "      <td>0</td>\n",
              "      <td>0</td>\n",
              "      <td>0</td>\n",
              "      <td>0</td>\n",
              "      <td>0</td>\n",
              "      <td>0</td>\n",
              "      <td>0</td>\n",
              "      <td>0</td>\n",
              "      <td>0</td>\n",
              "      <td>0</td>\n",
              "      <td>0</td>\n",
              "      <td>0</td>\n",
              "      <td>0</td>\n",
              "      <td>0</td>\n",
              "      <td>0</td>\n",
              "      <td>0</td>\n",
              "      <td>0</td>\n",
              "      <td>0</td>\n",
              "      <td>0</td>\n",
              "      <td>0</td>\n",
              "      <td>0</td>\n",
              "      <td>0</td>\n",
              "      <td>0</td>\n",
              "      <td>0</td>\n",
              "      <td>0</td>\n",
              "      <td>0</td>\n",
              "      <td>0</td>\n",
              "      <td>0</td>\n",
              "      <td>0</td>\n",
              "      <td>31</td>\n",
              "      <td>0</td>\n",
              "      <td>0</td>\n",
              "      <td>0</td>\n",
              "      <td>0</td>\n",
              "      <td>0</td>\n",
              "      <td>0</td>\n",
              "      <td>0</td>\n",
              "      <td>...</td>\n",
              "      <td>29</td>\n",
              "      <td>0</td>\n",
              "      <td>0</td>\n",
              "      <td>0</td>\n",
              "      <td>0</td>\n",
              "      <td>0</td>\n",
              "      <td>0</td>\n",
              "      <td>0</td>\n",
              "      <td>0</td>\n",
              "      <td>2</td>\n",
              "      <td>2</td>\n",
              "      <td>1</td>\n",
              "      <td>2</td>\n",
              "      <td>2</td>\n",
              "      <td>2</td>\n",
              "      <td>0</td>\n",
              "      <td>0</td>\n",
              "      <td>0</td>\n",
              "      <td>0</td>\n",
              "      <td>0</td>\n",
              "      <td>0</td>\n",
              "      <td>0</td>\n",
              "      <td>0</td>\n",
              "      <td>0</td>\n",
              "      <td>0</td>\n",
              "      <td>0</td>\n",
              "      <td>0</td>\n",
              "      <td>0</td>\n",
              "      <td>0</td>\n",
              "      <td>0</td>\n",
              "      <td>0</td>\n",
              "      <td>0</td>\n",
              "      <td>0</td>\n",
              "      <td>0</td>\n",
              "      <td>0</td>\n",
              "      <td>0</td>\n",
              "      <td>0</td>\n",
              "      <td>0</td>\n",
              "      <td>0</td>\n",
              "      <td>0</td>\n",
              "    </tr>\n",
              "    <tr>\n",
              "      <th>3</th>\n",
              "      <td>0000D172-EA88-432F-8235-9FAA00D29072</td>\n",
              "      <td>2019-07-01</td>\n",
              "      <td>0</td>\n",
              "      <td>0</td>\n",
              "      <td>0</td>\n",
              "      <td>0</td>\n",
              "      <td>0</td>\n",
              "      <td>0</td>\n",
              "      <td>0</td>\n",
              "      <td>0</td>\n",
              "      <td>0</td>\n",
              "      <td>0</td>\n",
              "      <td>0</td>\n",
              "      <td>0</td>\n",
              "      <td>0</td>\n",
              "      <td>0</td>\n",
              "      <td>0</td>\n",
              "      <td>0</td>\n",
              "      <td>0</td>\n",
              "      <td>0</td>\n",
              "      <td>0</td>\n",
              "      <td>0</td>\n",
              "      <td>0</td>\n",
              "      <td>0</td>\n",
              "      <td>0</td>\n",
              "      <td>0</td>\n",
              "      <td>0</td>\n",
              "      <td>0</td>\n",
              "      <td>0</td>\n",
              "      <td>0</td>\n",
              "      <td>0</td>\n",
              "      <td>0</td>\n",
              "      <td>32</td>\n",
              "      <td>0</td>\n",
              "      <td>0</td>\n",
              "      <td>0</td>\n",
              "      <td>0</td>\n",
              "      <td>0</td>\n",
              "      <td>0</td>\n",
              "      <td>0</td>\n",
              "      <td>...</td>\n",
              "      <td>30</td>\n",
              "      <td>0</td>\n",
              "      <td>0</td>\n",
              "      <td>0</td>\n",
              "      <td>0</td>\n",
              "      <td>0</td>\n",
              "      <td>0</td>\n",
              "      <td>0</td>\n",
              "      <td>0</td>\n",
              "      <td>2</td>\n",
              "      <td>2</td>\n",
              "      <td>1</td>\n",
              "      <td>2</td>\n",
              "      <td>2</td>\n",
              "      <td>2</td>\n",
              "      <td>0</td>\n",
              "      <td>0</td>\n",
              "      <td>0</td>\n",
              "      <td>0</td>\n",
              "      <td>0</td>\n",
              "      <td>0</td>\n",
              "      <td>0</td>\n",
              "      <td>0</td>\n",
              "      <td>0</td>\n",
              "      <td>0</td>\n",
              "      <td>0</td>\n",
              "      <td>0</td>\n",
              "      <td>0</td>\n",
              "      <td>0</td>\n",
              "      <td>0</td>\n",
              "      <td>0</td>\n",
              "      <td>0</td>\n",
              "      <td>0</td>\n",
              "      <td>0</td>\n",
              "      <td>0</td>\n",
              "      <td>0</td>\n",
              "      <td>0</td>\n",
              "      <td>0</td>\n",
              "      <td>0</td>\n",
              "      <td>0</td>\n",
              "    </tr>\n",
              "    <tr>\n",
              "      <th>4</th>\n",
              "      <td>0000D172-EA88-432F-8235-9FAA00D29072</td>\n",
              "      <td>2019-08-01</td>\n",
              "      <td>0</td>\n",
              "      <td>0</td>\n",
              "      <td>0</td>\n",
              "      <td>0</td>\n",
              "      <td>0</td>\n",
              "      <td>0</td>\n",
              "      <td>0</td>\n",
              "      <td>0</td>\n",
              "      <td>0</td>\n",
              "      <td>0</td>\n",
              "      <td>0</td>\n",
              "      <td>0</td>\n",
              "      <td>0</td>\n",
              "      <td>0</td>\n",
              "      <td>0</td>\n",
              "      <td>0</td>\n",
              "      <td>0</td>\n",
              "      <td>0</td>\n",
              "      <td>0</td>\n",
              "      <td>0</td>\n",
              "      <td>0</td>\n",
              "      <td>0</td>\n",
              "      <td>0</td>\n",
              "      <td>0</td>\n",
              "      <td>0</td>\n",
              "      <td>0</td>\n",
              "      <td>0</td>\n",
              "      <td>0</td>\n",
              "      <td>0</td>\n",
              "      <td>0</td>\n",
              "      <td>33</td>\n",
              "      <td>0</td>\n",
              "      <td>0</td>\n",
              "      <td>0</td>\n",
              "      <td>0</td>\n",
              "      <td>0</td>\n",
              "      <td>0</td>\n",
              "      <td>0</td>\n",
              "      <td>...</td>\n",
              "      <td>30</td>\n",
              "      <td>0</td>\n",
              "      <td>0</td>\n",
              "      <td>0</td>\n",
              "      <td>0</td>\n",
              "      <td>0</td>\n",
              "      <td>0</td>\n",
              "      <td>0</td>\n",
              "      <td>0</td>\n",
              "      <td>2</td>\n",
              "      <td>2</td>\n",
              "      <td>1</td>\n",
              "      <td>2</td>\n",
              "      <td>2</td>\n",
              "      <td>2</td>\n",
              "      <td>0</td>\n",
              "      <td>0</td>\n",
              "      <td>0</td>\n",
              "      <td>0</td>\n",
              "      <td>0</td>\n",
              "      <td>0</td>\n",
              "      <td>0</td>\n",
              "      <td>0</td>\n",
              "      <td>0</td>\n",
              "      <td>0</td>\n",
              "      <td>0</td>\n",
              "      <td>0</td>\n",
              "      <td>0</td>\n",
              "      <td>0</td>\n",
              "      <td>0</td>\n",
              "      <td>0</td>\n",
              "      <td>0</td>\n",
              "      <td>0</td>\n",
              "      <td>0</td>\n",
              "      <td>0</td>\n",
              "      <td>0</td>\n",
              "      <td>0</td>\n",
              "      <td>0</td>\n",
              "      <td>0</td>\n",
              "      <td>0</td>\n",
              "    </tr>\n",
              "  </tbody>\n",
              "</table>\n",
              "<p>5 rows × 341 columns</p>\n",
              "</div>"
            ],
            "text/plain": [
              "                         _key_client_id  ... restrictivepractice_isemergency_true_piv\n",
              "0  0000D172-EA88-432F-8235-9FAA00D29072  ...                                        0\n",
              "1  0000D172-EA88-432F-8235-9FAA00D29072  ...                                        0\n",
              "2  0000D172-EA88-432F-8235-9FAA00D29072  ...                                        0\n",
              "3  0000D172-EA88-432F-8235-9FAA00D29072  ...                                        0\n",
              "4  0000D172-EA88-432F-8235-9FAA00D29072  ...                                        0\n",
              "\n",
              "[5 rows x 341 columns]"
            ]
          },
          "metadata": {
            "tags": []
          },
          "execution_count": 5
        }
      ]
    },
    {
      "cell_type": "code",
      "metadata": {
        "id": "yepGIF7SlbOM",
        "outputId": "20152c6c-2d01-4bee-ab1d-4af89b55f3e0",
        "colab": {
          "base_uri": "https://localhost:8080/",
          "height": 34
        }
      },
      "source": [
        "ori_data = part_1.drop(['_key_client_id', '_key_occurreddate_month', 'response_variable'], axis=1)\n",
        "\n",
        "import sklearn.preprocessing as preprocessing\n",
        "scaler = preprocessing.StandardScaler()\n",
        "\n",
        "for column in ori_data.columns:\n",
        "      scale_param = scaler.fit(ori_data[column].values.reshape(-1, 1))\n",
        "      ori_data[column] = scaler.fit_transform(ori_data[column].values.reshape(-1, 1), scale_param)\n",
        "\n",
        "print(ori_data.shape)"
      ],
      "execution_count": 6,
      "outputs": [
        {
          "output_type": "stream",
          "text": [
            "(123311, 338)\n"
          ],
          "name": "stdout"
        }
      ]
    },
    {
      "cell_type": "code",
      "metadata": {
        "id": "B3ZMJE1YgAAg",
        "outputId": "e24bf4f9-f1e8-4404-8a19-bd6e8aeea3c9",
        "colab": {
          "base_uri": "https://localhost:8080/",
          "height": 34
        }
      },
      "source": [
        "# column_names = list(ori_data.columns)\n",
        "# print(len(column_names))"
      ],
      "execution_count": 10,
      "outputs": [
        {
          "output_type": "stream",
          "text": [
            "338\n"
          ],
          "name": "stdout"
        }
      ]
    },
    {
      "cell_type": "code",
      "metadata": {
        "id": "1nh4_mvpcWwt",
        "outputId": "ef8bd21e-5b33-4699-9156-efd3109e1fb7",
        "colab": {
          "base_uri": "https://localhost:8080/",
          "height": 139
        }
      },
      "source": [
        "# from sklearn.feature_selection import SelectKBest\n",
        "# from sklearn.feature_selection import f_classif\n",
        "\n",
        "# ori_value = ori_data.values\n",
        "# labels = part_1['response_variable'].values\n",
        "\n",
        "# F_score, p_values = f_classif(ori_value, labels)\n",
        "\n",
        "# print(len(F_score))\n",
        "# print(len(p_values))\n",
        "\n"
      ],
      "execution_count": 11,
      "outputs": [
        {
          "output_type": "stream",
          "text": [
            "338\n",
            "338\n"
          ],
          "name": "stdout"
        },
        {
          "output_type": "stream",
          "text": [
            "/usr/local/lib/python3.6/dist-packages/sklearn/feature_selection/_univariate_selection.py:114: UserWarning: Features [165 202 203 204 213] are constant.\n",
            "  UserWarning)\n",
            "/usr/local/lib/python3.6/dist-packages/sklearn/feature_selection/_univariate_selection.py:115: RuntimeWarning: invalid value encountered in true_divide\n",
            "  f = msb / msw\n"
          ],
          "name": "stderr"
        }
      ]
    },
    {
      "cell_type": "code",
      "metadata": {
        "id": "WjPV2e4fhmku",
        "outputId": "e92ce4be-ae6c-495c-e629-d095f6140e35",
        "colab": {
          "base_uri": "https://localhost:8080/",
          "height": 51
        }
      },
      "source": [
        "# vital_feature = {}\n",
        "# vital_features = []\n",
        "\n",
        "# for id, p_value in enumerate(p_values):\n",
        "#     if p_value < 0.05:\n",
        "#       vital_feature[column_names[id]] = p_values\n",
        "#       vital_features.append(column_names[id])\n",
        "\n",
        "# print(len(vital_feature))\n",
        "# print(len(vital_features))\n"
      ],
      "execution_count": 12,
      "outputs": [
        {
          "output_type": "stream",
          "text": [
            "272\n",
            "272\n"
          ],
          "name": "stdout"
        }
      ]
    },
    {
      "cell_type": "code",
      "metadata": {
        "id": "zcJYayFili1X",
        "outputId": "831ca9c0-4b3a-426d-9b26-8099ff514b66",
        "colab": {
          "base_uri": "https://localhost:8080/",
          "height": 34
        }
      },
      "source": [
        "ori_data['_key_client_id'] = part_1['_key_client_id']\n",
        "ori_data['_key_occurreddate_month'] = part_1['_key_occurreddate_month']\n",
        "ori_data['response_variable'] = part_1['response_variable']\n",
        "\n",
        "print(ori_data.shape)"
      ],
      "execution_count": 7,
      "outputs": [
        {
          "output_type": "stream",
          "text": [
            "(123311, 341)\n"
          ],
          "name": "stdout"
        }
      ]
    },
    {
      "cell_type": "code",
      "metadata": {
        "id": "ah0sNhmsllTW",
        "outputId": "bead95c5-4ee7-4f3a-eed9-1616a2a965d1",
        "colab": {
          "base_uri": "https://localhost:8080/",
          "height": 439
        }
      },
      "source": [
        "init_record = ori_data \n",
        "init_record = init_record.set_index(['_key_client_id', '_key_occurreddate_month'])\n",
        "init_record.head(10)"
      ],
      "execution_count": 8,
      "outputs": [
        {
          "output_type": "execute_result",
          "data": {
            "text/html": [
              "<div>\n",
              "<style scoped>\n",
              "    .dataframe tbody tr th:only-of-type {\n",
              "        vertical-align: middle;\n",
              "    }\n",
              "\n",
              "    .dataframe tbody tr th {\n",
              "        vertical-align: top;\n",
              "    }\n",
              "\n",
              "    .dataframe thead th {\n",
              "        text-align: right;\n",
              "    }\n",
              "</style>\n",
              "<table border=\"1\" class=\"dataframe\">\n",
              "  <thead>\n",
              "    <tr style=\"text-align: right;\">\n",
              "      <th></th>\n",
              "      <th></th>\n",
              "      <th>incident_catgry_care_concern_piv</th>\n",
              "      <th>incident_catgry_medication_piv</th>\n",
              "      <th>incident_catgry_medical_piv</th>\n",
              "      <th>incident_catgry__piv</th>\n",
              "      <th>incident_catgry_death_piv</th>\n",
              "      <th>incident_catgry_property_and_vehicles_piv</th>\n",
              "      <th>incident_catgry_physical_and_sexual_assault_piv</th>\n",
              "      <th>incident_catgry_client_missing_piv</th>\n",
              "      <th>incident_catgry_standard_of_care_soc_piv</th>\n",
              "      <th>incident_catgry_absconding_minor_significant_qld_jurisdi_piv</th>\n",
              "      <th>incident_catgry_emergency_situation_piv</th>\n",
              "      <th>incident_catgry_restrictive_practices_piv</th>\n",
              "      <th>incident_catgry_media_piv</th>\n",
              "      <th>incident_catgry_drugs_alcohol_piv</th>\n",
              "      <th>incident_catgry_behaviour_piv</th>\n",
              "      <th>incident_catgry_client_wellbeing_piv</th>\n",
              "      <th>minor_event_total</th>\n",
              "      <th>significant_event_total</th>\n",
              "      <th>critical_event_total</th>\n",
              "      <th>Total_incident_count</th>\n",
              "      <th>incident_subcatgry_verbal_abuse____nsw__piv</th>\n",
              "      <th>incident_subcatgry_breach_of_legislatio_piv</th>\n",
              "      <th>incident_subcatgry_ill_treatment_piv</th>\n",
              "      <th>incident_subcatgry_public_health_risk_piv</th>\n",
              "      <th>incident_subcatgry_prn_administered_piv</th>\n",
              "      <th>incident_subcatgry_family_and_domestic__piv</th>\n",
              "      <th>incident_subcatgry_reaction_to_medicati_piv</th>\n",
              "      <th>incident_subcatgry_behaviour_of_concern_piv</th>\n",
              "      <th>incident_subcatgry_possession_of_weapon_piv</th>\n",
              "      <th>incident_subcatgry_unknown_piv</th>\n",
              "      <th>incident_subcatgry_restricted_practice_piv</th>\n",
              "      <th>incident_subcatgry_physical_aggression_piv</th>\n",
              "      <th>incident_subcatgry_visitor_refused_acce_piv</th>\n",
              "      <th>incident_subcatgry_restrictive_practice_piv</th>\n",
              "      <th>incident_subcatgry_adverse_piv</th>\n",
              "      <th>incident_subcatgry_client_piv</th>\n",
              "      <th>incident_subcatgry_personal_finances_piv</th>\n",
              "      <th>incident_subcatgry_sexual_exploitation_piv</th>\n",
              "      <th>incident_subcatgry_negative_experience__piv</th>\n",
              "      <th>incident_subcatgry_medical_attention_piv</th>\n",
              "      <th>...</th>\n",
              "      <th>rowtype_plcment_end_piv</th>\n",
              "      <th>rowtype_incident_piv</th>\n",
              "      <th>rowtype_plcment_start_piv</th>\n",
              "      <th>rowtype_program_primary_service_type_start_piv</th>\n",
              "      <th>medc_acqtyp</th>\n",
              "      <th>medc_admintype</th>\n",
              "      <th>medc_levelofindependencetype</th>\n",
              "      <th>medc_adminfreqid</th>\n",
              "      <th>status_placement</th>\n",
              "      <th>status_client_plan</th>\n",
              "      <th>status_rp_mechanical_restraint</th>\n",
              "      <th>status_rp_restricted_access</th>\n",
              "      <th>status_rp_chemical_restraint</th>\n",
              "      <th>status_rp_other</th>\n",
              "      <th>Incident</th>\n",
              "      <th>rp_environmental_restraint_piv</th>\n",
              "      <th>rp_restricted_access_piv</th>\n",
              "      <th>rp_mechanical_restraint_piv</th>\n",
              "      <th>rp_exclusionary_time_out_not_including_seclusion_piv</th>\n",
              "      <th>rp_physical_restraint_prohibited_in_cyf_piv</th>\n",
              "      <th>rp_seclusion_over_18yrs_prohibited_in_cyf_piv</th>\n",
              "      <th>rp_other_piv</th>\n",
              "      <th>rp_chemical_restraint_psychotropic_medication_piv</th>\n",
              "      <th>rp_type_detail_rp_start_mechanical_restraint_piv</th>\n",
              "      <th>rp_type_detail_rp_end_physical_restraint_prohibited_in_cyf_piv</th>\n",
              "      <th>rp_type_detail_rp_start_other_piv</th>\n",
              "      <th>rp_type_detail_rp_end_other_piv</th>\n",
              "      <th>rp_type_detail_rp_start_physical_restraint_prohibited_in_cyf_piv</th>\n",
              "      <th>rp_type_detail_rp_start_seclusion_over_18yrs_prohibited_in_cyf_piv</th>\n",
              "      <th>rp_type_detail_rp_end_environmental_restraint_piv</th>\n",
              "      <th>rp_type_detail_rp_end_chemical_restraint_psychotropic_medication_piv</th>\n",
              "      <th>rp_type_detail_rp_end_restricted_access_piv</th>\n",
              "      <th>rp_type_detail_rp_start_restricted_access_piv</th>\n",
              "      <th>rp_type_detail_rp_end_mechanical_restraint_piv</th>\n",
              "      <th>rp_type_detail_rp_start_chemical_restraint_psychotropic_medication_piv</th>\n",
              "      <th>rp_type_detail_rp_start_environmental_restraint_piv</th>\n",
              "      <th>rp_type_detail_rp_end_exclusionary_time_out_not_including_seclusion_piv</th>\n",
              "      <th>restrictivepractice_isemergency_false_piv</th>\n",
              "      <th>restrictivepractice_isemergency_true_piv</th>\n",
              "      <th>response_variable</th>\n",
              "    </tr>\n",
              "    <tr>\n",
              "      <th>_key_client_id</th>\n",
              "      <th>_key_occurreddate_month</th>\n",
              "      <th></th>\n",
              "      <th></th>\n",
              "      <th></th>\n",
              "      <th></th>\n",
              "      <th></th>\n",
              "      <th></th>\n",
              "      <th></th>\n",
              "      <th></th>\n",
              "      <th></th>\n",
              "      <th></th>\n",
              "      <th></th>\n",
              "      <th></th>\n",
              "      <th></th>\n",
              "      <th></th>\n",
              "      <th></th>\n",
              "      <th></th>\n",
              "      <th></th>\n",
              "      <th></th>\n",
              "      <th></th>\n",
              "      <th></th>\n",
              "      <th></th>\n",
              "      <th></th>\n",
              "      <th></th>\n",
              "      <th></th>\n",
              "      <th></th>\n",
              "      <th></th>\n",
              "      <th></th>\n",
              "      <th></th>\n",
              "      <th></th>\n",
              "      <th></th>\n",
              "      <th></th>\n",
              "      <th></th>\n",
              "      <th></th>\n",
              "      <th></th>\n",
              "      <th></th>\n",
              "      <th></th>\n",
              "      <th></th>\n",
              "      <th></th>\n",
              "      <th></th>\n",
              "      <th></th>\n",
              "      <th></th>\n",
              "      <th></th>\n",
              "      <th></th>\n",
              "      <th></th>\n",
              "      <th></th>\n",
              "      <th></th>\n",
              "      <th></th>\n",
              "      <th></th>\n",
              "      <th></th>\n",
              "      <th></th>\n",
              "      <th></th>\n",
              "      <th></th>\n",
              "      <th></th>\n",
              "      <th></th>\n",
              "      <th></th>\n",
              "      <th></th>\n",
              "      <th></th>\n",
              "      <th></th>\n",
              "      <th></th>\n",
              "      <th></th>\n",
              "      <th></th>\n",
              "      <th></th>\n",
              "      <th></th>\n",
              "      <th></th>\n",
              "      <th></th>\n",
              "      <th></th>\n",
              "      <th></th>\n",
              "      <th></th>\n",
              "      <th></th>\n",
              "      <th></th>\n",
              "      <th></th>\n",
              "      <th></th>\n",
              "      <th></th>\n",
              "      <th></th>\n",
              "      <th></th>\n",
              "      <th></th>\n",
              "      <th></th>\n",
              "      <th></th>\n",
              "      <th></th>\n",
              "      <th></th>\n",
              "      <th></th>\n",
              "    </tr>\n",
              "  </thead>\n",
              "  <tbody>\n",
              "    <tr>\n",
              "      <th rowspan=\"10\" valign=\"top\">0000D172-EA88-432F-8235-9FAA00D29072</th>\n",
              "      <th>2019-04-01</th>\n",
              "      <td>-0.06465</td>\n",
              "      <td>-0.067893</td>\n",
              "      <td>-0.103924</td>\n",
              "      <td>-0.030566</td>\n",
              "      <td>-0.013659</td>\n",
              "      <td>-0.049687</td>\n",
              "      <td>-0.068057</td>\n",
              "      <td>-0.035706</td>\n",
              "      <td>-0.029723</td>\n",
              "      <td>-0.002848</td>\n",
              "      <td>-0.01424</td>\n",
              "      <td>-0.026254</td>\n",
              "      <td>-0.009989</td>\n",
              "      <td>-0.026425</td>\n",
              "      <td>-0.136739</td>\n",
              "      <td>-0.096238</td>\n",
              "      <td>-0.027681</td>\n",
              "      <td>-0.014277</td>\n",
              "      <td>-0.009559</td>\n",
              "      <td>-0.167019</td>\n",
              "      <td>-0.002848</td>\n",
              "      <td>-0.021318</td>\n",
              "      <td>-0.015821</td>\n",
              "      <td>-0.002848</td>\n",
              "      <td>-0.028974</td>\n",
              "      <td>-0.01151</td>\n",
              "      <td>-0.006618</td>\n",
              "      <td>-0.100066</td>\n",
              "      <td>-0.015201</td>\n",
              "      <td>-0.271013</td>\n",
              "      <td>-0.009137</td>\n",
              "      <td>-0.090963</td>\n",
              "      <td>-0.006577</td>\n",
              "      <td>-0.024882</td>\n",
              "      <td>-0.004932</td>\n",
              "      <td>-0.011392</td>\n",
              "      <td>-0.012144</td>\n",
              "      <td>-0.012608</td>\n",
              "      <td>-0.017021</td>\n",
              "      <td>-0.059179</td>\n",
              "      <td>...</td>\n",
              "      <td>-0.128956</td>\n",
              "      <td>-0.174087</td>\n",
              "      <td>-0.139271</td>\n",
              "      <td>-0.137556</td>\n",
              "      <td>-0.124162</td>\n",
              "      <td>-0.085834</td>\n",
              "      <td>-0.126621</td>\n",
              "      <td>-0.122195</td>\n",
              "      <td>0.333535</td>\n",
              "      <td>0.852783</td>\n",
              "      <td>0.027473</td>\n",
              "      <td>0.023018</td>\n",
              "      <td>0.129087</td>\n",
              "      <td>0.049116</td>\n",
              "      <td>-0.280139</td>\n",
              "      <td>-0.019236</td>\n",
              "      <td>-0.018149</td>\n",
              "      <td>-0.013509</td>\n",
              "      <td>-0.005382</td>\n",
              "      <td>-0.006838</td>\n",
              "      <td>-0.005696</td>\n",
              "      <td>-0.019916</td>\n",
              "      <td>-0.046557</td>\n",
              "      <td>-0.0098</td>\n",
              "      <td>-0.002848</td>\n",
              "      <td>-0.016783</td>\n",
              "      <td>-0.013955</td>\n",
              "      <td>-0.007125</td>\n",
              "      <td>-0.005696</td>\n",
              "      <td>-0.005951</td>\n",
              "      <td>-0.029884</td>\n",
              "      <td>-0.017234</td>\n",
              "      <td>-0.006645</td>\n",
              "      <td>-0.009322</td>\n",
              "      <td>-0.045618</td>\n",
              "      <td>-0.019291</td>\n",
              "      <td>-0.005382</td>\n",
              "      <td>-0.051535</td>\n",
              "      <td>-0.011742</td>\n",
              "      <td>0</td>\n",
              "    </tr>\n",
              "    <tr>\n",
              "      <th>2019-05-01</th>\n",
              "      <td>-0.06465</td>\n",
              "      <td>-0.067893</td>\n",
              "      <td>-0.103924</td>\n",
              "      <td>-0.030566</td>\n",
              "      <td>-0.013659</td>\n",
              "      <td>-0.049687</td>\n",
              "      <td>-0.068057</td>\n",
              "      <td>-0.035706</td>\n",
              "      <td>-0.029723</td>\n",
              "      <td>-0.002848</td>\n",
              "      <td>-0.01424</td>\n",
              "      <td>-0.026254</td>\n",
              "      <td>-0.009989</td>\n",
              "      <td>-0.026425</td>\n",
              "      <td>-0.136739</td>\n",
              "      <td>-0.096238</td>\n",
              "      <td>-0.027681</td>\n",
              "      <td>-0.014277</td>\n",
              "      <td>-0.009559</td>\n",
              "      <td>-0.167019</td>\n",
              "      <td>-0.002848</td>\n",
              "      <td>-0.021318</td>\n",
              "      <td>-0.015821</td>\n",
              "      <td>-0.002848</td>\n",
              "      <td>-0.028974</td>\n",
              "      <td>-0.01151</td>\n",
              "      <td>-0.006618</td>\n",
              "      <td>-0.100066</td>\n",
              "      <td>-0.015201</td>\n",
              "      <td>-0.170208</td>\n",
              "      <td>-0.009137</td>\n",
              "      <td>-0.090963</td>\n",
              "      <td>-0.006577</td>\n",
              "      <td>-0.024882</td>\n",
              "      <td>-0.004932</td>\n",
              "      <td>-0.011392</td>\n",
              "      <td>-0.012144</td>\n",
              "      <td>-0.012608</td>\n",
              "      <td>-0.017021</td>\n",
              "      <td>-0.059179</td>\n",
              "      <td>...</td>\n",
              "      <td>-0.128956</td>\n",
              "      <td>-0.174087</td>\n",
              "      <td>-0.139271</td>\n",
              "      <td>-0.137556</td>\n",
              "      <td>-0.124162</td>\n",
              "      <td>-0.085834</td>\n",
              "      <td>-0.126621</td>\n",
              "      <td>-0.122195</td>\n",
              "      <td>0.333535</td>\n",
              "      <td>0.852783</td>\n",
              "      <td>0.027473</td>\n",
              "      <td>0.023018</td>\n",
              "      <td>0.129087</td>\n",
              "      <td>0.049116</td>\n",
              "      <td>-0.280139</td>\n",
              "      <td>-0.019236</td>\n",
              "      <td>-0.018149</td>\n",
              "      <td>-0.013509</td>\n",
              "      <td>-0.005382</td>\n",
              "      <td>-0.006838</td>\n",
              "      <td>-0.005696</td>\n",
              "      <td>-0.019916</td>\n",
              "      <td>-0.046557</td>\n",
              "      <td>-0.0098</td>\n",
              "      <td>-0.002848</td>\n",
              "      <td>-0.016783</td>\n",
              "      <td>-0.013955</td>\n",
              "      <td>-0.007125</td>\n",
              "      <td>-0.005696</td>\n",
              "      <td>-0.005951</td>\n",
              "      <td>-0.029884</td>\n",
              "      <td>-0.017234</td>\n",
              "      <td>-0.006645</td>\n",
              "      <td>-0.009322</td>\n",
              "      <td>-0.045618</td>\n",
              "      <td>-0.019291</td>\n",
              "      <td>-0.005382</td>\n",
              "      <td>-0.051535</td>\n",
              "      <td>-0.011742</td>\n",
              "      <td>0</td>\n",
              "    </tr>\n",
              "    <tr>\n",
              "      <th>2019-06-01</th>\n",
              "      <td>-0.06465</td>\n",
              "      <td>-0.067893</td>\n",
              "      <td>-0.103924</td>\n",
              "      <td>-0.030566</td>\n",
              "      <td>-0.013659</td>\n",
              "      <td>-0.049687</td>\n",
              "      <td>-0.068057</td>\n",
              "      <td>-0.035706</td>\n",
              "      <td>-0.029723</td>\n",
              "      <td>-0.002848</td>\n",
              "      <td>-0.01424</td>\n",
              "      <td>-0.026254</td>\n",
              "      <td>-0.009989</td>\n",
              "      <td>-0.026425</td>\n",
              "      <td>-0.136739</td>\n",
              "      <td>-0.096238</td>\n",
              "      <td>-0.027681</td>\n",
              "      <td>-0.014277</td>\n",
              "      <td>-0.009559</td>\n",
              "      <td>-0.167019</td>\n",
              "      <td>-0.002848</td>\n",
              "      <td>-0.021318</td>\n",
              "      <td>-0.015821</td>\n",
              "      <td>-0.002848</td>\n",
              "      <td>-0.028974</td>\n",
              "      <td>-0.01151</td>\n",
              "      <td>-0.006618</td>\n",
              "      <td>-0.100066</td>\n",
              "      <td>-0.015201</td>\n",
              "      <td>-0.170208</td>\n",
              "      <td>-0.009137</td>\n",
              "      <td>-0.090963</td>\n",
              "      <td>-0.006577</td>\n",
              "      <td>-0.024882</td>\n",
              "      <td>-0.004932</td>\n",
              "      <td>-0.011392</td>\n",
              "      <td>-0.012144</td>\n",
              "      <td>-0.012608</td>\n",
              "      <td>-0.017021</td>\n",
              "      <td>-0.059179</td>\n",
              "      <td>...</td>\n",
              "      <td>-0.128956</td>\n",
              "      <td>-0.174087</td>\n",
              "      <td>-0.139271</td>\n",
              "      <td>-0.137556</td>\n",
              "      <td>-0.124162</td>\n",
              "      <td>-0.085834</td>\n",
              "      <td>-0.126621</td>\n",
              "      <td>-0.122195</td>\n",
              "      <td>0.333535</td>\n",
              "      <td>0.852783</td>\n",
              "      <td>0.027473</td>\n",
              "      <td>0.023018</td>\n",
              "      <td>0.129087</td>\n",
              "      <td>0.049116</td>\n",
              "      <td>-0.280139</td>\n",
              "      <td>-0.019236</td>\n",
              "      <td>-0.018149</td>\n",
              "      <td>-0.013509</td>\n",
              "      <td>-0.005382</td>\n",
              "      <td>-0.006838</td>\n",
              "      <td>-0.005696</td>\n",
              "      <td>-0.019916</td>\n",
              "      <td>-0.046557</td>\n",
              "      <td>-0.0098</td>\n",
              "      <td>-0.002848</td>\n",
              "      <td>-0.016783</td>\n",
              "      <td>-0.013955</td>\n",
              "      <td>-0.007125</td>\n",
              "      <td>-0.005696</td>\n",
              "      <td>-0.005951</td>\n",
              "      <td>-0.029884</td>\n",
              "      <td>-0.017234</td>\n",
              "      <td>-0.006645</td>\n",
              "      <td>-0.009322</td>\n",
              "      <td>-0.045618</td>\n",
              "      <td>-0.019291</td>\n",
              "      <td>-0.005382</td>\n",
              "      <td>-0.051535</td>\n",
              "      <td>-0.011742</td>\n",
              "      <td>0</td>\n",
              "    </tr>\n",
              "    <tr>\n",
              "      <th>2019-07-01</th>\n",
              "      <td>-0.06465</td>\n",
              "      <td>-0.067893</td>\n",
              "      <td>-0.103924</td>\n",
              "      <td>-0.030566</td>\n",
              "      <td>-0.013659</td>\n",
              "      <td>-0.049687</td>\n",
              "      <td>-0.068057</td>\n",
              "      <td>-0.035706</td>\n",
              "      <td>-0.029723</td>\n",
              "      <td>-0.002848</td>\n",
              "      <td>-0.01424</td>\n",
              "      <td>-0.026254</td>\n",
              "      <td>-0.009989</td>\n",
              "      <td>-0.026425</td>\n",
              "      <td>-0.136739</td>\n",
              "      <td>-0.096238</td>\n",
              "      <td>-0.027681</td>\n",
              "      <td>-0.014277</td>\n",
              "      <td>-0.009559</td>\n",
              "      <td>-0.167019</td>\n",
              "      <td>-0.002848</td>\n",
              "      <td>-0.021318</td>\n",
              "      <td>-0.015821</td>\n",
              "      <td>-0.002848</td>\n",
              "      <td>-0.028974</td>\n",
              "      <td>-0.01151</td>\n",
              "      <td>-0.006618</td>\n",
              "      <td>-0.100066</td>\n",
              "      <td>-0.015201</td>\n",
              "      <td>-0.119806</td>\n",
              "      <td>-0.009137</td>\n",
              "      <td>-0.090963</td>\n",
              "      <td>-0.006577</td>\n",
              "      <td>-0.024882</td>\n",
              "      <td>-0.004932</td>\n",
              "      <td>-0.011392</td>\n",
              "      <td>-0.012144</td>\n",
              "      <td>-0.012608</td>\n",
              "      <td>-0.017021</td>\n",
              "      <td>-0.059179</td>\n",
              "      <td>...</td>\n",
              "      <td>-0.128956</td>\n",
              "      <td>-0.174087</td>\n",
              "      <td>-0.139271</td>\n",
              "      <td>-0.137556</td>\n",
              "      <td>-0.124162</td>\n",
              "      <td>-0.085834</td>\n",
              "      <td>-0.126621</td>\n",
              "      <td>-0.122195</td>\n",
              "      <td>0.333535</td>\n",
              "      <td>0.852783</td>\n",
              "      <td>0.027473</td>\n",
              "      <td>0.023018</td>\n",
              "      <td>0.129087</td>\n",
              "      <td>0.049116</td>\n",
              "      <td>-0.280139</td>\n",
              "      <td>-0.019236</td>\n",
              "      <td>-0.018149</td>\n",
              "      <td>-0.013509</td>\n",
              "      <td>-0.005382</td>\n",
              "      <td>-0.006838</td>\n",
              "      <td>-0.005696</td>\n",
              "      <td>-0.019916</td>\n",
              "      <td>-0.046557</td>\n",
              "      <td>-0.0098</td>\n",
              "      <td>-0.002848</td>\n",
              "      <td>-0.016783</td>\n",
              "      <td>-0.013955</td>\n",
              "      <td>-0.007125</td>\n",
              "      <td>-0.005696</td>\n",
              "      <td>-0.005951</td>\n",
              "      <td>-0.029884</td>\n",
              "      <td>-0.017234</td>\n",
              "      <td>-0.006645</td>\n",
              "      <td>-0.009322</td>\n",
              "      <td>-0.045618</td>\n",
              "      <td>-0.019291</td>\n",
              "      <td>-0.005382</td>\n",
              "      <td>-0.051535</td>\n",
              "      <td>-0.011742</td>\n",
              "      <td>0</td>\n",
              "    </tr>\n",
              "    <tr>\n",
              "      <th>2019-08-01</th>\n",
              "      <td>-0.06465</td>\n",
              "      <td>-0.067893</td>\n",
              "      <td>-0.103924</td>\n",
              "      <td>-0.030566</td>\n",
              "      <td>-0.013659</td>\n",
              "      <td>-0.049687</td>\n",
              "      <td>-0.068057</td>\n",
              "      <td>-0.035706</td>\n",
              "      <td>-0.029723</td>\n",
              "      <td>-0.002848</td>\n",
              "      <td>-0.01424</td>\n",
              "      <td>-0.026254</td>\n",
              "      <td>-0.009989</td>\n",
              "      <td>-0.026425</td>\n",
              "      <td>-0.136739</td>\n",
              "      <td>-0.096238</td>\n",
              "      <td>-0.027681</td>\n",
              "      <td>-0.014277</td>\n",
              "      <td>-0.009559</td>\n",
              "      <td>-0.167019</td>\n",
              "      <td>-0.002848</td>\n",
              "      <td>-0.021318</td>\n",
              "      <td>-0.015821</td>\n",
              "      <td>-0.002848</td>\n",
              "      <td>-0.028974</td>\n",
              "      <td>-0.01151</td>\n",
              "      <td>-0.006618</td>\n",
              "      <td>-0.100066</td>\n",
              "      <td>-0.015201</td>\n",
              "      <td>-0.069403</td>\n",
              "      <td>-0.009137</td>\n",
              "      <td>-0.090963</td>\n",
              "      <td>-0.006577</td>\n",
              "      <td>-0.024882</td>\n",
              "      <td>-0.004932</td>\n",
              "      <td>-0.011392</td>\n",
              "      <td>-0.012144</td>\n",
              "      <td>-0.012608</td>\n",
              "      <td>-0.017021</td>\n",
              "      <td>-0.059179</td>\n",
              "      <td>...</td>\n",
              "      <td>-0.128956</td>\n",
              "      <td>-0.174087</td>\n",
              "      <td>-0.139271</td>\n",
              "      <td>-0.137556</td>\n",
              "      <td>-0.124162</td>\n",
              "      <td>-0.085834</td>\n",
              "      <td>-0.126621</td>\n",
              "      <td>-0.122195</td>\n",
              "      <td>0.333535</td>\n",
              "      <td>0.852783</td>\n",
              "      <td>0.027473</td>\n",
              "      <td>0.023018</td>\n",
              "      <td>0.129087</td>\n",
              "      <td>0.049116</td>\n",
              "      <td>-0.280139</td>\n",
              "      <td>-0.019236</td>\n",
              "      <td>-0.018149</td>\n",
              "      <td>-0.013509</td>\n",
              "      <td>-0.005382</td>\n",
              "      <td>-0.006838</td>\n",
              "      <td>-0.005696</td>\n",
              "      <td>-0.019916</td>\n",
              "      <td>-0.046557</td>\n",
              "      <td>-0.0098</td>\n",
              "      <td>-0.002848</td>\n",
              "      <td>-0.016783</td>\n",
              "      <td>-0.013955</td>\n",
              "      <td>-0.007125</td>\n",
              "      <td>-0.005696</td>\n",
              "      <td>-0.005951</td>\n",
              "      <td>-0.029884</td>\n",
              "      <td>-0.017234</td>\n",
              "      <td>-0.006645</td>\n",
              "      <td>-0.009322</td>\n",
              "      <td>-0.045618</td>\n",
              "      <td>-0.019291</td>\n",
              "      <td>-0.005382</td>\n",
              "      <td>-0.051535</td>\n",
              "      <td>-0.011742</td>\n",
              "      <td>0</td>\n",
              "    </tr>\n",
              "    <tr>\n",
              "      <th>2019-09-01</th>\n",
              "      <td>-0.06465</td>\n",
              "      <td>-0.067893</td>\n",
              "      <td>-0.103924</td>\n",
              "      <td>-0.030566</td>\n",
              "      <td>-0.013659</td>\n",
              "      <td>-0.049687</td>\n",
              "      <td>-0.068057</td>\n",
              "      <td>-0.035706</td>\n",
              "      <td>-0.029723</td>\n",
              "      <td>-0.002848</td>\n",
              "      <td>-0.01424</td>\n",
              "      <td>-0.026254</td>\n",
              "      <td>-0.009989</td>\n",
              "      <td>-0.026425</td>\n",
              "      <td>-0.136739</td>\n",
              "      <td>-0.096238</td>\n",
              "      <td>-0.027681</td>\n",
              "      <td>-0.014277</td>\n",
              "      <td>-0.009559</td>\n",
              "      <td>-0.167019</td>\n",
              "      <td>-0.002848</td>\n",
              "      <td>-0.021318</td>\n",
              "      <td>-0.015821</td>\n",
              "      <td>-0.002848</td>\n",
              "      <td>-0.028974</td>\n",
              "      <td>-0.01151</td>\n",
              "      <td>-0.006618</td>\n",
              "      <td>-0.100066</td>\n",
              "      <td>-0.015201</td>\n",
              "      <td>-0.069403</td>\n",
              "      <td>-0.009137</td>\n",
              "      <td>-0.090963</td>\n",
              "      <td>-0.006577</td>\n",
              "      <td>-0.024882</td>\n",
              "      <td>-0.004932</td>\n",
              "      <td>-0.011392</td>\n",
              "      <td>-0.012144</td>\n",
              "      <td>-0.012608</td>\n",
              "      <td>-0.017021</td>\n",
              "      <td>-0.059179</td>\n",
              "      <td>...</td>\n",
              "      <td>-0.128956</td>\n",
              "      <td>-0.174087</td>\n",
              "      <td>-0.139271</td>\n",
              "      <td>-0.137556</td>\n",
              "      <td>-0.124162</td>\n",
              "      <td>-0.085834</td>\n",
              "      <td>-0.126621</td>\n",
              "      <td>-0.122195</td>\n",
              "      <td>0.333535</td>\n",
              "      <td>0.852783</td>\n",
              "      <td>0.027473</td>\n",
              "      <td>0.023018</td>\n",
              "      <td>0.129087</td>\n",
              "      <td>0.049116</td>\n",
              "      <td>-0.280139</td>\n",
              "      <td>-0.019236</td>\n",
              "      <td>-0.018149</td>\n",
              "      <td>-0.013509</td>\n",
              "      <td>-0.005382</td>\n",
              "      <td>-0.006838</td>\n",
              "      <td>-0.005696</td>\n",
              "      <td>-0.019916</td>\n",
              "      <td>-0.046557</td>\n",
              "      <td>-0.0098</td>\n",
              "      <td>-0.002848</td>\n",
              "      <td>-0.016783</td>\n",
              "      <td>-0.013955</td>\n",
              "      <td>-0.007125</td>\n",
              "      <td>-0.005696</td>\n",
              "      <td>-0.005951</td>\n",
              "      <td>-0.029884</td>\n",
              "      <td>-0.017234</td>\n",
              "      <td>-0.006645</td>\n",
              "      <td>-0.009322</td>\n",
              "      <td>-0.045618</td>\n",
              "      <td>-0.019291</td>\n",
              "      <td>-0.005382</td>\n",
              "      <td>-0.051535</td>\n",
              "      <td>-0.011742</td>\n",
              "      <td>0</td>\n",
              "    </tr>\n",
              "    <tr>\n",
              "      <th>2019-10-01</th>\n",
              "      <td>-0.06465</td>\n",
              "      <td>-0.067893</td>\n",
              "      <td>-0.103924</td>\n",
              "      <td>-0.030566</td>\n",
              "      <td>-0.013659</td>\n",
              "      <td>-0.049687</td>\n",
              "      <td>-0.068057</td>\n",
              "      <td>-0.035706</td>\n",
              "      <td>-0.029723</td>\n",
              "      <td>-0.002848</td>\n",
              "      <td>-0.01424</td>\n",
              "      <td>-0.026254</td>\n",
              "      <td>-0.009989</td>\n",
              "      <td>-0.026425</td>\n",
              "      <td>-0.136739</td>\n",
              "      <td>-0.096238</td>\n",
              "      <td>-0.027681</td>\n",
              "      <td>-0.014277</td>\n",
              "      <td>-0.009559</td>\n",
              "      <td>-0.167019</td>\n",
              "      <td>-0.002848</td>\n",
              "      <td>-0.021318</td>\n",
              "      <td>-0.015821</td>\n",
              "      <td>-0.002848</td>\n",
              "      <td>-0.028974</td>\n",
              "      <td>-0.01151</td>\n",
              "      <td>-0.006618</td>\n",
              "      <td>-0.100066</td>\n",
              "      <td>-0.015201</td>\n",
              "      <td>-0.170208</td>\n",
              "      <td>-0.009137</td>\n",
              "      <td>-0.090963</td>\n",
              "      <td>-0.006577</td>\n",
              "      <td>-0.024882</td>\n",
              "      <td>-0.004932</td>\n",
              "      <td>-0.011392</td>\n",
              "      <td>-0.012144</td>\n",
              "      <td>-0.012608</td>\n",
              "      <td>-0.017021</td>\n",
              "      <td>-0.059179</td>\n",
              "      <td>...</td>\n",
              "      <td>-0.128956</td>\n",
              "      <td>-0.174087</td>\n",
              "      <td>-0.139271</td>\n",
              "      <td>-0.137556</td>\n",
              "      <td>-0.124162</td>\n",
              "      <td>-0.085834</td>\n",
              "      <td>-0.126621</td>\n",
              "      <td>-0.122195</td>\n",
              "      <td>0.333535</td>\n",
              "      <td>0.852783</td>\n",
              "      <td>0.027473</td>\n",
              "      <td>0.023018</td>\n",
              "      <td>0.129087</td>\n",
              "      <td>0.049116</td>\n",
              "      <td>-0.280139</td>\n",
              "      <td>-0.019236</td>\n",
              "      <td>-0.018149</td>\n",
              "      <td>-0.013509</td>\n",
              "      <td>-0.005382</td>\n",
              "      <td>-0.006838</td>\n",
              "      <td>-0.005696</td>\n",
              "      <td>-0.019916</td>\n",
              "      <td>-0.046557</td>\n",
              "      <td>-0.0098</td>\n",
              "      <td>-0.002848</td>\n",
              "      <td>-0.016783</td>\n",
              "      <td>-0.013955</td>\n",
              "      <td>-0.007125</td>\n",
              "      <td>-0.005696</td>\n",
              "      <td>-0.005951</td>\n",
              "      <td>-0.029884</td>\n",
              "      <td>-0.017234</td>\n",
              "      <td>-0.006645</td>\n",
              "      <td>-0.009322</td>\n",
              "      <td>-0.045618</td>\n",
              "      <td>-0.019291</td>\n",
              "      <td>-0.005382</td>\n",
              "      <td>-0.051535</td>\n",
              "      <td>-0.011742</td>\n",
              "      <td>0</td>\n",
              "    </tr>\n",
              "    <tr>\n",
              "      <th>2019-11-01</th>\n",
              "      <td>-0.06465</td>\n",
              "      <td>-0.067893</td>\n",
              "      <td>-0.103924</td>\n",
              "      <td>-0.030566</td>\n",
              "      <td>-0.013659</td>\n",
              "      <td>-0.049687</td>\n",
              "      <td>-0.068057</td>\n",
              "      <td>-0.035706</td>\n",
              "      <td>-0.029723</td>\n",
              "      <td>-0.002848</td>\n",
              "      <td>-0.01424</td>\n",
              "      <td>-0.026254</td>\n",
              "      <td>-0.009989</td>\n",
              "      <td>-0.026425</td>\n",
              "      <td>-0.136739</td>\n",
              "      <td>-0.096238</td>\n",
              "      <td>-0.027681</td>\n",
              "      <td>-0.014277</td>\n",
              "      <td>-0.009559</td>\n",
              "      <td>-0.167019</td>\n",
              "      <td>-0.002848</td>\n",
              "      <td>-0.021318</td>\n",
              "      <td>-0.015821</td>\n",
              "      <td>-0.002848</td>\n",
              "      <td>-0.028974</td>\n",
              "      <td>-0.01151</td>\n",
              "      <td>-0.006618</td>\n",
              "      <td>-0.100066</td>\n",
              "      <td>-0.015201</td>\n",
              "      <td>-0.220611</td>\n",
              "      <td>-0.009137</td>\n",
              "      <td>-0.090963</td>\n",
              "      <td>-0.006577</td>\n",
              "      <td>-0.024882</td>\n",
              "      <td>-0.004932</td>\n",
              "      <td>-0.011392</td>\n",
              "      <td>-0.012144</td>\n",
              "      <td>-0.012608</td>\n",
              "      <td>-0.017021</td>\n",
              "      <td>-0.059179</td>\n",
              "      <td>...</td>\n",
              "      <td>-0.128956</td>\n",
              "      <td>-0.174087</td>\n",
              "      <td>-0.139271</td>\n",
              "      <td>-0.137556</td>\n",
              "      <td>-0.124162</td>\n",
              "      <td>-0.085834</td>\n",
              "      <td>-0.126621</td>\n",
              "      <td>-0.122195</td>\n",
              "      <td>0.333535</td>\n",
              "      <td>0.852783</td>\n",
              "      <td>0.027473</td>\n",
              "      <td>0.023018</td>\n",
              "      <td>0.129087</td>\n",
              "      <td>0.049116</td>\n",
              "      <td>-0.280139</td>\n",
              "      <td>-0.019236</td>\n",
              "      <td>-0.018149</td>\n",
              "      <td>-0.013509</td>\n",
              "      <td>-0.005382</td>\n",
              "      <td>-0.006838</td>\n",
              "      <td>-0.005696</td>\n",
              "      <td>-0.019916</td>\n",
              "      <td>-0.046557</td>\n",
              "      <td>-0.0098</td>\n",
              "      <td>-0.002848</td>\n",
              "      <td>-0.016783</td>\n",
              "      <td>-0.013955</td>\n",
              "      <td>-0.007125</td>\n",
              "      <td>-0.005696</td>\n",
              "      <td>-0.005951</td>\n",
              "      <td>-0.029884</td>\n",
              "      <td>-0.017234</td>\n",
              "      <td>-0.006645</td>\n",
              "      <td>-0.009322</td>\n",
              "      <td>-0.045618</td>\n",
              "      <td>-0.019291</td>\n",
              "      <td>-0.005382</td>\n",
              "      <td>-0.051535</td>\n",
              "      <td>-0.011742</td>\n",
              "      <td>0</td>\n",
              "    </tr>\n",
              "    <tr>\n",
              "      <th>2019-12-01</th>\n",
              "      <td>-0.06465</td>\n",
              "      <td>-0.067893</td>\n",
              "      <td>-0.103924</td>\n",
              "      <td>-0.030566</td>\n",
              "      <td>-0.013659</td>\n",
              "      <td>-0.049687</td>\n",
              "      <td>-0.068057</td>\n",
              "      <td>-0.035706</td>\n",
              "      <td>-0.029723</td>\n",
              "      <td>-0.002848</td>\n",
              "      <td>-0.01424</td>\n",
              "      <td>-0.026254</td>\n",
              "      <td>-0.009989</td>\n",
              "      <td>-0.026425</td>\n",
              "      <td>-0.136739</td>\n",
              "      <td>-0.096238</td>\n",
              "      <td>-0.027681</td>\n",
              "      <td>-0.014277</td>\n",
              "      <td>-0.009559</td>\n",
              "      <td>-0.167019</td>\n",
              "      <td>-0.002848</td>\n",
              "      <td>-0.021318</td>\n",
              "      <td>-0.015821</td>\n",
              "      <td>-0.002848</td>\n",
              "      <td>-0.028974</td>\n",
              "      <td>-0.01151</td>\n",
              "      <td>-0.006618</td>\n",
              "      <td>-0.100066</td>\n",
              "      <td>-0.015201</td>\n",
              "      <td>-0.170208</td>\n",
              "      <td>-0.009137</td>\n",
              "      <td>-0.090963</td>\n",
              "      <td>-0.006577</td>\n",
              "      <td>-0.024882</td>\n",
              "      <td>-0.004932</td>\n",
              "      <td>-0.011392</td>\n",
              "      <td>-0.012144</td>\n",
              "      <td>-0.012608</td>\n",
              "      <td>-0.017021</td>\n",
              "      <td>-0.059179</td>\n",
              "      <td>...</td>\n",
              "      <td>-0.128956</td>\n",
              "      <td>-0.174087</td>\n",
              "      <td>-0.139271</td>\n",
              "      <td>-0.137556</td>\n",
              "      <td>-0.124162</td>\n",
              "      <td>-0.085834</td>\n",
              "      <td>-0.126621</td>\n",
              "      <td>-0.122195</td>\n",
              "      <td>0.333535</td>\n",
              "      <td>0.852783</td>\n",
              "      <td>0.027473</td>\n",
              "      <td>0.023018</td>\n",
              "      <td>0.129087</td>\n",
              "      <td>0.049116</td>\n",
              "      <td>-0.280139</td>\n",
              "      <td>-0.019236</td>\n",
              "      <td>-0.018149</td>\n",
              "      <td>-0.013509</td>\n",
              "      <td>-0.005382</td>\n",
              "      <td>-0.006838</td>\n",
              "      <td>-0.005696</td>\n",
              "      <td>-0.019916</td>\n",
              "      <td>-0.046557</td>\n",
              "      <td>-0.0098</td>\n",
              "      <td>-0.002848</td>\n",
              "      <td>-0.016783</td>\n",
              "      <td>-0.013955</td>\n",
              "      <td>-0.007125</td>\n",
              "      <td>-0.005696</td>\n",
              "      <td>-0.005951</td>\n",
              "      <td>-0.029884</td>\n",
              "      <td>-0.017234</td>\n",
              "      <td>-0.006645</td>\n",
              "      <td>-0.009322</td>\n",
              "      <td>-0.045618</td>\n",
              "      <td>-0.019291</td>\n",
              "      <td>-0.005382</td>\n",
              "      <td>-0.051535</td>\n",
              "      <td>-0.011742</td>\n",
              "      <td>0</td>\n",
              "    </tr>\n",
              "    <tr>\n",
              "      <th>2020-01-01</th>\n",
              "      <td>-0.06465</td>\n",
              "      <td>-0.067893</td>\n",
              "      <td>-0.103924</td>\n",
              "      <td>-0.030566</td>\n",
              "      <td>-0.013659</td>\n",
              "      <td>-0.049687</td>\n",
              "      <td>-0.068057</td>\n",
              "      <td>-0.035706</td>\n",
              "      <td>-0.029723</td>\n",
              "      <td>-0.002848</td>\n",
              "      <td>-0.01424</td>\n",
              "      <td>-0.026254</td>\n",
              "      <td>-0.009989</td>\n",
              "      <td>-0.026425</td>\n",
              "      <td>-0.136739</td>\n",
              "      <td>-0.096238</td>\n",
              "      <td>-0.027681</td>\n",
              "      <td>-0.014277</td>\n",
              "      <td>-0.009559</td>\n",
              "      <td>-0.167019</td>\n",
              "      <td>-0.002848</td>\n",
              "      <td>-0.021318</td>\n",
              "      <td>-0.015821</td>\n",
              "      <td>-0.002848</td>\n",
              "      <td>-0.028974</td>\n",
              "      <td>-0.01151</td>\n",
              "      <td>-0.006618</td>\n",
              "      <td>-0.100066</td>\n",
              "      <td>-0.015201</td>\n",
              "      <td>-0.170208</td>\n",
              "      <td>-0.009137</td>\n",
              "      <td>-0.090963</td>\n",
              "      <td>-0.006577</td>\n",
              "      <td>-0.024882</td>\n",
              "      <td>-0.004932</td>\n",
              "      <td>-0.011392</td>\n",
              "      <td>-0.012144</td>\n",
              "      <td>-0.012608</td>\n",
              "      <td>-0.017021</td>\n",
              "      <td>-0.059179</td>\n",
              "      <td>...</td>\n",
              "      <td>-0.128956</td>\n",
              "      <td>-0.174087</td>\n",
              "      <td>-0.139271</td>\n",
              "      <td>-0.137556</td>\n",
              "      <td>-0.124162</td>\n",
              "      <td>-0.085834</td>\n",
              "      <td>-0.126621</td>\n",
              "      <td>-0.122195</td>\n",
              "      <td>0.333535</td>\n",
              "      <td>0.852783</td>\n",
              "      <td>0.027473</td>\n",
              "      <td>0.023018</td>\n",
              "      <td>0.129087</td>\n",
              "      <td>0.049116</td>\n",
              "      <td>-0.280139</td>\n",
              "      <td>-0.019236</td>\n",
              "      <td>-0.018149</td>\n",
              "      <td>-0.013509</td>\n",
              "      <td>-0.005382</td>\n",
              "      <td>-0.006838</td>\n",
              "      <td>-0.005696</td>\n",
              "      <td>-0.019916</td>\n",
              "      <td>-0.046557</td>\n",
              "      <td>-0.0098</td>\n",
              "      <td>-0.002848</td>\n",
              "      <td>-0.016783</td>\n",
              "      <td>-0.013955</td>\n",
              "      <td>-0.007125</td>\n",
              "      <td>-0.005696</td>\n",
              "      <td>-0.005951</td>\n",
              "      <td>-0.029884</td>\n",
              "      <td>-0.017234</td>\n",
              "      <td>-0.006645</td>\n",
              "      <td>-0.009322</td>\n",
              "      <td>-0.045618</td>\n",
              "      <td>-0.019291</td>\n",
              "      <td>-0.005382</td>\n",
              "      <td>-0.051535</td>\n",
              "      <td>-0.011742</td>\n",
              "      <td>0</td>\n",
              "    </tr>\n",
              "  </tbody>\n",
              "</table>\n",
              "<p>10 rows × 339 columns</p>\n",
              "</div>"
            ],
            "text/plain": [
              "                                                              incident_catgry_care_concern_piv  ...  response_variable\n",
              "_key_client_id                       _key_occurreddate_month                                    ...                   \n",
              "0000D172-EA88-432F-8235-9FAA00D29072 2019-04-01                                       -0.06465  ...                  0\n",
              "                                     2019-05-01                                       -0.06465  ...                  0\n",
              "                                     2019-06-01                                       -0.06465  ...                  0\n",
              "                                     2019-07-01                                       -0.06465  ...                  0\n",
              "                                     2019-08-01                                       -0.06465  ...                  0\n",
              "                                     2019-09-01                                       -0.06465  ...                  0\n",
              "                                     2019-10-01                                       -0.06465  ...                  0\n",
              "                                     2019-11-01                                       -0.06465  ...                  0\n",
              "                                     2019-12-01                                       -0.06465  ...                  0\n",
              "                                     2020-01-01                                       -0.06465  ...                  0\n",
              "\n",
              "[10 rows x 339 columns]"
            ]
          },
          "metadata": {
            "tags": []
          },
          "execution_count": 8
        }
      ]
    },
    {
      "cell_type": "code",
      "metadata": {
        "id": "yHcIPUPBln27",
        "outputId": "6c3998c6-41cd-4af2-f042-df6f3da4bcf5",
        "colab": {
          "base_uri": "https://localhost:8080/",
          "height": 34
        }
      },
      "source": [
        "# summarize the total number of clients (year)\n",
        "index_dict = {}\n",
        "for ind in init_record.index:\n",
        "    if ind[0] not in index_dict:\n",
        "        index_dict[ind[0]] = []\n",
        "        index_dict[ind[0]].append(ind[1])\n",
        "    else:\n",
        "        index_dict[ind[0]].append(ind[1])\n",
        "\n",
        "print(len(index_dict))"
      ],
      "execution_count": 9,
      "outputs": [
        {
          "output_type": "stream",
          "text": [
            "13405\n"
          ],
          "name": "stdout"
        }
      ]
    },
    {
      "cell_type": "code",
      "metadata": {
        "id": "O5FiebeslqiK",
        "outputId": "34f5a6c7-d398-47ad-cf66-e6e3e42e98a3",
        "colab": {
          "base_uri": "https://localhost:8080/",
          "height": 85
        }
      },
      "source": [
        "# Plot the distribution of record number\n",
        "from collections import defaultdict\n",
        "from tqdm import tqdm\n",
        "\n",
        "record_num = defaultdict(list)\n",
        "record_list = []\n",
        "\n",
        "for id, value in tqdm(index_dict.items()):\n",
        "    record_num[len(value)].append(id)\n",
        "    record_list.append(len(value))\n",
        "\n",
        "print('\\nThe Length of the record number dictionary is {}'.format(len(record_num)))\n",
        "print(len(record_list))"
      ],
      "execution_count": 10,
      "outputs": [
        {
          "output_type": "stream",
          "text": [
            "100%|██████████| 13405/13405 [00:00<00:00, 817515.74it/s]"
          ],
          "name": "stderr"
        },
        {
          "output_type": "stream",
          "text": [
            "\n",
            "The Length of the record number dictionary is 11\n",
            "13405\n"
          ],
          "name": "stdout"
        },
        {
          "output_type": "stream",
          "text": [
            "\n"
          ],
          "name": "stderr"
        }
      ]
    },
    {
      "cell_type": "code",
      "metadata": {
        "id": "Wch1KjRKln5v",
        "outputId": "611647c4-7a6a-4a0e-8211-bd47ec639968",
        "colab": {
          "base_uri": "https://localhost:8080/",
          "height": 304
        }
      },
      "source": [
        "import matplotlib.pyplot as plt\n",
        "\n",
        "plt.title('Distribution of Record Length',fontsize=20)\n",
        "plt.xlabel(u'Record Length',fontsize=14)\n",
        "plt.ylabel(u'Frenquency',fontsize=14)\n",
        "plt.hist(record_list, edgecolor='k', alpha=0.35)\n",
        "plt.show()"
      ],
      "execution_count": 11,
      "outputs": [
        {
          "output_type": "display_data",
          "data": {
            "image/png": "[encoded data removed]",
            "text/plain": [
              "<Figure size 432x288 with 1 Axes>"
            ]
          },
          "metadata": {
            "tags": [],
            "needs_background": "light"
          }
        }
      ]
    },
    {
      "cell_type": "code",
      "metadata": {
        "id": "sQfjIqvNlwPS",
        "outputId": "887ae2e1-3f13-4f2a-dbb8-51c2cc77103b",
        "colab": {
          "base_uri": "https://localhost:8080/",
          "height": 34
        }
      },
      "source": [
        "## Store the full-record clinet record in initial_data\n",
        "initial_data = {}\n",
        "for inde in index_dict.keys():\n",
        "    if len(index_dict[inde]) > 4 and len(index_dict[inde]) <= 12:\n",
        "        initial_data[inde] = init_record.loc[inde]\n",
        "print(len(initial_data))"
      ],
      "execution_count": 12,
      "outputs": [
        {
          "output_type": "stream",
          "text": [
            "10835\n"
          ],
          "name": "stdout"
        }
      ]
    },
    {
      "cell_type": "code",
      "metadata": {
        "id": "Czv7_Bd9ncsd",
        "outputId": "dc0159ab-ec69-4477-9cfe-3077f8cf2000",
        "colab": {
          "base_uri": "https://localhost:8080/",
          "height": 102
        }
      },
      "source": [
        "# Build the train dataset\n",
        "\n",
        "all_features = []\n",
        "all_labels = []\n",
        "\n",
        "for key in tqdm(initial_data.keys()):\n",
        "    all_labels.append(initial_data[key]['response_variable'])\n",
        "    temp_sample = initial_data[key].drop(['response_variable'], axis=1)\n",
        "    all_features.append(temp_sample)\n",
        "\n",
        "print('\\nThe length of All the feature is {}'.format(len(all_features)))\n",
        "print('\\nThe length of All labels is {}'.format(len(all_labels)))"
      ],
      "execution_count": 13,
      "outputs": [
        {
          "output_type": "stream",
          "text": [
            "100%|██████████| 10835/10835 [00:08<00:00, 1266.60it/s]"
          ],
          "name": "stderr"
        },
        {
          "output_type": "stream",
          "text": [
            "\n",
            "The length of All the feature is 10835\n",
            "\n",
            "The length of All labels is 10835\n"
          ],
          "name": "stdout"
        },
        {
          "output_type": "stream",
          "text": [
            "\n"
          ],
          "name": "stderr"
        }
      ]
    },
    {
      "cell_type": "code",
      "metadata": {
        "id": "4Z6HbDYppvV5",
        "outputId": "e8ba1230-8b78-4ec8-c53b-645168f4ec9b",
        "colab": {
          "base_uri": "https://localhost:8080/",
          "height": 68
        }
      },
      "source": [
        "feature_sample = []\n",
        "label_sample = []\n",
        "\n",
        "\n",
        "## k is the window size\n",
        "def split_df(feature_data, label_data, k):\n",
        "    \n",
        "    df_list = []\n",
        "    label_list = []\n",
        "    i = 0\n",
        "    while i+k < feature_data.shape[0]:\n",
        "        temp = feature_data[i: i+k, :]\n",
        "        df_list.append(temp)\n",
        "        label_list.append(label_data[i+k])\n",
        "        i += 1\n",
        "    return df_list, label_list\n",
        "\n",
        "for i in tqdm(range(len(all_features))):\n",
        "    feature_temp_list, label_temp_list = split_df(all_features[i].values, all_labels[i].values, 4)\n",
        "    for feature in feature_temp_list:\n",
        "        feature_sample.append(feature)\n",
        "    # feature_sample.append(feature_temp_list) \n",
        "    for label in label_temp_list:\n",
        "        label_sample.append(label) ## When the sample size to 5000, should be 40000\n",
        "    # label_sample.append(label_temp_list[-1]) ## Should be 5000\n",
        "    \n",
        "print(len(feature_sample))\n",
        "print(len(label_sample))"
      ],
      "execution_count": 14,
      "outputs": [
        {
          "output_type": "stream",
          "text": [
            "100%|██████████| 10835/10835 [00:00<00:00, 61840.08it/s]"
          ],
          "name": "stderr"
        },
        {
          "output_type": "stream",
          "text": [
            "72642\n",
            "72642\n"
          ],
          "name": "stdout"
        },
        {
          "output_type": "stream",
          "text": [
            "\n"
          ],
          "name": "stderr"
        }
      ]
    },
    {
      "cell_type": "code",
      "metadata": {
        "id": "_B1GGx__p5wK",
        "outputId": "d4209ef9-ce69-4a16-d147-be8140494e6c",
        "colab": {
          "base_uri": "https://localhost:8080/",
          "height": 34
        }
      },
      "source": [
        "from collections import Counter\n",
        "\n",
        "print('The Distribution of the Label Data is {}'.format(Counter(label_sample)))"
      ],
      "execution_count": 15,
      "outputs": [
        {
          "output_type": "stream",
          "text": [
            "The Distribution of the Label Data is Counter({0: 67348, 1: 5294})\n"
          ],
          "name": "stdout"
        }
      ]
    },
    {
      "cell_type": "code",
      "metadata": {
        "id": "PrgTz799p6LO",
        "outputId": "35491dfa-ac60-462d-bf3c-0aebd92f410d",
        "colab": {
          "base_uri": "https://localhost:8080/",
          "height": 51
        }
      },
      "source": [
        "# Now we split the negative data into train and test, and inject the positive \n",
        "# sample into test data;\n",
        "\n",
        "pos_idx = []\n",
        "neg_idx = []\n",
        "\n",
        "for idx in range(len(label_sample)):\n",
        "   if label_sample[idx] == 1:\n",
        "      pos_idx.append(idx)\n",
        "   else:\n",
        "      neg_idx.append(idx)\n",
        "\n",
        "print(len(pos_idx))\n",
        "print(len(neg_idx))"
      ],
      "execution_count": 16,
      "outputs": [
        {
          "output_type": "stream",
          "text": [
            "5294\n",
            "67348\n"
          ],
          "name": "stdout"
        }
      ]
    },
    {
      "cell_type": "code",
      "metadata": {
        "id": "prHSVigcp9r-",
        "outputId": "3c1ff7db-41bb-4fe4-ab1e-dc162169d765",
        "colab": {
          "base_uri": "https://localhost:8080/",
          "height": 85
        }
      },
      "source": [
        "def get_sample(index_list, samples):\n",
        "    sample_list = []\n",
        "    for index in index_list:\n",
        "        sample_list.append(samples[index])\n",
        "\n",
        "    return sample_list\n",
        "\n",
        "def get_label(index_list, labels):\n",
        "    label_list = []\n",
        "    for index in index_list:\n",
        "        label_list.append(labels[index])\n",
        "\n",
        "    return label_list\n",
        "\n",
        "pos_sample = get_sample(pos_idx, feature_sample) \n",
        "neg_sample = get_sample(neg_idx, feature_sample)\n",
        "\n",
        "pos_label = get_label(pos_idx, label_sample)\n",
        "neg_label = get_label(neg_idx, label_sample)\n",
        "\n",
        "print(len(pos_sample))\n",
        "print(len(neg_sample))\n",
        "\n",
        "print(len(pos_label))\n",
        "print(len(neg_label))"
      ],
      "execution_count": 17,
      "outputs": [
        {
          "output_type": "stream",
          "text": [
            "5294\n",
            "67348\n",
            "5294\n",
            "67348\n"
          ],
          "name": "stdout"
        }
      ]
    },
    {
      "cell_type": "code",
      "metadata": {
        "id": "YeTxiwBFtHY4",
        "outputId": "9ec58e30-ab16-4dbe-e4ec-268352ffc6f2",
        "colab": {
          "base_uri": "https://localhost:8080/",
          "height": 85
        }
      },
      "source": [
        "import numpy as np\n",
        "\n",
        "neg_data = np.array(neg_sample)\n",
        "print(neg_data.shape)\n",
        "\n",
        "neg_label = np.array(neg_label)\n",
        "print(neg_label.shape)\n",
        "\n",
        "pos_data = np.array(pos_sample)\n",
        "print(pos_data.shape)\n",
        "\n",
        "pos_label = np.array(pos_label)\n",
        "print(pos_label.shape)"
      ],
      "execution_count": 18,
      "outputs": [
        {
          "output_type": "stream",
          "text": [
            "(67348, 4, 338)\n",
            "(67348,)\n",
            "(5294, 4, 338)\n",
            "(5294,)\n"
          ],
          "name": "stdout"
        }
      ]
    },
    {
      "cell_type": "code",
      "metadata": {
        "id": "xPMIjAgvsrGi"
      },
      "source": [
        "from sklearn.model_selection import train_test_split\n",
        "\n",
        "x_train, x_test, y_train, y_test = train_test_split(neg_data, neg_label, test_size=0.2)"
      ],
      "execution_count": 19,
      "outputs": []
    },
    {
      "cell_type": "code",
      "metadata": {
        "id": "PJ3XH97js1xS",
        "outputId": "f35eb1e8-e7cd-483c-aab0-872244666e55",
        "colab": {
          "base_uri": "https://localhost:8080/",
          "height": 85
        }
      },
      "source": [
        "print(x_train.shape)\n",
        "print(x_test.shape)\n",
        "\n",
        "print(y_train.shape)\n",
        "print(y_test.shape)"
      ],
      "execution_count": 20,
      "outputs": [
        {
          "output_type": "stream",
          "text": [
            "(53878, 4, 338)\n",
            "(13470, 4, 338)\n",
            "(53878,)\n",
            "(13470,)\n"
          ],
          "name": "stdout"
        }
      ]
    },
    {
      "cell_type": "code",
      "metadata": {
        "id": "B7_1Z1dYtvMe",
        "outputId": "8435b2ca-0d64-4506-f3ac-220d7ad74127",
        "colab": {
          "base_uri": "https://localhost:8080/",
          "height": 51
        }
      },
      "source": [
        "x_test = np.concatenate((x_test, pos_data), axis=0)\n",
        "print(x_test.shape)\n",
        "\n",
        "y_test = np.concatenate((y_test, pos_label), axis=0)\n",
        "print(y_test.shape)"
      ],
      "execution_count": 21,
      "outputs": [
        {
          "output_type": "stream",
          "text": [
            "(18764, 4, 338)\n",
            "(18764,)\n"
          ],
          "name": "stdout"
        }
      ]
    },
    {
      "cell_type": "code",
      "metadata": {
        "id": "U4SpEnDuuISL",
        "outputId": "629d20da-81d7-4f94-f210-49d99778b93d",
        "colab": {
          "base_uri": "https://localhost:8080/",
          "height": 34
        }
      },
      "source": [
        "print(Counter(y_test))"
      ],
      "execution_count": 22,
      "outputs": [
        {
          "output_type": "stream",
          "text": [
            "Counter({0: 13470, 1: 5294})\n"
          ],
          "name": "stdout"
        }
      ]
    },
    {
      "cell_type": "markdown",
      "metadata": {
        "id": "2nrrZVhZuTWF"
      },
      "source": [
        "Using DBN to Extract Feature"
      ]
    },
    {
      "cell_type": "code",
      "metadata": {
        "id": "ZY2GRpKYuNjm",
        "outputId": "82df3060-2759-46b5-84d9-061e74c8de25",
        "colab": {
          "base_uri": "https://localhost:8080/",
          "height": 34
        }
      },
      "source": [
        "x_train = x_train.reshape(x_train.shape[0], -1)\n",
        "print(x_train.shape)"
      ],
      "execution_count": 23,
      "outputs": [
        {
          "output_type": "stream",
          "text": [
            "(53878, 1352)\n"
          ],
          "name": "stdout"
        }
      ]
    },
    {
      "cell_type": "code",
      "metadata": {
        "id": "liNhFsDQuRYo",
        "outputId": "48ec10a9-e61d-4fbe-aff3-b942842f275b",
        "colab": {
          "base_uri": "https://localhost:8080/",
          "height": 51
        }
      },
      "source": [
        "x_train_tensor = torch.FloatTensor(x_train)\n",
        "\n",
        "print(type(x_train_tensor))\n",
        "print(x_train_tensor.shape)"
      ],
      "execution_count": 24,
      "outputs": [
        {
          "output_type": "stream",
          "text": [
            "<class 'torch.Tensor'>\n",
            "torch.Size([53878, 1352])\n"
          ],
          "name": "stdout"
        }
      ]
    },
    {
      "cell_type": "code",
      "metadata": {
        "id": "gziwRn9GuXG8",
        "outputId": "b78ed4ac-6073-47ae-f339-1c52f0d9ce22",
        "colab": {
          "base_uri": "https://localhost:8080/",
          "height": 819
        }
      },
      "source": [
        "# Train the DBN\n",
        "\n",
        "from DBN import DBN\n",
        "\n",
        "num_epochs = 20\n",
        "batch_size = 100\n",
        "k = 2\n",
        "visible_unit = 1352\n",
        "hidden_unit = [800, 338]\n",
        "learning_rate = 0.05\n",
        "learning_rate_decay = True\n",
        "xavier_init = True\n",
        "use_gpu = True\n",
        "\n",
        "\n",
        "dbn = DBN(visible_unit= visible_unit,\n",
        "                hidden_unit=hidden_unit,\n",
        "                k = k,\n",
        "                learning_rate = learning_rate,\n",
        "                learning_rate_decay = learning_rate_decay,\n",
        "                xavier_init = xavier_init,\n",
        "                use_gpu = use_gpu)\n",
        "\n",
        "dbn_output = dbn.train_stat(x_train_tensor, num_epochs, batch_size)"
      ],
      "execution_count": 57,
      "outputs": [
        {
          "output_type": "stream",
          "text": [
            "40it [00:00, 396.80it/s]"
          ],
          "name": "stderr"
        },
        {
          "output_type": "stream",
          "text": [
            "--------------------\n",
            "Training the 1 rbm layer\n"
          ],
          "name": "stdout"
        },
        {
          "output_type": "stream",
          "text": [
            "539it [00:01, 513.29it/s]\n",
            "539it [00:00, 559.51it/s]\n",
            "539it [00:00, 555.72it/s]\n",
            "539it [00:00, 552.54it/s]\n",
            "539it [00:00, 560.10it/s]\n",
            "539it [00:00, 556.22it/s]\n",
            "539it [00:00, 551.34it/s]\n",
            "539it [00:00, 551.58it/s]\n",
            "539it [00:00, 555.20it/s]\n",
            "539it [00:00, 567.21it/s]\n",
            "539it [00:00, 563.41it/s]\n",
            "539it [00:00, 561.47it/s]\n",
            "539it [00:00, 555.89it/s]\n",
            "539it [00:00, 578.37it/s]\n",
            "539it [00:00, 562.31it/s]\n",
            "539it [00:00, 570.27it/s]\n",
            "539it [00:00, 566.96it/s]\n",
            "539it [00:00, 563.54it/s]\n",
            "539it [00:00, 569.80it/s]\n",
            "539it [00:00, 571.40it/s]\n",
            "57it [00:00, 569.61it/s]"
          ],
          "name": "stderr"
        },
        {
          "output_type": "stream",
          "text": [
            "Epoch:20 finished, avg_cost = 79.75440979003906, std_cost = 33.98025894165039, avg_grad = 48922.09375, std_grad = 3790.1298828125\n",
            "--------------------\n",
            "Training the 2 rbm layer\n"
          ],
          "name": "stdout"
        },
        {
          "output_type": "stream",
          "text": [
            "539it [00:00, 683.12it/s]\n",
            "539it [00:00, 684.48it/s]\n",
            "539it [00:00, 697.84it/s]\n",
            "539it [00:00, 680.92it/s]\n",
            "539it [00:00, 700.55it/s]\n",
            "539it [00:00, 690.98it/s]\n",
            "539it [00:00, 697.00it/s]\n",
            "539it [00:00, 691.71it/s]\n",
            "539it [00:00, 694.53it/s]\n",
            "539it [00:00, 708.39it/s]\n",
            "539it [00:00, 687.29it/s]\n",
            "539it [00:00, 696.09it/s]\n",
            "539it [00:00, 690.02it/s]\n",
            "539it [00:00, 696.80it/s]\n",
            "539it [00:00, 703.11it/s]\n",
            "539it [00:00, 700.38it/s]\n",
            "539it [00:00, 694.03it/s]\n",
            "539it [00:00, 693.91it/s]\n",
            "539it [00:00, 696.67it/s]\n",
            "539it [00:00, 687.52it/s]\n"
          ],
          "name": "stderr"
        },
        {
          "output_type": "stream",
          "text": [
            "Epoch:20 finished, avg_cost = 0.1629595160484314, std_cost = 0.21466709673404694, avg_grad = 196.11386108398438, std_grad = 160.9275665283203\n"
          ],
          "name": "stdout"
        }
      ]
    },
    {
      "cell_type": "code",
      "metadata": {
        "id": "tNbxmbr4ufcH",
        "outputId": "f4a31d38-7297-4b74-adcb-edf038d38d3c",
        "colab": {
          "base_uri": "https://localhost:8080/",
          "height": 68
        }
      },
      "source": [
        "# The Train Data Through DBN\n",
        "\n",
        "_, x_train_re = dbn.forward(x_train_tensor)\n",
        "\n",
        "print(x_train_re.shape)\n",
        "\n",
        "x_train_arr = x_train_re.cpu().numpy()\n",
        "\n",
        "print(type(x_train_arr))\n",
        "print(x_train_arr.shape)"
      ],
      "execution_count": 58,
      "outputs": [
        {
          "output_type": "stream",
          "text": [
            "torch.Size([53878, 338])\n",
            "<class 'numpy.ndarray'>\n",
            "(53878, 338)\n"
          ],
          "name": "stdout"
        }
      ]
    },
    {
      "cell_type": "code",
      "metadata": {
        "id": "j6RJH8Ubun7l",
        "outputId": "f9df83ef-b424-4da0-a8fb-e6ba998e9362",
        "colab": {
          "base_uri": "https://localhost:8080/",
          "height": 51
        }
      },
      "source": [
        "from sklearn.svm import OneClassSVM\n",
        "\n",
        "model = OneClassSVM(kernel=\"rbf\", gamma=\"scale\", tol=1e-6)\n",
        "model.fit(x_train_arr)"
      ],
      "execution_count": 59,
      "outputs": [
        {
          "output_type": "execute_result",
          "data": {
            "text/plain": [
              "OneClassSVM(cache_size=200, coef0=0.0, degree=3, gamma='scale', kernel='rbf',\n",
              "            max_iter=-1, nu=0.5, shrinking=True, tol=1e-06, verbose=False)"
            ]
          },
          "metadata": {
            "tags": []
          },
          "execution_count": 59
        }
      ]
    },
    {
      "cell_type": "code",
      "metadata": {
        "id": "hHrOBXupuzJG",
        "outputId": "bcd35fac-5ba3-4b5b-a8ff-4acd9d34255d",
        "colab": {
          "base_uri": "https://localhost:8080/",
          "height": 119
        }
      },
      "source": [
        "x_test = x_test.reshape(x_test.shape[0], -1)\n",
        "print(x_test.shape)\n",
        "\n",
        "x_test_tensor = torch.FloatTensor(x_test)\n",
        "\n",
        "print(type(x_test_tensor))\n",
        "print(x_test_tensor.shape)\n",
        "\n",
        "_, x_test_re = dbn.forward(x_test_tensor)\n",
        "\n",
        "print(x_test_re.shape)\n",
        "\n",
        "x_test_arr = x_test_re.cpu().numpy()\n",
        "\n",
        "print(type(x_test_arr))\n",
        "print(x_test_arr.shape)"
      ],
      "execution_count": 60,
      "outputs": [
        {
          "output_type": "stream",
          "text": [
            "(18764, 1352)\n",
            "<class 'torch.Tensor'>\n",
            "torch.Size([18764, 1352])\n",
            "torch.Size([18764, 338])\n",
            "<class 'numpy.ndarray'>\n",
            "(18764, 338)\n"
          ],
          "name": "stdout"
        }
      ]
    },
    {
      "cell_type": "code",
      "metadata": {
        "id": "w7m95siowUX4",
        "outputId": "7c2813ca-ea1e-4aad-e9d1-475585cad6cd",
        "colab": {
          "base_uri": "https://localhost:8080/",
          "height": 34
        }
      },
      "source": [
        "result = model.predict(x_test_arr)\n",
        "\n",
        "predicts = []\n",
        "for item in result:\n",
        "    if item == -1:\n",
        "       predicts.append(1)\n",
        "    else:\n",
        "       predicts.append(0)\n",
        "\n",
        "predicts = np.array(predicts)\n",
        "\n",
        "print(predicts.shape)"
      ],
      "execution_count": 61,
      "outputs": [
        {
          "output_type": "stream",
          "text": [
            "(18764,)\n"
          ],
          "name": "stdout"
        }
      ]
    },
    {
      "cell_type": "code",
      "metadata": {
        "id": "_xki8bd2J_Pj"
      },
      "source": [
        "y_test = np.array(y_test)"
      ],
      "execution_count": 62,
      "outputs": []
    },
    {
      "cell_type": "code",
      "metadata": {
        "id": "SwiXLteYwaBY",
        "outputId": "f9c3fb2e-b492-48b8-81ff-e5ffe0de3075",
        "colab": {
          "base_uri": "https://localhost:8080/",
          "height": 170
        }
      },
      "source": [
        "from sklearn.metrics import classification_report\n",
        "\n",
        "report = classification_report(y_test, predicts, labels=[0,1])\n",
        "print(report)"
      ],
      "execution_count": 63,
      "outputs": [
        {
          "output_type": "stream",
          "text": [
            "              precision    recall  f1-score   support\n",
            "\n",
            "           0       0.92      0.63      0.74     13470\n",
            "           1       0.47      0.85      0.61      5294\n",
            "\n",
            "    accuracy                           0.69     18764\n",
            "   macro avg       0.69      0.74      0.68     18764\n",
            "weighted avg       0.79      0.69      0.71     18764\n",
            "\n"
          ],
          "name": "stdout"
        }
      ]
    },
    {
      "cell_type": "code",
      "metadata": {
        "id": "1m10A7_AwcQO",
        "outputId": "fa1ad371-d3cb-4b21-ce25-005fca28abee",
        "colab": {
          "base_uri": "https://localhost:8080/",
          "height": 51
        }
      },
      "source": [
        "from sklearn.metrics import confusion_matrix\n",
        "\n",
        "cm = confusion_matrix(y_test, predicts)\n",
        "print(cm)"
      ],
      "execution_count": 64,
      "outputs": [
        {
          "output_type": "stream",
          "text": [
            "[[8431 5039]\n",
            " [ 768 4526]]\n"
          ],
          "name": "stdout"
        }
      ]
    },
    {
      "cell_type": "code",
      "metadata": {
        "id": "eotY9aQnwflc"
      },
      "source": [
        "import matplotlib.pyplot as plt\n",
        "import itertools\n",
        "\n",
        "def plot_confusion_matrix(cm, classes, title='Confusion matrix', cmap=plt.cm.Blues):\n",
        "    print(cm)\n",
        "    plt.imshow(cm, interpolation='nearest', cmap=cmap)\n",
        "    plt.title(title)\n",
        "    plt.colorbar()\n",
        "    tick_marks = np.arange(len(classes))\n",
        "    plt.xticks(tick_marks, classes, rotation=45)\n",
        "    plt.yticks(tick_marks, classes)\n",
        "\n",
        "    fmt = 'd'\n",
        "    thresh = cm.max() / 2.\n",
        "    for i, j in itertools.product(range(cm.shape[0]), range(cm.shape[1])):\n",
        "        plt.text(j, i, format(cm[i, j], fmt), horizontalalignment=\"center\", color=\"white\" if cm[i, j] > thresh else \"black\")\n",
        "\n",
        "    plt.tight_layout()\n",
        "    plt.ylabel('True label')\n",
        "    plt.xlabel('Predicted label')"
      ],
      "execution_count": 65,
      "outputs": []
    },
    {
      "cell_type": "code",
      "metadata": {
        "id": "hTvCtXmuwidc",
        "outputId": "7caeefb6-dab7-44d8-b5ed-140b5652a819",
        "colab": {
          "base_uri": "https://localhost:8080/",
          "height": 395
        }
      },
      "source": [
        "plt.figure(figsize=(5,5))\n",
        "plot_confusion_matrix(cm, ['Normal Client', 'Risky Client'])"
      ],
      "execution_count": 66,
      "outputs": [
        {
          "output_type": "stream",
          "text": [
            "[[8431 5039]\n",
            " [ 768 4526]]\n"
          ],
          "name": "stdout"
        },
        {
          "output_type": "display_data",
          "data": {
            "image/png": "[encoded data removed]",
            "text/plain": [
              "<Figure size 360x360 with 2 Axes>"
            ]
          },
          "metadata": {
            "tags": [],
            "needs_background": "light"
          }
        }
      ]
    },
    {
      "cell_type": "code",
      "metadata": {
        "id": "2KPGj5OzAWrR"
      },
      "source": [
        "from sklearn.externals import joblib\n",
        "\n",
        "OCsvm = joblib.dump(model, 'oneclass-SVM.v4.model')"
      ],
      "execution_count": 68,
      "outputs": []
    },
    {
      "cell_type": "markdown",
      "metadata": {
        "id": "wbbkPdeMiARQ"
      },
      "source": [
        "Now Applying the Isolated Forest"
      ]
    },
    {
      "cell_type": "code",
      "metadata": {
        "id": "S0Batq9yiHb_",
        "outputId": "83583e51-d9c8-4f5b-c3ed-db62ef6fc1b4",
        "colab": {
          "base_uri": "https://localhost:8080/",
          "height": 68
        }
      },
      "source": [
        "from sklearn.ensemble import IsolationForest\n",
        "\n",
        "iso_forest = IsolationForest(n_estimators=200, contamination=0.25)\n",
        "\n",
        "iso_forest.fit(x_train_arr)"
      ],
      "execution_count": 89,
      "outputs": [
        {
          "output_type": "execute_result",
          "data": {
            "text/plain": [
              "IsolationForest(behaviour='deprecated', bootstrap=False, contamination=0.25,\n",
              "                max_features=1.0, max_samples='auto', n_estimators=200,\n",
              "                n_jobs=None, random_state=None, verbose=0, warm_start=False)"
            ]
          },
          "metadata": {
            "tags": []
          },
          "execution_count": 89
        }
      ]
    },
    {
      "cell_type": "code",
      "metadata": {
        "id": "0-Ngmda-kj1g",
        "outputId": "ba194171-4655-41ce-c1b5-e31ac1819f2d",
        "colab": {
          "base_uri": "https://localhost:8080/",
          "height": 34
        }
      },
      "source": [
        "if_result = iso_forest.predict(x_test_arr)\n",
        "\n",
        "if_predicts = []\n",
        "for item in if_result:\n",
        "    if item == -1:\n",
        "       if_predicts.append(1)\n",
        "    else:\n",
        "       if_predicts.append(0)\n",
        "\n",
        "if_predicts = np.array(if_predicts)\n",
        "\n",
        "print(if_predicts.shape)"
      ],
      "execution_count": 95,
      "outputs": [
        {
          "output_type": "stream",
          "text": [
            "(18764,)\n"
          ],
          "name": "stdout"
        }
      ]
    },
    {
      "cell_type": "code",
      "metadata": {
        "id": "VmL-6Cleq-Gf",
        "outputId": "76f050be-f1b8-4bcf-cca5-eedf06b1d668",
        "colab": {
          "base_uri": "https://localhost:8080/",
          "height": 170
        }
      },
      "source": [
        "from sklearn.metrics import classification_report\n",
        "\n",
        "if_report = classification_report(y_test, if_predicts, labels=[0,1])\n",
        "print(if_report)"
      ],
      "execution_count": 96,
      "outputs": [
        {
          "output_type": "stream",
          "text": [
            "              precision    recall  f1-score   support\n",
            "\n",
            "           0       0.88      0.75      0.81     13470\n",
            "           1       0.53      0.73      0.62      5294\n",
            "\n",
            "    accuracy                           0.74     18764\n",
            "   macro avg       0.71      0.74      0.71     18764\n",
            "weighted avg       0.78      0.74      0.75     18764\n",
            "\n"
          ],
          "name": "stdout"
        }
      ]
    },
    {
      "cell_type": "code",
      "metadata": {
        "id": "bfAw1_96rNc3",
        "outputId": "d8ec1f82-b981-479b-ca60-da0a220f11b0",
        "colab": {
          "base_uri": "https://localhost:8080/",
          "height": 51
        }
      },
      "source": [
        "from sklearn.metrics import confusion_matrix\n",
        "\n",
        "if_cm = confusion_matrix(y_test, if_predicts)\n",
        "print(if_cm)"
      ],
      "execution_count": 97,
      "outputs": [
        {
          "output_type": "stream",
          "text": [
            "[[10098  3372]\n",
            " [ 1423  3871]]\n"
          ],
          "name": "stdout"
        }
      ]
    },
    {
      "cell_type": "code",
      "metadata": {
        "id": "kqbUYYbvrQxX",
        "outputId": "f13c1d7d-e847-4d50-ab19-3602fe1654b9",
        "colab": {
          "base_uri": "https://localhost:8080/",
          "height": 393
        }
      },
      "source": [
        "plt.figure(figsize=(5,5))\n",
        "plot_confusion_matrix(if_cm, ['Normal Client', 'Risky Client'])"
      ],
      "execution_count": 98,
      "outputs": [
        {
          "output_type": "stream",
          "text": [
            "[[10098  3372]\n",
            " [ 1423  3871]]\n"
          ],
          "name": "stdout"
        },
        {
          "output_type": "display_data",
          "data": {
            "image/png": "[encoded data removed]",
            "text/plain": [
              "<Figure size 360x360 with 2 Axes>"
            ]
          },
          "metadata": {
            "tags": [],
            "needs_background": "light"
          }
        }
      ]
    },
    {
      "cell_type": "code",
      "metadata": {
        "id": "gmQfi2JiW2AT"
      },
      "source": [
        "from sklearn.externals import joblib\n",
        "\n",
        "Iforest = joblib.dump(iso_forest, 'IsolatedForest.model')"
      ],
      "execution_count": 111,
      "outputs": []
    },
    {
      "cell_type": "markdown",
      "metadata": {
        "id": "IwabG9RUsixd"
      },
      "source": [
        "Applying the LocalOutlierFactor"
      ]
    },
    {
      "cell_type": "code",
      "metadata": {
        "id": "OyyAI1_Js9Wu",
        "outputId": "c9d396b3-1905-4f9c-ccef-337648a6ec14",
        "colab": {
          "base_uri": "https://localhost:8080/",
          "height": 68
        }
      },
      "source": [
        "from sklearn.neighbors import LocalOutlierFactor\n",
        "\n",
        "lof = LocalOutlierFactor(n_neighbors=5, novelty=True)\n",
        "lof.fit(x_train_arr)\n"
      ],
      "execution_count": 106,
      "outputs": [
        {
          "output_type": "execute_result",
          "data": {
            "text/plain": [
              "LocalOutlierFactor(algorithm='auto', contamination='auto', leaf_size=30,\n",
              "                   metric='minkowski', metric_params=None, n_jobs=None,\n",
              "                   n_neighbors=5, novelty=True, p=2)"
            ]
          },
          "metadata": {
            "tags": []
          },
          "execution_count": 106
        }
      ]
    },
    {
      "cell_type": "code",
      "metadata": {
        "id": "oOid9_oytKQS",
        "outputId": "f527ea33-bb2c-4660-856c-1c8f173142b6",
        "colab": {
          "base_uri": "https://localhost:8080/",
          "height": 34
        }
      },
      "source": [
        "lof_result = lof.predict(x_test_arr)\n",
        "\n",
        "lof_predicts = []\n",
        "for item in lof_result:\n",
        "    if item == -1:\n",
        "       lof_predicts.append(1)\n",
        "    else:\n",
        "       lof_predicts.append(0)\n",
        "\n",
        "lof_predicts = np.array(lof_predicts)\n",
        "\n",
        "print(lof_predicts.shape)"
      ],
      "execution_count": 107,
      "outputs": [
        {
          "output_type": "stream",
          "text": [
            "(18764,)\n"
          ],
          "name": "stdout"
        }
      ]
    },
    {
      "cell_type": "code",
      "metadata": {
        "id": "sl3hfg9Fthnw",
        "outputId": "51b71948-807b-4d1e-8856-8c94b821b7f5",
        "colab": {
          "base_uri": "https://localhost:8080/",
          "height": 170
        }
      },
      "source": [
        "from sklearn.metrics import classification_report\n",
        "\n",
        "lof_report = classification_report(y_test, lof_predicts, labels=[0,1])\n",
        "print(lof_report)"
      ],
      "execution_count": 108,
      "outputs": [
        {
          "output_type": "stream",
          "text": [
            "              precision    recall  f1-score   support\n",
            "\n",
            "           0       0.72      1.00      0.84     13470\n",
            "           1       0.00      0.00      0.00      5294\n",
            "\n",
            "    accuracy                           0.72     18764\n",
            "   macro avg       0.36      0.50      0.42     18764\n",
            "weighted avg       0.52      0.72      0.60     18764\n",
            "\n"
          ],
          "name": "stdout"
        }
      ]
    },
    {
      "cell_type": "code",
      "metadata": {
        "id": "vgReX8ejtqQD",
        "outputId": "00124225-2ad2-457a-b12c-2d38969977f8",
        "colab": {
          "base_uri": "https://localhost:8080/",
          "height": 51
        }
      },
      "source": [
        "from sklearn.metrics import confusion_matrix\n",
        "\n",
        "lof_cm = confusion_matrix(y_test, lof_predicts)\n",
        "print(lof_cm)"
      ],
      "execution_count": 109,
      "outputs": [
        {
          "output_type": "stream",
          "text": [
            "[[13466     4]\n",
            " [ 5294     0]]\n"
          ],
          "name": "stdout"
        }
      ]
    },
    {
      "cell_type": "code",
      "metadata": {
        "id": "eyQpmVXAtnFN",
        "outputId": "e86de5fd-87a4-4e04-837e-1ce6cee91243",
        "colab": {
          "base_uri": "https://localhost:8080/",
          "height": 393
        }
      },
      "source": [
        "plt.figure(figsize=(5,5))\n",
        "plot_confusion_matrix(lof_cm, ['Normal Client', 'Risky Client'])"
      ],
      "execution_count": 110,
      "outputs": [
        {
          "output_type": "stream",
          "text": [
            "[[13466     4]\n",
            " [ 5294     0]]\n"
          ],
          "name": "stdout"
        },
        {
          "output_type": "display_data",
          "data": {
            "image/png": "[encoded data removed]",
            "text/plain": [
              "<Figure size 360x360 with 2 Axes>"
            ]
          },
          "metadata": {
            "tags": [],
            "needs_background": "light"
          }
        }
      ]
    }
  ]
}