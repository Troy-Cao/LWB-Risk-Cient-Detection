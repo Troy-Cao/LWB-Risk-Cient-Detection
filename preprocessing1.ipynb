{
 "cells": [
  {
   "cell_type": "code",
   "execution_count": 1,
   "metadata": {},
   "outputs": [
    {
     "name": "stdout",
     "output_type": "stream",
     "text": [
      "124293\n"
     ]
    }
   ],
   "source": [
    "import pandas as pd\n",
    "\n",
    "file_path = \"/Users/troycao/Documents/GitHub/MAST90106_Group-20/data/20200404_LWB_Client_Events_Month.csv\"\n",
    "\n",
    "content = pd.read_csv(r'C:\\Users\\yun liu\\Desktop\\LWBProject\\Month.csv',low_memory=False)\n",
    "print(len(content))"
   ]
  },
  {
   "cell_type": "code",
   "execution_count": 2,
   "metadata": {},
   "outputs": [
    {
     "name": "stdout",
     "output_type": "stream",
     "text": [
      "(124293, 1181)\n"
     ]
    }
   ],
   "source": [
    "#print(content.shape)"
   ]
  },
  {
   "cell_type": "markdown",
   "metadata": {},
   "source": [
    "### Get The Selected Data"
   ]
  },
  {
   "cell_type": "code",
   "execution_count": 2,
   "metadata": {},
   "outputs": [],
   "source": [
    "selected_data = content.iloc[:, :236]\n",
    "#print(selected_data.shape)"
   ]
  },
  {
   "cell_type": "code",
   "execution_count": 3,
   "metadata": {},
   "outputs": [
    {
     "ename": "NameError",
     "evalue": "name 'keys' is not defined",
     "output_type": "error",
     "traceback": [
      "\u001b[1;31m---------------------------------------------------------------------------\u001b[0m",
      "\u001b[1;31mNameError\u001b[0m                                 Traceback (most recent call last)",
      "\u001b[1;32m<ipython-input-3-74652f67a6df>\u001b[0m in \u001b[0;36m<module>\u001b[1;34m\u001b[0m\n\u001b[1;32m----> 1\u001b[1;33m \u001b[1;32mfor\u001b[0m \u001b[0mitem\u001b[0m \u001b[1;32min\u001b[0m \u001b[0mkeys\u001b[0m\u001b[1;33m:\u001b[0m\u001b[1;33m\u001b[0m\u001b[1;33m\u001b[0m\u001b[0m\n\u001b[0m\u001b[0;32m      2\u001b[0m     \u001b[1;32mif\u001b[0m \u001b[0mitem\u001b[0m\u001b[1;33m.\u001b[0m\u001b[0mstartswith\u001b[0m\u001b[1;33m(\u001b[0m\u001b[1;34m\"incident_catgry_event_description_\"\u001b[0m\u001b[1;33m)\u001b[0m\u001b[1;33m:\u001b[0m\u001b[1;33m\u001b[0m\u001b[1;33m\u001b[0m\u001b[0m\n\u001b[0;32m      3\u001b[0m         \u001b[0mprint\u001b[0m\u001b[1;33m(\u001b[0m\u001b[0mitem\u001b[0m\u001b[1;33m)\u001b[0m\u001b[1;33m\u001b[0m\u001b[1;33m\u001b[0m\u001b[0m\n\u001b[0;32m      4\u001b[0m         \u001b[0mselected_data\u001b[0m \u001b[1;33m=\u001b[0m \u001b[0mselected_data\u001b[0m\u001b[1;33m.\u001b[0m\u001b[0mdrop\u001b[0m\u001b[1;33m(\u001b[0m\u001b[0mitem\u001b[0m\u001b[1;33m,\u001b[0m \u001b[0maxis\u001b[0m\u001b[1;33m=\u001b[0m\u001b[1;36m1\u001b[0m\u001b[1;33m)\u001b[0m\u001b[1;33m\u001b[0m\u001b[1;33m\u001b[0m\u001b[0m\n\u001b[0;32m      5\u001b[0m \u001b[1;31m#print(selected_data.shape)\u001b[0m\u001b[1;33m\u001b[0m\u001b[1;33m\u001b[0m\u001b[1;33m\u001b[0m\u001b[0m\n",
      "\u001b[1;31mNameError\u001b[0m: name 'keys' is not defined"
     ]
    }
   ],
   "source": [
    "for item in keys:\n",
    "    if item.startswith(\"incident_catgry_event_description_\"):\n",
    "        print(item)\n",
    "        selected_data = selected_data.drop(item, axis=1)\n",
    "#print(selected_data.shape)"
   ]
  },
  {
   "cell_type": "code",
   "execution_count": 4,
   "metadata": {},
   "outputs": [],
   "source": [
    "keys = selected_data.keys()\n",
    "#print(len(keys))"
   ]
  },
  {
   "cell_type": "code",
   "execution_count": 5,
   "metadata": {},
   "outputs": [],
   "source": [
    "# new keys\n",
    "new_keys = selected_data.keys()\n",
    "#print(len(new_keys)) # 229"
   ]
  },
  {
   "cell_type": "code",
   "execution_count": 6,
   "metadata": {},
   "outputs": [],
   "source": [
    "incident_catgry_title = []\n",
    "for item in new_keys:\n",
    "    if item.startswith(\"incident_catgry_\"):\n",
    "        incident_catgry_title.append(item)\n",
    "#print(len(incident_catgry_title))"
   ]
  },
  {
   "cell_type": "markdown",
   "metadata": {},
   "source": [
    "### Categorize The Incident & Summarize the Information"
   ]
  },
  {
   "cell_type": "code",
   "execution_count": 7,
   "metadata": {},
   "outputs": [],
   "source": [
    "# care_concern \n",
    "\n",
    "care_concern_list = []\n",
    "for item in keys:\n",
    "    if item.startswith(\"incident_catgry_care_concern_\"):\n",
    "        care_concern_list.append(item)\n",
    "care_concern_data = selected_data[care_concern_list]\n",
    "#print(care_concern_data.shape)"
   ]
  },
  {
   "cell_type": "code",
   "execution_count": 8,
   "metadata": {},
   "outputs": [],
   "source": [
    "#print(care_concern_data.describe())"
   ]
  },
  {
   "cell_type": "code",
   "execution_count": 9,
   "metadata": {},
   "outputs": [
    {
     "name": "stdout",
     "output_type": "stream",
     "text": [
      "0         True\n",
      "1         True\n",
      "2         True\n",
      "3         True\n",
      "4         True\n",
      "          ... \n",
      "124288    True\n",
      "124289    True\n",
      "124290    True\n",
      "124291    True\n",
      "124292    True\n",
      "Length: 124293, dtype: bool\n"
     ]
    }
   ],
   "source": [
    "# justify whether total num in 'incident_catgry_care_concern_piv'\n",
    "print(care_concern_data['incident_catgry_care_concern_piv'] == care_concern_data['incident_catgry_care_concern_significant_wa_jurisdiction_piv'] + \n",
    "     care_concern_data[\"incident_catgry_care_concern_minor_event_description_piv\"] + care_concern_data[\"incident_catgry_care_concern_significant_event_descri_piv\"] + care_concern_data[\"incident_catgry_care_concern_minor_nsw_jurisdiction_categ_piv\"] + care_concern_data[\"incident_catgry_care_concern_minor_nsw_jurisdiction_category_piv\"] )\n",
    "# True\n",
    "# So Here we will take the care_concern_data[\"incident_catgry_care_concern_piv\"]."
   ]
  },
  {
   "cell_type": "code",
   "execution_count": 10,
   "metadata": {},
   "outputs": [
    {
     "data": {
      "text/plain": [
       "'\\nprint(selected_data[\"incident_catgry_medication_piv\"].describe())\\nprint(selected_data[\"incident_catgry_medical_piv\"].describe())\\nprint(selected_data[\"incident_catgry__piv\"].describe())\\nprint(selected_data[\"incident_catgry_death_piv\"].describe())\\nprint(selected_data[\"incident_catgry_property_and_vehicles_piv\"].describe())\\nprint(selected_data[\"incident_catgry_physical_and_sexual_assault_piv\"].describe())\\nprint(selected_data[\"incident_catgry_client_missing_piv\"].describe())\\nprint(selected_data[\"incident_catgry_standard_of_care_soc_piv\"].describe())\\nprint(selected_data[\"incident_catgry_absconding_minor_significant_qld_jurisdi_piv\"].describe())\\nprint(selected_data[\"incident_catgry_emergency_situation_piv\"].describe())\\nprint(selected_data[\"incident_catgry_restrictive_practices_piv\"].describe())\\nprint(selected_data[\"incident_catgry_media_piv\"].describe())\\n'"
      ]
     },
     "execution_count": 10,
     "metadata": {},
     "output_type": "execute_result"
    }
   ],
   "source": [
    "# catgry only have one attributes\n",
    "'''\n",
    "print(selected_data[\"incident_catgry_medication_piv\"].describe())\n",
    "print(selected_data[\"incident_catgry_medical_piv\"].describe())\n",
    "print(selected_data[\"incident_catgry__piv\"].describe())\n",
    "print(selected_data[\"incident_catgry_death_piv\"].describe())\n",
    "print(selected_data[\"incident_catgry_property_and_vehicles_piv\"].describe())\n",
    "print(selected_data[\"incident_catgry_physical_and_sexual_assault_piv\"].describe())\n",
    "print(selected_data[\"incident_catgry_client_missing_piv\"].describe())\n",
    "print(selected_data[\"incident_catgry_standard_of_care_soc_piv\"].describe())\n",
    "print(selected_data[\"incident_catgry_absconding_minor_significant_qld_jurisdi_piv\"].describe())\n",
    "print(selected_data[\"incident_catgry_emergency_situation_piv\"].describe())\n",
    "print(selected_data[\"incident_catgry_restrictive_practices_piv\"].describe())\n",
    "print(selected_data[\"incident_catgry_media_piv\"].describe())\n",
    "'''"
   ]
  },
  {
   "cell_type": "code",
   "execution_count": 11,
   "metadata": {},
   "outputs": [],
   "source": [
    "# Drug data\n",
    "drug_list = []\n",
    "for item in keys:\n",
    "    if item.startswith(\"incident_catgry_drug\"):\n",
    "        drug_list.append(item)\n",
    "drug_data = selected_data[drug_list]\n",
    "#print(drug_data.shape)"
   ]
  },
  {
   "cell_type": "code",
   "execution_count": 12,
   "metadata": {},
   "outputs": [],
   "source": [
    "#print(drug_data.describe())\n",
    "# Here we only take the drug_data[\"incident_catgry_drugs_alcohol_piv\"]\n"
   ]
  },
  {
   "cell_type": "code",
   "execution_count": 13,
   "metadata": {},
   "outputs": [],
   "source": [
    "# behavior\n",
    "behavior_list = []\n",
    "for item in keys:\n",
    "    if item.startswith(\"incident_catgry_behaviour\"):\n",
    "        behavior_list.append(item)\n",
    "behavior_data = selected_data[behavior_list]\n",
    "#print(behavior_data.shape)"
   ]
  },
  {
   "cell_type": "code",
   "execution_count": 14,
   "metadata": {},
   "outputs": [],
   "source": [
    "#print(behavior_data.describe()) # Therefore we only take behavior_data[\"incident_catgry_behaviour_piv\"]"
   ]
  },
  {
   "cell_type": "code",
   "execution_count": 15,
   "metadata": {},
   "outputs": [],
   "source": [
    "# Client_wellbeing\n",
    "client_wellbeing_list = []\n",
    "for item in keys:\n",
    "    if item.startswith(\"incident_catgry_client_wellbeing\"):\n",
    "        client_wellbeing_list.append(item)\n",
    "client_wellbeing_data = selected_data[client_wellbeing_list]\n",
    "#print(client_wellbeing_data.shape)\n"
   ]
  },
  {
   "cell_type": "code",
   "execution_count": 16,
   "metadata": {},
   "outputs": [],
   "source": [
    "#print(client_wellbeing_data.describe()) # take the client_wellbeing_data[\"incident_catgry_client_wellbeing_piv\"]"
   ]
  },
  {
   "cell_type": "code",
   "execution_count": 17,
   "metadata": {},
   "outputs": [],
   "source": [
    "# offence Minor event\n",
    "Offence_Minor_list = []\n",
    "for item in keys:\n",
    "    if item.startswith(\"incident_catgry_offences_minor\"):\n",
    "        Offence_Minor_list.append(item)\n",
    "Offence_Minor_data = selected_data[Offence_Minor_list]\n",
    "#print(Offence_Minor_data.shape)"
   ]
  },
  {
   "cell_type": "code",
   "execution_count": 18,
   "metadata": {},
   "outputs": [],
   "source": [
    "#print(Offence_Minor_data.describe())"
   ]
  },
  {
   "cell_type": "code",
   "execution_count": 19,
   "metadata": {},
   "outputs": [
    {
     "name": "stderr",
     "output_type": "stream",
     "text": [
      "C:\\Users\\Public\\anaconda3\\lib\\site-packages\\ipykernel_launcher.py:1: SettingWithCopyWarning: \n",
      "A value is trying to be set on a copy of a slice from a DataFrame.\n",
      "Try using .loc[row_indexer,col_indexer] = value instead\n",
      "\n",
      "See the caveats in the documentation: https://pandas.pydata.org/pandas-docs/stable/user_guide/indexing.html#returning-a-view-versus-a-copy\n",
      "  \"\"\"Entry point for launching an IPython kernel.\n"
     ]
    }
   ],
   "source": [
    "Offence_Minor_data[\"minor_event_total\"] = Offence_Minor_data.sum(axis=1)"
   ]
  },
  {
   "cell_type": "code",
   "execution_count": 20,
   "metadata": {},
   "outputs": [],
   "source": [
    "#print(Offence_Minor_data[\"minor_event_total\"].describe()) # pick up Offence_Minor_data[\"minor_event_total\"] "
   ]
  },
  {
   "cell_type": "code",
   "execution_count": 21,
   "metadata": {},
   "outputs": [],
   "source": [
    "# offence significant events\n",
    "Offence_significant_list = []\n",
    "for item in keys:\n",
    "    if item.startswith(\"incident_catgry_offences_significant\"):\n",
    "        Offence_significant_list.append(item)\n",
    "Offence_significant_data = selected_data[Offence_significant_list]\n",
    "#print(Offence_significant_data.shape)"
   ]
  },
  {
   "cell_type": "code",
   "execution_count": 22,
   "metadata": {},
   "outputs": [],
   "source": [
    "#print(Offence_significant_data.describe())"
   ]
  },
  {
   "cell_type": "code",
   "execution_count": 23,
   "metadata": {},
   "outputs": [
    {
     "name": "stderr",
     "output_type": "stream",
     "text": [
      "C:\\Users\\Public\\anaconda3\\lib\\site-packages\\ipykernel_launcher.py:1: SettingWithCopyWarning: \n",
      "A value is trying to be set on a copy of a slice from a DataFrame.\n",
      "Try using .loc[row_indexer,col_indexer] = value instead\n",
      "\n",
      "See the caveats in the documentation: https://pandas.pydata.org/pandas-docs/stable/user_guide/indexing.html#returning-a-view-versus-a-copy\n",
      "  \"\"\"Entry point for launching an IPython kernel.\n"
     ]
    }
   ],
   "source": [
    "Offence_significant_data[\"significant_event_total\"] = Offence_significant_data.sum(axis=1) # all store in Offence_significant_data[\"significant_event_total\"] \n"
   ]
  },
  {
   "cell_type": "code",
   "execution_count": 24,
   "metadata": {},
   "outputs": [],
   "source": [
    "#print(Offence_significant_data[\"significant_event_total\"].describe())"
   ]
  },
  {
   "cell_type": "code",
   "execution_count": 25,
   "metadata": {},
   "outputs": [],
   "source": [
    "# offence critical events\n",
    "Offence_critical_list = []\n",
    "for item in keys:\n",
    "    if item.startswith(\"incident_catgry_offences_critical\"):\n",
    "        Offence_critical_list.append(item)\n",
    "Offence_critical_data = selected_data[Offence_critical_list]\n",
    "#print(Offence_critical_data.shape)"
   ]
  },
  {
   "cell_type": "code",
   "execution_count": 26,
   "metadata": {},
   "outputs": [],
   "source": [
    "#print(Offence_critical_data.describe())"
   ]
  },
  {
   "cell_type": "code",
   "execution_count": 27,
   "metadata": {},
   "outputs": [
    {
     "name": "stderr",
     "output_type": "stream",
     "text": [
      "C:\\Users\\Public\\anaconda3\\lib\\site-packages\\ipykernel_launcher.py:1: SettingWithCopyWarning: \n",
      "A value is trying to be set on a copy of a slice from a DataFrame.\n",
      "Try using .loc[row_indexer,col_indexer] = value instead\n",
      "\n",
      "See the caveats in the documentation: https://pandas.pydata.org/pandas-docs/stable/user_guide/indexing.html#returning-a-view-versus-a-copy\n",
      "  \"\"\"Entry point for launching an IPython kernel.\n"
     ]
    }
   ],
   "source": [
    "Offence_critical_data[\"critical_event_total\"] = Offence_critical_data.sum(axis=1)"
   ]
  },
  {
   "cell_type": "code",
   "execution_count": 28,
   "metadata": {},
   "outputs": [],
   "source": [
    "#print(Offence_critical_data[\"critical_event_total\"].describe()) ## all store in Offence_critical_data[\"critical_event_total\"] \n"
   ]
  },
  {
   "cell_type": "markdown",
   "metadata": {},
   "source": [
    "### Now Summarize all the Offence event"
   ]
  },
  {
   "cell_type": "code",
   "execution_count": 29,
   "metadata": {},
   "outputs": [],
   "source": [
    "Offence_event = pd.concat([Offence_Minor_data[\"minor_event_total\"],Offence_significant_data[\"significant_event_total\"], Offence_critical_data[\"critical_event_total\"]], axis=1)\n",
    "       "
   ]
  },
  {
   "cell_type": "code",
   "execution_count": 30,
   "metadata": {},
   "outputs": [],
   "source": [
    "#print(Offence_event)"
   ]
  },
  {
   "cell_type": "code",
   "execution_count": 31,
   "metadata": {},
   "outputs": [],
   "source": [
    "Offence_event.loc[\"Total_num\"] = Offence_event.apply(lambda x: x.sum(), axis=0)"
   ]
  },
  {
   "cell_type": "code",
   "execution_count": 32,
   "metadata": {},
   "outputs": [],
   "source": [
    "#print(Offence_event.loc[\"Total_num\"])"
   ]
  },
  {
   "cell_type": "code",
   "execution_count": 33,
   "metadata": {},
   "outputs": [
    {
     "data": {
      "image/png": "[encoded data removed]",
      "text/plain": [
       "<Figure size 432x288 with 1 Axes>"
      ]
     },
     "metadata": {},
     "output_type": "display_data"
    }
   ],
   "source": [
    "import matplotlib.pyplot as plt\n",
    "\n",
    "\n",
    "label = [u\"minor_event\", u\"significant_event\", u\"critical_event\"]\n",
    "offence_total = Offence_event.loc[\"Total_num\"]\n",
    "plt.pie(offence_total, labels=label, autopct='%1.1f%%')\n",
    "plt.legend()\n",
    "plt.show()"
   ]
  },
  {
   "cell_type": "code",
   "execution_count": 39,
   "metadata": {},
   "outputs": [
    {
     "data": {
      "text/plain": [
       "<matplotlib.axes._subplots.AxesSubplot at 0x2205acb7508>"
      ]
     },
     "execution_count": 39,
     "metadata": {},
     "output_type": "execute_result"
    },
    {
     "data": {
      "image/png": "[encoded data removed]",
      "text/plain": [
       "<Figure size 792x288 with 1 Axes>"
      ]
     },
     "metadata": {},
     "output_type": "display_data"
    }
   ],
   "source": [
    "import seaborn as sns\n",
    "sns.set(rc={'figure.figsize':(11, 4)})\n",
    "\n",
    "sns.set_style(\"whitegrid\", {'axes.grid' : False})\n",
    "\n",
    "Offence_event[\"minor_event_total\"].plot(linewidth=0.5)"
   ]
  },
  {
   "cell_type": "code",
   "execution_count": 37,
   "metadata": {},
   "outputs": [
    {
     "data": {
      "text/plain": [
       "<matplotlib.axes._subplots.AxesSubplot at 0x22059d05b48>"
      ]
     },
     "execution_count": 37,
     "metadata": {},
     "output_type": "execute_result"
    },
    {
     "data": {
      "image/png": "[encoded data removed]",
      "text/plain": [
       "<Figure size 792x288 with 1 Axes>"
      ]
     },
     "metadata": {},
     "output_type": "display_data"
    }
   ],
   "source": [
    "Offence_event[\"significant_event_total\"].plot(linewidth=0.5)"
   ]
  },
  {
   "cell_type": "code",
   "execution_count": 94,
   "metadata": {},
   "outputs": [
    {
     "data": {
      "text/plain": [
       "<matplotlib.axes._subplots.AxesSubplot at 0x1264e3e80>"
      ]
     },
     "execution_count": 94,
     "metadata": {},
     "output_type": "execute_result"
    },
    {
     "data": {
      "image/png": "[encoded data removed]",
      "text/plain": [
       "<Figure size 792x288 with 1 Axes>"
      ]
     },
     "metadata": {},
     "output_type": "display_data"
    }
   ],
   "source": [
    "Offence_event[\"critical_event_total\"].plot(linewidth=0.5)"
   ]
  },
  {
   "cell_type": "markdown",
   "metadata": {},
   "source": [
    "### Summarize all the Incident Category Information & Get the Response Variable"
   ]
  },
  {
   "cell_type": "code",
   "execution_count": 95,
   "metadata": {},
   "outputs": [
    {
     "name": "stdout",
     "output_type": "stream",
     "text": [
      "(124293, 19)\n"
     ]
    }
   ],
   "source": [
    "incident_cat_list = [care_concern_data[\"incident_catgry_care_concern_piv\"], selected_data[\"incident_catgry_medication_piv\"],\n",
    "                    selected_data[\"incident_catgry_medical_piv\"],selected_data[\"incident_catgry__piv\"], selected_data[\"incident_catgry_death_piv\"],\n",
    "                    selected_data[\"incident_catgry_property_and_vehicles_piv\"],selected_data[\"incident_catgry_physical_and_sexual_assault_piv\"],\n",
    "                    selected_data[\"incident_catgry_client_missing_piv\"],selected_data[\"incident_catgry_standard_of_care_soc_piv\"],\n",
    "                    selected_data[\"incident_catgry_absconding_minor_significant_qld_jurisdi_piv\"],selected_data[\"incident_catgry_emergency_situation_piv\"],\n",
    "                    selected_data[\"incident_catgry_restrictive_practices_piv\"], selected_data[\"incident_catgry_media_piv\"], drug_data[\"incident_catgry_drugs_alcohol_piv\"],\n",
    "                    behavior_data[\"incident_catgry_behaviour_piv\"], client_wellbeing_data[\"incident_catgry_client_wellbeing_piv\"], Offence_Minor_data[\"minor_event_total\"],\n",
    "                    Offence_significant_data[\"significant_event_total\"], Offence_critical_data[\"critical_event_total\"]]\n",
    "\n",
    "\n",
    "incident_event_cat = pd.concat(incident_cat_list, axis=1)\n",
    "print(incident_event_cat.shape)\n"
   ]
  },
  {
   "cell_type": "code",
   "execution_count": 96,
   "metadata": {},
   "outputs": [],
   "source": [
    "incident_event_cat[\"Total_incident_count\"] = incident_event_cat.apply(lambda x: x.sum(), axis=1)"
   ]
  },
  {
   "cell_type": "code",
   "execution_count": 98,
   "metadata": {},
   "outputs": [
    {
     "name": "stdout",
     "output_type": "stream",
     "text": [
      "count    124293.000000\n",
      "mean          0.173638\n",
      "std           1.043014\n",
      "min           0.000000\n",
      "25%           0.000000\n",
      "50%           0.000000\n",
      "75%           0.000000\n",
      "max          68.000000\n",
      "Name: Total_incident_count, dtype: float64\n"
     ]
    }
   ],
   "source": [
    "print(incident_event_cat[\"Total_incident_count\"].describe())"
   ]
  },
  {
   "cell_type": "code",
   "execution_count": 99,
   "metadata": {},
   "outputs": [
    {
     "data": {
      "text/plain": [
       "<matplotlib.axes._subplots.AxesSubplot at 0x129555550>"
      ]
     },
     "execution_count": 99,
     "metadata": {},
     "output_type": "execute_result"
    },
    {
     "data": {
      "image/png": "[encoded data removed]",
      "text/plain": [
       "<Figure size 792x288 with 1 Axes>"
      ]
     },
     "metadata": {},
     "output_type": "display_data"
    }
   ],
   "source": [
    "incident_event_cat[\"Total_incident_count\"].plot(linewidth=0.5)"
   ]
  },
  {
   "cell_type": "code",
   "execution_count": 101,
   "metadata": {},
   "outputs": [],
   "source": [
    "incident_event_cat[\"response_variable\"] = incident_event_cat[\"Total_incident_count\"].apply(lambda x: 1 if x != 0 else 0)\n"
   ]
  },
  {
   "cell_type": "code",
   "execution_count": 105,
   "metadata": {},
   "outputs": [
    {
     "name": "stdout",
     "output_type": "stream",
     "text": [
      "0    114684\n",
      "1      9609\n",
      "Name: response_variable, dtype: int64\n"
     ]
    }
   ],
   "source": [
    "print(incident_event_cat.response_variable.value_counts())"
   ]
  },
  {
   "cell_type": "code",
   "execution_count": 107,
   "metadata": {},
   "outputs": [
    {
     "data": {
      "image/png": "[encoded data removed]",
      "text/plain": [
       "<Figure size 792x288 with 1 Axes>"
      ]
     },
     "metadata": {},
     "output_type": "display_data"
    }
   ],
   "source": [
    "labels = [u\"Without Incidents\", u\"With Incidents\"]\n",
    "counts_summary = incident_event_cat.response_variable.value_counts()\n",
    "\n",
    "plt.pie(counts_summary, labels=labels, autopct='%1.1f%%')\n",
    "plt.legend()\n",
    "plt.show()\n"
   ]
  },
  {
   "cell_type": "code",
   "execution_count": 108,
   "metadata": {},
   "outputs": [],
   "source": [
    "incident_event_cat.to_csv(\"Incident_cat.csv\")"
   ]
  },
  {
   "cell_type": "markdown",
   "metadata": {},
   "source": [
    "## Processing the Incident Subcategory"
   ]
  },
  {
   "cell_type": "code",
   "execution_count": 109,
   "metadata": {},
   "outputs": [
    {
     "name": "stdout",
     "output_type": "stream",
     "text": [
      "(124293, 76)\n"
     ]
    }
   ],
   "source": [
    "incident_subcatgry_list = []\n",
    "for item in keys:\n",
    "    if item.startswith(\"incident_subcatgry\"):\n",
    "        incident_subcatgry_list.append(item)\n",
    "subcat_data = selected_data[incident_subcatgry_list]\n",
    "print(subcat_data.shape)"
   ]
  },
  {
   "cell_type": "code",
   "execution_count": 111,
   "metadata": {},
   "outputs": [
    {
     "name": "stdout",
     "output_type": "stream",
     "text": [
      "[[ 1.00000000e+00 -6.38756659e-05 -4.62242322e-05 ... -1.86320165e-04\n",
      "  -3.01053413e-05 -1.79907312e-05]\n",
      " [-6.38756659e-05  1.00000000e+00 -3.66985008e-04 ... -1.47923944e-03\n",
      "  -2.39013357e-04 -1.42832629e-04]\n",
      " [-4.62242322e-05 -3.66985008e-04  1.00000000e+00 ...  2.15549220e-02\n",
      "  -1.72964285e-04 -1.03362189e-04]\n",
      " ...\n",
      " [-1.86320165e-04 -1.47923944e-03  2.15549220e-02 ...  1.00000000e+00\n",
      "  -6.97182681e-04  1.90620530e-02]\n",
      " [-3.01053413e-05 -2.39013357e-04 -1.72964285e-04 ... -6.97182681e-04\n",
      "   1.00000000e+00 -6.73186728e-05]\n",
      " [-1.79907312e-05 -1.42832629e-04 -1.03362189e-04 ...  1.90620530e-02\n",
      "  -6.73186728e-05  1.00000000e+00]]\n"
     ]
    }
   ],
   "source": [
    "from scipy import stats\n",
    "\n",
    "rho,pval=stats.spearmanr(subcat_data)\n",
    "print(rho)  ## From here we see independent relationships between subcategories"
   ]
  },
  {
   "cell_type": "code",
   "execution_count": 113,
   "metadata": {},
   "outputs": [
    {
     "data": {
      "text/plain": [
       "<matplotlib.axes._subplots.AxesSubplot at 0x11c0efda0>"
      ]
     },
     "execution_count": 113,
     "metadata": {},
     "output_type": "execute_result"
    },
    {
     "data": {
      "image/png": "[encoded data removed]",
      "text/plain": [
       "<Figure size 792x288 with 1 Axes>"
      ]
     },
     "metadata": {},
     "output_type": "display_data"
    }
   ],
   "source": [
    "subcat_data[\"incident_subcatgry_unknown_piv\"].plot(linewidth=0.5)"
   ]
  },
  {
   "cell_type": "code",
   "execution_count": 112,
   "metadata": {},
   "outputs": [],
   "source": [
    "subcat_data.to_csv(\"subcategory_feature.csv\")"
   ]
  },
  {
   "cell_type": "markdown",
   "metadata": {},
   "source": [
    "##  Processing Diagnosistype"
   ]
  },
  {
   "cell_type": "code",
   "execution_count": 114,
   "metadata": {},
   "outputs": [],
   "source": [
    "all_keys = content.keys()"
   ]
  },
  {
   "cell_type": "code",
   "execution_count": 116,
   "metadata": {},
   "outputs": [
    {
     "name": "stdout",
     "output_type": "stream",
     "text": [
      "(124293, 44)\n"
     ]
    }
   ],
   "source": [
    "diag_cat_list = []\n",
    "for item in all_keys:\n",
    "    if item.startswith(\"diagnosiscat_\"):\n",
    "        diag_cat_list.append(item)\n",
    "diag_cat_data = content[diag_cat_list]\n",
    "print(diag_cat_data.shape)"
   ]
  },
  {
   "cell_type": "code",
   "execution_count": 117,
   "metadata": {},
   "outputs": [
    {
     "name": "stdout",
     "output_type": "stream",
     "text": [
      "['diagnosiscat_allergy_piv', 'diagnosiscat_huntington’s_disease_piv', 'diagnosiscat_eating_disorder_piv', 'diagnosiscat_high_medical_needs_piv', 'diagnosiscat_medical_condition_ongoing_piv', 'diagnosiscat_personality_disorder_piv', 'diagnosiscat_childhood_disorder_piv', 'diagnosiscat_adjustment_disorder_piv', 'diagnosiscat_tuberous_sclerosis_piv', 'diagnosiscat_infectious_disease_piv', 'diagnosiscat_autism_spectrum_disorder_piv', 'diagnosiscat_fragile_x_syndrome_piv', 'diagnosiscat_hearing_sensory_piv', 'diagnosiscat_psychotic_disorder_piv', 'diagnosiscat_down_syndrome_piv', 'diagnosiscat_multiple_sclerosis_piv', 'diagnosiscat_substance_related_disorder_piv', 'diagnosiscat_scoliosis_piv', 'diagnosiscat_anxiety_disorder_piv', 'diagnosiscat_vision_sensory_piv', 'diagnosiscat_foetal_alcohol_syndrome_piv', 'diagnosiscat_muscular_dystrophy_piv', 'diagnosiscat_intellectual_disability_piv', 'diagnosiscat_medical_condition_temporary_piv', 'diagnosiscat_developmental_delay_0_5_years_only_piv', 'diagnosiscat_specific_learning_difficulties_other_than_intellectual_piv', 'diagnosiscat_pervasive_developmental_delay_piv', 'diagnosiscat_attention_deficit_hyperactivity_disorder_piv', 'diagnosiscat_high_risk_clinical_needs_piv', 'diagnosiscat_deafblind_dual_sensory_piv', 'diagnosiscat_mood_disorder_piv', 'diagnosiscat_speech_impairment_piv', 'diagnosiscat_para_quadri_tetra_hemiplegia_piv', 'diagnosiscat_motor_neurone_disease_piv', 'diagnosiscat_acquired_brain_injury_piv', 'diagnosiscat_spina_bifida_piv', 'diagnosiscat_psychiatric_disability_piv', 'diagnosiscat_other_physical_piv', 'diagnosiscat_other_neurological_piv', 'diagnosiscat_cerebral_palsy_piv', 'diagnosiscat_rett_syndrome_piv', 'diagnosiscat_prader_willi_syndrome_piv', 'diagnosiscat_other_piv', 'diagnosiscat_dementia_piv']\n"
     ]
    }
   ],
   "source": [
    "print(diag_cat_list)"
   ]
  },
  {
   "cell_type": "code",
   "execution_count": 119,
   "metadata": {},
   "outputs": [
    {
     "data": {
      "text/html": [
       "<div>\n",
       "<style scoped>\n",
       "    .dataframe tbody tr th:only-of-type {\n",
       "        vertical-align: middle;\n",
       "    }\n",
       "\n",
       "    .dataframe tbody tr th {\n",
       "        vertical-align: top;\n",
       "    }\n",
       "\n",
       "    .dataframe thead th {\n",
       "        text-align: right;\n",
       "    }\n",
       "</style>\n",
       "<table border=\"1\" class=\"dataframe\">\n",
       "  <thead>\n",
       "    <tr style=\"text-align: right;\">\n",
       "      <th></th>\n",
       "      <th>diagnosiscat_allergy_piv</th>\n",
       "      <th>diagnosiscat_huntington’s_disease_piv</th>\n",
       "      <th>diagnosiscat_eating_disorder_piv</th>\n",
       "      <th>diagnosiscat_high_medical_needs_piv</th>\n",
       "      <th>diagnosiscat_medical_condition_ongoing_piv</th>\n",
       "      <th>diagnosiscat_personality_disorder_piv</th>\n",
       "      <th>diagnosiscat_childhood_disorder_piv</th>\n",
       "      <th>diagnosiscat_adjustment_disorder_piv</th>\n",
       "      <th>diagnosiscat_tuberous_sclerosis_piv</th>\n",
       "      <th>diagnosiscat_infectious_disease_piv</th>\n",
       "      <th>...</th>\n",
       "      <th>diagnosiscat_acquired_brain_injury_piv</th>\n",
       "      <th>diagnosiscat_spina_bifida_piv</th>\n",
       "      <th>diagnosiscat_psychiatric_disability_piv</th>\n",
       "      <th>diagnosiscat_other_physical_piv</th>\n",
       "      <th>diagnosiscat_other_neurological_piv</th>\n",
       "      <th>diagnosiscat_cerebral_palsy_piv</th>\n",
       "      <th>diagnosiscat_rett_syndrome_piv</th>\n",
       "      <th>diagnosiscat_prader_willi_syndrome_piv</th>\n",
       "      <th>diagnosiscat_other_piv</th>\n",
       "      <th>diagnosiscat_dementia_piv</th>\n",
       "    </tr>\n",
       "  </thead>\n",
       "  <tbody>\n",
       "    <tr>\n",
       "      <th>count</th>\n",
       "      <td>124293.000000</td>\n",
       "      <td>124293.000000</td>\n",
       "      <td>124293.000000</td>\n",
       "      <td>124293.000000</td>\n",
       "      <td>124293.000000</td>\n",
       "      <td>124293.000000</td>\n",
       "      <td>124293.000000</td>\n",
       "      <td>124293.000000</td>\n",
       "      <td>124293.000000</td>\n",
       "      <td>124293.000000</td>\n",
       "      <td>...</td>\n",
       "      <td>124293.000000</td>\n",
       "      <td>124293.000000</td>\n",
       "      <td>124293.000000</td>\n",
       "      <td>124293.000000</td>\n",
       "      <td>124293.000000</td>\n",
       "      <td>124293.000000</td>\n",
       "      <td>124293.000000</td>\n",
       "      <td>124293.000000</td>\n",
       "      <td>124293.000000</td>\n",
       "      <td>124293.000000</td>\n",
       "    </tr>\n",
       "    <tr>\n",
       "      <th>mean</th>\n",
       "      <td>0.000394</td>\n",
       "      <td>0.000024</td>\n",
       "      <td>0.000064</td>\n",
       "      <td>0.003709</td>\n",
       "      <td>0.006316</td>\n",
       "      <td>0.000491</td>\n",
       "      <td>0.000426</td>\n",
       "      <td>0.000072</td>\n",
       "      <td>0.000016</td>\n",
       "      <td>0.000089</td>\n",
       "      <td>...</td>\n",
       "      <td>0.000475</td>\n",
       "      <td>0.000032</td>\n",
       "      <td>0.000137</td>\n",
       "      <td>0.000306</td>\n",
       "      <td>0.000290</td>\n",
       "      <td>0.000660</td>\n",
       "      <td>0.000040</td>\n",
       "      <td>0.000008</td>\n",
       "      <td>0.002671</td>\n",
       "      <td>0.000105</td>\n",
       "    </tr>\n",
       "    <tr>\n",
       "      <th>std</th>\n",
       "      <td>0.022865</td>\n",
       "      <td>0.004913</td>\n",
       "      <td>0.008022</td>\n",
       "      <td>0.068622</td>\n",
       "      <td>0.109270</td>\n",
       "      <td>0.024230</td>\n",
       "      <td>0.026453</td>\n",
       "      <td>0.010985</td>\n",
       "      <td>0.004011</td>\n",
       "      <td>0.009407</td>\n",
       "      <td>...</td>\n",
       "      <td>0.021782</td>\n",
       "      <td>0.005673</td>\n",
       "      <td>0.011694</td>\n",
       "      <td>0.017483</td>\n",
       "      <td>0.017937</td>\n",
       "      <td>0.025988</td>\n",
       "      <td>0.006342</td>\n",
       "      <td>0.002836</td>\n",
       "      <td>0.064377</td>\n",
       "      <td>0.010227</td>\n",
       "    </tr>\n",
       "    <tr>\n",
       "      <th>min</th>\n",
       "      <td>0.000000</td>\n",
       "      <td>0.000000</td>\n",
       "      <td>0.000000</td>\n",
       "      <td>0.000000</td>\n",
       "      <td>0.000000</td>\n",
       "      <td>0.000000</td>\n",
       "      <td>0.000000</td>\n",
       "      <td>0.000000</td>\n",
       "      <td>0.000000</td>\n",
       "      <td>0.000000</td>\n",
       "      <td>...</td>\n",
       "      <td>0.000000</td>\n",
       "      <td>0.000000</td>\n",
       "      <td>0.000000</td>\n",
       "      <td>0.000000</td>\n",
       "      <td>0.000000</td>\n",
       "      <td>0.000000</td>\n",
       "      <td>0.000000</td>\n",
       "      <td>0.000000</td>\n",
       "      <td>0.000000</td>\n",
       "      <td>0.000000</td>\n",
       "    </tr>\n",
       "    <tr>\n",
       "      <th>25%</th>\n",
       "      <td>0.000000</td>\n",
       "      <td>0.000000</td>\n",
       "      <td>0.000000</td>\n",
       "      <td>0.000000</td>\n",
       "      <td>0.000000</td>\n",
       "      <td>0.000000</td>\n",
       "      <td>0.000000</td>\n",
       "      <td>0.000000</td>\n",
       "      <td>0.000000</td>\n",
       "      <td>0.000000</td>\n",
       "      <td>...</td>\n",
       "      <td>0.000000</td>\n",
       "      <td>0.000000</td>\n",
       "      <td>0.000000</td>\n",
       "      <td>0.000000</td>\n",
       "      <td>0.000000</td>\n",
       "      <td>0.000000</td>\n",
       "      <td>0.000000</td>\n",
       "      <td>0.000000</td>\n",
       "      <td>0.000000</td>\n",
       "      <td>0.000000</td>\n",
       "    </tr>\n",
       "    <tr>\n",
       "      <th>50%</th>\n",
       "      <td>0.000000</td>\n",
       "      <td>0.000000</td>\n",
       "      <td>0.000000</td>\n",
       "      <td>0.000000</td>\n",
       "      <td>0.000000</td>\n",
       "      <td>0.000000</td>\n",
       "      <td>0.000000</td>\n",
       "      <td>0.000000</td>\n",
       "      <td>0.000000</td>\n",
       "      <td>0.000000</td>\n",
       "      <td>...</td>\n",
       "      <td>0.000000</td>\n",
       "      <td>0.000000</td>\n",
       "      <td>0.000000</td>\n",
       "      <td>0.000000</td>\n",
       "      <td>0.000000</td>\n",
       "      <td>0.000000</td>\n",
       "      <td>0.000000</td>\n",
       "      <td>0.000000</td>\n",
       "      <td>0.000000</td>\n",
       "      <td>0.000000</td>\n",
       "    </tr>\n",
       "    <tr>\n",
       "      <th>75%</th>\n",
       "      <td>0.000000</td>\n",
       "      <td>0.000000</td>\n",
       "      <td>0.000000</td>\n",
       "      <td>0.000000</td>\n",
       "      <td>0.000000</td>\n",
       "      <td>0.000000</td>\n",
       "      <td>0.000000</td>\n",
       "      <td>0.000000</td>\n",
       "      <td>0.000000</td>\n",
       "      <td>0.000000</td>\n",
       "      <td>...</td>\n",
       "      <td>0.000000</td>\n",
       "      <td>0.000000</td>\n",
       "      <td>0.000000</td>\n",
       "      <td>0.000000</td>\n",
       "      <td>0.000000</td>\n",
       "      <td>0.000000</td>\n",
       "      <td>0.000000</td>\n",
       "      <td>0.000000</td>\n",
       "      <td>0.000000</td>\n",
       "      <td>0.000000</td>\n",
       "    </tr>\n",
       "    <tr>\n",
       "      <th>max</th>\n",
       "      <td>3.000000</td>\n",
       "      <td>1.000000</td>\n",
       "      <td>1.000000</td>\n",
       "      <td>5.000000</td>\n",
       "      <td>9.000000</td>\n",
       "      <td>2.000000</td>\n",
       "      <td>3.000000</td>\n",
       "      <td>3.000000</td>\n",
       "      <td>1.000000</td>\n",
       "      <td>1.000000</td>\n",
       "      <td>...</td>\n",
       "      <td>1.000000</td>\n",
       "      <td>1.000000</td>\n",
       "      <td>1.000000</td>\n",
       "      <td>1.000000</td>\n",
       "      <td>2.000000</td>\n",
       "      <td>2.000000</td>\n",
       "      <td>1.000000</td>\n",
       "      <td>1.000000</td>\n",
       "      <td>6.000000</td>\n",
       "      <td>1.000000</td>\n",
       "    </tr>\n",
       "  </tbody>\n",
       "</table>\n",
       "<p>8 rows × 44 columns</p>\n",
       "</div>"
      ],
      "text/plain": [
       "       diagnosiscat_allergy_piv  diagnosiscat_huntington’s_disease_piv  \\\n",
       "count             124293.000000                          124293.000000   \n",
       "mean                   0.000394                               0.000024   \n",
       "std                    0.022865                               0.004913   \n",
       "min                    0.000000                               0.000000   \n",
       "25%                    0.000000                               0.000000   \n",
       "50%                    0.000000                               0.000000   \n",
       "75%                    0.000000                               0.000000   \n",
       "max                    3.000000                               1.000000   \n",
       "\n",
       "       diagnosiscat_eating_disorder_piv  diagnosiscat_high_medical_needs_piv  \\\n",
       "count                     124293.000000                        124293.000000   \n",
       "mean                           0.000064                             0.003709   \n",
       "std                            0.008022                             0.068622   \n",
       "min                            0.000000                             0.000000   \n",
       "25%                            0.000000                             0.000000   \n",
       "50%                            0.000000                             0.000000   \n",
       "75%                            0.000000                             0.000000   \n",
       "max                            1.000000                             5.000000   \n",
       "\n",
       "       diagnosiscat_medical_condition_ongoing_piv  \\\n",
       "count                               124293.000000   \n",
       "mean                                     0.006316   \n",
       "std                                      0.109270   \n",
       "min                                      0.000000   \n",
       "25%                                      0.000000   \n",
       "50%                                      0.000000   \n",
       "75%                                      0.000000   \n",
       "max                                      9.000000   \n",
       "\n",
       "       diagnosiscat_personality_disorder_piv  \\\n",
       "count                          124293.000000   \n",
       "mean                                0.000491   \n",
       "std                                 0.024230   \n",
       "min                                 0.000000   \n",
       "25%                                 0.000000   \n",
       "50%                                 0.000000   \n",
       "75%                                 0.000000   \n",
       "max                                 2.000000   \n",
       "\n",
       "       diagnosiscat_childhood_disorder_piv  \\\n",
       "count                        124293.000000   \n",
       "mean                              0.000426   \n",
       "std                               0.026453   \n",
       "min                               0.000000   \n",
       "25%                               0.000000   \n",
       "50%                               0.000000   \n",
       "75%                               0.000000   \n",
       "max                               3.000000   \n",
       "\n",
       "       diagnosiscat_adjustment_disorder_piv  \\\n",
       "count                         124293.000000   \n",
       "mean                               0.000072   \n",
       "std                                0.010985   \n",
       "min                                0.000000   \n",
       "25%                                0.000000   \n",
       "50%                                0.000000   \n",
       "75%                                0.000000   \n",
       "max                                3.000000   \n",
       "\n",
       "       diagnosiscat_tuberous_sclerosis_piv  \\\n",
       "count                        124293.000000   \n",
       "mean                              0.000016   \n",
       "std                               0.004011   \n",
       "min                               0.000000   \n",
       "25%                               0.000000   \n",
       "50%                               0.000000   \n",
       "75%                               0.000000   \n",
       "max                               1.000000   \n",
       "\n",
       "       diagnosiscat_infectious_disease_piv            ...              \\\n",
       "count                        124293.000000            ...               \n",
       "mean                              0.000089            ...               \n",
       "std                               0.009407            ...               \n",
       "min                               0.000000            ...               \n",
       "25%                               0.000000            ...               \n",
       "50%                               0.000000            ...               \n",
       "75%                               0.000000            ...               \n",
       "max                               1.000000            ...               \n",
       "\n",
       "       diagnosiscat_acquired_brain_injury_piv  diagnosiscat_spina_bifida_piv  \\\n",
       "count                           124293.000000                  124293.000000   \n",
       "mean                                 0.000475                       0.000032   \n",
       "std                                  0.021782                       0.005673   \n",
       "min                                  0.000000                       0.000000   \n",
       "25%                                  0.000000                       0.000000   \n",
       "50%                                  0.000000                       0.000000   \n",
       "75%                                  0.000000                       0.000000   \n",
       "max                                  1.000000                       1.000000   \n",
       "\n",
       "       diagnosiscat_psychiatric_disability_piv  \\\n",
       "count                            124293.000000   \n",
       "mean                                  0.000137   \n",
       "std                                   0.011694   \n",
       "min                                   0.000000   \n",
       "25%                                   0.000000   \n",
       "50%                                   0.000000   \n",
       "75%                                   0.000000   \n",
       "max                                   1.000000   \n",
       "\n",
       "       diagnosiscat_other_physical_piv  diagnosiscat_other_neurological_piv  \\\n",
       "count                    124293.000000                        124293.000000   \n",
       "mean                          0.000306                             0.000290   \n",
       "std                           0.017483                             0.017937   \n",
       "min                           0.000000                             0.000000   \n",
       "25%                           0.000000                             0.000000   \n",
       "50%                           0.000000                             0.000000   \n",
       "75%                           0.000000                             0.000000   \n",
       "max                           1.000000                             2.000000   \n",
       "\n",
       "       diagnosiscat_cerebral_palsy_piv  diagnosiscat_rett_syndrome_piv  \\\n",
       "count                    124293.000000                   124293.000000   \n",
       "mean                          0.000660                        0.000040   \n",
       "std                           0.025988                        0.006342   \n",
       "min                           0.000000                        0.000000   \n",
       "25%                           0.000000                        0.000000   \n",
       "50%                           0.000000                        0.000000   \n",
       "75%                           0.000000                        0.000000   \n",
       "max                           2.000000                        1.000000   \n",
       "\n",
       "       diagnosiscat_prader_willi_syndrome_piv  diagnosiscat_other_piv  \\\n",
       "count                           124293.000000           124293.000000   \n",
       "mean                                 0.000008                0.002671   \n",
       "std                                  0.002836                0.064377   \n",
       "min                                  0.000000                0.000000   \n",
       "25%                                  0.000000                0.000000   \n",
       "50%                                  0.000000                0.000000   \n",
       "75%                                  0.000000                0.000000   \n",
       "max                                  1.000000                6.000000   \n",
       "\n",
       "       diagnosiscat_dementia_piv  \n",
       "count              124293.000000  \n",
       "mean                    0.000105  \n",
       "std                     0.010227  \n",
       "min                     0.000000  \n",
       "25%                     0.000000  \n",
       "50%                     0.000000  \n",
       "75%                     0.000000  \n",
       "max                     1.000000  \n",
       "\n",
       "[8 rows x 44 columns]"
      ]
     },
     "execution_count": 119,
     "metadata": {},
     "output_type": "execute_result"
    }
   ],
   "source": [
    "diag_cat_data.describe()"
   ]
  },
  {
   "cell_type": "code",
   "execution_count": 121,
   "metadata": {},
   "outputs": [],
   "source": [
    "diag_cat_data.to_csv(\"diag_cat.csv\")"
   ]
  },
  {
   "cell_type": "code",
   "execution_count": 126,
   "metadata": {},
   "outputs": [
    {
     "name": "stdout",
     "output_type": "stream",
     "text": [
      "4\n"
     ]
    }
   ],
   "source": [
    "diag_type_list = []\n",
    "for item in all_keys:\n",
    "    if item.startswith(\"diagnosistype\") and item.endswith(\"_piv\"):\n",
    "        diag_type_list.append(item)\n",
    "diag_type_data = content[diag_type_list]\n",
    "print(len(diag_type_list))"
   ]
  },
  {
   "cell_type": "code",
   "execution_count": 127,
   "metadata": {},
   "outputs": [
    {
     "data": {
      "text/html": [
       "<div>\n",
       "<style scoped>\n",
       "    .dataframe tbody tr th:only-of-type {\n",
       "        vertical-align: middle;\n",
       "    }\n",
       "\n",
       "    .dataframe tbody tr th {\n",
       "        vertical-align: top;\n",
       "    }\n",
       "\n",
       "    .dataframe thead th {\n",
       "        text-align: right;\n",
       "    }\n",
       "</style>\n",
       "<table border=\"1\" class=\"dataframe\">\n",
       "  <thead>\n",
       "    <tr style=\"text-align: right;\">\n",
       "      <th></th>\n",
       "      <th>diagnosistype_disability_piv</th>\n",
       "      <th>diagnosistype_medical_piv</th>\n",
       "      <th>diagnosistype_mental_health_piv</th>\n",
       "      <th>diagnosistype_complex_support_needs_piv</th>\n",
       "    </tr>\n",
       "  </thead>\n",
       "  <tbody>\n",
       "    <tr>\n",
       "      <th>count</th>\n",
       "      <td>124293.000000</td>\n",
       "      <td>124293.000000</td>\n",
       "      <td>124293.00000</td>\n",
       "      <td>124293.000000</td>\n",
       "    </tr>\n",
       "    <tr>\n",
       "      <th>mean</th>\n",
       "      <td>0.012696</td>\n",
       "      <td>0.008118</td>\n",
       "      <td>0.00671</td>\n",
       "      <td>0.003926</td>\n",
       "    </tr>\n",
       "    <tr>\n",
       "      <th>std</th>\n",
       "      <td>0.139131</td>\n",
       "      <td>0.130749</td>\n",
       "      <td>0.11009</td>\n",
       "      <td>0.072321</td>\n",
       "    </tr>\n",
       "    <tr>\n",
       "      <th>min</th>\n",
       "      <td>0.000000</td>\n",
       "      <td>0.000000</td>\n",
       "      <td>0.00000</td>\n",
       "      <td>0.000000</td>\n",
       "    </tr>\n",
       "    <tr>\n",
       "      <th>25%</th>\n",
       "      <td>0.000000</td>\n",
       "      <td>0.000000</td>\n",
       "      <td>0.00000</td>\n",
       "      <td>0.000000</td>\n",
       "    </tr>\n",
       "    <tr>\n",
       "      <th>50%</th>\n",
       "      <td>0.000000</td>\n",
       "      <td>0.000000</td>\n",
       "      <td>0.00000</td>\n",
       "      <td>0.000000</td>\n",
       "    </tr>\n",
       "    <tr>\n",
       "      <th>75%</th>\n",
       "      <td>0.000000</td>\n",
       "      <td>0.000000</td>\n",
       "      <td>0.00000</td>\n",
       "      <td>0.000000</td>\n",
       "    </tr>\n",
       "    <tr>\n",
       "      <th>max</th>\n",
       "      <td>6.000000</td>\n",
       "      <td>14.000000</td>\n",
       "      <td>9.00000</td>\n",
       "      <td>6.000000</td>\n",
       "    </tr>\n",
       "  </tbody>\n",
       "</table>\n",
       "</div>"
      ],
      "text/plain": [
       "       diagnosistype_disability_piv  diagnosistype_medical_piv  \\\n",
       "count                 124293.000000              124293.000000   \n",
       "mean                       0.012696                   0.008118   \n",
       "std                        0.139131                   0.130749   \n",
       "min                        0.000000                   0.000000   \n",
       "25%                        0.000000                   0.000000   \n",
       "50%                        0.000000                   0.000000   \n",
       "75%                        0.000000                   0.000000   \n",
       "max                        6.000000                  14.000000   \n",
       "\n",
       "       diagnosistype_mental_health_piv  \\\n",
       "count                     124293.00000   \n",
       "mean                           0.00671   \n",
       "std                            0.11009   \n",
       "min                            0.00000   \n",
       "25%                            0.00000   \n",
       "50%                            0.00000   \n",
       "75%                            0.00000   \n",
       "max                            9.00000   \n",
       "\n",
       "       diagnosistype_complex_support_needs_piv  \n",
       "count                            124293.000000  \n",
       "mean                                  0.003926  \n",
       "std                                   0.072321  \n",
       "min                                   0.000000  \n",
       "25%                                   0.000000  \n",
       "50%                                   0.000000  \n",
       "75%                                   0.000000  \n",
       "max                                   6.000000  "
      ]
     },
     "execution_count": 127,
     "metadata": {},
     "output_type": "execute_result"
    }
   ],
   "source": [
    "diag_type_data.describe()"
   ]
  },
  {
   "cell_type": "code",
   "execution_count": 128,
   "metadata": {},
   "outputs": [],
   "source": [
    "diag_type_data.to_csv(\"dia_type.csv\")"
   ]
  },
  {
   "cell_type": "code",
   "execution_count": null,
   "metadata": {},
   "outputs": [],
   "source": []
  }
 ],
 "metadata": {
  "kernelspec": {
   "display_name": "Python 3",
   "language": "python",
   "name": "python3"
  },
  "language_info": {
   "codemirror_mode": {
    "name": "ipython",
    "version": 3
   },
   "file_extension": ".py",
   "mimetype": "text/x-python",
   "name": "python",
   "nbconvert_exporter": "python",
   "pygments_lexer": "ipython3",
   "version": "3.7.6"
  }
 },
 "nbformat": 4,
 "nbformat_minor": 4
}
