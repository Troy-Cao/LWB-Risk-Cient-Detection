{
 "cells": [
  {
   "cell_type": "code",
   "execution_count": 25,
   "metadata": {},
   "outputs": [],
   "source": [
    "import numpy as np\n",
    "import pandas as pd\n",
    "from IPython.core.interactiveshell import InteractiveShell\n",
    "InteractiveShell.ast_node_interactivity = \"all\""
   ]
  },
  {
   "cell_type": "code",
   "execution_count": 26,
   "metadata": {},
   "outputs": [],
   "source": [
    "filename = \"20200404_LWB_Client_Events_Month.csv\"\n"
   ]
  },
  {
   "cell_type": "code",
   "execution_count": 27,
   "metadata": {},
   "outputs": [
    {
     "name": "stderr",
     "output_type": "stream",
     "text": [
      "/Users/miaoqinli/opt/anaconda3/lib/python3.7/site-packages/IPython/core/interactiveshell.py:3058: DtypeWarning: Columns (849,856,934,935,936,938,939,940,941,942,943,944,945,947,948,949,951,952,953,975,976,978,1008,1014,1029) have mixed types. Specify dtype option on import or set low_memory=False.\n",
      "  interactivity=interactivity, compiler=compiler, result=result)\n"
     ]
    }
   ],
   "source": [
    "fullData = pd.read_csv(filename)\n",
    "#data = pd.read_csv(filename, nrows=1000)"
   ]
  },
  {
   "cell_type": "code",
   "execution_count": 28,
   "metadata": {},
   "outputs": [
    {
     "data": {
      "text/plain": [
       "Index(['allrows_client_row_natural_id', 'allrows_client_cirtsid_anon_hash',\n",
       "       'allrows_client_regionid_anon_hash',\n",
       "       'allrows_client_countryid_anon_hash', 'allrows_client_didexistprecirts',\n",
       "       'allrows_client_isactive', 'allrows_client_statusreason',\n",
       "       'allrows_client_createdbyid', 'allrows_client_keyworker_anon_hash',\n",
       "       'allrows_client_clientinactivestatusreasonid',\n",
       "       ...\n",
       "       'allrows_keyworker_seifa_percentile_min_alltime',\n",
       "       'allrows_client_age_at_event', 'allrows_client_maoridescent_string',\n",
       "       'allrows_join_clientpostcode_seifa_score',\n",
       "       'allrows_join_clientpostcode_seifa_ausrank',\n",
       "       'allrows_join_clientpostcode_seifa_decile',\n",
       "       'allrows_join_clientpostcode_seifa_percentile',\n",
       "       'allrows_client_days_since_first_contact', 'allrows_client_current_age',\n",
       "       'allrows_client_current_age_group'],\n",
       "      dtype='object', length=231)"
      ]
     },
     "execution_count": 28,
     "metadata": {},
     "output_type": "execute_result"
    }
   ],
   "source": [
    "column_of_allrows = fullData.filter(regex=r'^allrows', axis=1)\n",
    "column_of_allrows.columns\n"
   ]
  },
  {
   "cell_type": "code",
   "execution_count": 29,
   "metadata": {},
   "outputs": [],
   "source": [
    "#drop non_numeric column，they are information of id,hash data,detail data and description data\n",
    "numeric_column = column_of_allrows.drop(['allrows_diagnosis_primary_highest_severity_diagnosis_diagnosistypeid',\n",
    "                                         'allrows_diagnosis_primary_highest_severity_diagnosis_diagnosiscategoryid',\n",
    "                                         'allrows_diagnosis_primary_highest_severity_diagnosis_category_id',\n",
    "                                         'allrows_diagnosis_primary_highest_severity_diagnosis_type_id',\n",
    "                                         'allrows_datejoin_clientaddresschange_livingarrangementid',\n",
    "                                         'allrows_datejoin_clientaddresschange_addresstypeid',\n",
    "                                         'allrows_datejoin_clientaddresschange_state',\n",
    "                                         'allrows_datejoin_clientaddresschange_livingarrangement_description',\n",
    "                                         'allrows_datejoin_clientaddresschange_residentialsetting_description',\n",
    "                                         'allrows_datejoin_client_best_address_addresstypeid',\n",
    "                                         'allrows_datejoin_client_best_address_countryid',\n",
    "                                         'allrows_datejoin_client_best_address_state',\n",
    "                                         'allrows_client_row_natural_id','allrows_client_cirtsid_anon_hash',\n",
    "                                         'allrows_client_regionid_anon_hash','allrows_client_countryid_anon_hash',\n",
    "                                         'allrows_client_createdbyid','allrows_client_keyworker_anon_hash',\n",
    "                                         'allrows_client_clientinactivestatusreasonid','allrows_client_sectorid_min',\n",
    "                                         'allrows_client_sectormin_description_anon_hash','allrows_client_region_description_anon_hash',\n",
    "                                         'allrows_client_stateid','allrows_client_countryid_allrow_latest',\n",
    "                                         'allrows_client_state_anon_hash','allrows_client_row_natural_id_dup',\n",
    "                                         'allrows_client_title_anon_hash','allrows_client_countryofbirthid',\n",
    "                                         'allrows_client_placeofbirth_anon_hash','allrows_client_atsiid',\n",
    "                                         'allrows_client_clanid','allrows_client_iwiid','allrows_client_iwiotherdetail',\n",
    "                                         'allrows_client_ethnicityid','allrows_client_primarylanguageid',\n",
    "                                         'allrows_client_secondarylanguageid','allrows_client_religionid',\n",
    "                                         'allrows_diagnosis_primary_highest_severity_diagnosis_id',\n",
    "                                         'allrows_diagnosis_primary_highest_severity_diagnosis_treatmentsummary',\n",
    "                                         'allrows_event_type_detailed',\n",
    "                                         'allrows_datejoin_clientaddresschange_livingarrangementotherdetail_anon_hash',\n",
    "                                         'allrows_datejoin_clientaddresschange_residentialsettingid',\n",
    "                                         'allrows_datejoin_clientaddresschange_residentialsettingotherdetail_anon_hash',\n",
    "                                         'allrows_datejoin_clientaddresschange_address_description_anon_hash',\n",
    "                                         'allrows_datejoin_clientaddresschange_suburb_anon_hash',\n",
    "                                         'allrows_datejoin_clientaddresschange_postcode_anon_hash',\n",
    "                                         'allrows_datejoin_clientaddresschange_countryid',\n",
    "                                         'allrows_datejoin_placement_id','allrows_datejoin_placement_programid',\n",
    "                                         'allrows_datejoin_placement_fundingcontractid','allrows_datejoin_placement_placementreasonid',\n",
    "                                         'allrows_datejoin_placement_start_reasondesc_anon_hash','allrows_datejoin_servicetype_program_id',\n",
    "                                         'allrows_datejoin_servicetype_program_servicetypeid','allrows_datejoin_servicetype_program_regionid',\n",
    "                                         'allrows_datejoin_servicetype_program_reasonforentering_anon_hash',\n",
    "                                         'allrows_datejoin_client_best_address_postcode_anon_hash',\n",
    "                                         'allrows_datejoin_client_best_address_suburb_anon_hash'],axis=1)\n"
   ]
  },
  {
   "cell_type": "code",
   "execution_count": 30,
   "metadata": {},
   "outputs": [],
   "source": [
    "# #delete all_nan column\n",
    "numeric_column = numeric_column.dropna(axis=1,how='all')"
   ]
  },
  {
   "cell_type": "code",
   "execution_count": 31,
   "metadata": {},
   "outputs": [],
   "source": [
    "#del rate_of_missing_value>99%(124293*0.99)\n",
    "value_of_99perc = 124293*0.99\n",
    "numeric_column = numeric_column.dropna(thresh=124293-value_of_99perc,axis=1)"
   ]
  },
  {
   "cell_type": "code",
   "execution_count": 41,
   "metadata": {
    "scrolled": true
   },
   "outputs": [
    {
     "name": "stdout",
     "output_type": "stream",
     "text": [
      "                                                                               column_name  \\\n",
      "allrows_client_didexistprecirts                            allrows_client_didexistprecirts   \n",
      "allrows_client_isactive                                            allrows_client_isactive   \n",
      "allrows_client_statusreason                                    allrows_client_statusreason   \n",
      "allrows_client_gender                                                allrows_client_gender   \n",
      "allrows_client_dobestimated                                    allrows_client_dobestimated   \n",
      "...                                                                                    ...   \n",
      "allrows_join_clientpostcode_seifa_decile          allrows_join_clientpostcode_seifa_decile   \n",
      "allrows_join_clientpostcode_seifa_percentile  allrows_join_clientpostcode_seifa_percentile   \n",
      "allrows_client_days_since_first_contact            allrows_client_days_since_first_contact   \n",
      "allrows_client_current_age                                      allrows_client_current_age   \n",
      "allrows_client_current_age_group                          allrows_client_current_age_group   \n",
      "\n",
      "                                              percent_missing  \n",
      "allrows_client_didexistprecirts                           0.0  \n",
      "allrows_client_isactive                                   0.0  \n",
      "allrows_client_statusreason                               0.0  \n",
      "allrows_client_gender                                     0.0  \n",
      "allrows_client_dobestimated                               0.0  \n",
      "...                                                       ...  \n",
      "allrows_join_clientpostcode_seifa_decile                  0.0  \n",
      "allrows_join_clientpostcode_seifa_percentile              0.0  \n",
      "allrows_client_days_since_first_contact                   0.0  \n",
      "allrows_client_current_age                                0.0  \n",
      "allrows_client_current_age_group                          0.0  \n",
      "\n",
      "[92 rows x 2 columns]\n"
     ]
    }
   ],
   "source": [
    "#check the remainning_missing_rate\n",
    "columns = numeric_column.columns\n",
    "percent_missing = numeric_column.isnull().sum()*100/len(numeric_column)\n",
    "missing_value_numeric_column = pd.DataFrame({'column_name':columns,'percent_missing':percent_missing})\n",
    "print(missing_value_numeric_column)"
   ]
  },
  {
   "cell_type": "code",
   "execution_count": 33,
   "metadata": {},
   "outputs": [],
   "source": [
    "import seaborn as sns\n",
    "import matplotlib.pyplot as plt\n",
    "from matplotlib.pyplot import figure"
   ]
  },
  {
   "cell_type": "code",
   "execution_count": 34,
   "metadata": {},
   "outputs": [
    {
     "data": {
      "text/plain": [
       "<matplotlib.axes._subplots.AxesSubplot at 0x11a5ab210>"
      ]
     },
     "execution_count": 34,
     "metadata": {},
     "output_type": "execute_result"
    },
    {
     "data": {
      "image/png": "[encoded data removed]",
      "text/plain": [
       "<Figure size 432x288 with 1 Axes>"
      ]
     },
     "metadata": {
      "needs_background": "light"
     },
     "output_type": "display_data"
    }
   ],
   "source": [
    "# deal with some \"category\", visualisation\n",
    "numeric_column['allrows_client_statusreason'].plot(marker='.', alpha=0.5, linestyle='None')"
   ]
  },
  {
   "cell_type": "code",
   "execution_count": 35,
   "metadata": {},
   "outputs": [
    {
     "data": {
      "text/plain": [
       "<matplotlib.axes._subplots.AxesSubplot at 0x114797690>"
      ]
     },
     "execution_count": 35,
     "metadata": {},
     "output_type": "execute_result"
    },
    {
     "data": {
      "image/png": "[encoded data removed]",
      "text/plain": [
       "<Figure size 432x288 with 1 Axes>"
      ]
     },
     "metadata": {
      "needs_background": "light"
     },
     "output_type": "display_data"
    }
   ],
   "source": [
    "numeric_column['allrows_client_has_disability_diagnosis_bool'].plot(marker='.', alpha=0.5, linestyle='None')"
   ]
  },
  {
   "cell_type": "code",
   "execution_count": 36,
   "metadata": {},
   "outputs": [],
   "source": [
    "#set nan = -1 or 0,\n",
    "numeric_column['allrows_client_statusreason'].fillna(0,inplace=True)\n",
    "numeric_column['allrows_client_has_disability_diagnosis_bool'].fillna(-1,inplace=True)"
   ]
  },
  {
   "cell_type": "code",
   "execution_count": 37,
   "metadata": {},
   "outputs": [],
   "source": [
    "# deal with some \"count\"_column, set nan = 0\n",
    "for i in numeric_column:\n",
    "    numeric_column[i].fillna(0,inplace=True)"
   ]
  },
  {
   "cell_type": "code",
   "execution_count": 38,
   "metadata": {},
   "outputs": [
    {
     "data": {
      "text/plain": [
       "0    progress_note_Case Discussion / Planning\n",
       "1                            reference_active\n",
       "2                     client_address_addition\n",
       "3    progress_note_Case Discussion / Planning\n",
       "4    progress_note_Case Discussion / Planning\n",
       "5    progress_note_Case Discussion / Planning\n",
       "6                            reference_active\n",
       "7                            reference_active\n",
       "8                            reference_active\n",
       "9                            reference_active\n",
       "Name: allrows_event_type, dtype: object"
      ]
     },
     "execution_count": 38,
     "metadata": {},
     "output_type": "execute_result"
    }
   ],
   "source": [
    "# #set category data into numeric data 1/0 true or false\n",
    "numeric_column['allrows_event_type'].head(10)\n"
   ]
  },
  {
   "cell_type": "code",
   "execution_count": 43,
   "metadata": {},
   "outputs": [
    {
     "name": "stdout",
     "output_type": "stream",
     "text": [
      "        client_address_addition  client_alert_start  client_plan_end  \\\n",
      "0                             0                   0                0   \n",
      "1                             0                   0                0   \n",
      "2                             1                   0                0   \n",
      "3                             0                   0                0   \n",
      "4                             0                   0                0   \n",
      "...                         ...                 ...              ...   \n",
      "124288                        0                   0                0   \n",
      "124289                        0                   0                0   \n",
      "124290                        0                   0                0   \n",
      "124291                        0                   0                0   \n",
      "124292                        0                   0                0   \n",
      "\n",
      "        client_plan_start  diagnosis_Complex Support Needs  \\\n",
      "0                       0                                0   \n",
      "1                       0                                0   \n",
      "2                       0                                0   \n",
      "3                       0                                0   \n",
      "4                       0                                0   \n",
      "...                   ...                              ...   \n",
      "124288                  0                                0   \n",
      "124289                  0                                0   \n",
      "124290                  0                                0   \n",
      "124291                  0                                0   \n",
      "124292                  0                                0   \n",
      "\n",
      "        diagnosis_Disability  diagnosis_Medical  diagnosis_Mental Health  \\\n",
      "0                          0                  0                        0   \n",
      "1                          0                  0                        0   \n",
      "2                          0                  0                        0   \n",
      "3                          0                  0                        0   \n",
      "4                          0                  0                        0   \n",
      "...                      ...                ...                      ...   \n",
      "124288                     0                  0                        0   \n",
      "124289                     0                  0                        0   \n",
      "124290                     0                  0                        0   \n",
      "124291                     0                  0                        0   \n",
      "124292                     0                  0                        0   \n",
      "\n",
      "        incident_Critical  incident_Minor  ...  progress_note_Other  \\\n",
      "0                       0               0  ...                    0   \n",
      "1                       0               0  ...                    0   \n",
      "2                       0               0  ...                    0   \n",
      "3                       0               0  ...                    0   \n",
      "4                       0               0  ...                    0   \n",
      "...                   ...             ...  ...                  ...   \n",
      "124288                  0               0  ...                    0   \n",
      "124289                  0               0  ...                    0   \n",
      "124290                  0               0  ...                    0   \n",
      "124291                  0               0  ...                    0   \n",
      "124292                  0               0  ...                    0   \n",
      "\n",
      "        progress_note_Out of Service  progress_note_Placement Agreement  \\\n",
      "0                                  0                                  0   \n",
      "1                                  0                                  0   \n",
      "2                                  0                                  0   \n",
      "3                                  0                                  0   \n",
      "4                                  0                                  0   \n",
      "...                              ...                                ...   \n",
      "124288                             0                                  0   \n",
      "124289                             0                                  0   \n",
      "124290                             0                                  0   \n",
      "124291                             0                                  0   \n",
      "124292                             0                                  0   \n",
      "\n",
      "        progress_note_Presenting or Challenging Behaviours  \\\n",
      "0                                                       0    \n",
      "1                                                       0    \n",
      "2                                                       0    \n",
      "3                                                       0    \n",
      "4                                                       0    \n",
      "...                                                   ...    \n",
      "124288                                                  0    \n",
      "124289                                                  0    \n",
      "124290                                                  0    \n",
      "124291                                                  0    \n",
      "124292                                                  0    \n",
      "\n",
      "        progress_note_Respite  progress_note_Transport / Travel  \\\n",
      "0                           0                                 0   \n",
      "1                           0                                 0   \n",
      "2                           0                                 0   \n",
      "3                           0                                 0   \n",
      "4                           0                                 0   \n",
      "...                       ...                               ...   \n",
      "124288                      0                                 0   \n",
      "124289                      0                                 0   \n",
      "124290                      0                                 0   \n",
      "124291                      0                                 0   \n",
      "124292                      0                                 0   \n",
      "\n",
      "        progress_note_Weekly Cultural Support Worker Report  \\\n",
      "0                                                       0     \n",
      "1                                                       0     \n",
      "2                                                       0     \n",
      "3                                                       0     \n",
      "4                                                       0     \n",
      "...                                                   ...     \n",
      "124288                                                  0     \n",
      "124289                                                  0     \n",
      "124290                                                  0     \n",
      "124291                                                  0     \n",
      "124292                                                  0     \n",
      "\n",
      "        progress_note_Youth Justice Summary Report  progress_note_Youth Work  \\\n",
      "0                                                0                         0   \n",
      "1                                                0                         0   \n",
      "2                                                0                         0   \n",
      "3                                                0                         0   \n",
      "4                                                0                         0   \n",
      "...                                            ...                       ...   \n",
      "124288                                           0                         0   \n",
      "124289                                           0                         0   \n",
      "124290                                           0                         0   \n",
      "124291                                           0                         0   \n",
      "124292                                           0                         0   \n",
      "\n",
      "        reference_active  \n",
      "0                      0  \n",
      "1                      1  \n",
      "2                      0  \n",
      "3                      0  \n",
      "4                      0  \n",
      "...                  ...  \n",
      "124288                 0  \n",
      "124289                 0  \n",
      "124290                 0  \n",
      "124291                 0  \n",
      "124292                 1  \n",
      "\n",
      "[124293 rows x 59 columns]\n"
     ]
    }
   ],
   "source": [
    "#spilt numeric_column['allrows_event_type'] into sub_category\n",
    "new_allrows_event_type = pd.get_dummies(numeric_column['allrows_event_type'])\n",
    "print(new_allrows_event_type)"
   ]
  },
  {
   "cell_type": "code",
   "execution_count": 44,
   "metadata": {},
   "outputs": [
    {
     "data": {
      "text/plain": [
       "0    18 to 24\n",
       "1    18 to 24\n",
       "2    18 to 24\n",
       "3    18 to 24\n",
       "4    18 to 24\n",
       "5    18 to 24\n",
       "6    18 to 24\n",
       "7    18 to 24\n",
       "8    18 to 24\n",
       "9    18 to 24\n",
       "Name: allrows_client_current_age_group, dtype: object"
      ]
     },
     "execution_count": 44,
     "metadata": {},
     "output_type": "execute_result"
    }
   ],
   "source": [
    "# #set category data into numeric data 1/0 true or false\n",
    "numeric_column['allrows_client_current_age_group'].head(10)\n"
   ]
  },
  {
   "cell_type": "code",
   "execution_count": 45,
   "metadata": {},
   "outputs": [
    {
     "name": "stdout",
     "output_type": "stream",
     "text": [
      "        13 to 17  18 to 24  25 to 34  35 to 44  45 to 54  5 and under  \\\n",
      "0              0         1         0         0         0            0   \n",
      "1              0         1         0         0         0            0   \n",
      "2              0         1         0         0         0            0   \n",
      "3              0         1         0         0         0            0   \n",
      "4              0         1         0         0         0            0   \n",
      "...          ...       ...       ...       ...       ...          ...   \n",
      "124288         0         0         1         0         0            0   \n",
      "124289         0         0         1         0         0            0   \n",
      "124290         0         0         1         0         0            0   \n",
      "124291         0         0         1         0         0            0   \n",
      "124292         0         0         1         0         0            0   \n",
      "\n",
      "        55 to 64  6 to 12  65 to 74  75 to 84  85 to 94  95 and over  \n",
      "0              0        0         0         0         0            0  \n",
      "1              0        0         0         0         0            0  \n",
      "2              0        0         0         0         0            0  \n",
      "3              0        0         0         0         0            0  \n",
      "4              0        0         0         0         0            0  \n",
      "...          ...      ...       ...       ...       ...          ...  \n",
      "124288         0        0         0         0         0            0  \n",
      "124289         0        0         0         0         0            0  \n",
      "124290         0        0         0         0         0            0  \n",
      "124291         0        0         0         0         0            0  \n",
      "124292         0        0         0         0         0            0  \n",
      "\n",
      "[124293 rows x 12 columns]\n"
     ]
    }
   ],
   "source": [
    "new_allrows_client_current_age_group = pd.get_dummies(numeric_column['allrows_client_current_age_group'])\n",
    "print(new_allrows_client_current_age_group)"
   ]
  },
  {
   "cell_type": "code",
   "execution_count": 46,
   "metadata": {},
   "outputs": [],
   "source": [
    "numeric_column = numeric_column.drop(['allrows_event_type',\n",
    "                                         'allrows_client_current_age_group'],axis=1)"
   ]
  },
  {
   "cell_type": "code",
   "execution_count": null,
   "metadata": {},
   "outputs": [],
   "source": []
  }
 ],
 "metadata": {
  "kernelspec": {
   "display_name": "Python 3",
   "language": "python",
   "name": "python3"
  },
  "language_info": {
   "codemirror_mode": {
    "name": "ipython",
    "version": 3
   },
   "file_extension": ".py",
   "mimetype": "text/x-python",
   "name": "python",
   "nbconvert_exporter": "python",
   "pygments_lexer": "ipython3",
   "version": "3.7.4"
  }
 },
 "nbformat": 4,
 "nbformat_minor": 2
}
