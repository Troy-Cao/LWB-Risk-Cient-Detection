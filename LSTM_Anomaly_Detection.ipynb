{
  "nbformat": 4,
  "nbformat_minor": 0,
  "metadata": {
    "kernelspec": {
      "display_name": "Python 3",
      "language": "python",
      "name": "python3"
    },
    "language_info": {
      "codemirror_mode": {
        "name": "ipython",
        "version": 3
      },
      "file_extension": ".py",
      "mimetype": "text/x-python",
      "name": "python",
      "nbconvert_exporter": "python",
      "pygments_lexer": "ipython3",
      "version": "3.8.5"
    },
    "colab": {
      "name": "LSTM_Anomaly_Detection.ipynb",
      "provenance": [],
      "collapsed_sections": []
    }
  },
  "cells": [
    {
      "cell_type": "code",
      "metadata": {
        "id": "WE32-2_1q9QC"
      },
      "source": [
        "import pandas as pd\n",
        "import tensorflow as tf\n",
        "from tensorflow import keras\n",
        "from tensorflow.keras import layers\n",
        "from keras.models import Sequential"
      ],
      "execution_count": 1,
      "outputs": []
    },
    {
      "cell_type": "code",
      "metadata": {
        "id": "e1q3GKyFq9QG",
        "outputId": "a6c336de-a15e-47bb-8c37-66c6d651d62c",
        "colab": {
          "base_uri": "https://localhost:8080/",
          "height": 35
        }
      },
      "source": [
        "df_1=pd.read_csv('dc_part.csv')\n",
        "df_2=pd.read_csv('chenqin5%.csv')\n",
        "\n",
        "df_4=pd.read_csv('yunDataN.csv')\n",
        "print(df_1.shape,df_2.shape,df_4.shape)"
      ],
      "execution_count": 2,
      "outputs": [
        {
          "output_type": "stream",
          "text": [
            "(124293, 147) (124293, 92) (124293, 74)\n"
          ],
          "name": "stdout"
        }
      ]
    },
    {
      "cell_type": "markdown",
      "metadata": {
        "id": "n-fDmQXidApD"
      },
      "source": [
        "# Mergeing the 4 parts of the datasets with the zero-rate less than 95%"
      ]
    },
    {
      "cell_type": "code",
      "metadata": {
        "id": "6m6MHarYYWEU"
      },
      "source": [
        "data_parts=[df_1,df_2,df_4]\n",
        "useful=[] # the column names for each parts that have less than 95% zeros\n",
        "for ele in data_parts:\n",
        "  useful_sub=[]\n",
        "  for col in ele.columns:\n",
        "    if ele[col].isin([0]).sum()/ele.shape[0]<0.95:\n",
        "      useful_sub.append(col)\n",
        "  useful.append(useful_sub)\n",
        "useful[2]=useful[2][1:]  # drop unuseful column_name in the 4th part"
      ],
      "execution_count": 3,
      "outputs": []
    },
    {
      "cell_type": "code",
      "metadata": {
        "id": "O5ZNKlpHNrhA"
      },
      "source": [
        "df_1=df_1.loc[:,useful[0]]\n",
        "df_2=df_2.loc[:,useful[1]]\n",
        "df_4=df_4.loc[:,useful[2]]"
      ],
      "execution_count": 4,
      "outputs": []
    },
    {
      "cell_type": "code",
      "metadata": {
        "id": "Ucd5-0LZlEvW"
      },
      "source": [
        "result = pd.concat([df_1,df_2,df_4], axis=1, sort=False) # combine the dateset"
      ],
      "execution_count": 5,
      "outputs": []
    },
    {
      "cell_type": "code",
      "metadata": {
        "id": "glIvV3rinX1N",
        "outputId": "73621a24-3aff-4f6f-a35f-58c2ddafb1ab",
        "colab": {
          "base_uri": "https://localhost:8080/",
          "height": 511
        }
      },
      "source": [
        "result.head()"
      ],
      "execution_count": 6,
      "outputs": [
        {
          "output_type": "execute_result",
          "data": {
            "text/html": [
              "<div>\n",
              "<style scoped>\n",
              "    .dataframe tbody tr th:only-of-type {\n",
              "        vertical-align: middle;\n",
              "    }\n",
              "\n",
              "    .dataframe tbody tr th {\n",
              "        vertical-align: top;\n",
              "    }\n",
              "\n",
              "    .dataframe thead th {\n",
              "        text-align: right;\n",
              "    }\n",
              "</style>\n",
              "<table border=\"1\" class=\"dataframe\">\n",
              "  <thead>\n",
              "    <tr style=\"text-align: right;\">\n",
              "      <th></th>\n",
              "      <th>_key_client_id</th>\n",
              "      <th>_key_occurreddate_month</th>\n",
              "      <th>Total_incident_count</th>\n",
              "      <th>response_variable</th>\n",
              "      <th>incident_subcatgry_unknown_piv</th>\n",
              "      <th>prgcontct_other_organisation_piv</th>\n",
              "      <th>prgcontct_lwb_worker_piv</th>\n",
              "      <th>prgcontct_both_client_and_carer_piv</th>\n",
              "      <th>prgcontct_department_piv</th>\n",
              "      <th>prgcontct_family_piv</th>\n",
              "      <th>prgcontct_carer_piv</th>\n",
              "      <th>prgcontct_client_piv</th>\n",
              "      <th>prgcontct_meeting_group_of_people_piv_sum_n_days</th>\n",
              "      <th>prgcontct_other_organisation_piv_sum_n_days</th>\n",
              "      <th>prgcontct_educational_institution_piv_sum_n_days</th>\n",
              "      <th>prgcontct_lwb_worker_piv_sum_n_days</th>\n",
              "      <th>prgcontct_both_client_and_carer_piv_sum_n_days</th>\n",
              "      <th>prgcontct_health_professional_piv_sum_n_days</th>\n",
              "      <th>prgcontct_department_piv_sum_n_days</th>\n",
              "      <th>prgcontct_other_stakeholder_piv_sum_n_days</th>\n",
              "      <th>prgcontct_family_piv_sum_n_days</th>\n",
              "      <th>prgcontct_carer_piv_sum_n_days</th>\n",
              "      <th>prgcontct_client_piv_sum_n_days</th>\n",
              "      <th>prgcontct_meeting_group_of_people_piv_days_since</th>\n",
              "      <th>prgcontct_other_organisation_piv_days_since</th>\n",
              "      <th>prgcontct_meeting_lwb_internal_only_piv_days_since</th>\n",
              "      <th>prgcontct_educational_institution_piv_days_since</th>\n",
              "      <th>prgcontct_employer_piv_days_since</th>\n",
              "      <th>prgcontct_lwb_worker_piv_days_since</th>\n",
              "      <th>prgcontct_police_piv_days_since</th>\n",
              "      <th>prgcontct_both_client_and_carer_piv_days_since</th>\n",
              "      <th>prgcontct_health_professional_piv_days_since</th>\n",
              "      <th>prgcontct_department_piv_days_since</th>\n",
              "      <th>prgcontct_other_stakeholder_piv_days_since</th>\n",
              "      <th>prgcontct_family_piv_days_since</th>\n",
              "      <th>prgcontct_carer_piv_days_since</th>\n",
              "      <th>prgcontct_client_piv_days_since</th>\n",
              "      <th>progsubjcat_information_provided_piv</th>\n",
              "      <th>progsubjcat_case_discussion_planning_piv</th>\n",
              "      <th>progsubjcat_i_sight_client_incident_system_generated_piv</th>\n",
              "      <th>...</th>\n",
              "      <th>rowtype_reference_piv_avg_n_days</th>\n",
              "      <th>rowtype_client_address_addition_piv_days_since</th>\n",
              "      <th>rowtype_rp_end_piv_days_since</th>\n",
              "      <th>rowtype_rp_start_piv_days_since</th>\n",
              "      <th>rowtype_progress_note_piv_days_since</th>\n",
              "      <th>rowtype_diagnosis_piv_days_since</th>\n",
              "      <th>rowtype_medictn_start_piv_days_since</th>\n",
              "      <th>rowtype_client_plan_start_piv_days_since</th>\n",
              "      <th>rowtype_client_plan_end_piv_days_since</th>\n",
              "      <th>rowtype_keyworker_change_piv_days_since</th>\n",
              "      <th>rowtype_reference_piv_days_since</th>\n",
              "      <th>rowtype_medictn_end_piv_days_since</th>\n",
              "      <th>rowtype_plcment_end_piv_days_since</th>\n",
              "      <th>rowtype_incident_piv_days_since</th>\n",
              "      <th>rowtype_plcment_start_piv_days_since</th>\n",
              "      <th>rowtype_program_primary_service_type_start_piv_days_since</th>\n",
              "      <th>rowtype_client_alert_start_piv_days_since</th>\n",
              "      <th>rowtype_client_address_addition_piv_lag01</th>\n",
              "      <th>rowtype_rp_end_piv_lag01</th>\n",
              "      <th>rowtype_rp_start_piv_lag01</th>\n",
              "      <th>rowtype_progress_note_piv_lag01</th>\n",
              "      <th>rowtype_diagnosis_piv_lag01</th>\n",
              "      <th>rowtype_medictn_start_piv_lag01</th>\n",
              "      <th>rowtype_client_plan_start_piv_lag01</th>\n",
              "      <th>rowtype_client_plan_end_piv_lag01</th>\n",
              "      <th>rowtype_keyworker_change_piv_lag01</th>\n",
              "      <th>rowtype_reference_piv_lag01</th>\n",
              "      <th>rowtype_medictn_end_piv_lag01</th>\n",
              "      <th>rowtype_plcment_end_piv_lag01</th>\n",
              "      <th>rowtype_incident_piv_lag01</th>\n",
              "      <th>rowtype_plcment_start_piv_lag01</th>\n",
              "      <th>rowtype_program_primary_service_type_start_piv_lag01</th>\n",
              "      <th>rowtype_client_alert_start_piv_lag01</th>\n",
              "      <th>status_placement</th>\n",
              "      <th>status_client_plan</th>\n",
              "      <th>status_rp_mechanical_restraint</th>\n",
              "      <th>status_rp_restricted_access</th>\n",
              "      <th>status_rp_chemical_restraint</th>\n",
              "      <th>status_rp_other</th>\n",
              "      <th>Incident</th>\n",
              "    </tr>\n",
              "  </thead>\n",
              "  <tbody>\n",
              "    <tr>\n",
              "      <th>0</th>\n",
              "      <td>0000D172-EA88-432F-8235-9FAA00D29072</td>\n",
              "      <td>2019-04-01T00:00:00.0</td>\n",
              "      <td>0</td>\n",
              "      <td>0</td>\n",
              "      <td>29</td>\n",
              "      <td>0</td>\n",
              "      <td>0</td>\n",
              "      <td>0</td>\n",
              "      <td>0</td>\n",
              "      <td>1</td>\n",
              "      <td>0</td>\n",
              "      <td>0</td>\n",
              "      <td>0.0</td>\n",
              "      <td>0.0</td>\n",
              "      <td>0.0</td>\n",
              "      <td>0.0</td>\n",
              "      <td>0.0</td>\n",
              "      <td>0.0</td>\n",
              "      <td>0.0</td>\n",
              "      <td>0.0</td>\n",
              "      <td>1.0</td>\n",
              "      <td>0.0</td>\n",
              "      <td>0.0</td>\n",
              "      <td>3650</td>\n",
              "      <td>3650</td>\n",
              "      <td>3650</td>\n",
              "      <td>3650</td>\n",
              "      <td>3650</td>\n",
              "      <td>3650</td>\n",
              "      <td>3650</td>\n",
              "      <td>3650</td>\n",
              "      <td>3650</td>\n",
              "      <td>3650</td>\n",
              "      <td>3650</td>\n",
              "      <td>2868</td>\n",
              "      <td>3650</td>\n",
              "      <td>3650</td>\n",
              "      <td>0</td>\n",
              "      <td>1</td>\n",
              "      <td>0</td>\n",
              "      <td>...</td>\n",
              "      <td>1</td>\n",
              "      <td>603</td>\n",
              "      <td>355</td>\n",
              "      <td>376</td>\n",
              "      <td>890</td>\n",
              "      <td>515</td>\n",
              "      <td>492</td>\n",
              "      <td>761</td>\n",
              "      <td>555</td>\n",
              "      <td>345</td>\n",
              "      <td>2</td>\n",
              "      <td>425</td>\n",
              "      <td>469</td>\n",
              "      <td>703</td>\n",
              "      <td>527</td>\n",
              "      <td>577</td>\n",
              "      <td>488</td>\n",
              "      <td>0</td>\n",
              "      <td>0</td>\n",
              "      <td>0</td>\n",
              "      <td>0</td>\n",
              "      <td>0</td>\n",
              "      <td>0</td>\n",
              "      <td>0</td>\n",
              "      <td>0</td>\n",
              "      <td>0</td>\n",
              "      <td>0</td>\n",
              "      <td>0</td>\n",
              "      <td>0</td>\n",
              "      <td>0</td>\n",
              "      <td>0</td>\n",
              "      <td>0</td>\n",
              "      <td>0</td>\n",
              "      <td>2</td>\n",
              "      <td>2</td>\n",
              "      <td>1</td>\n",
              "      <td>2</td>\n",
              "      <td>2</td>\n",
              "      <td>2</td>\n",
              "      <td>0</td>\n",
              "    </tr>\n",
              "    <tr>\n",
              "      <th>1</th>\n",
              "      <td>0000D172-EA88-432F-8235-9FAA00D29072</td>\n",
              "      <td>2019-05-01T00:00:00.0</td>\n",
              "      <td>0</td>\n",
              "      <td>0</td>\n",
              "      <td>31</td>\n",
              "      <td>0</td>\n",
              "      <td>0</td>\n",
              "      <td>0</td>\n",
              "      <td>0</td>\n",
              "      <td>0</td>\n",
              "      <td>0</td>\n",
              "      <td>0</td>\n",
              "      <td>0.0</td>\n",
              "      <td>0.0</td>\n",
              "      <td>0.0</td>\n",
              "      <td>0.0</td>\n",
              "      <td>0.0</td>\n",
              "      <td>0.0</td>\n",
              "      <td>0.0</td>\n",
              "      <td>0.0</td>\n",
              "      <td>1.0</td>\n",
              "      <td>0.0</td>\n",
              "      <td>0.0</td>\n",
              "      <td>3650</td>\n",
              "      <td>3650</td>\n",
              "      <td>3650</td>\n",
              "      <td>3650</td>\n",
              "      <td>3650</td>\n",
              "      <td>3650</td>\n",
              "      <td>3650</td>\n",
              "      <td>3650</td>\n",
              "      <td>3650</td>\n",
              "      <td>3650</td>\n",
              "      <td>3650</td>\n",
              "      <td>22</td>\n",
              "      <td>3650</td>\n",
              "      <td>3650</td>\n",
              "      <td>0</td>\n",
              "      <td>0</td>\n",
              "      <td>0</td>\n",
              "      <td>...</td>\n",
              "      <td>1</td>\n",
              "      <td>603</td>\n",
              "      <td>355</td>\n",
              "      <td>376</td>\n",
              "      <td>21</td>\n",
              "      <td>515</td>\n",
              "      <td>492</td>\n",
              "      <td>761</td>\n",
              "      <td>555</td>\n",
              "      <td>345</td>\n",
              "      <td>0</td>\n",
              "      <td>425</td>\n",
              "      <td>469</td>\n",
              "      <td>703</td>\n",
              "      <td>527</td>\n",
              "      <td>577</td>\n",
              "      <td>488</td>\n",
              "      <td>1</td>\n",
              "      <td>1</td>\n",
              "      <td>1</td>\n",
              "      <td>2</td>\n",
              "      <td>1</td>\n",
              "      <td>1</td>\n",
              "      <td>1</td>\n",
              "      <td>1</td>\n",
              "      <td>1</td>\n",
              "      <td>38</td>\n",
              "      <td>1</td>\n",
              "      <td>1</td>\n",
              "      <td>1</td>\n",
              "      <td>1</td>\n",
              "      <td>1</td>\n",
              "      <td>1</td>\n",
              "      <td>2</td>\n",
              "      <td>2</td>\n",
              "      <td>1</td>\n",
              "      <td>2</td>\n",
              "      <td>2</td>\n",
              "      <td>2</td>\n",
              "      <td>0</td>\n",
              "    </tr>\n",
              "    <tr>\n",
              "      <th>2</th>\n",
              "      <td>0000D172-EA88-432F-8235-9FAA00D29072</td>\n",
              "      <td>2019-06-01T00:00:00.0</td>\n",
              "      <td>0</td>\n",
              "      <td>0</td>\n",
              "      <td>31</td>\n",
              "      <td>0</td>\n",
              "      <td>0</td>\n",
              "      <td>0</td>\n",
              "      <td>0</td>\n",
              "      <td>0</td>\n",
              "      <td>0</td>\n",
              "      <td>0</td>\n",
              "      <td>0.0</td>\n",
              "      <td>0.0</td>\n",
              "      <td>0.0</td>\n",
              "      <td>0.0</td>\n",
              "      <td>0.0</td>\n",
              "      <td>0.0</td>\n",
              "      <td>0.0</td>\n",
              "      <td>0.0</td>\n",
              "      <td>1.0</td>\n",
              "      <td>0.0</td>\n",
              "      <td>0.0</td>\n",
              "      <td>3650</td>\n",
              "      <td>3650</td>\n",
              "      <td>3650</td>\n",
              "      <td>3650</td>\n",
              "      <td>3650</td>\n",
              "      <td>3650</td>\n",
              "      <td>3650</td>\n",
              "      <td>3650</td>\n",
              "      <td>3650</td>\n",
              "      <td>3650</td>\n",
              "      <td>3650</td>\n",
              "      <td>52</td>\n",
              "      <td>3650</td>\n",
              "      <td>3650</td>\n",
              "      <td>0</td>\n",
              "      <td>0</td>\n",
              "      <td>0</td>\n",
              "      <td>...</td>\n",
              "      <td>1</td>\n",
              "      <td>559</td>\n",
              "      <td>355</td>\n",
              "      <td>376</td>\n",
              "      <td>51</td>\n",
              "      <td>515</td>\n",
              "      <td>492</td>\n",
              "      <td>761</td>\n",
              "      <td>555</td>\n",
              "      <td>345</td>\n",
              "      <td>0</td>\n",
              "      <td>425</td>\n",
              "      <td>469</td>\n",
              "      <td>703</td>\n",
              "      <td>527</td>\n",
              "      <td>577</td>\n",
              "      <td>488</td>\n",
              "      <td>1</td>\n",
              "      <td>1</td>\n",
              "      <td>1</td>\n",
              "      <td>1</td>\n",
              "      <td>1</td>\n",
              "      <td>1</td>\n",
              "      <td>1</td>\n",
              "      <td>1</td>\n",
              "      <td>1</td>\n",
              "      <td>46</td>\n",
              "      <td>1</td>\n",
              "      <td>1</td>\n",
              "      <td>1</td>\n",
              "      <td>1</td>\n",
              "      <td>1</td>\n",
              "      <td>1</td>\n",
              "      <td>2</td>\n",
              "      <td>2</td>\n",
              "      <td>1</td>\n",
              "      <td>2</td>\n",
              "      <td>2</td>\n",
              "      <td>2</td>\n",
              "      <td>0</td>\n",
              "    </tr>\n",
              "    <tr>\n",
              "      <th>3</th>\n",
              "      <td>0000D172-EA88-432F-8235-9FAA00D29072</td>\n",
              "      <td>2019-07-01T00:00:00.0</td>\n",
              "      <td>0</td>\n",
              "      <td>0</td>\n",
              "      <td>32</td>\n",
              "      <td>0</td>\n",
              "      <td>0</td>\n",
              "      <td>0</td>\n",
              "      <td>0</td>\n",
              "      <td>0</td>\n",
              "      <td>0</td>\n",
              "      <td>1</td>\n",
              "      <td>0.0</td>\n",
              "      <td>0.0</td>\n",
              "      <td>0.0</td>\n",
              "      <td>0.0</td>\n",
              "      <td>0.0</td>\n",
              "      <td>0.0</td>\n",
              "      <td>0.0</td>\n",
              "      <td>0.0</td>\n",
              "      <td>1.0</td>\n",
              "      <td>0.0</td>\n",
              "      <td>1.0</td>\n",
              "      <td>3650</td>\n",
              "      <td>3650</td>\n",
              "      <td>3650</td>\n",
              "      <td>3650</td>\n",
              "      <td>3650</td>\n",
              "      <td>3650</td>\n",
              "      <td>3650</td>\n",
              "      <td>3650</td>\n",
              "      <td>3650</td>\n",
              "      <td>3650</td>\n",
              "      <td>3650</td>\n",
              "      <td>83</td>\n",
              "      <td>3650</td>\n",
              "      <td>483</td>\n",
              "      <td>0</td>\n",
              "      <td>1</td>\n",
              "      <td>0</td>\n",
              "      <td>...</td>\n",
              "      <td>1</td>\n",
              "      <td>21</td>\n",
              "      <td>355</td>\n",
              "      <td>376</td>\n",
              "      <td>20</td>\n",
              "      <td>515</td>\n",
              "      <td>492</td>\n",
              "      <td>761</td>\n",
              "      <td>555</td>\n",
              "      <td>345</td>\n",
              "      <td>0</td>\n",
              "      <td>425</td>\n",
              "      <td>469</td>\n",
              "      <td>703</td>\n",
              "      <td>527</td>\n",
              "      <td>577</td>\n",
              "      <td>488</td>\n",
              "      <td>3</td>\n",
              "      <td>1</td>\n",
              "      <td>1</td>\n",
              "      <td>1</td>\n",
              "      <td>1</td>\n",
              "      <td>1</td>\n",
              "      <td>1</td>\n",
              "      <td>1</td>\n",
              "      <td>1</td>\n",
              "      <td>40</td>\n",
              "      <td>1</td>\n",
              "      <td>1</td>\n",
              "      <td>1</td>\n",
              "      <td>1</td>\n",
              "      <td>1</td>\n",
              "      <td>1</td>\n",
              "      <td>2</td>\n",
              "      <td>2</td>\n",
              "      <td>1</td>\n",
              "      <td>2</td>\n",
              "      <td>2</td>\n",
              "      <td>2</td>\n",
              "      <td>0</td>\n",
              "    </tr>\n",
              "    <tr>\n",
              "      <th>4</th>\n",
              "      <td>0000D172-EA88-432F-8235-9FAA00D29072</td>\n",
              "      <td>2019-08-01T00:00:00.0</td>\n",
              "      <td>0</td>\n",
              "      <td>0</td>\n",
              "      <td>33</td>\n",
              "      <td>0</td>\n",
              "      <td>0</td>\n",
              "      <td>0</td>\n",
              "      <td>0</td>\n",
              "      <td>0</td>\n",
              "      <td>0</td>\n",
              "      <td>2</td>\n",
              "      <td>0.0</td>\n",
              "      <td>0.0</td>\n",
              "      <td>0.0</td>\n",
              "      <td>0.0</td>\n",
              "      <td>0.0</td>\n",
              "      <td>0.0</td>\n",
              "      <td>0.0</td>\n",
              "      <td>0.0</td>\n",
              "      <td>1.0</td>\n",
              "      <td>0.0</td>\n",
              "      <td>3.0</td>\n",
              "      <td>3650</td>\n",
              "      <td>3650</td>\n",
              "      <td>3650</td>\n",
              "      <td>3650</td>\n",
              "      <td>3650</td>\n",
              "      <td>3650</td>\n",
              "      <td>3650</td>\n",
              "      <td>3650</td>\n",
              "      <td>3650</td>\n",
              "      <td>3650</td>\n",
              "      <td>3650</td>\n",
              "      <td>114</td>\n",
              "      <td>3650</td>\n",
              "      <td>8</td>\n",
              "      <td>0</td>\n",
              "      <td>2</td>\n",
              "      <td>0</td>\n",
              "      <td>...</td>\n",
              "      <td>1</td>\n",
              "      <td>52</td>\n",
              "      <td>355</td>\n",
              "      <td>376</td>\n",
              "      <td>7</td>\n",
              "      <td>515</td>\n",
              "      <td>492</td>\n",
              "      <td>761</td>\n",
              "      <td>555</td>\n",
              "      <td>345</td>\n",
              "      <td>0</td>\n",
              "      <td>425</td>\n",
              "      <td>469</td>\n",
              "      <td>703</td>\n",
              "      <td>527</td>\n",
              "      <td>577</td>\n",
              "      <td>488</td>\n",
              "      <td>1</td>\n",
              "      <td>1</td>\n",
              "      <td>1</td>\n",
              "      <td>2</td>\n",
              "      <td>1</td>\n",
              "      <td>1</td>\n",
              "      <td>1</td>\n",
              "      <td>1</td>\n",
              "      <td>1</td>\n",
              "      <td>46</td>\n",
              "      <td>1</td>\n",
              "      <td>1</td>\n",
              "      <td>1</td>\n",
              "      <td>1</td>\n",
              "      <td>1</td>\n",
              "      <td>1</td>\n",
              "      <td>2</td>\n",
              "      <td>2</td>\n",
              "      <td>1</td>\n",
              "      <td>2</td>\n",
              "      <td>2</td>\n",
              "      <td>2</td>\n",
              "      <td>0</td>\n",
              "    </tr>\n",
              "  </tbody>\n",
              "</table>\n",
              "<p>5 rows × 153 columns</p>\n",
              "</div>"
            ],
            "text/plain": [
              "                         _key_client_id  ... Incident\n",
              "0  0000D172-EA88-432F-8235-9FAA00D29072  ...        0\n",
              "1  0000D172-EA88-432F-8235-9FAA00D29072  ...        0\n",
              "2  0000D172-EA88-432F-8235-9FAA00D29072  ...        0\n",
              "3  0000D172-EA88-432F-8235-9FAA00D29072  ...        0\n",
              "4  0000D172-EA88-432F-8235-9FAA00D29072  ...        0\n",
              "\n",
              "[5 rows x 153 columns]"
            ]
          },
          "metadata": {
            "tags": []
          },
          "execution_count": 6
        }
      ]
    },
    {
      "cell_type": "markdown",
      "metadata": {
        "id": "8429g4Aroh7K"
      },
      "source": [
        ""
      ]
    },
    {
      "cell_type": "markdown",
      "metadata": {
        "id": "mfjmd39toDbO"
      },
      "source": [
        "### Parse 'Dates' and indexs it"
      ]
    },
    {
      "cell_type": "code",
      "metadata": {
        "id": "OI6eJ4P5bOR5"
      },
      "source": [
        "result.to_csv('Dataconcate.csv')"
      ],
      "execution_count": 7,
      "outputs": []
    },
    {
      "cell_type": "code",
      "metadata": {
        "id": "_-a32wgnbOKa"
      },
      "source": [
        "Dataset=pd.read_csv('Dataconcate.csv',parse_dates=['_key_occurreddate_month'],index_col=['_key_client_id','_key_occurreddate_month'])"
      ],
      "execution_count": 8,
      "outputs": []
    },
    {
      "cell_type": "code",
      "metadata": {
        "id": "ZLRU4RuNuPgd",
        "outputId": "88da5e07-e879-44fe-bf89-262634e1f47c",
        "colab": {
          "base_uri": "https://localhost:8080/",
          "height": 282
        }
      },
      "source": [
        "Dataset.drop(['Unnamed: 0','response_variable'],axis=1).head()"
      ],
      "execution_count": 9,
      "outputs": [
        {
          "output_type": "execute_result",
          "data": {
            "text/html": [
              "<div>\n",
              "<style scoped>\n",
              "    .dataframe tbody tr th:only-of-type {\n",
              "        vertical-align: middle;\n",
              "    }\n",
              "\n",
              "    .dataframe tbody tr th {\n",
              "        vertical-align: top;\n",
              "    }\n",
              "\n",
              "    .dataframe thead th {\n",
              "        text-align: right;\n",
              "    }\n",
              "</style>\n",
              "<table border=\"1\" class=\"dataframe\">\n",
              "  <thead>\n",
              "    <tr style=\"text-align: right;\">\n",
              "      <th></th>\n",
              "      <th></th>\n",
              "      <th>Total_incident_count</th>\n",
              "      <th>incident_subcatgry_unknown_piv</th>\n",
              "      <th>prgcontct_other_organisation_piv</th>\n",
              "      <th>prgcontct_lwb_worker_piv</th>\n",
              "      <th>prgcontct_both_client_and_carer_piv</th>\n",
              "      <th>prgcontct_department_piv</th>\n",
              "      <th>prgcontct_family_piv</th>\n",
              "      <th>prgcontct_carer_piv</th>\n",
              "      <th>prgcontct_client_piv</th>\n",
              "      <th>prgcontct_meeting_group_of_people_piv_sum_n_days</th>\n",
              "      <th>prgcontct_other_organisation_piv_sum_n_days</th>\n",
              "      <th>prgcontct_educational_institution_piv_sum_n_days</th>\n",
              "      <th>prgcontct_lwb_worker_piv_sum_n_days</th>\n",
              "      <th>prgcontct_both_client_and_carer_piv_sum_n_days</th>\n",
              "      <th>prgcontct_health_professional_piv_sum_n_days</th>\n",
              "      <th>prgcontct_department_piv_sum_n_days</th>\n",
              "      <th>prgcontct_other_stakeholder_piv_sum_n_days</th>\n",
              "      <th>prgcontct_family_piv_sum_n_days</th>\n",
              "      <th>prgcontct_carer_piv_sum_n_days</th>\n",
              "      <th>prgcontct_client_piv_sum_n_days</th>\n",
              "      <th>prgcontct_meeting_group_of_people_piv_days_since</th>\n",
              "      <th>prgcontct_other_organisation_piv_days_since</th>\n",
              "      <th>prgcontct_meeting_lwb_internal_only_piv_days_since</th>\n",
              "      <th>prgcontct_educational_institution_piv_days_since</th>\n",
              "      <th>prgcontct_employer_piv_days_since</th>\n",
              "      <th>prgcontct_lwb_worker_piv_days_since</th>\n",
              "      <th>prgcontct_police_piv_days_since</th>\n",
              "      <th>prgcontct_both_client_and_carer_piv_days_since</th>\n",
              "      <th>prgcontct_health_professional_piv_days_since</th>\n",
              "      <th>prgcontct_department_piv_days_since</th>\n",
              "      <th>prgcontct_other_stakeholder_piv_days_since</th>\n",
              "      <th>prgcontct_family_piv_days_since</th>\n",
              "      <th>prgcontct_carer_piv_days_since</th>\n",
              "      <th>prgcontct_client_piv_days_since</th>\n",
              "      <th>progsubjcat_information_provided_piv</th>\n",
              "      <th>progsubjcat_case_discussion_planning_piv</th>\n",
              "      <th>progsubjcat_i_sight_client_incident_system_generated_piv</th>\n",
              "      <th>progsubjcat_home_visit_piv</th>\n",
              "      <th>progsubjcat_health_and_wellbeing_piv</th>\n",
              "      <th>progsubjcat_monthly_report_piv</th>\n",
              "      <th>...</th>\n",
              "      <th>rowtype_reference_piv_avg_n_days</th>\n",
              "      <th>rowtype_client_address_addition_piv_days_since</th>\n",
              "      <th>rowtype_rp_end_piv_days_since</th>\n",
              "      <th>rowtype_rp_start_piv_days_since</th>\n",
              "      <th>rowtype_progress_note_piv_days_since</th>\n",
              "      <th>rowtype_diagnosis_piv_days_since</th>\n",
              "      <th>rowtype_medictn_start_piv_days_since</th>\n",
              "      <th>rowtype_client_plan_start_piv_days_since</th>\n",
              "      <th>rowtype_client_plan_end_piv_days_since</th>\n",
              "      <th>rowtype_keyworker_change_piv_days_since</th>\n",
              "      <th>rowtype_reference_piv_days_since</th>\n",
              "      <th>rowtype_medictn_end_piv_days_since</th>\n",
              "      <th>rowtype_plcment_end_piv_days_since</th>\n",
              "      <th>rowtype_incident_piv_days_since</th>\n",
              "      <th>rowtype_plcment_start_piv_days_since</th>\n",
              "      <th>rowtype_program_primary_service_type_start_piv_days_since</th>\n",
              "      <th>rowtype_client_alert_start_piv_days_since</th>\n",
              "      <th>rowtype_client_address_addition_piv_lag01</th>\n",
              "      <th>rowtype_rp_end_piv_lag01</th>\n",
              "      <th>rowtype_rp_start_piv_lag01</th>\n",
              "      <th>rowtype_progress_note_piv_lag01</th>\n",
              "      <th>rowtype_diagnosis_piv_lag01</th>\n",
              "      <th>rowtype_medictn_start_piv_lag01</th>\n",
              "      <th>rowtype_client_plan_start_piv_lag01</th>\n",
              "      <th>rowtype_client_plan_end_piv_lag01</th>\n",
              "      <th>rowtype_keyworker_change_piv_lag01</th>\n",
              "      <th>rowtype_reference_piv_lag01</th>\n",
              "      <th>rowtype_medictn_end_piv_lag01</th>\n",
              "      <th>rowtype_plcment_end_piv_lag01</th>\n",
              "      <th>rowtype_incident_piv_lag01</th>\n",
              "      <th>rowtype_plcment_start_piv_lag01</th>\n",
              "      <th>rowtype_program_primary_service_type_start_piv_lag01</th>\n",
              "      <th>rowtype_client_alert_start_piv_lag01</th>\n",
              "      <th>status_placement</th>\n",
              "      <th>status_client_plan</th>\n",
              "      <th>status_rp_mechanical_restraint</th>\n",
              "      <th>status_rp_restricted_access</th>\n",
              "      <th>status_rp_chemical_restraint</th>\n",
              "      <th>status_rp_other</th>\n",
              "      <th>Incident</th>\n",
              "    </tr>\n",
              "    <tr>\n",
              "      <th>_key_client_id</th>\n",
              "      <th>_key_occurreddate_month</th>\n",
              "      <th></th>\n",
              "      <th></th>\n",
              "      <th></th>\n",
              "      <th></th>\n",
              "      <th></th>\n",
              "      <th></th>\n",
              "      <th></th>\n",
              "      <th></th>\n",
              "      <th></th>\n",
              "      <th></th>\n",
              "      <th></th>\n",
              "      <th></th>\n",
              "      <th></th>\n",
              "      <th></th>\n",
              "      <th></th>\n",
              "      <th></th>\n",
              "      <th></th>\n",
              "      <th></th>\n",
              "      <th></th>\n",
              "      <th></th>\n",
              "      <th></th>\n",
              "      <th></th>\n",
              "      <th></th>\n",
              "      <th></th>\n",
              "      <th></th>\n",
              "      <th></th>\n",
              "      <th></th>\n",
              "      <th></th>\n",
              "      <th></th>\n",
              "      <th></th>\n",
              "      <th></th>\n",
              "      <th></th>\n",
              "      <th></th>\n",
              "      <th></th>\n",
              "      <th></th>\n",
              "      <th></th>\n",
              "      <th></th>\n",
              "      <th></th>\n",
              "      <th></th>\n",
              "      <th></th>\n",
              "      <th></th>\n",
              "      <th></th>\n",
              "      <th></th>\n",
              "      <th></th>\n",
              "      <th></th>\n",
              "      <th></th>\n",
              "      <th></th>\n",
              "      <th></th>\n",
              "      <th></th>\n",
              "      <th></th>\n",
              "      <th></th>\n",
              "      <th></th>\n",
              "      <th></th>\n",
              "      <th></th>\n",
              "      <th></th>\n",
              "      <th></th>\n",
              "      <th></th>\n",
              "      <th></th>\n",
              "      <th></th>\n",
              "      <th></th>\n",
              "      <th></th>\n",
              "      <th></th>\n",
              "      <th></th>\n",
              "      <th></th>\n",
              "      <th></th>\n",
              "      <th></th>\n",
              "      <th></th>\n",
              "      <th></th>\n",
              "      <th></th>\n",
              "      <th></th>\n",
              "      <th></th>\n",
              "      <th></th>\n",
              "      <th></th>\n",
              "      <th></th>\n",
              "      <th></th>\n",
              "      <th></th>\n",
              "      <th></th>\n",
              "      <th></th>\n",
              "      <th></th>\n",
              "      <th></th>\n",
              "      <th></th>\n",
              "    </tr>\n",
              "  </thead>\n",
              "  <tbody>\n",
              "    <tr>\n",
              "      <th rowspan=\"5\" valign=\"top\">0000D172-EA88-432F-8235-9FAA00D29072</th>\n",
              "      <th>2019-04-01</th>\n",
              "      <td>0</td>\n",
              "      <td>29</td>\n",
              "      <td>0</td>\n",
              "      <td>0</td>\n",
              "      <td>0</td>\n",
              "      <td>0</td>\n",
              "      <td>1</td>\n",
              "      <td>0</td>\n",
              "      <td>0</td>\n",
              "      <td>0.0</td>\n",
              "      <td>0.0</td>\n",
              "      <td>0.0</td>\n",
              "      <td>0.0</td>\n",
              "      <td>0.0</td>\n",
              "      <td>0.0</td>\n",
              "      <td>0.0</td>\n",
              "      <td>0.0</td>\n",
              "      <td>1.0</td>\n",
              "      <td>0.0</td>\n",
              "      <td>0.0</td>\n",
              "      <td>3650</td>\n",
              "      <td>3650</td>\n",
              "      <td>3650</td>\n",
              "      <td>3650</td>\n",
              "      <td>3650</td>\n",
              "      <td>3650</td>\n",
              "      <td>3650</td>\n",
              "      <td>3650</td>\n",
              "      <td>3650</td>\n",
              "      <td>3650</td>\n",
              "      <td>3650</td>\n",
              "      <td>2868</td>\n",
              "      <td>3650</td>\n",
              "      <td>3650</td>\n",
              "      <td>0</td>\n",
              "      <td>1</td>\n",
              "      <td>0</td>\n",
              "      <td>0</td>\n",
              "      <td>0</td>\n",
              "      <td>0</td>\n",
              "      <td>...</td>\n",
              "      <td>1</td>\n",
              "      <td>603</td>\n",
              "      <td>355</td>\n",
              "      <td>376</td>\n",
              "      <td>890</td>\n",
              "      <td>515</td>\n",
              "      <td>492</td>\n",
              "      <td>761</td>\n",
              "      <td>555</td>\n",
              "      <td>345</td>\n",
              "      <td>2</td>\n",
              "      <td>425</td>\n",
              "      <td>469</td>\n",
              "      <td>703</td>\n",
              "      <td>527</td>\n",
              "      <td>577</td>\n",
              "      <td>488</td>\n",
              "      <td>0</td>\n",
              "      <td>0</td>\n",
              "      <td>0</td>\n",
              "      <td>0</td>\n",
              "      <td>0</td>\n",
              "      <td>0</td>\n",
              "      <td>0</td>\n",
              "      <td>0</td>\n",
              "      <td>0</td>\n",
              "      <td>0</td>\n",
              "      <td>0</td>\n",
              "      <td>0</td>\n",
              "      <td>0</td>\n",
              "      <td>0</td>\n",
              "      <td>0</td>\n",
              "      <td>0</td>\n",
              "      <td>2</td>\n",
              "      <td>2</td>\n",
              "      <td>1</td>\n",
              "      <td>2</td>\n",
              "      <td>2</td>\n",
              "      <td>2</td>\n",
              "      <td>0</td>\n",
              "    </tr>\n",
              "    <tr>\n",
              "      <th>2019-05-01</th>\n",
              "      <td>0</td>\n",
              "      <td>31</td>\n",
              "      <td>0</td>\n",
              "      <td>0</td>\n",
              "      <td>0</td>\n",
              "      <td>0</td>\n",
              "      <td>0</td>\n",
              "      <td>0</td>\n",
              "      <td>0</td>\n",
              "      <td>0.0</td>\n",
              "      <td>0.0</td>\n",
              "      <td>0.0</td>\n",
              "      <td>0.0</td>\n",
              "      <td>0.0</td>\n",
              "      <td>0.0</td>\n",
              "      <td>0.0</td>\n",
              "      <td>0.0</td>\n",
              "      <td>1.0</td>\n",
              "      <td>0.0</td>\n",
              "      <td>0.0</td>\n",
              "      <td>3650</td>\n",
              "      <td>3650</td>\n",
              "      <td>3650</td>\n",
              "      <td>3650</td>\n",
              "      <td>3650</td>\n",
              "      <td>3650</td>\n",
              "      <td>3650</td>\n",
              "      <td>3650</td>\n",
              "      <td>3650</td>\n",
              "      <td>3650</td>\n",
              "      <td>3650</td>\n",
              "      <td>22</td>\n",
              "      <td>3650</td>\n",
              "      <td>3650</td>\n",
              "      <td>0</td>\n",
              "      <td>0</td>\n",
              "      <td>0</td>\n",
              "      <td>0</td>\n",
              "      <td>0</td>\n",
              "      <td>0</td>\n",
              "      <td>...</td>\n",
              "      <td>1</td>\n",
              "      <td>603</td>\n",
              "      <td>355</td>\n",
              "      <td>376</td>\n",
              "      <td>21</td>\n",
              "      <td>515</td>\n",
              "      <td>492</td>\n",
              "      <td>761</td>\n",
              "      <td>555</td>\n",
              "      <td>345</td>\n",
              "      <td>0</td>\n",
              "      <td>425</td>\n",
              "      <td>469</td>\n",
              "      <td>703</td>\n",
              "      <td>527</td>\n",
              "      <td>577</td>\n",
              "      <td>488</td>\n",
              "      <td>1</td>\n",
              "      <td>1</td>\n",
              "      <td>1</td>\n",
              "      <td>2</td>\n",
              "      <td>1</td>\n",
              "      <td>1</td>\n",
              "      <td>1</td>\n",
              "      <td>1</td>\n",
              "      <td>1</td>\n",
              "      <td>38</td>\n",
              "      <td>1</td>\n",
              "      <td>1</td>\n",
              "      <td>1</td>\n",
              "      <td>1</td>\n",
              "      <td>1</td>\n",
              "      <td>1</td>\n",
              "      <td>2</td>\n",
              "      <td>2</td>\n",
              "      <td>1</td>\n",
              "      <td>2</td>\n",
              "      <td>2</td>\n",
              "      <td>2</td>\n",
              "      <td>0</td>\n",
              "    </tr>\n",
              "    <tr>\n",
              "      <th>2019-06-01</th>\n",
              "      <td>0</td>\n",
              "      <td>31</td>\n",
              "      <td>0</td>\n",
              "      <td>0</td>\n",
              "      <td>0</td>\n",
              "      <td>0</td>\n",
              "      <td>0</td>\n",
              "      <td>0</td>\n",
              "      <td>0</td>\n",
              "      <td>0.0</td>\n",
              "      <td>0.0</td>\n",
              "      <td>0.0</td>\n",
              "      <td>0.0</td>\n",
              "      <td>0.0</td>\n",
              "      <td>0.0</td>\n",
              "      <td>0.0</td>\n",
              "      <td>0.0</td>\n",
              "      <td>1.0</td>\n",
              "      <td>0.0</td>\n",
              "      <td>0.0</td>\n",
              "      <td>3650</td>\n",
              "      <td>3650</td>\n",
              "      <td>3650</td>\n",
              "      <td>3650</td>\n",
              "      <td>3650</td>\n",
              "      <td>3650</td>\n",
              "      <td>3650</td>\n",
              "      <td>3650</td>\n",
              "      <td>3650</td>\n",
              "      <td>3650</td>\n",
              "      <td>3650</td>\n",
              "      <td>52</td>\n",
              "      <td>3650</td>\n",
              "      <td>3650</td>\n",
              "      <td>0</td>\n",
              "      <td>0</td>\n",
              "      <td>0</td>\n",
              "      <td>0</td>\n",
              "      <td>0</td>\n",
              "      <td>0</td>\n",
              "      <td>...</td>\n",
              "      <td>1</td>\n",
              "      <td>559</td>\n",
              "      <td>355</td>\n",
              "      <td>376</td>\n",
              "      <td>51</td>\n",
              "      <td>515</td>\n",
              "      <td>492</td>\n",
              "      <td>761</td>\n",
              "      <td>555</td>\n",
              "      <td>345</td>\n",
              "      <td>0</td>\n",
              "      <td>425</td>\n",
              "      <td>469</td>\n",
              "      <td>703</td>\n",
              "      <td>527</td>\n",
              "      <td>577</td>\n",
              "      <td>488</td>\n",
              "      <td>1</td>\n",
              "      <td>1</td>\n",
              "      <td>1</td>\n",
              "      <td>1</td>\n",
              "      <td>1</td>\n",
              "      <td>1</td>\n",
              "      <td>1</td>\n",
              "      <td>1</td>\n",
              "      <td>1</td>\n",
              "      <td>46</td>\n",
              "      <td>1</td>\n",
              "      <td>1</td>\n",
              "      <td>1</td>\n",
              "      <td>1</td>\n",
              "      <td>1</td>\n",
              "      <td>1</td>\n",
              "      <td>2</td>\n",
              "      <td>2</td>\n",
              "      <td>1</td>\n",
              "      <td>2</td>\n",
              "      <td>2</td>\n",
              "      <td>2</td>\n",
              "      <td>0</td>\n",
              "    </tr>\n",
              "    <tr>\n",
              "      <th>2019-07-01</th>\n",
              "      <td>0</td>\n",
              "      <td>32</td>\n",
              "      <td>0</td>\n",
              "      <td>0</td>\n",
              "      <td>0</td>\n",
              "      <td>0</td>\n",
              "      <td>0</td>\n",
              "      <td>0</td>\n",
              "      <td>1</td>\n",
              "      <td>0.0</td>\n",
              "      <td>0.0</td>\n",
              "      <td>0.0</td>\n",
              "      <td>0.0</td>\n",
              "      <td>0.0</td>\n",
              "      <td>0.0</td>\n",
              "      <td>0.0</td>\n",
              "      <td>0.0</td>\n",
              "      <td>1.0</td>\n",
              "      <td>0.0</td>\n",
              "      <td>1.0</td>\n",
              "      <td>3650</td>\n",
              "      <td>3650</td>\n",
              "      <td>3650</td>\n",
              "      <td>3650</td>\n",
              "      <td>3650</td>\n",
              "      <td>3650</td>\n",
              "      <td>3650</td>\n",
              "      <td>3650</td>\n",
              "      <td>3650</td>\n",
              "      <td>3650</td>\n",
              "      <td>3650</td>\n",
              "      <td>83</td>\n",
              "      <td>3650</td>\n",
              "      <td>483</td>\n",
              "      <td>0</td>\n",
              "      <td>1</td>\n",
              "      <td>0</td>\n",
              "      <td>0</td>\n",
              "      <td>0</td>\n",
              "      <td>0</td>\n",
              "      <td>...</td>\n",
              "      <td>1</td>\n",
              "      <td>21</td>\n",
              "      <td>355</td>\n",
              "      <td>376</td>\n",
              "      <td>20</td>\n",
              "      <td>515</td>\n",
              "      <td>492</td>\n",
              "      <td>761</td>\n",
              "      <td>555</td>\n",
              "      <td>345</td>\n",
              "      <td>0</td>\n",
              "      <td>425</td>\n",
              "      <td>469</td>\n",
              "      <td>703</td>\n",
              "      <td>527</td>\n",
              "      <td>577</td>\n",
              "      <td>488</td>\n",
              "      <td>3</td>\n",
              "      <td>1</td>\n",
              "      <td>1</td>\n",
              "      <td>1</td>\n",
              "      <td>1</td>\n",
              "      <td>1</td>\n",
              "      <td>1</td>\n",
              "      <td>1</td>\n",
              "      <td>1</td>\n",
              "      <td>40</td>\n",
              "      <td>1</td>\n",
              "      <td>1</td>\n",
              "      <td>1</td>\n",
              "      <td>1</td>\n",
              "      <td>1</td>\n",
              "      <td>1</td>\n",
              "      <td>2</td>\n",
              "      <td>2</td>\n",
              "      <td>1</td>\n",
              "      <td>2</td>\n",
              "      <td>2</td>\n",
              "      <td>2</td>\n",
              "      <td>0</td>\n",
              "    </tr>\n",
              "    <tr>\n",
              "      <th>2019-08-01</th>\n",
              "      <td>0</td>\n",
              "      <td>33</td>\n",
              "      <td>0</td>\n",
              "      <td>0</td>\n",
              "      <td>0</td>\n",
              "      <td>0</td>\n",
              "      <td>0</td>\n",
              "      <td>0</td>\n",
              "      <td>2</td>\n",
              "      <td>0.0</td>\n",
              "      <td>0.0</td>\n",
              "      <td>0.0</td>\n",
              "      <td>0.0</td>\n",
              "      <td>0.0</td>\n",
              "      <td>0.0</td>\n",
              "      <td>0.0</td>\n",
              "      <td>0.0</td>\n",
              "      <td>1.0</td>\n",
              "      <td>0.0</td>\n",
              "      <td>3.0</td>\n",
              "      <td>3650</td>\n",
              "      <td>3650</td>\n",
              "      <td>3650</td>\n",
              "      <td>3650</td>\n",
              "      <td>3650</td>\n",
              "      <td>3650</td>\n",
              "      <td>3650</td>\n",
              "      <td>3650</td>\n",
              "      <td>3650</td>\n",
              "      <td>3650</td>\n",
              "      <td>3650</td>\n",
              "      <td>114</td>\n",
              "      <td>3650</td>\n",
              "      <td>8</td>\n",
              "      <td>0</td>\n",
              "      <td>2</td>\n",
              "      <td>0</td>\n",
              "      <td>0</td>\n",
              "      <td>0</td>\n",
              "      <td>0</td>\n",
              "      <td>...</td>\n",
              "      <td>1</td>\n",
              "      <td>52</td>\n",
              "      <td>355</td>\n",
              "      <td>376</td>\n",
              "      <td>7</td>\n",
              "      <td>515</td>\n",
              "      <td>492</td>\n",
              "      <td>761</td>\n",
              "      <td>555</td>\n",
              "      <td>345</td>\n",
              "      <td>0</td>\n",
              "      <td>425</td>\n",
              "      <td>469</td>\n",
              "      <td>703</td>\n",
              "      <td>527</td>\n",
              "      <td>577</td>\n",
              "      <td>488</td>\n",
              "      <td>1</td>\n",
              "      <td>1</td>\n",
              "      <td>1</td>\n",
              "      <td>2</td>\n",
              "      <td>1</td>\n",
              "      <td>1</td>\n",
              "      <td>1</td>\n",
              "      <td>1</td>\n",
              "      <td>1</td>\n",
              "      <td>46</td>\n",
              "      <td>1</td>\n",
              "      <td>1</td>\n",
              "      <td>1</td>\n",
              "      <td>1</td>\n",
              "      <td>1</td>\n",
              "      <td>1</td>\n",
              "      <td>2</td>\n",
              "      <td>2</td>\n",
              "      <td>1</td>\n",
              "      <td>2</td>\n",
              "      <td>2</td>\n",
              "      <td>2</td>\n",
              "      <td>0</td>\n",
              "    </tr>\n",
              "  </tbody>\n",
              "</table>\n",
              "<p>5 rows × 150 columns</p>\n",
              "</div>"
            ],
            "text/plain": [
              "                                                              Total_incident_count  ...  Incident\n",
              "_key_client_id                       _key_occurreddate_month                        ...          \n",
              "0000D172-EA88-432F-8235-9FAA00D29072 2019-04-01                                  0  ...         0\n",
              "                                     2019-05-01                                  0  ...         0\n",
              "                                     2019-06-01                                  0  ...         0\n",
              "                                     2019-07-01                                  0  ...         0\n",
              "                                     2019-08-01                                  0  ...         0\n",
              "\n",
              "[5 rows x 150 columns]"
            ]
          },
          "metadata": {
            "tags": []
          },
          "execution_count": 9
        }
      ]
    },
    {
      "cell_type": "code",
      "metadata": {
        "id": "1IA3ZX1Q3J0j"
      },
      "source": [
        "client_id=list(Dataset.index.get_level_values(0)) # the value of '_key_client_id' indexe"
      ],
      "execution_count": 10,
      "outputs": []
    },
    {
      "cell_type": "markdown",
      "metadata": {
        "id": "4OuahIt2UWF2"
      },
      "source": [
        "### Remove the Useless records"
      ]
    },
    {
      "cell_type": "code",
      "metadata": {
        "id": "ZvzX1ELmMAfw"
      },
      "source": [
        "from collections import Counter\n",
        "occurrences = Counter(client_id)"
      ],
      "execution_count": 11,
      "outputs": []
    },
    {
      "cell_type": "code",
      "metadata": {
        "id": "NZxg9_39N7FR"
      },
      "source": [
        "used_id=[]\n",
        "usedless_id=[]\n",
        "for key, value in occurrences.items():\n",
        "  if value==12:  # number can be changed\n",
        "    used_id.append(key)\n",
        "  else:\n",
        "    usedless_id.append(key)"
      ],
      "execution_count": 12,
      "outputs": []
    },
    {
      "cell_type": "code",
      "metadata": {
        "id": "14bWZgMQP3Jq",
        "outputId": "845a3c5e-0cca-4b1e-a100-7e8946c661c1",
        "colab": {
          "base_uri": "https://localhost:8080/",
          "height": 52
        }
      },
      "source": [
        "print(f'Useful client:  {len(used_id):d}\\nUseless client: {len(usedless_id):d}')"
      ],
      "execution_count": 13,
      "outputs": [
        {
          "output_type": "stream",
          "text": [
            "Useful client:  7380\n",
            "Useless client: 7007\n"
          ],
          "name": "stdout"
        }
      ]
    },
    {
      "cell_type": "code",
      "metadata": {
        "id": "FIqnQ5eWQ8Oy",
        "outputId": "591bfd58-46f5-4fc2-b060-6cfa71a7b6ff",
        "colab": {
          "base_uri": "https://localhost:8080/",
          "height": 35
        }
      },
      "source": [
        "# remove the rows that the record of client is less than 12 month \n",
        "Dataset=Dataset.drop(usedless_id,level=0) \n",
        "Dataset.shape"
      ],
      "execution_count": 14,
      "outputs": [
        {
          "output_type": "execute_result",
          "data": {
            "text/plain": [
              "(88560, 152)"
            ]
          },
          "metadata": {
            "tags": []
          },
          "execution_count": 14
        }
      ]
    },
    {
      "cell_type": "code",
      "metadata": {
        "id": "d38tzpQ6UBkf"
      },
      "source": [
        "Dataset.drop(['Unnamed: 0','response_variable'],axis=1,inplace=True)"
      ],
      "execution_count": 15,
      "outputs": []
    },
    {
      "cell_type": "markdown",
      "metadata": {
        "id": "obJNduOArMIa"
      },
      "source": [
        "## Perparing Dateset for Modelling"
      ]
    },
    {
      "cell_type": "markdown",
      "metadata": {
        "id": "l6T0_1bqg3J-"
      },
      "source": [
        "### Spliting to Train and Test Set"
      ]
    },
    {
      "cell_type": "code",
      "metadata": {
        "id": "XDdZl8hahLXe",
        "outputId": "4f2feab0-87b9-40f1-81b2-9b2c739f65de",
        "colab": {
          "base_uri": "https://localhost:8080/",
          "height": 35
        }
      },
      "source": [
        "split=int(0.9*len(used_id))\n",
        "train_index=used_id[:split] # the clients who will in trainset\n",
        "test_index=used_id[split:] # the clients who will in testset\n",
        "\n",
        "# Train dataset\n",
        "train=Dataset.loc[train_index]\n",
        "train_x = train.drop('Incident',axis=1)\n",
        "train_y = train.Incident\n",
        "\n",
        "# Test Dataset\n",
        "test=Dataset.loc[test_index]\n",
        "test_x = test.drop('Incident',axis=1)\n",
        "test_y = test.Incident\n",
        "\n",
        "print(train.shape,test.shape)"
      ],
      "execution_count": 16,
      "outputs": [
        {
          "output_type": "stream",
          "text": [
            "(79704, 150) (8856, 150)\n"
          ],
          "name": "stdout"
        }
      ]
    },
    {
      "cell_type": "markdown",
      "metadata": {
        "id": "gVBhIWD6oqke"
      },
      "source": [
        "### Normalize the Data"
      ]
    },
    {
      "cell_type": "code",
      "metadata": {
        "id": "xjwqksZ3oJVi"
      },
      "source": [
        "from sklearn.preprocessing import MinMaxScaler\n",
        "scaler=MinMaxScaler()\n",
        "\n",
        "train_x = scaler.fit_transform(train_x)\n",
        "\n",
        "test_x = scaler.transform(test_x)"
      ],
      "execution_count": 17,
      "outputs": []
    },
    {
      "cell_type": "markdown",
      "metadata": {
        "id": "4aim_l66xgSI"
      },
      "source": [
        "###Serializing the Dataset"
      ]
    },
    {
      "cell_type": "code",
      "metadata": {
        "id": "pOhbC83Kq9QL"
      },
      "source": [
        "# 4D output\n",
        "import numpy as np\n",
        "\n",
        "def create_dataset(X, y, time_steps, window, number):\n",
        "  xs, ys,channel = [],[],0\n",
        "  while channel < number: # Ensure all client data have changed to time series type\n",
        "    xs_sub, ys_sub =[],[]\n",
        "    for i in range(window - time_steps):\n",
        "      shifft= window * channel\n",
        "      v = X[i+shifft:(i + shifft + time_steps)]\n",
        "      xs_sub.append(v)\n",
        "      ys_sub.append(y[i + shifft + time_steps])\n",
        "\n",
        "    channel+=1\n",
        "    xs.append(xs_sub)\n",
        "    ys.append(ys_sub)\n",
        "\n",
        "  return np.array(xs),np.array(ys)"
      ],
      "execution_count": 18,
      "outputs": []
    },
    {
      "cell_type": "code",
      "metadata": {
        "id": "ZJ9H29Sdq9QO"
      },
      "source": [
        "TIME_STEPS = 4\n",
        "WINDOW = 12 # control client change\n",
        "NUM_TRAIN = len(train_index)\n",
        "NUM_TEST = len(test_index)\n",
        "\n",
        "X_train, y_train = create_dataset(train_x,train_y, TIME_STEPS, WINDOW, NUM_TRAIN)\n",
        "X_test, y_test = create_dataset(test_x, test_y, TIME_STEPS, WINDOW,NUM_TEST)"
      ],
      "execution_count": 19,
      "outputs": []
    },
    {
      "cell_type": "code",
      "metadata": {
        "id": "u_1HVVXRq9QQ",
        "outputId": "33455499-f1df-4a0f-a88d-afcf63aaa9d0",
        "colab": {
          "base_uri": "https://localhost:8080/",
          "height": 35
        }
      },
      "source": [
        "# [n_samples, (n_sub_sequence),TIME_STEPS, n_features]\n",
        "print(X_train.shape, y_train.shape)"
      ],
      "execution_count": 20,
      "outputs": [
        {
          "output_type": "stream",
          "text": [
            "(6642, 8, 4, 149) (6642, 8)\n"
          ],
          "name": "stdout"
        }
      ]
    },
    {
      "cell_type": "markdown",
      "metadata": {
        "id": "nonWCISJrpa7"
      },
      "source": [
        "## LSTM AutoEncoder"
      ]
    },
    {
      "cell_type": "code",
      "metadata": {
        "id": "rx4xhtWAkXXW"
      },
      "source": [
        "# https://machinelearningmastery.com/how-to-develop-lstm-models-for-time-series-forecasting/\n",
        "''' 4D input [n_samples, n_sub_sequence,TIME_STEPS, n_features]'''\n",
        "def ConvLSMT_autoencoder(X):\n",
        "  model = Sequential()\n",
        "  model.add(layers.TimeDistributed(layers.Conv1D(filters=16, kernel_size=1, activation='relu'), input_shape=(None, X.shape[2], X.shape[3])))\n",
        "  model.add(layers.TimeDistributed(layers.MaxPooling1D(pool_size=2)))\n",
        "  model.add(layers.TimeDistributed(layers.Flatten()))\n",
        "  model.add(layers.LSTM(32, activation='relu'))\n",
        "  model.add(layers.RepeatVector(X.shape[2]))\n",
        "  model.add(layers.LSTM(4, activation='relu', return_sequences=True))\n",
        "  model.add(layers.Flatten())\n",
        "  model.add(layers.Dense(8,activation='sigmoid'))\n",
        "  return model"
      ],
      "execution_count": 21,
      "outputs": []
    },
    {
      "cell_type": "code",
      "metadata": {
        "id": "OluqSOE2fRNx",
        "outputId": "d23360fb-e713-43d2-e8f5-06e22e91850b",
        "colab": {
          "base_uri": "https://localhost:8080/",
          "height": 433
        }
      },
      "source": [
        "model = ConvLSMT_autoencoder(X_train)\n",
        "model.summary()"
      ],
      "execution_count": 22,
      "outputs": [
        {
          "output_type": "stream",
          "text": [
            "Model: \"sequential\"\n",
            "_________________________________________________________________\n",
            "Layer (type)                 Output Shape              Param #   \n",
            "=================================================================\n",
            "time_distributed (TimeDistri (None, None, 4, 16)       2400      \n",
            "_________________________________________________________________\n",
            "time_distributed_1 (TimeDist (None, None, 2, 16)       0         \n",
            "_________________________________________________________________\n",
            "time_distributed_2 (TimeDist (None, None, 32)          0         \n",
            "_________________________________________________________________\n",
            "lstm (LSTM)                  (None, 32)                8320      \n",
            "_________________________________________________________________\n",
            "repeat_vector (RepeatVector) (None, 4, 32)             0         \n",
            "_________________________________________________________________\n",
            "lstm_1 (LSTM)                (None, 4, 4)              592       \n",
            "_________________________________________________________________\n",
            "flatten_1 (Flatten)          (None, 16)                0         \n",
            "_________________________________________________________________\n",
            "dense (Dense)                (None, 8)                 136       \n",
            "=================================================================\n",
            "Total params: 11,448\n",
            "Trainable params: 11,448\n",
            "Non-trainable params: 0\n",
            "_________________________________________________________________\n"
          ],
          "name": "stdout"
        }
      ]
    },
    {
      "cell_type": "code",
      "metadata": {
        "id": "fVvbWAb4dXUu"
      },
      "source": [
        "model.compile(loss=keras.losses.BinaryCrossentropy(from_logits=False),\n",
        "              optimizer=keras.optimizers.Adam(1e-4),\n",
        "              metrics=['accuracy'])"
      ],
      "execution_count": 23,
      "outputs": []
    },
    {
      "cell_type": "code",
      "metadata": {
        "id": "PgSPpteoeOLD",
        "outputId": "762019ff-f64c-4a34-e2f2-a09ae2f553e2",
        "colab": {
          "base_uri": "https://localhost:8080/",
          "height": 1000
        }
      },
      "source": [
        "history = model.fit(\n",
        "    X_train,y_train,\n",
        "    epochs = 180,\n",
        "    batch_size = 48,\n",
        "    validation_split = 0.1,\n",
        "    shuffle = False)"
      ],
      "execution_count": 45,
      "outputs": [
        {
          "output_type": "stream",
          "text": [
            "Epoch 1/180\n",
            "125/125 [==============================] - 1s 10ms/step - loss: 0.0936 - accuracy: 0.2316 - val_loss: 0.1263 - val_accuracy: 0.2241\n",
            "Epoch 2/180\n",
            "125/125 [==============================] - 1s 10ms/step - loss: 0.0934 - accuracy: 0.2324 - val_loss: 0.1263 - val_accuracy: 0.2226\n",
            "Epoch 3/180\n",
            "125/125 [==============================] - 1s 10ms/step - loss: 0.0932 - accuracy: 0.2327 - val_loss: 0.1260 - val_accuracy: 0.2226\n",
            "Epoch 4/180\n",
            "125/125 [==============================] - 1s 10ms/step - loss: 0.0930 - accuracy: 0.2327 - val_loss: 0.1259 - val_accuracy: 0.2256\n",
            "Epoch 5/180\n",
            "125/125 [==============================] - 1s 10ms/step - loss: 0.0928 - accuracy: 0.2326 - val_loss: 0.1258 - val_accuracy: 0.2256\n",
            "Epoch 6/180\n",
            "125/125 [==============================] - 1s 10ms/step - loss: 0.0926 - accuracy: 0.2326 - val_loss: 0.1256 - val_accuracy: 0.2271\n",
            "Epoch 7/180\n",
            "125/125 [==============================] - 1s 10ms/step - loss: 0.0924 - accuracy: 0.2322 - val_loss: 0.1254 - val_accuracy: 0.2271\n",
            "Epoch 8/180\n",
            "125/125 [==============================] - 1s 10ms/step - loss: 0.0922 - accuracy: 0.2326 - val_loss: 0.1253 - val_accuracy: 0.2256\n",
            "Epoch 9/180\n",
            "125/125 [==============================] - 1s 10ms/step - loss: 0.0920 - accuracy: 0.2331 - val_loss: 0.1252 - val_accuracy: 0.2256\n",
            "Epoch 10/180\n",
            "125/125 [==============================] - 1s 10ms/step - loss: 0.0918 - accuracy: 0.2336 - val_loss: 0.1251 - val_accuracy: 0.2271\n",
            "Epoch 11/180\n",
            "125/125 [==============================] - 1s 10ms/step - loss: 0.0916 - accuracy: 0.2337 - val_loss: 0.1248 - val_accuracy: 0.2286\n",
            "Epoch 12/180\n",
            "125/125 [==============================] - 1s 10ms/step - loss: 0.0914 - accuracy: 0.2341 - val_loss: 0.1247 - val_accuracy: 0.2286\n",
            "Epoch 13/180\n",
            "125/125 [==============================] - 1s 10ms/step - loss: 0.0912 - accuracy: 0.2337 - val_loss: 0.1246 - val_accuracy: 0.2286\n",
            "Epoch 14/180\n",
            "125/125 [==============================] - 1s 10ms/step - loss: 0.0910 - accuracy: 0.2339 - val_loss: 0.1245 - val_accuracy: 0.2286\n",
            "Epoch 15/180\n",
            "125/125 [==============================] - 1s 10ms/step - loss: 0.0908 - accuracy: 0.2342 - val_loss: 0.1244 - val_accuracy: 0.2271\n",
            "Epoch 16/180\n",
            "125/125 [==============================] - 1s 10ms/step - loss: 0.0906 - accuracy: 0.2341 - val_loss: 0.1242 - val_accuracy: 0.2271\n",
            "Epoch 17/180\n",
            "125/125 [==============================] - 1s 10ms/step - loss: 0.0904 - accuracy: 0.2341 - val_loss: 0.1241 - val_accuracy: 0.2271\n",
            "Epoch 18/180\n",
            "125/125 [==============================] - 1s 10ms/step - loss: 0.0902 - accuracy: 0.2336 - val_loss: 0.1240 - val_accuracy: 0.2271\n",
            "Epoch 19/180\n",
            "125/125 [==============================] - 1s 10ms/step - loss: 0.0900 - accuracy: 0.2324 - val_loss: 0.1238 - val_accuracy: 0.2271\n",
            "Epoch 20/180\n",
            "125/125 [==============================] - 1s 10ms/step - loss: 0.0898 - accuracy: 0.2329 - val_loss: 0.1237 - val_accuracy: 0.2256\n",
            "Epoch 21/180\n",
            "125/125 [==============================] - 1s 10ms/step - loss: 0.0896 - accuracy: 0.2324 - val_loss: 0.1236 - val_accuracy: 0.2256\n",
            "Epoch 22/180\n",
            "125/125 [==============================] - 1s 10ms/step - loss: 0.0895 - accuracy: 0.2324 - val_loss: 0.1236 - val_accuracy: 0.2271\n",
            "Epoch 23/180\n",
            "125/125 [==============================] - 1s 10ms/step - loss: 0.0893 - accuracy: 0.2329 - val_loss: 0.1234 - val_accuracy: 0.2286\n",
            "Epoch 24/180\n",
            "125/125 [==============================] - 1s 10ms/step - loss: 0.0891 - accuracy: 0.2327 - val_loss: 0.1234 - val_accuracy: 0.2286\n",
            "Epoch 25/180\n",
            "125/125 [==============================] - 1s 10ms/step - loss: 0.0889 - accuracy: 0.2327 - val_loss: 0.1232 - val_accuracy: 0.2286\n",
            "Epoch 26/180\n",
            "125/125 [==============================] - 1s 10ms/step - loss: 0.0887 - accuracy: 0.2331 - val_loss: 0.1232 - val_accuracy: 0.2286\n",
            "Epoch 27/180\n",
            "125/125 [==============================] - 1s 10ms/step - loss: 0.0885 - accuracy: 0.2341 - val_loss: 0.1231 - val_accuracy: 0.2286\n",
            "Epoch 28/180\n",
            "125/125 [==============================] - 1s 10ms/step - loss: 0.0890 - accuracy: 0.2334 - val_loss: 0.1229 - val_accuracy: 0.2301\n",
            "Epoch 29/180\n",
            "125/125 [==============================] - 1s 10ms/step - loss: 0.0888 - accuracy: 0.2341 - val_loss: 0.1235 - val_accuracy: 0.2301\n",
            "Epoch 30/180\n",
            "125/125 [==============================] - 1s 10ms/step - loss: 0.0885 - accuracy: 0.2341 - val_loss: 0.1228 - val_accuracy: 0.2301\n",
            "Epoch 31/180\n",
            "125/125 [==============================] - 1s 10ms/step - loss: 0.0883 - accuracy: 0.2346 - val_loss: 0.1230 - val_accuracy: 0.2316\n",
            "Epoch 32/180\n",
            "125/125 [==============================] - 1s 10ms/step - loss: 0.0879 - accuracy: 0.2346 - val_loss: 0.1228 - val_accuracy: 0.2316\n",
            "Epoch 33/180\n",
            "125/125 [==============================] - 1s 10ms/step - loss: 0.0876 - accuracy: 0.2354 - val_loss: 0.1224 - val_accuracy: 0.2316\n",
            "Epoch 34/180\n",
            "125/125 [==============================] - 1s 10ms/step - loss: 0.0874 - accuracy: 0.2347 - val_loss: 0.1223 - val_accuracy: 0.2301\n",
            "Epoch 35/180\n",
            "125/125 [==============================] - 1s 10ms/step - loss: 0.0872 - accuracy: 0.2352 - val_loss: 0.1222 - val_accuracy: 0.2301\n",
            "Epoch 36/180\n",
            "125/125 [==============================] - 1s 10ms/step - loss: 0.0870 - accuracy: 0.2354 - val_loss: 0.1221 - val_accuracy: 0.2286\n",
            "Epoch 37/180\n",
            "125/125 [==============================] - 1s 10ms/step - loss: 0.0869 - accuracy: 0.2354 - val_loss: 0.1219 - val_accuracy: 0.2301\n",
            "Epoch 38/180\n",
            "125/125 [==============================] - 1s 10ms/step - loss: 0.0867 - accuracy: 0.2362 - val_loss: 0.1220 - val_accuracy: 0.2286\n",
            "Epoch 39/180\n",
            "125/125 [==============================] - 1s 10ms/step - loss: 0.0865 - accuracy: 0.2356 - val_loss: 0.1218 - val_accuracy: 0.2301\n",
            "Epoch 40/180\n",
            "125/125 [==============================] - 1s 10ms/step - loss: 0.0864 - accuracy: 0.2354 - val_loss: 0.1217 - val_accuracy: 0.2316\n",
            "Epoch 41/180\n",
            "125/125 [==============================] - 1s 10ms/step - loss: 0.0862 - accuracy: 0.2356 - val_loss: 0.1216 - val_accuracy: 0.2331\n",
            "Epoch 42/180\n",
            "125/125 [==============================] - 1s 12ms/step - loss: 0.0860 - accuracy: 0.2352 - val_loss: 0.1216 - val_accuracy: 0.2316\n",
            "Epoch 43/180\n",
            "125/125 [==============================] - 1s 11ms/step - loss: 0.0858 - accuracy: 0.2356 - val_loss: 0.1216 - val_accuracy: 0.2331\n",
            "Epoch 44/180\n",
            "125/125 [==============================] - 1s 11ms/step - loss: 0.0856 - accuracy: 0.2352 - val_loss: 0.1216 - val_accuracy: 0.2316\n",
            "Epoch 45/180\n",
            "125/125 [==============================] - 1s 12ms/step - loss: 0.0855 - accuracy: 0.2354 - val_loss: 0.1214 - val_accuracy: 0.2331\n",
            "Epoch 46/180\n",
            "125/125 [==============================] - 1s 11ms/step - loss: 0.0853 - accuracy: 0.2359 - val_loss: 0.1214 - val_accuracy: 0.2331\n",
            "Epoch 47/180\n",
            "125/125 [==============================] - 1s 11ms/step - loss: 0.0851 - accuracy: 0.2357 - val_loss: 0.1212 - val_accuracy: 0.2361\n",
            "Epoch 48/180\n",
            "125/125 [==============================] - 1s 11ms/step - loss: 0.0849 - accuracy: 0.2357 - val_loss: 0.1212 - val_accuracy: 0.2331\n",
            "Epoch 49/180\n",
            "125/125 [==============================] - 1s 11ms/step - loss: 0.0848 - accuracy: 0.2367 - val_loss: 0.1210 - val_accuracy: 0.2361\n",
            "Epoch 50/180\n",
            "125/125 [==============================] - 1s 10ms/step - loss: 0.0846 - accuracy: 0.2369 - val_loss: 0.1210 - val_accuracy: 0.2361\n",
            "Epoch 51/180\n",
            "125/125 [==============================] - 1s 10ms/step - loss: 0.0844 - accuracy: 0.2369 - val_loss: 0.1211 - val_accuracy: 0.2346\n",
            "Epoch 52/180\n",
            "125/125 [==============================] - 1s 10ms/step - loss: 0.0842 - accuracy: 0.2364 - val_loss: 0.1210 - val_accuracy: 0.2346\n",
            "Epoch 53/180\n",
            "125/125 [==============================] - 1s 10ms/step - loss: 0.0841 - accuracy: 0.2361 - val_loss: 0.1213 - val_accuracy: 0.2346\n",
            "Epoch 54/180\n",
            "125/125 [==============================] - 1s 10ms/step - loss: 0.0839 - accuracy: 0.2361 - val_loss: 0.1209 - val_accuracy: 0.2346\n",
            "Epoch 55/180\n",
            "125/125 [==============================] - 1s 10ms/step - loss: 0.0837 - accuracy: 0.2361 - val_loss: 0.1209 - val_accuracy: 0.2346\n",
            "Epoch 56/180\n",
            "125/125 [==============================] - 1s 10ms/step - loss: 0.0836 - accuracy: 0.2354 - val_loss: 0.1212 - val_accuracy: 0.2331\n",
            "Epoch 57/180\n",
            "125/125 [==============================] - 1s 10ms/step - loss: 0.0834 - accuracy: 0.2356 - val_loss: 0.1210 - val_accuracy: 0.2331\n",
            "Epoch 58/180\n",
            "125/125 [==============================] - 1s 10ms/step - loss: 0.0833 - accuracy: 0.2354 - val_loss: 0.1212 - val_accuracy: 0.2301\n",
            "Epoch 59/180\n",
            "125/125 [==============================] - 1s 10ms/step - loss: 0.0831 - accuracy: 0.2346 - val_loss: 0.1211 - val_accuracy: 0.2331\n",
            "Epoch 60/180\n",
            "125/125 [==============================] - 1s 10ms/step - loss: 0.0835 - accuracy: 0.2364 - val_loss: 0.1214 - val_accuracy: 0.2346\n",
            "Epoch 61/180\n",
            "125/125 [==============================] - 1s 10ms/step - loss: 0.0836 - accuracy: 0.2342 - val_loss: 0.1217 - val_accuracy: 0.2346\n",
            "Epoch 62/180\n",
            "125/125 [==============================] - 1s 10ms/step - loss: 0.0831 - accuracy: 0.2346 - val_loss: 0.1217 - val_accuracy: 0.2346\n",
            "Epoch 63/180\n",
            "125/125 [==============================] - 1s 10ms/step - loss: 0.0825 - accuracy: 0.2357 - val_loss: 0.1212 - val_accuracy: 0.2361\n",
            "Epoch 64/180\n",
            "125/125 [==============================] - 1s 10ms/step - loss: 0.0822 - accuracy: 0.2356 - val_loss: 0.1211 - val_accuracy: 0.2346\n",
            "Epoch 65/180\n",
            "125/125 [==============================] - 1s 10ms/step - loss: 0.0821 - accuracy: 0.2356 - val_loss: 0.1208 - val_accuracy: 0.2391\n",
            "Epoch 66/180\n",
            "125/125 [==============================] - 1s 10ms/step - loss: 0.0819 - accuracy: 0.2351 - val_loss: 0.1210 - val_accuracy: 0.2346\n",
            "Epoch 67/180\n",
            "125/125 [==============================] - 1s 10ms/step - loss: 0.0818 - accuracy: 0.2352 - val_loss: 0.1209 - val_accuracy: 0.2346\n",
            "Epoch 68/180\n",
            "125/125 [==============================] - 1s 10ms/step - loss: 0.0816 - accuracy: 0.2347 - val_loss: 0.1206 - val_accuracy: 0.2406\n",
            "Epoch 69/180\n",
            "125/125 [==============================] - 1s 10ms/step - loss: 0.0814 - accuracy: 0.2351 - val_loss: 0.1209 - val_accuracy: 0.2346\n",
            "Epoch 70/180\n",
            "125/125 [==============================] - 1s 10ms/step - loss: 0.0813 - accuracy: 0.2347 - val_loss: 0.1206 - val_accuracy: 0.2391\n",
            "Epoch 71/180\n",
            "125/125 [==============================] - 1s 10ms/step - loss: 0.0811 - accuracy: 0.2356 - val_loss: 0.1206 - val_accuracy: 0.2346\n",
            "Epoch 72/180\n",
            "125/125 [==============================] - 1s 10ms/step - loss: 0.0809 - accuracy: 0.2352 - val_loss: 0.1209 - val_accuracy: 0.2331\n",
            "Epoch 73/180\n",
            "125/125 [==============================] - 1s 10ms/step - loss: 0.0809 - accuracy: 0.2349 - val_loss: 0.1202 - val_accuracy: 0.2376\n",
            "Epoch 74/180\n",
            "125/125 [==============================] - 1s 10ms/step - loss: 0.0806 - accuracy: 0.2357 - val_loss: 0.1207 - val_accuracy: 0.2316\n",
            "Epoch 75/180\n",
            "125/125 [==============================] - 1s 10ms/step - loss: 0.0806 - accuracy: 0.2346 - val_loss: 0.1200 - val_accuracy: 0.2361\n",
            "Epoch 76/180\n",
            "125/125 [==============================] - 1s 10ms/step - loss: 0.0803 - accuracy: 0.2361 - val_loss: 0.1207 - val_accuracy: 0.2286\n",
            "Epoch 77/180\n",
            "125/125 [==============================] - 1s 10ms/step - loss: 0.0802 - accuracy: 0.2351 - val_loss: 0.1200 - val_accuracy: 0.2346\n",
            "Epoch 78/180\n",
            "125/125 [==============================] - 1s 10ms/step - loss: 0.0800 - accuracy: 0.2354 - val_loss: 0.1205 - val_accuracy: 0.2316\n",
            "Epoch 79/180\n",
            "125/125 [==============================] - 1s 10ms/step - loss: 0.0799 - accuracy: 0.2349 - val_loss: 0.1200 - val_accuracy: 0.2346\n",
            "Epoch 80/180\n",
            "125/125 [==============================] - 1s 10ms/step - loss: 0.0797 - accuracy: 0.2362 - val_loss: 0.1204 - val_accuracy: 0.2331\n",
            "Epoch 81/180\n",
            "125/125 [==============================] - 1s 10ms/step - loss: 0.0796 - accuracy: 0.2354 - val_loss: 0.1201 - val_accuracy: 0.2376\n",
            "Epoch 82/180\n",
            "125/125 [==============================] - 1s 10ms/step - loss: 0.0794 - accuracy: 0.2371 - val_loss: 0.1204 - val_accuracy: 0.2331\n",
            "Epoch 83/180\n",
            "125/125 [==============================] - 1s 10ms/step - loss: 0.0793 - accuracy: 0.2364 - val_loss: 0.1203 - val_accuracy: 0.2331\n",
            "Epoch 84/180\n",
            "125/125 [==============================] - 1s 10ms/step - loss: 0.0791 - accuracy: 0.2369 - val_loss: 0.1201 - val_accuracy: 0.2331\n",
            "Epoch 85/180\n",
            "125/125 [==============================] - 1s 10ms/step - loss: 0.0790 - accuracy: 0.2362 - val_loss: 0.1202 - val_accuracy: 0.2316\n",
            "Epoch 86/180\n",
            "125/125 [==============================] - 1s 10ms/step - loss: 0.0788 - accuracy: 0.2369 - val_loss: 0.1201 - val_accuracy: 0.2331\n",
            "Epoch 87/180\n",
            "125/125 [==============================] - 1s 10ms/step - loss: 0.0787 - accuracy: 0.2361 - val_loss: 0.1201 - val_accuracy: 0.2316\n",
            "Epoch 88/180\n",
            "125/125 [==============================] - 1s 10ms/step - loss: 0.0785 - accuracy: 0.2371 - val_loss: 0.1199 - val_accuracy: 0.2331\n",
            "Epoch 89/180\n",
            "125/125 [==============================] - 1s 10ms/step - loss: 0.0785 - accuracy: 0.2372 - val_loss: 0.1202 - val_accuracy: 0.2331\n",
            "Epoch 90/180\n",
            "125/125 [==============================] - 1s 10ms/step - loss: 0.0782 - accuracy: 0.2376 - val_loss: 0.1200 - val_accuracy: 0.2361\n",
            "Epoch 91/180\n",
            "125/125 [==============================] - 1s 10ms/step - loss: 0.0781 - accuracy: 0.2371 - val_loss: 0.1200 - val_accuracy: 0.2361\n",
            "Epoch 92/180\n",
            "125/125 [==============================] - 1s 10ms/step - loss: 0.0779 - accuracy: 0.2374 - val_loss: 0.1200 - val_accuracy: 0.2316\n",
            "Epoch 93/180\n",
            "125/125 [==============================] - 1s 10ms/step - loss: 0.0777 - accuracy: 0.2376 - val_loss: 0.1197 - val_accuracy: 0.2361\n",
            "Epoch 94/180\n",
            "125/125 [==============================] - 1s 10ms/step - loss: 0.0775 - accuracy: 0.2377 - val_loss: 0.1198 - val_accuracy: 0.2316\n",
            "Epoch 95/180\n",
            "125/125 [==============================] - 1s 10ms/step - loss: 0.0774 - accuracy: 0.2377 - val_loss: 0.1196 - val_accuracy: 0.2346\n",
            "Epoch 96/180\n",
            "125/125 [==============================] - 1s 10ms/step - loss: 0.0772 - accuracy: 0.2384 - val_loss: 0.1196 - val_accuracy: 0.2346\n",
            "Epoch 97/180\n",
            "125/125 [==============================] - 1s 10ms/step - loss: 0.0771 - accuracy: 0.2382 - val_loss: 0.1195 - val_accuracy: 0.2346\n",
            "Epoch 98/180\n",
            "125/125 [==============================] - 1s 10ms/step - loss: 0.0769 - accuracy: 0.2387 - val_loss: 0.1197 - val_accuracy: 0.2346\n",
            "Epoch 99/180\n",
            "125/125 [==============================] - 1s 10ms/step - loss: 0.0770 - accuracy: 0.2381 - val_loss: 0.1198 - val_accuracy: 0.2391\n",
            "Epoch 100/180\n",
            "125/125 [==============================] - 1s 10ms/step - loss: 0.0770 - accuracy: 0.2387 - val_loss: 0.1196 - val_accuracy: 0.2316\n",
            "Epoch 101/180\n",
            "125/125 [==============================] - 1s 10ms/step - loss: 0.0765 - accuracy: 0.2381 - val_loss: 0.1196 - val_accuracy: 0.2331\n",
            "Epoch 102/180\n",
            "125/125 [==============================] - 1s 10ms/step - loss: 0.0763 - accuracy: 0.2377 - val_loss: 0.1194 - val_accuracy: 0.2316\n",
            "Epoch 103/180\n",
            "125/125 [==============================] - 1s 10ms/step - loss: 0.0761 - accuracy: 0.2379 - val_loss: 0.1192 - val_accuracy: 0.2316\n",
            "Epoch 104/180\n",
            "125/125 [==============================] - 1s 10ms/step - loss: 0.0760 - accuracy: 0.2371 - val_loss: 0.1191 - val_accuracy: 0.2346\n",
            "Epoch 105/180\n",
            "125/125 [==============================] - 1s 10ms/step - loss: 0.0759 - accuracy: 0.2379 - val_loss: 0.1192 - val_accuracy: 0.2346\n",
            "Epoch 106/180\n",
            "125/125 [==============================] - 1s 10ms/step - loss: 0.0757 - accuracy: 0.2374 - val_loss: 0.1191 - val_accuracy: 0.2346\n",
            "Epoch 107/180\n",
            "125/125 [==============================] - 1s 10ms/step - loss: 0.0755 - accuracy: 0.2374 - val_loss: 0.1192 - val_accuracy: 0.2346\n",
            "Epoch 108/180\n",
            "125/125 [==============================] - 1s 10ms/step - loss: 0.0755 - accuracy: 0.2372 - val_loss: 0.1188 - val_accuracy: 0.2391\n",
            "Epoch 109/180\n",
            "125/125 [==============================] - 1s 10ms/step - loss: 0.0753 - accuracy: 0.2384 - val_loss: 0.1188 - val_accuracy: 0.2346\n",
            "Epoch 110/180\n",
            "125/125 [==============================] - 1s 10ms/step - loss: 0.0751 - accuracy: 0.2372 - val_loss: 0.1188 - val_accuracy: 0.2361\n",
            "Epoch 111/180\n",
            "125/125 [==============================] - 1s 10ms/step - loss: 0.0750 - accuracy: 0.2377 - val_loss: 0.1188 - val_accuracy: 0.2361\n",
            "Epoch 112/180\n",
            "125/125 [==============================] - 1s 10ms/step - loss: 0.0749 - accuracy: 0.2367 - val_loss: 0.1185 - val_accuracy: 0.2361\n",
            "Epoch 113/180\n",
            "125/125 [==============================] - 1s 10ms/step - loss: 0.0747 - accuracy: 0.2386 - val_loss: 0.1187 - val_accuracy: 0.2361\n",
            "Epoch 114/180\n",
            "125/125 [==============================] - 1s 10ms/step - loss: 0.0748 - accuracy: 0.2381 - val_loss: 0.1184 - val_accuracy: 0.2361\n",
            "Epoch 115/180\n",
            "125/125 [==============================] - 1s 10ms/step - loss: 0.0745 - accuracy: 0.2381 - val_loss: 0.1185 - val_accuracy: 0.2346\n",
            "Epoch 116/180\n",
            "125/125 [==============================] - 1s 10ms/step - loss: 0.0744 - accuracy: 0.2369 - val_loss: 0.1184 - val_accuracy: 0.2361\n",
            "Epoch 117/180\n",
            "125/125 [==============================] - 1s 10ms/step - loss: 0.0741 - accuracy: 0.2393 - val_loss: 0.1185 - val_accuracy: 0.2346\n",
            "Epoch 118/180\n",
            "125/125 [==============================] - 1s 10ms/step - loss: 0.0740 - accuracy: 0.2367 - val_loss: 0.1182 - val_accuracy: 0.2346\n",
            "Epoch 119/180\n",
            "125/125 [==============================] - 1s 10ms/step - loss: 0.0738 - accuracy: 0.2374 - val_loss: 0.1184 - val_accuracy: 0.2346\n",
            "Epoch 120/180\n",
            "125/125 [==============================] - 1s 10ms/step - loss: 0.0737 - accuracy: 0.2386 - val_loss: 0.1182 - val_accuracy: 0.2361\n",
            "Epoch 121/180\n",
            "125/125 [==============================] - 1s 10ms/step - loss: 0.0737 - accuracy: 0.2381 - val_loss: 0.1180 - val_accuracy: 0.2346\n",
            "Epoch 122/180\n",
            "125/125 [==============================] - 1s 10ms/step - loss: 0.0734 - accuracy: 0.2393 - val_loss: 0.1180 - val_accuracy: 0.2361\n",
            "Epoch 123/180\n",
            "125/125 [==============================] - 1s 10ms/step - loss: 0.0735 - accuracy: 0.2382 - val_loss: 0.1180 - val_accuracy: 0.2346\n",
            "Epoch 124/180\n",
            "125/125 [==============================] - 1s 10ms/step - loss: 0.0734 - accuracy: 0.2399 - val_loss: 0.1180 - val_accuracy: 0.2361\n",
            "Epoch 125/180\n",
            "125/125 [==============================] - 1s 10ms/step - loss: 0.0730 - accuracy: 0.2399 - val_loss: 0.1178 - val_accuracy: 0.2361\n",
            "Epoch 126/180\n",
            "125/125 [==============================] - 1s 10ms/step - loss: 0.0728 - accuracy: 0.2389 - val_loss: 0.1176 - val_accuracy: 0.2361\n",
            "Epoch 127/180\n",
            "125/125 [==============================] - 1s 10ms/step - loss: 0.0727 - accuracy: 0.2401 - val_loss: 0.1176 - val_accuracy: 0.2361\n",
            "Epoch 128/180\n",
            "125/125 [==============================] - 1s 10ms/step - loss: 0.0726 - accuracy: 0.2381 - val_loss: 0.1175 - val_accuracy: 0.2361\n",
            "Epoch 129/180\n",
            "125/125 [==============================] - 1s 10ms/step - loss: 0.0724 - accuracy: 0.2408 - val_loss: 0.1175 - val_accuracy: 0.2361\n",
            "Epoch 130/180\n",
            "125/125 [==============================] - 1s 10ms/step - loss: 0.0723 - accuracy: 0.2384 - val_loss: 0.1175 - val_accuracy: 0.2361\n",
            "Epoch 131/180\n",
            "125/125 [==============================] - 1s 10ms/step - loss: 0.0721 - accuracy: 0.2404 - val_loss: 0.1176 - val_accuracy: 0.2361\n",
            "Epoch 132/180\n",
            "125/125 [==============================] - 1s 10ms/step - loss: 0.0726 - accuracy: 0.2393 - val_loss: 0.1172 - val_accuracy: 0.2376\n",
            "Epoch 133/180\n",
            "125/125 [==============================] - 1s 10ms/step - loss: 0.0731 - accuracy: 0.2379 - val_loss: 0.1170 - val_accuracy: 0.2376\n",
            "Epoch 134/180\n",
            "125/125 [==============================] - 1s 10ms/step - loss: 0.0721 - accuracy: 0.2396 - val_loss: 0.1170 - val_accuracy: 0.2391\n",
            "Epoch 135/180\n",
            "125/125 [==============================] - 1s 10ms/step - loss: 0.0716 - accuracy: 0.2401 - val_loss: 0.1172 - val_accuracy: 0.2391\n",
            "Epoch 136/180\n",
            "125/125 [==============================] - 1s 10ms/step - loss: 0.0715 - accuracy: 0.2394 - val_loss: 0.1170 - val_accuracy: 0.2391\n",
            "Epoch 137/180\n",
            "125/125 [==============================] - 1s 10ms/step - loss: 0.0713 - accuracy: 0.2396 - val_loss: 0.1171 - val_accuracy: 0.2391\n",
            "Epoch 138/180\n",
            "125/125 [==============================] - 1s 10ms/step - loss: 0.0712 - accuracy: 0.2403 - val_loss: 0.1171 - val_accuracy: 0.2406\n",
            "Epoch 139/180\n",
            "125/125 [==============================] - 1s 10ms/step - loss: 0.0710 - accuracy: 0.2394 - val_loss: 0.1170 - val_accuracy: 0.2406\n",
            "Epoch 140/180\n",
            "125/125 [==============================] - 1s 10ms/step - loss: 0.0709 - accuracy: 0.2398 - val_loss: 0.1172 - val_accuracy: 0.2406\n",
            "Epoch 141/180\n",
            "125/125 [==============================] - 1s 10ms/step - loss: 0.0708 - accuracy: 0.2393 - val_loss: 0.1171 - val_accuracy: 0.2406\n",
            "Epoch 142/180\n",
            "125/125 [==============================] - 1s 10ms/step - loss: 0.0706 - accuracy: 0.2393 - val_loss: 0.1171 - val_accuracy: 0.2406\n",
            "Epoch 143/180\n",
            "125/125 [==============================] - 1s 10ms/step - loss: 0.0705 - accuracy: 0.2393 - val_loss: 0.1171 - val_accuracy: 0.2406\n",
            "Epoch 144/180\n",
            "125/125 [==============================] - 1s 10ms/step - loss: 0.0703 - accuracy: 0.2389 - val_loss: 0.1171 - val_accuracy: 0.2406\n",
            "Epoch 145/180\n",
            "125/125 [==============================] - 1s 10ms/step - loss: 0.0702 - accuracy: 0.2399 - val_loss: 0.1170 - val_accuracy: 0.2391\n",
            "Epoch 146/180\n",
            "125/125 [==============================] - 1s 10ms/step - loss: 0.0701 - accuracy: 0.2389 - val_loss: 0.1170 - val_accuracy: 0.2406\n",
            "Epoch 147/180\n",
            "125/125 [==============================] - 1s 10ms/step - loss: 0.0699 - accuracy: 0.2396 - val_loss: 0.1172 - val_accuracy: 0.2391\n",
            "Epoch 148/180\n",
            "125/125 [==============================] - 1s 10ms/step - loss: 0.0704 - accuracy: 0.2387 - val_loss: 0.1172 - val_accuracy: 0.2391\n",
            "Epoch 149/180\n",
            "125/125 [==============================] - 1s 10ms/step - loss: 0.0698 - accuracy: 0.2401 - val_loss: 0.1173 - val_accuracy: 0.2406\n",
            "Epoch 150/180\n",
            "125/125 [==============================] - 1s 10ms/step - loss: 0.0695 - accuracy: 0.2399 - val_loss: 0.1172 - val_accuracy: 0.2391\n",
            "Epoch 151/180\n",
            "125/125 [==============================] - 1s 10ms/step - loss: 0.0695 - accuracy: 0.2389 - val_loss: 0.1170 - val_accuracy: 0.2391\n",
            "Epoch 152/180\n",
            "125/125 [==============================] - 1s 10ms/step - loss: 0.0693 - accuracy: 0.2393 - val_loss: 0.1173 - val_accuracy: 0.2391\n",
            "Epoch 153/180\n",
            "125/125 [==============================] - 1s 10ms/step - loss: 0.0692 - accuracy: 0.2394 - val_loss: 0.1172 - val_accuracy: 0.2391\n",
            "Epoch 154/180\n",
            "125/125 [==============================] - 1s 10ms/step - loss: 0.0690 - accuracy: 0.2399 - val_loss: 0.1172 - val_accuracy: 0.2391\n",
            "Epoch 155/180\n",
            "125/125 [==============================] - 1s 10ms/step - loss: 0.0689 - accuracy: 0.2394 - val_loss: 0.1172 - val_accuracy: 0.2391\n",
            "Epoch 156/180\n",
            "125/125 [==============================] - 1s 11ms/step - loss: 0.0688 - accuracy: 0.2399 - val_loss: 0.1176 - val_accuracy: 0.2391\n",
            "Epoch 157/180\n",
            "125/125 [==============================] - 1s 10ms/step - loss: 0.0689 - accuracy: 0.2382 - val_loss: 0.1172 - val_accuracy: 0.2391\n",
            "Epoch 158/180\n",
            "125/125 [==============================] - 1s 11ms/step - loss: 0.0685 - accuracy: 0.2399 - val_loss: 0.1176 - val_accuracy: 0.2391\n",
            "Epoch 159/180\n",
            "125/125 [==============================] - 1s 10ms/step - loss: 0.0683 - accuracy: 0.2399 - val_loss: 0.1176 - val_accuracy: 0.2391\n",
            "Epoch 160/180\n",
            "125/125 [==============================] - 1s 10ms/step - loss: 0.0683 - accuracy: 0.2393 - val_loss: 0.1176 - val_accuracy: 0.2391\n",
            "Epoch 161/180\n",
            "125/125 [==============================] - 1s 10ms/step - loss: 0.0680 - accuracy: 0.2396 - val_loss: 0.1176 - val_accuracy: 0.2391\n",
            "Epoch 162/180\n",
            "125/125 [==============================] - 1s 10ms/step - loss: 0.0679 - accuracy: 0.2398 - val_loss: 0.1177 - val_accuracy: 0.2391\n",
            "Epoch 163/180\n",
            "125/125 [==============================] - 1s 10ms/step - loss: 0.0677 - accuracy: 0.2404 - val_loss: 0.1180 - val_accuracy: 0.2391\n",
            "Epoch 164/180\n",
            "125/125 [==============================] - 1s 10ms/step - loss: 0.0676 - accuracy: 0.2403 - val_loss: 0.1181 - val_accuracy: 0.2391\n",
            "Epoch 165/180\n",
            "125/125 [==============================] - 1s 10ms/step - loss: 0.0674 - accuracy: 0.2399 - val_loss: 0.1182 - val_accuracy: 0.2406\n",
            "Epoch 166/180\n",
            "125/125 [==============================] - 1s 10ms/step - loss: 0.0673 - accuracy: 0.2401 - val_loss: 0.1184 - val_accuracy: 0.2391\n",
            "Epoch 167/180\n",
            "125/125 [==============================] - 1s 10ms/step - loss: 0.0672 - accuracy: 0.2401 - val_loss: 0.1181 - val_accuracy: 0.2406\n",
            "Epoch 168/180\n",
            "125/125 [==============================] - 1s 10ms/step - loss: 0.0671 - accuracy: 0.2399 - val_loss: 0.1184 - val_accuracy: 0.2406\n",
            "Epoch 169/180\n",
            "125/125 [==============================] - 1s 10ms/step - loss: 0.0670 - accuracy: 0.2401 - val_loss: 0.1184 - val_accuracy: 0.2406\n",
            "Epoch 170/180\n",
            "125/125 [==============================] - 1s 10ms/step - loss: 0.0669 - accuracy: 0.2404 - val_loss: 0.1189 - val_accuracy: 0.2406\n",
            "Epoch 171/180\n",
            "125/125 [==============================] - 1s 10ms/step - loss: 0.0669 - accuracy: 0.2394 - val_loss: 0.1180 - val_accuracy: 0.2391\n",
            "Epoch 172/180\n",
            "125/125 [==============================] - 1s 10ms/step - loss: 0.0666 - accuracy: 0.2418 - val_loss: 0.1191 - val_accuracy: 0.2391\n",
            "Epoch 173/180\n",
            "125/125 [==============================] - 1s 10ms/step - loss: 0.0664 - accuracy: 0.2403 - val_loss: 0.1189 - val_accuracy: 0.2391\n",
            "Epoch 174/180\n",
            "125/125 [==============================] - 1s 10ms/step - loss: 0.0663 - accuracy: 0.2411 - val_loss: 0.1195 - val_accuracy: 0.2406\n",
            "Epoch 175/180\n",
            "125/125 [==============================] - 1s 10ms/step - loss: 0.0662 - accuracy: 0.2401 - val_loss: 0.1192 - val_accuracy: 0.2376\n",
            "Epoch 176/180\n",
            "125/125 [==============================] - 1s 10ms/step - loss: 0.0660 - accuracy: 0.2419 - val_loss: 0.1197 - val_accuracy: 0.2421\n",
            "Epoch 177/180\n",
            "125/125 [==============================] - 1s 9ms/step - loss: 0.0659 - accuracy: 0.2408 - val_loss: 0.1195 - val_accuracy: 0.2391\n",
            "Epoch 178/180\n",
            "125/125 [==============================] - 1s 9ms/step - loss: 0.0657 - accuracy: 0.2416 - val_loss: 0.1201 - val_accuracy: 0.2406\n",
            "Epoch 179/180\n",
            "125/125 [==============================] - 1s 9ms/step - loss: 0.0656 - accuracy: 0.2411 - val_loss: 0.1201 - val_accuracy: 0.2406\n",
            "Epoch 180/180\n",
            "125/125 [==============================] - 1s 9ms/step - loss: 0.0654 - accuracy: 0.2413 - val_loss: 0.1204 - val_accuracy: 0.2406\n"
          ],
          "name": "stdout"
        }
      ]
    },
    {
      "cell_type": "code",
      "metadata": {
        "id": "euEvkju2BpWA",
        "outputId": "e1fa77c1-1b28-485c-aeb8-a20a77b564f5",
        "colab": {
          "base_uri": "https://localhost:8080/",
          "height": 279
        }
      },
      "source": [
        "import matplotlib.pyplot as plt\n",
        "plt.plot(history.epoch, history.history['loss'], label='Train')\n",
        "plt.plot(history.epoch, history.history['val_loss'], label='Test')\n",
        "plt.ylabel('Loss')\n",
        "plt.xlabel('Epoch')\n",
        "plt.legend()\n",
        "plt.show()"
      ],
      "execution_count": 46,
      "outputs": [
        {
          "output_type": "display_data",
          "data": {
            "image/png": "[encoded data removed]",
            "text/plain": [
              "<Figure size 432x288 with 1 Axes>"
            ]
          },
          "metadata": {
            "tags": [],
            "needs_background": "light"
          }
        }
      ]
    },
    {
      "cell_type": "markdown",
      "metadata": {
        "id": "w_3Ll_9mJlxS"
      },
      "source": [
        "## Find the threshold for dividing positive samples and neigative samples"
      ]
    },
    {
      "cell_type": "code",
      "metadata": {
        "id": "uoHUjMB_CY5j",
        "outputId": "1257efd3-ee9e-422d-b005-3b40befde90b",
        "colab": {
          "base_uri": "https://localhost:8080/",
          "height": 35
        }
      },
      "source": [
        "predict = model.predict(X_test)\n",
        "predict.shape"
      ],
      "execution_count": 47,
      "outputs": [
        {
          "output_type": "execute_result",
          "data": {
            "text/plain": [
              "(738, 8)"
            ]
          },
          "metadata": {
            "tags": []
          },
          "execution_count": 47
        }
      ]
    },
    {
      "cell_type": "code",
      "metadata": {
        "id": "ktsucnyTWBjM",
        "outputId": "58392a03-f0f7-4d09-9fb3-2cc3acc0f56f",
        "colab": {
          "base_uri": "https://localhost:8080/",
          "height": 69
        }
      },
      "source": [
        "predict[1]"
      ],
      "execution_count": 48,
      "outputs": [
        {
          "output_type": "execute_result",
          "data": {
            "text/plain": [
              "array([3.1989830e-10, 1.6766459e-13, 8.4649336e-09, 2.1412727e-11,\n",
              "       2.0865721e-07, 2.8799994e-09, 8.4992163e-05, 1.5417218e-02],\n",
              "      dtype=float32)"
            ]
          },
          "metadata": {
            "tags": []
          },
          "execution_count": 48
        }
      ]
    },
    {
      "cell_type": "code",
      "metadata": {
        "id": "HT6wHCMMGCyI",
        "outputId": "3581de56-3c69-4705-8728-e8d2c94f2f66",
        "colab": {
          "base_uri": "https://localhost:8080/",
          "height": 69
        }
      },
      "source": [
        "predict[0]"
      ],
      "execution_count": 49,
      "outputs": [
        {
          "output_type": "execute_result",
          "data": {
            "text/plain": [
              "array([4.14821733e-10, 1.02609056e-13, 2.69688456e-07, 2.20395574e-13,\n",
              "       1.74146852e-09, 8.92523833e-11, 8.73381505e-05, 1.79708302e-02],\n",
              "      dtype=float32)"
            ]
          },
          "metadata": {
            "tags": []
          },
          "execution_count": 49
        }
      ]
    },
    {
      "cell_type": "code",
      "metadata": {
        "id": "OfhBF8XuGPg_"
      },
      "source": [
        "month=['May','Jun','Jul','Aug','Sep','Oct','Nov','Dec']\n",
        "Client = used_id[-y_test.shape[0]:]\n",
        "\n",
        "preidct_df = pd.DataFrame(predict,columns=month,index=Client,)\n",
        "True_df=pd.DataFrame(y_test,columns=month,index=Client)"
      ],
      "execution_count": 50,
      "outputs": []
    },
    {
      "cell_type": "code",
      "metadata": {
        "id": "AoavcnEJIsjx",
        "outputId": "061ac186-773e-4050-acc3-8e38579055bf",
        "colab": {
          "base_uri": "https://localhost:8080/",
          "height": 294
        }
      },
      "source": [
        "preidct_df.describe()"
      ],
      "execution_count": 51,
      "outputs": [
        {
          "output_type": "execute_result",
          "data": {
            "text/html": [
              "<div>\n",
              "<style scoped>\n",
              "    .dataframe tbody tr th:only-of-type {\n",
              "        vertical-align: middle;\n",
              "    }\n",
              "\n",
              "    .dataframe tbody tr th {\n",
              "        vertical-align: top;\n",
              "    }\n",
              "\n",
              "    .dataframe thead th {\n",
              "        text-align: right;\n",
              "    }\n",
              "</style>\n",
              "<table border=\"1\" class=\"dataframe\">\n",
              "  <thead>\n",
              "    <tr style=\"text-align: right;\">\n",
              "      <th></th>\n",
              "      <th>May</th>\n",
              "      <th>Jun</th>\n",
              "      <th>Jul</th>\n",
              "      <th>Aug</th>\n",
              "      <th>Sep</th>\n",
              "      <th>Oct</th>\n",
              "      <th>Nov</th>\n",
              "      <th>Dec</th>\n",
              "    </tr>\n",
              "  </thead>\n",
              "  <tbody>\n",
              "    <tr>\n",
              "      <th>count</th>\n",
              "      <td>7.380000e+02</td>\n",
              "      <td>7.380000e+02</td>\n",
              "      <td>7.380000e+02</td>\n",
              "      <td>7.380000e+02</td>\n",
              "      <td>7.380000e+02</td>\n",
              "      <td>7.380000e+02</td>\n",
              "      <td>7.380000e+02</td>\n",
              "      <td>738.000000</td>\n",
              "    </tr>\n",
              "    <tr>\n",
              "      <th>mean</th>\n",
              "      <td>8.273429e-02</td>\n",
              "      <td>9.621669e-02</td>\n",
              "      <td>8.806697e-02</td>\n",
              "      <td>7.224809e-02</td>\n",
              "      <td>7.243405e-02</td>\n",
              "      <td>7.037926e-02</td>\n",
              "      <td>6.710727e-02</td>\n",
              "      <td>0.071300</td>\n",
              "    </tr>\n",
              "    <tr>\n",
              "      <th>std</th>\n",
              "      <td>2.514661e-01</td>\n",
              "      <td>2.690479e-01</td>\n",
              "      <td>2.623751e-01</td>\n",
              "      <td>2.320187e-01</td>\n",
              "      <td>2.265299e-01</td>\n",
              "      <td>2.271602e-01</td>\n",
              "      <td>2.013798e-01</td>\n",
              "      <td>0.138529</td>\n",
              "    </tr>\n",
              "    <tr>\n",
              "      <th>min</th>\n",
              "      <td>1.081698e-18</td>\n",
              "      <td>8.389462e-22</td>\n",
              "      <td>1.258967e-18</td>\n",
              "      <td>1.200217e-16</td>\n",
              "      <td>1.007135e-13</td>\n",
              "      <td>3.383993e-13</td>\n",
              "      <td>1.501225e-09</td>\n",
              "      <td>0.000027</td>\n",
              "    </tr>\n",
              "    <tr>\n",
              "      <th>25%</th>\n",
              "      <td>1.103760e-09</td>\n",
              "      <td>6.915099e-13</td>\n",
              "      <td>8.981293e-09</td>\n",
              "      <td>6.077340e-11</td>\n",
              "      <td>8.423221e-08</td>\n",
              "      <td>3.535943e-09</td>\n",
              "      <td>8.659382e-05</td>\n",
              "      <td>0.013800</td>\n",
              "    </tr>\n",
              "    <tr>\n",
              "      <th>50%</th>\n",
              "      <td>1.582896e-08</td>\n",
              "      <td>4.048705e-11</td>\n",
              "      <td>2.149223e-07</td>\n",
              "      <td>2.920441e-09</td>\n",
              "      <td>1.691938e-06</td>\n",
              "      <td>1.910424e-07</td>\n",
              "      <td>7.193685e-04</td>\n",
              "      <td>0.027059</td>\n",
              "    </tr>\n",
              "    <tr>\n",
              "      <th>75%</th>\n",
              "      <td>4.814714e-04</td>\n",
              "      <td>9.238163e-05</td>\n",
              "      <td>9.614237e-05</td>\n",
              "      <td>7.047597e-05</td>\n",
              "      <td>1.372777e-03</td>\n",
              "      <td>1.331747e-03</td>\n",
              "      <td>1.193739e-02</td>\n",
              "      <td>0.062594</td>\n",
              "    </tr>\n",
              "    <tr>\n",
              "      <th>max</th>\n",
              "      <td>9.999913e-01</td>\n",
              "      <td>9.999990e-01</td>\n",
              "      <td>9.999996e-01</td>\n",
              "      <td>1.000000e+00</td>\n",
              "      <td>9.999946e-01</td>\n",
              "      <td>1.000000e+00</td>\n",
              "      <td>9.993033e-01</td>\n",
              "      <td>0.985566</td>\n",
              "    </tr>\n",
              "  </tbody>\n",
              "</table>\n",
              "</div>"
            ],
            "text/plain": [
              "                May           Jun  ...           Nov         Dec\n",
              "count  7.380000e+02  7.380000e+02  ...  7.380000e+02  738.000000\n",
              "mean   8.273429e-02  9.621669e-02  ...  6.710727e-02    0.071300\n",
              "std    2.514661e-01  2.690479e-01  ...  2.013798e-01    0.138529\n",
              "min    1.081698e-18  8.389462e-22  ...  1.501225e-09    0.000027\n",
              "25%    1.103760e-09  6.915099e-13  ...  8.659382e-05    0.013800\n",
              "50%    1.582896e-08  4.048705e-11  ...  7.193685e-04    0.027059\n",
              "75%    4.814714e-04  9.238163e-05  ...  1.193739e-02    0.062594\n",
              "max    9.999913e-01  9.999990e-01  ...  9.993033e-01    0.985566\n",
              "\n",
              "[8 rows x 8 columns]"
            ]
          },
          "metadata": {
            "tags": []
          },
          "execution_count": 51
        }
      ]
    },
    {
      "cell_type": "code",
      "metadata": {
        "id": "fxCTQs7LMhZh",
        "outputId": "b1b89371-4799-4754-c960-63a0ad9df41f",
        "colab": {
          "base_uri": "https://localhost:8080/",
          "height": 202
        }
      },
      "source": [
        "preidct_df.head()"
      ],
      "execution_count": 52,
      "outputs": [
        {
          "output_type": "execute_result",
          "data": {
            "text/html": [
              "<div>\n",
              "<style scoped>\n",
              "    .dataframe tbody tr th:only-of-type {\n",
              "        vertical-align: middle;\n",
              "    }\n",
              "\n",
              "    .dataframe tbody tr th {\n",
              "        vertical-align: top;\n",
              "    }\n",
              "\n",
              "    .dataframe thead th {\n",
              "        text-align: right;\n",
              "    }\n",
              "</style>\n",
              "<table border=\"1\" class=\"dataframe\">\n",
              "  <thead>\n",
              "    <tr style=\"text-align: right;\">\n",
              "      <th></th>\n",
              "      <th>May</th>\n",
              "      <th>Jun</th>\n",
              "      <th>Jul</th>\n",
              "      <th>Aug</th>\n",
              "      <th>Sep</th>\n",
              "      <th>Oct</th>\n",
              "      <th>Nov</th>\n",
              "      <th>Dec</th>\n",
              "    </tr>\n",
              "  </thead>\n",
              "  <tbody>\n",
              "    <tr>\n",
              "      <th>DB10AF3E-0F92-E011-A5C6-B6A03279A8B3</th>\n",
              "      <td>4.148217e-10</td>\n",
              "      <td>1.026091e-13</td>\n",
              "      <td>2.696885e-07</td>\n",
              "      <td>2.203956e-13</td>\n",
              "      <td>1.741469e-09</td>\n",
              "      <td>8.925238e-11</td>\n",
              "      <td>0.000087</td>\n",
              "      <td>0.017971</td>\n",
              "    </tr>\n",
              "    <tr>\n",
              "      <th>DB1CE471-B20F-434C-B4D4-9F6D00D10976</th>\n",
              "      <td>3.198983e-10</td>\n",
              "      <td>1.676646e-13</td>\n",
              "      <td>8.464934e-09</td>\n",
              "      <td>2.141273e-11</td>\n",
              "      <td>2.086572e-07</td>\n",
              "      <td>2.879999e-09</td>\n",
              "      <td>0.000085</td>\n",
              "      <td>0.015417</td>\n",
              "    </tr>\n",
              "    <tr>\n",
              "      <th>F771E77B-341D-4672-B6AD-A43500AB411B</th>\n",
              "      <td>1.674671e-09</td>\n",
              "      <td>3.007650e-04</td>\n",
              "      <td>9.955635e-01</td>\n",
              "      <td>7.533531e-01</td>\n",
              "      <td>3.662172e-02</td>\n",
              "      <td>2.956092e-04</td>\n",
              "      <td>0.003878</td>\n",
              "      <td>0.218367</td>\n",
              "    </tr>\n",
              "    <tr>\n",
              "      <th>F77DFB42-B83B-47FD-BBA9-A88D00E983C1</th>\n",
              "      <td>5.298463e-09</td>\n",
              "      <td>4.332762e-12</td>\n",
              "      <td>4.071551e-08</td>\n",
              "      <td>7.584374e-05</td>\n",
              "      <td>9.657054e-01</td>\n",
              "      <td>2.975866e-01</td>\n",
              "      <td>0.030134</td>\n",
              "      <td>0.150539</td>\n",
              "    </tr>\n",
              "    <tr>\n",
              "      <th>E9D0885E-57E7-4EE6-A384-A61200D8ABF1</th>\n",
              "      <td>3.024758e-05</td>\n",
              "      <td>4.621201e-08</td>\n",
              "      <td>5.732369e-06</td>\n",
              "      <td>1.927392e-08</td>\n",
              "      <td>1.780898e-06</td>\n",
              "      <td>2.972266e-06</td>\n",
              "      <td>0.004229</td>\n",
              "      <td>0.073372</td>\n",
              "    </tr>\n",
              "  </tbody>\n",
              "</table>\n",
              "</div>"
            ],
            "text/plain": [
              "                                               May  ...       Dec\n",
              "DB10AF3E-0F92-E011-A5C6-B6A03279A8B3  4.148217e-10  ...  0.017971\n",
              "DB1CE471-B20F-434C-B4D4-9F6D00D10976  3.198983e-10  ...  0.015417\n",
              "F771E77B-341D-4672-B6AD-A43500AB411B  1.674671e-09  ...  0.218367\n",
              "F77DFB42-B83B-47FD-BBA9-A88D00E983C1  5.298463e-09  ...  0.150539\n",
              "E9D0885E-57E7-4EE6-A384-A61200D8ABF1  3.024758e-05  ...  0.073372\n",
              "\n",
              "[5 rows x 8 columns]"
            ]
          },
          "metadata": {
            "tags": []
          },
          "execution_count": 52
        }
      ]
    },
    {
      "cell_type": "code",
      "metadata": {
        "id": "CFEWbwOUiIug",
        "outputId": "9d1e566e-f1f5-48c2-a958-b94fad1dc392",
        "colab": {
          "base_uri": "https://localhost:8080/",
          "height": 202
        }
      },
      "source": [
        "True_df.head()"
      ],
      "execution_count": 53,
      "outputs": [
        {
          "output_type": "execute_result",
          "data": {
            "text/html": [
              "<div>\n",
              "<style scoped>\n",
              "    .dataframe tbody tr th:only-of-type {\n",
              "        vertical-align: middle;\n",
              "    }\n",
              "\n",
              "    .dataframe tbody tr th {\n",
              "        vertical-align: top;\n",
              "    }\n",
              "\n",
              "    .dataframe thead th {\n",
              "        text-align: right;\n",
              "    }\n",
              "</style>\n",
              "<table border=\"1\" class=\"dataframe\">\n",
              "  <thead>\n",
              "    <tr style=\"text-align: right;\">\n",
              "      <th></th>\n",
              "      <th>May</th>\n",
              "      <th>Jun</th>\n",
              "      <th>Jul</th>\n",
              "      <th>Aug</th>\n",
              "      <th>Sep</th>\n",
              "      <th>Oct</th>\n",
              "      <th>Nov</th>\n",
              "      <th>Dec</th>\n",
              "    </tr>\n",
              "  </thead>\n",
              "  <tbody>\n",
              "    <tr>\n",
              "      <th>DB10AF3E-0F92-E011-A5C6-B6A03279A8B3</th>\n",
              "      <td>0</td>\n",
              "      <td>0</td>\n",
              "      <td>0</td>\n",
              "      <td>0</td>\n",
              "      <td>0</td>\n",
              "      <td>0</td>\n",
              "      <td>0</td>\n",
              "      <td>0</td>\n",
              "    </tr>\n",
              "    <tr>\n",
              "      <th>DB1CE471-B20F-434C-B4D4-9F6D00D10976</th>\n",
              "      <td>0</td>\n",
              "      <td>0</td>\n",
              "      <td>0</td>\n",
              "      <td>0</td>\n",
              "      <td>0</td>\n",
              "      <td>0</td>\n",
              "      <td>0</td>\n",
              "      <td>0</td>\n",
              "    </tr>\n",
              "    <tr>\n",
              "      <th>F771E77B-341D-4672-B6AD-A43500AB411B</th>\n",
              "      <td>0</td>\n",
              "      <td>0</td>\n",
              "      <td>1</td>\n",
              "      <td>1</td>\n",
              "      <td>0</td>\n",
              "      <td>0</td>\n",
              "      <td>0</td>\n",
              "      <td>0</td>\n",
              "    </tr>\n",
              "    <tr>\n",
              "      <th>F77DFB42-B83B-47FD-BBA9-A88D00E983C1</th>\n",
              "      <td>0</td>\n",
              "      <td>0</td>\n",
              "      <td>0</td>\n",
              "      <td>0</td>\n",
              "      <td>1</td>\n",
              "      <td>1</td>\n",
              "      <td>0</td>\n",
              "      <td>0</td>\n",
              "    </tr>\n",
              "    <tr>\n",
              "      <th>E9D0885E-57E7-4EE6-A384-A61200D8ABF1</th>\n",
              "      <td>0</td>\n",
              "      <td>0</td>\n",
              "      <td>0</td>\n",
              "      <td>0</td>\n",
              "      <td>0</td>\n",
              "      <td>0</td>\n",
              "      <td>0</td>\n",
              "      <td>0</td>\n",
              "    </tr>\n",
              "  </tbody>\n",
              "</table>\n",
              "</div>"
            ],
            "text/plain": [
              "                                      May  Jun  Jul  Aug  Sep  Oct  Nov  Dec\n",
              "DB10AF3E-0F92-E011-A5C6-B6A03279A8B3    0    0    0    0    0    0    0    0\n",
              "DB1CE471-B20F-434C-B4D4-9F6D00D10976    0    0    0    0    0    0    0    0\n",
              "F771E77B-341D-4672-B6AD-A43500AB411B    0    0    1    1    0    0    0    0\n",
              "F77DFB42-B83B-47FD-BBA9-A88D00E983C1    0    0    0    0    1    1    0    0\n",
              "E9D0885E-57E7-4EE6-A384-A61200D8ABF1    0    0    0    0    0    0    0    0"
            ]
          },
          "metadata": {
            "tags": []
          },
          "execution_count": 53
        }
      ]
    },
    {
      "cell_type": "markdown",
      "metadata": {
        "id": "9EkBsx03gi_Q"
      },
      "source": [
        "## Build a dataframe which contains two columns: Predited_value and True_Value for modelling"
      ]
    },
    {
      "cell_type": "code",
      "metadata": {
        "id": "Jdr7LEypW-70"
      },
      "source": [
        "# Combine dataframe to a single column\n",
        "len=preidct_df.shape[0]\n",
        "name_all=[] # predicted values\n",
        "value_all=[] # months\n",
        "true_all=[]\n",
        "for elem in month:\n",
        "  value_all+=(list(preidct_df[str(elem)]))\n",
        "  true_all += (list(True_df[str(elem)]))\n",
        "  name_all += [elem]*len"
      ],
      "execution_count": 54,
      "outputs": []
    },
    {
      "cell_type": "code",
      "metadata": {
        "id": "UpMyxhU2dzki"
      },
      "source": [
        "# build the client column\n",
        "client=[]\n",
        "for i in range(preidct_df.shape[1]):\n",
        "  client+=Client"
      ],
      "execution_count": 55,
      "outputs": []
    },
    {
      "cell_type": "code",
      "metadata": {
        "id": "i8JfJLmZZ3bo",
        "outputId": "2396d698-c2a6-4d1a-f9fb-c65361fe5931",
        "colab": {
          "base_uri": "https://localhost:8080/",
          "height": 446
        }
      },
      "source": [
        "# Build the datafame\n",
        "dataset=pd.DataFrame(zip(value_all,name_all,true_all),columns=['Predict','Month','Label'])\n",
        "dataset['Client_id']=client\n",
        "dataset.set_index(['Month','Client_id'],inplace=True)\n",
        "dataset.head()"
      ],
      "execution_count": 56,
      "outputs": [
        {
          "output_type": "execute_result",
          "data": {
            "text/html": [
              "<div>\n",
              "<style scoped>\n",
              "    .dataframe tbody tr th:only-of-type {\n",
              "        vertical-align: middle;\n",
              "    }\n",
              "\n",
              "    .dataframe tbody tr th {\n",
              "        vertical-align: top;\n",
              "    }\n",
              "\n",
              "    .dataframe thead th {\n",
              "        text-align: right;\n",
              "    }\n",
              "</style>\n",
              "<table border=\"1\" class=\"dataframe\">\n",
              "  <thead>\n",
              "    <tr style=\"text-align: right;\">\n",
              "      <th></th>\n",
              "      <th></th>\n",
              "      <th>Predict</th>\n",
              "      <th>Label</th>\n",
              "    </tr>\n",
              "    <tr>\n",
              "      <th>Month</th>\n",
              "      <th>Client_id</th>\n",
              "      <th></th>\n",
              "      <th></th>\n",
              "    </tr>\n",
              "  </thead>\n",
              "  <tbody>\n",
              "    <tr>\n",
              "      <th rowspan=\"5\" valign=\"top\">May</th>\n",
              "      <th>DB10AF3E-0F92-E011-A5C6-B6A03279A8B3</th>\n",
              "      <td>4.148217e-10</td>\n",
              "      <td>0</td>\n",
              "    </tr>\n",
              "    <tr>\n",
              "      <th>DB1CE471-B20F-434C-B4D4-9F6D00D10976</th>\n",
              "      <td>3.198983e-10</td>\n",
              "      <td>0</td>\n",
              "    </tr>\n",
              "    <tr>\n",
              "      <th>F771E77B-341D-4672-B6AD-A43500AB411B</th>\n",
              "      <td>1.674671e-09</td>\n",
              "      <td>0</td>\n",
              "    </tr>\n",
              "    <tr>\n",
              "      <th>F77DFB42-B83B-47FD-BBA9-A88D00E983C1</th>\n",
              "      <td>5.298463e-09</td>\n",
              "      <td>0</td>\n",
              "    </tr>\n",
              "    <tr>\n",
              "      <th>E9D0885E-57E7-4EE6-A384-A61200D8ABF1</th>\n",
              "      <td>3.024758e-05</td>\n",
              "      <td>0</td>\n",
              "    </tr>\n",
              "    <tr>\n",
              "      <th>...</th>\n",
              "      <th>...</th>\n",
              "      <td>...</td>\n",
              "      <td>...</td>\n",
              "    </tr>\n",
              "    <tr>\n",
              "      <th rowspan=\"5\" valign=\"top\">Dec</th>\n",
              "      <th>FF6FAE85-F726-41F9-9AB0-9F6700A5F60D</th>\n",
              "      <td>8.625297e-01</td>\n",
              "      <td>1</td>\n",
              "    </tr>\n",
              "    <tr>\n",
              "      <th>FF904024-61CC-44DF-85A4-A2DF00AC73ED</th>\n",
              "      <td>4.668292e-02</td>\n",
              "      <td>0</td>\n",
              "    </tr>\n",
              "    <tr>\n",
              "      <th>FFC97BEE-F44B-4BF5-98DA-A82600AB81CA</th>\n",
              "      <td>9.492785e-03</td>\n",
              "      <td>0</td>\n",
              "    </tr>\n",
              "    <tr>\n",
              "      <th>FFD43505-079D-465A-BA25-A4AB00EA8F27</th>\n",
              "      <td>1.218587e-02</td>\n",
              "      <td>0</td>\n",
              "    </tr>\n",
              "    <tr>\n",
              "      <th>FFFC53E9-CB2E-4F30-A3B7-AA1400F5BEF6</th>\n",
              "      <td>1.798528e-02</td>\n",
              "      <td>0</td>\n",
              "    </tr>\n",
              "  </tbody>\n",
              "</table>\n",
              "<p>5904 rows × 2 columns</p>\n",
              "</div>"
            ],
            "text/plain": [
              "                                                 Predict  Label\n",
              "Month Client_id                                                \n",
              "May   DB10AF3E-0F92-E011-A5C6-B6A03279A8B3  4.148217e-10      0\n",
              "      DB1CE471-B20F-434C-B4D4-9F6D00D10976  3.198983e-10      0\n",
              "      F771E77B-341D-4672-B6AD-A43500AB411B  1.674671e-09      0\n",
              "      F77DFB42-B83B-47FD-BBA9-A88D00E983C1  5.298463e-09      0\n",
              "      E9D0885E-57E7-4EE6-A384-A61200D8ABF1  3.024758e-05      0\n",
              "...                                                  ...    ...\n",
              "Dec   FF6FAE85-F726-41F9-9AB0-9F6700A5F60D  8.625297e-01      1\n",
              "      FF904024-61CC-44DF-85A4-A2DF00AC73ED  4.668292e-02      0\n",
              "      FFC97BEE-F44B-4BF5-98DA-A82600AB81CA  9.492785e-03      0\n",
              "      FFD43505-079D-465A-BA25-A4AB00EA8F27  1.218587e-02      0\n",
              "      FFFC53E9-CB2E-4F30-A3B7-AA1400F5BEF6  1.798528e-02      0\n",
              "\n",
              "[5904 rows x 2 columns]"
            ]
          },
          "metadata": {
            "tags": []
          },
          "execution_count": 56
        }
      ]
    },
    {
      "cell_type": "markdown",
      "metadata": {
        "id": "0XHDWWzSQ1wb"
      },
      "source": [
        "## Spliting the predicted value to Test and Train sets for finding the threshold"
      ]
    },
    {
      "cell_type": "code",
      "metadata": {
        "id": "RZGZYVOGi8sq"
      },
      "source": [
        "from sklearn.model_selection import train_test_split"
      ],
      "execution_count": 57,
      "outputs": []
    },
    {
      "cell_type": "code",
      "metadata": {
        "id": "jvEJ88GVSAG7"
      },
      "source": [
        "rate=0.2\n",
        "train, test = train_test_split(dataset, test_size=rate, random_state=5)"
      ],
      "execution_count": 58,
      "outputs": []
    },
    {
      "cell_type": "code",
      "metadata": {
        "id": "SlJARs70Q0Nx",
        "outputId": "31e2c56c-142a-4333-d846-38e10d07f38d",
        "colab": {
          "base_uri": "https://localhost:8080/",
          "height": 52
        }
      },
      "source": [
        "'''splitting the dataset to X and Y'''\n",
        "# X\n",
        "train_xth = train.Predict\n",
        "test_xth = test.Predict\n",
        "\n",
        "# Y\n",
        "train_yth = train.Label\n",
        "test_yth = test.Label\n",
        "\n",
        "print('The sizes for training dataset and test dataset:\\n',train_xth.shape,test_xth.shape)"
      ],
      "execution_count": 95,
      "outputs": [
        {
          "output_type": "stream",
          "text": [
            "The sizes for training dataset and test dataset:\n",
            " (4723,) (1181,)\n"
          ],
          "name": "stdout"
        }
      ]
    },
    {
      "cell_type": "markdown",
      "metadata": {
        "id": "mrYIzBOHwEZS"
      },
      "source": [
        "### Plotting the Loss"
      ]
    },
    {
      "cell_type": "code",
      "metadata": {
        "id": "iHYBqPc7Gb-m",
        "outputId": "255de4a0-9b5e-4824-b632-b29889281e43",
        "colab": {
          "base_uri": "https://localhost:8080/",
          "height": 313
        }
      },
      "source": [
        "import seaborn as sns\n",
        "fig, ax = plt.subplots(figsize=(5, 4))\n",
        "for i in [0,1]:\n",
        "  sns.distplot(train_xth.loc[train.Label==i], bins=50,kde=True)\n",
        "ax.set_ylabel('Total Count')\n",
        "ax.set_title('Loss')\n",
        "ax.legend('01')"
      ],
      "execution_count": 60,
      "outputs": [
        {
          "output_type": "execute_result",
          "data": {
            "text/plain": [
              "<matplotlib.legend.Legend at 0x7f06e764c080>"
            ]
          },
          "metadata": {
            "tags": []
          },
          "execution_count": 60
        },
        {
          "output_type": "display_data",
          "data": {
            "image/png": "[encoded data removed]",
            "text/plain": [
              "<Figure size 360x288 with 1 Axes>"
            ]
          },
          "metadata": {
            "tags": [],
            "needs_background": "light"
          }
        }
      ]
    },
    {
      "cell_type": "markdown",
      "metadata": {
        "id": "DjAjFXXllOYE"
      },
      "source": [
        "### Finding the best threshold"
      ]
    },
    {
      "cell_type": "code",
      "metadata": {
        "id": "9A6m-n_svXse"
      },
      "source": [
        "# from the above plot we can choose the threshold to be 0.2 or greater\n",
        "'''Generate the list for thresholds'''\n",
        "threshold = []\n",
        "num = 4000\n",
        "start=0.2\n",
        "for i in range(num):\n",
        "  val= start+0.0001*i\n",
        "  threshold.append(val)\n"
      ],
      "execution_count": 61,
      "outputs": []
    },
    {
      "cell_type": "code",
      "metadata": {
        "id": "8I4ibi3C24vR"
      },
      "source": [
        "# generate the list of f1_scores \n",
        "from sklearn.metrics import f1_score\n",
        "f1_scores=[]\n",
        "for thres in threshold:\n",
        "  Predited_label = []\n",
        "  for elem in test_xth:\n",
        "    if elem < thres:\n",
        "      Predited_label.append(0)\n",
        "    else:\n",
        "      Predited_label.append(1)\n",
        "  f1s=f1_score(test_yth, Predited_label, zero_division=0)\n",
        "  f1_scores.append(f1s)"
      ],
      "execution_count": 62,
      "outputs": []
    },
    {
      "cell_type": "code",
      "metadata": {
        "id": "9IUevWtx4a8s"
      },
      "source": [
        "# get the corrodinate of the largest f1_score\n",
        "y=max(f1_scores)\n",
        "max_index = f1_scores.index(max(f1_scores))\n",
        "x=threshold[max_index]"
      ],
      "execution_count": 63,
      "outputs": []
    },
    {
      "cell_type": "code",
      "metadata": {
        "id": "-dkXY410xIPr",
        "outputId": "3553e716-98de-472d-f402-c9da23b7358e",
        "colab": {
          "base_uri": "https://localhost:8080/",
          "height": 295
        }
      },
      "source": [
        "plt.plot(threshold,f1_scores)\n",
        "plt.title('threshold VS f1_scores')\n",
        "plt.scatter(x, y, c='red')\n",
        "plt.xlabel('Threshold')\n",
        "plt.ylabel('f1_scores')\n",
        "plt.text(x, y, '({:5.3f}, {:5.3f})'.format(x, y))\n",
        "plt.show()"
      ],
      "execution_count": 64,
      "outputs": [
        {
          "output_type": "display_data",
          "data": {
            "image/png": "[encoded data removed]",
            "text/plain": [
              "<Figure size 432x288 with 1 Axes>"
            ]
          },
          "metadata": {
            "tags": [],
            "needs_background": "light"
          }
        }
      ]
    },
    {
      "cell_type": "code",
      "metadata": {
        "id": "D6i6qzYs-ng1",
        "outputId": "adfd62f0-9109-4585-dd6d-d21f46d172d0",
        "colab": {
          "base_uri": "https://localhost:8080/",
          "height": 35
        }
      },
      "source": [
        "print(f'The best f1_scores is{y: 5.4f} for threshold is{x: 5.4f}.')"
      ],
      "execution_count": 93,
      "outputs": [
        {
          "output_type": "stream",
          "text": [
            "The best f1_scores is 0.7650 for threshold is 0.3404.\n"
          ],
          "name": "stdout"
        }
      ]
    },
    {
      "cell_type": "markdown",
      "metadata": {
        "id": "wM0FTJZyfbYx"
      },
      "source": [
        "### Show the performance of the model"
      ]
    },
    {
      "cell_type": "code",
      "metadata": {
        "id": "xP5r6A5bla4k"
      },
      "source": [
        "# label the prediction with the choosen threshold\n",
        "predited_label=[]\n",
        "incident_index=[]# incident list\n",
        "for elem in test_xth:\n",
        "  if elem < x:\n",
        "    predited_label.append(0)\n",
        "  else:\n",
        "    predited_label.append(1)\n",
        "    indx = test_xth.loc[(test_xth.loc[:]==elem),:].index.values.tolist()\n",
        "    incident_index+=indx"
      ],
      "execution_count": 127,
      "outputs": []
    },
    {
      "cell_type": "code",
      "metadata": {
        "id": "CMTnXgclBwD6",
        "outputId": "c63f67f9-1b51-4126-f17b-83a3c8571abd",
        "colab": {
          "base_uri": "https://localhost:8080/",
          "height": 243
        }
      },
      "source": [
        "test_xth.loc[:]==0.005"
      ],
      "execution_count": 103,
      "outputs": [
        {
          "output_type": "execute_result",
          "data": {
            "text/plain": [
              "Month  Client_id                           \n",
              "Dec    E3B43A14-5FE0-42CD-8616-9F6B00B96188    False\n",
              "       EA2D6643-42D8-4D56-B436-A88100CD66A0    False\n",
              "Jul    F9450494-2C4B-41C8-B0CA-A708011E543E    False\n",
              "Dec    F618507A-1E7C-4CEB-B0AD-40DEC5C60791    False\n",
              "Oct    DC14B2EA-94B3-4EFC-8387-A3E100D6644C    False\n",
              "                                               ...  \n",
              "Dec    F3AEC4AF-0122-4F2B-97D0-A84700E49B5B    False\n",
              "May    F3CAD5F0-48A0-4C93-9651-AA1600FD9209    False\n",
              "Nov    F408760B-C8A4-4EFD-B395-51F5B96D15E3    False\n",
              "Jun    EA2DA875-A899-4EDD-870D-A3D201017656    False\n",
              "Nov    F8052799-003F-4FB8-A79C-A86500FAFB90    False\n",
              "Name: Predict, Length: 1181, dtype: bool"
            ]
          },
          "metadata": {
            "tags": []
          },
          "execution_count": 103
        }
      ]
    },
    {
      "cell_type": "code",
      "metadata": {
        "id": "ZIWJziKWfCuU",
        "outputId": "32a43157-63ba-44f0-a69b-820db67a9e84",
        "colab": {
          "base_uri": "https://localhost:8080/",
          "height": 173
        }
      },
      "source": [
        "from sklearn.metrics import classification_report\n",
        "\n",
        "report = classification_report(test_yth, predited_label,labels=[1,0])\n",
        "print(report)"
      ],
      "execution_count": 78,
      "outputs": [
        {
          "output_type": "stream",
          "text": [
            "              precision    recall  f1-score   support\n",
            "\n",
            "           1       0.80      0.73      0.77        96\n",
            "           0       0.98      0.98      0.98      1085\n",
            "\n",
            "    accuracy                           0.96      1181\n",
            "   macro avg       0.89      0.86      0.87      1181\n",
            "weighted avg       0.96      0.96      0.96      1181\n",
            "\n"
          ],
          "name": "stdout"
        }
      ]
    },
    {
      "cell_type": "code",
      "metadata": {
        "id": "C17VdpEkdqaT",
        "outputId": "23e2a4a3-b6e4-4cd0-8a23-57a7cf0e3b00",
        "colab": {
          "base_uri": "https://localhost:8080/",
          "height": 347
        }
      },
      "source": [
        "from sklearn.metrics import confusion_matrix\n",
        "import seaborn as sns\n",
        "import pandas as pd\n",
        "import matplotlib.pyplot as plt\n",
        "\n",
        "cm = confusion_matrix(test_yth, predited_label)\n",
        "recal = cm[1][1]/sum(cm[1])\n",
        "\n",
        "sns.heatmap(cm, annot=True,cmap='Blues')\n",
        "plt.ylabel('True')\n",
        "plt.xlabel('Predicted')\n",
        "plt.title(f'Recall is {recal:0.3f}',y=1.05, fontsize=16)\n",
        "plt.suptitle('Confusion Matrix',y=1.06)\n",
        "\n",
        "plt.show()"
      ],
      "execution_count": 92,
      "outputs": [
        {
          "output_type": "display_data",
          "data": {
            "image/png": "[encoded data removed]",
            "text/plain": [
              "<Figure size 432x288 with 2 Axes>"
            ]
          },
          "metadata": {
            "tags": []
          }
        }
      ]
    },
    {
      "cell_type": "markdown",
      "metadata": {
        "id": "LET2Xa3bYUNk"
      },
      "source": [
        "The best result is when epcho is 180, threshold is 0.3404, and f1_score is 0.765  and recall is 0.73. (without drop out)"
      ]
    },
    {
      "cell_type": "markdown",
      "metadata": {
        "id": "ayBHfJ7i_o-j"
      },
      "source": [
        "## The clients who should pay attention to."
      ]
    },
    {
      "cell_type": "code",
      "metadata": {
        "id": "8YjucVZpDO3Q",
        "outputId": "7dd43e5c-0720-4cb2-8fa6-02818091070c",
        "colab": {
          "base_uri": "https://localhost:8080/",
          "height": 433
        }
      },
      "source": [
        "print('The risky clients in each month:')\n",
        "df=pd.DataFrame(incident_index,columns=['Month', 'Client_id'])\n",
        "df.sort_values(by=['Month'])"
      ],
      "execution_count": 132,
      "outputs": [
        {
          "output_type": "stream",
          "text": [
            "The risky clients in each month:\n"
          ],
          "name": "stdout"
        },
        {
          "output_type": "execute_result",
          "data": {
            "text/html": [
              "<div>\n",
              "<style scoped>\n",
              "    .dataframe tbody tr th:only-of-type {\n",
              "        vertical-align: middle;\n",
              "    }\n",
              "\n",
              "    .dataframe tbody tr th {\n",
              "        vertical-align: top;\n",
              "    }\n",
              "\n",
              "    .dataframe thead th {\n",
              "        text-align: right;\n",
              "    }\n",
              "</style>\n",
              "<table border=\"1\" class=\"dataframe\">\n",
              "  <thead>\n",
              "    <tr style=\"text-align: right;\">\n",
              "      <th></th>\n",
              "      <th>Month</th>\n",
              "      <th>Client_id</th>\n",
              "    </tr>\n",
              "  </thead>\n",
              "  <tbody>\n",
              "    <tr>\n",
              "      <th>44</th>\n",
              "      <td>Aug</td>\n",
              "      <td>FC2AD89C-C556-4330-8D12-A5B80124C3AC</td>\n",
              "    </tr>\n",
              "    <tr>\n",
              "      <th>5</th>\n",
              "      <td>Aug</td>\n",
              "      <td>FE1B1799-A662-4DA4-B04E-A92201051ECE</td>\n",
              "    </tr>\n",
              "    <tr>\n",
              "      <th>57</th>\n",
              "      <td>Aug</td>\n",
              "      <td>F850ACDB-093F-45B1-A1B1-A097009F6F79</td>\n",
              "    </tr>\n",
              "    <tr>\n",
              "      <th>22</th>\n",
              "      <td>Aug</td>\n",
              "      <td>FC5255AA-72B3-4EFF-9AF1-A38000F3DC56</td>\n",
              "    </tr>\n",
              "    <tr>\n",
              "      <th>81</th>\n",
              "      <td>Aug</td>\n",
              "      <td>FC5255AA-72B3-4EFF-9AF1-A38000F3DC56</td>\n",
              "    </tr>\n",
              "    <tr>\n",
              "      <th>...</th>\n",
              "      <td>...</td>\n",
              "      <td>...</td>\n",
              "    </tr>\n",
              "    <tr>\n",
              "      <th>4</th>\n",
              "      <td>Sep</td>\n",
              "      <td>DCB47745-C27B-46F3-B02C-5ADBA189D1A0</td>\n",
              "    </tr>\n",
              "    <tr>\n",
              "      <th>41</th>\n",
              "      <td>Sep</td>\n",
              "      <td>F9463EF4-32C7-4238-A3D5-607A86522EE3</td>\n",
              "    </tr>\n",
              "    <tr>\n",
              "      <th>58</th>\n",
              "      <td>Sep</td>\n",
              "      <td>F20D0604-305B-4AE1-9798-A82D013A7103</td>\n",
              "    </tr>\n",
              "    <tr>\n",
              "      <th>32</th>\n",
              "      <td>Sep</td>\n",
              "      <td>DF887310-A870-4E4D-933D-A8A200F21E68</td>\n",
              "    </tr>\n",
              "    <tr>\n",
              "      <th>27</th>\n",
              "      <td>Sep</td>\n",
              "      <td>E2E94C5C-DBB1-4FA2-B98A-5B4DDBBA043C</td>\n",
              "    </tr>\n",
              "  </tbody>\n",
              "</table>\n",
              "<p>89 rows × 2 columns</p>\n",
              "</div>"
            ],
            "text/plain": [
              "   Month                             Client_id\n",
              "44   Aug  FC2AD89C-C556-4330-8D12-A5B80124C3AC\n",
              "5    Aug  FE1B1799-A662-4DA4-B04E-A92201051ECE\n",
              "57   Aug  F850ACDB-093F-45B1-A1B1-A097009F6F79\n",
              "22   Aug  FC5255AA-72B3-4EFF-9AF1-A38000F3DC56\n",
              "81   Aug  FC5255AA-72B3-4EFF-9AF1-A38000F3DC56\n",
              "..   ...                                   ...\n",
              "4    Sep  DCB47745-C27B-46F3-B02C-5ADBA189D1A0\n",
              "41   Sep  F9463EF4-32C7-4238-A3D5-607A86522EE3\n",
              "58   Sep  F20D0604-305B-4AE1-9798-A82D013A7103\n",
              "32   Sep  DF887310-A870-4E4D-933D-A8A200F21E68\n",
              "27   Sep  E2E94C5C-DBB1-4FA2-B98A-5B4DDBBA043C\n",
              "\n",
              "[89 rows x 2 columns]"
            ]
          },
          "metadata": {
            "tags": []
          },
          "execution_count": 132
        }
      ]
    }
  ]
}