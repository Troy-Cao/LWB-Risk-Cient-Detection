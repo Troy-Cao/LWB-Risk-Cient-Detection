{
  "nbformat": 4,
  "nbformat_minor": 0,
  "metadata": {
    "kernelspec": {
      "display_name": "Python 3",
      "language": "python",
      "name": "python3"
    },
    "language_info": {
      "codemirror_mode": {
        "name": "ipython",
        "version": 3
      },
      "file_extension": ".py",
      "mimetype": "text/x-python",
      "name": "python",
      "nbconvert_exporter": "python",
      "pygments_lexer": "ipython3",
      "version": "3.8.5"
    },
    "colab": {
      "name": "LSTM_Anomaly_Detection.ipynb",
      "provenance": [],
      "collapsed_sections": []
    }
  },
  "cells": [
    {
      "cell_type": "code",
      "metadata": {
        "id": "WE32-2_1q9QC"
      },
      "source": [
        "import pandas as pd\n",
        "import tensorflow as tf\n",
        "from tensorflow import keras\n",
        "from tensorflow.keras import layers\n",
        "from keras.models import Sequential"
      ],
      "execution_count": 1,
      "outputs": []
    },
    {
      "cell_type": "code",
      "metadata": {
        "id": "e1q3GKyFq9QG"
      },
      "source": [
        "# df_1 = pd.read_csv('dc_part.csv')\n",
        "# df_2 = pd.read_csv('chenqin5%.csv')\n",
        "# df_3 = pd.read_csv('miaoqin_partN.csv')\n",
        "# df_4 = pd.read_csv('yunDataN.csv')\n",
        "# print(df_1.shape,df_2.shape,df_3.shape,df_4.shape)"
      ],
      "execution_count": null,
      "outputs": []
    },
    {
      "cell_type": "code",
      "metadata": {
        "id": "V8T-hqDj4qSB"
      },
      "source": [
        "#df.isin([0]).sum()/df.shape[0]"
      ],
      "execution_count": null,
      "outputs": []
    },
    {
      "cell_type": "code",
      "metadata": {
        "id": "0Mnvnt-EuCrC"
      },
      "source": [
        "df=pd.read_csv('LWB_Monthly_data.csv',low_memory = False)"
      ],
      "execution_count": 2,
      "outputs": []
    },
    {
      "cell_type": "code",
      "metadata": {
        "id": "Jd3c-Zf4z0m8"
      },
      "source": [
        "#df.isin([0]).sum()/df.shape[0]"
      ],
      "execution_count": null,
      "outputs": []
    },
    {
      "cell_type": "code",
      "metadata": {
        "id": "VL3lOeQCyMsB"
      },
      "source": [
        "#df.loc[:,df[df.isin([0]).sum()/df.shape[0]>0.95]]\n",
        "use=[]\n",
        "unuse=[]\n",
        "for col in df.columns:\n",
        "  if df[col].isin([0]).sum()/df.shape[0]<0.95:\n",
        "    use.append(col)\n",
        "  else:\n",
        "    unuse.append(col)"
      ],
      "execution_count": null,
      "outputs": []
    },
    {
      "cell_type": "code",
      "metadata": {
        "id": "wEVfipExzhd5"
      },
      "source": [
        "data = df.loc[:,use]"
      ],
      "execution_count": null,
      "outputs": []
    },
    {
      "cell_type": "markdown",
      "metadata": {
        "id": "n-fDmQXidApD"
      },
      "source": [
        "# Mergeing the 4 parts of the datasets with the zero-rate less than 95%"
      ]
    },
    {
      "cell_type": "code",
      "metadata": {
        "id": "6m6MHarYYWEU"
      },
      "source": [
        "# data_parts=[df_1,df_2,df_3,df_4]\n",
        "# useful=[] # the column names for each parts that have less than 95% zeros\n",
        "# for ele in data_parts:\n",
        "#   useful_sub=[]\n",
        "#   for col in ele.columns:\n",
        "#     if ele[col].isin([0]).sum()/ele.shape[0]<0.95:\n",
        "#       useful_sub.append(col)\n",
        "#   useful.append(useful_sub)\n",
        "# useful[2]=useful[2][1:]  # drop unuseful column_name in the 4th parts"
      ],
      "execution_count": null,
      "outputs": []
    },
    {
      "cell_type": "code",
      "metadata": {
        "id": "O5ZNKlpHNrhA"
      },
      "source": [
        "# df_1 = df_1.loc[:,useful[0]]\n",
        "# df_2 = df_2.loc[:,useful[1]]\n",
        "# df_3 = df_3.loc[:,useful[2]]\n",
        "# df_4 = df_4.loc[:,useful[3]]"
      ],
      "execution_count": null,
      "outputs": []
    },
    {
      "cell_type": "code",
      "metadata": {
        "id": "Ucd5-0LZlEvW"
      },
      "source": [
        "#result = pd.concat([df_1,df_2,df_3,df_4], axis=1, sort=False) # combine the dateset"
      ],
      "execution_count": null,
      "outputs": []
    },
    {
      "cell_type": "code",
      "metadata": {
        "id": "glIvV3rinX1N"
      },
      "source": [
        "#result.head()"
      ],
      "execution_count": null,
      "outputs": []
    },
    {
      "cell_type": "markdown",
      "metadata": {
        "id": "mfjmd39toDbO"
      },
      "source": [
        "### Parse 'Dates' and indexs it"
      ]
    },
    {
      "cell_type": "code",
      "metadata": {
        "id": "OI6eJ4P5bOR5"
      },
      "source": [
        "df.to_csv('Dataconcate.csv')"
      ],
      "execution_count": 3,
      "outputs": []
    },
    {
      "cell_type": "code",
      "metadata": {
        "id": "_-a32wgnbOKa"
      },
      "source": [
        "Dataset=pd.read_csv('Dataconcate.csv',parse_dates=['_key_occurreddate_month'],index_col=['_key_client_id','_key_occurreddate_month'])"
      ],
      "execution_count": 8,
      "outputs": []
    },
    {
      "cell_type": "code",
      "metadata": {
        "id": "ZLRU4RuNuPgd"
      },
      "source": [
        "Dataset.drop(['Unnamed: 0','response_variable'],axis=1).head()"
      ],
      "execution_count": null,
      "outputs": []
    },
    {
      "cell_type": "code",
      "metadata": {
        "id": "Zb8hnscXfaLu",
        "outputId": "c3e86c8d-3e91-4a17-ce52-1c7da98c832f",
        "colab": {
          "base_uri": "https://localhost:8080/",
          "height": 282
        }
      },
      "source": [
        "#Dataset.drop(['response_variable'],axis=1).head()"
      ],
      "execution_count": 10,
      "outputs": [
        {
          "output_type": "execute_result",
          "data": {
            "text/html": [
              "<div>\n",
              "<style scoped>\n",
              "    .dataframe tbody tr th:only-of-type {\n",
              "        vertical-align: middle;\n",
              "    }\n",
              "\n",
              "    .dataframe tbody tr th {\n",
              "        vertical-align: top;\n",
              "    }\n",
              "\n",
              "    .dataframe thead th {\n",
              "        text-align: right;\n",
              "    }\n",
              "</style>\n",
              "<table border=\"1\" class=\"dataframe\">\n",
              "  <thead>\n",
              "    <tr style=\"text-align: right;\">\n",
              "      <th></th>\n",
              "      <th></th>\n",
              "      <th>incident_catgry_care_concern_piv</th>\n",
              "      <th>incident_catgry_medication_piv</th>\n",
              "      <th>incident_catgry_medical_piv</th>\n",
              "      <th>incident_catgry__piv</th>\n",
              "      <th>incident_catgry_death_piv</th>\n",
              "      <th>incident_catgry_property_and_vehicles_piv</th>\n",
              "      <th>incident_catgry_physical_and_sexual_assault_piv</th>\n",
              "      <th>incident_catgry_client_missing_piv</th>\n",
              "      <th>incident_catgry_standard_of_care_soc_piv</th>\n",
              "      <th>incident_catgry_absconding_minor_significant_qld_jurisdi_piv</th>\n",
              "      <th>incident_catgry_emergency_situation_piv</th>\n",
              "      <th>incident_catgry_restrictive_practices_piv</th>\n",
              "      <th>incident_catgry_media_piv</th>\n",
              "      <th>incident_catgry_drugs_alcohol_piv</th>\n",
              "      <th>incident_catgry_behaviour_piv</th>\n",
              "      <th>incident_catgry_client_wellbeing_piv</th>\n",
              "      <th>minor_event_total</th>\n",
              "      <th>significant_event_total</th>\n",
              "      <th>critical_event_total</th>\n",
              "      <th>Total_incident_count</th>\n",
              "      <th>response_variable</th>\n",
              "      <th>incident_subcatgry_verbal_abuse____nsw__piv</th>\n",
              "      <th>incident_subcatgry_breach_of_legislatio_piv</th>\n",
              "      <th>incident_subcatgry_ill_treatment_piv</th>\n",
              "      <th>incident_subcatgry_public_health_risk_piv</th>\n",
              "      <th>incident_subcatgry_prn_administered_piv</th>\n",
              "      <th>incident_subcatgry_family_and_domestic__piv</th>\n",
              "      <th>incident_subcatgry_reaction_to_medicati_piv</th>\n",
              "      <th>incident_subcatgry_behaviour_of_concern_piv</th>\n",
              "      <th>incident_subcatgry_possession_of_weapon_piv</th>\n",
              "      <th>incident_subcatgry_unknown_piv</th>\n",
              "      <th>incident_subcatgry_restricted_practice_piv</th>\n",
              "      <th>incident_subcatgry_physical_aggression_piv</th>\n",
              "      <th>incident_subcatgry_visitor_refused_acce_piv</th>\n",
              "      <th>incident_subcatgry_restrictive_practice_piv</th>\n",
              "      <th>incident_subcatgry_adverse_piv</th>\n",
              "      <th>incident_subcatgry_client_piv</th>\n",
              "      <th>incident_subcatgry_personal_finances_piv</th>\n",
              "      <th>incident_subcatgry_sexual_exploitation_piv</th>\n",
              "      <th>incident_subcatgry_negative_experience__piv</th>\n",
              "      <th>...</th>\n",
              "      <th>rowtype_reference_piv</th>\n",
              "      <th>rowtype_plcment_end_piv</th>\n",
              "      <th>rowtype_incident_piv</th>\n",
              "      <th>rowtype_plcment_start_piv</th>\n",
              "      <th>rowtype_program_primary_service_type_start_piv</th>\n",
              "      <th>medc_acqtyp</th>\n",
              "      <th>medc_admintype</th>\n",
              "      <th>medc_levelofindependencetype</th>\n",
              "      <th>medc_adminfreqid</th>\n",
              "      <th>status_placement</th>\n",
              "      <th>status_client_plan</th>\n",
              "      <th>status_rp_mechanical_restraint</th>\n",
              "      <th>status_rp_restricted_access</th>\n",
              "      <th>status_rp_chemical_restraint</th>\n",
              "      <th>status_rp_other</th>\n",
              "      <th>Incident</th>\n",
              "      <th>rp_environmental_restraint_piv</th>\n",
              "      <th>rp_restricted_access_piv</th>\n",
              "      <th>rp_mechanical_restraint_piv</th>\n",
              "      <th>rp_exclusionary_time_out_not_including_seclusion_piv</th>\n",
              "      <th>rp_physical_restraint_prohibited_in_cyf_piv</th>\n",
              "      <th>rp_seclusion_over_18yrs_prohibited_in_cyf_piv</th>\n",
              "      <th>rp_other_piv</th>\n",
              "      <th>rp_chemical_restraint_psychotropic_medication_piv</th>\n",
              "      <th>rp_type_detail_rp_start_mechanical_restraint_piv</th>\n",
              "      <th>rp_type_detail_rp_end_physical_restraint_prohibited_in_cyf_piv</th>\n",
              "      <th>rp_type_detail_rp_start_other_piv</th>\n",
              "      <th>rp_type_detail_rp_end_other_piv</th>\n",
              "      <th>rp_type_detail_rp_start_physical_restraint_prohibited_in_cyf_piv</th>\n",
              "      <th>rp_type_detail_rp_start_seclusion_over_18yrs_prohibited_in_cyf_piv</th>\n",
              "      <th>rp_type_detail_rp_end_environmental_restraint_piv</th>\n",
              "      <th>rp_type_detail_rp_end_chemical_restraint_psychotropic_medication_piv</th>\n",
              "      <th>rp_type_detail_rp_end_restricted_access_piv</th>\n",
              "      <th>rp_type_detail_rp_start_restricted_access_piv</th>\n",
              "      <th>rp_type_detail_rp_end_mechanical_restraint_piv</th>\n",
              "      <th>rp_type_detail_rp_start_chemical_restraint_psychotropic_medication_piv</th>\n",
              "      <th>rp_type_detail_rp_start_environmental_restraint_piv</th>\n",
              "      <th>rp_type_detail_rp_end_exclusionary_time_out_not_including_seclusion_piv</th>\n",
              "      <th>restrictivepractice_isemergency_false_piv</th>\n",
              "      <th>restrictivepractice_isemergency_true_piv</th>\n",
              "    </tr>\n",
              "    <tr>\n",
              "      <th>_key_client_id</th>\n",
              "      <th>_key_occurreddate_month</th>\n",
              "      <th></th>\n",
              "      <th></th>\n",
              "      <th></th>\n",
              "      <th></th>\n",
              "      <th></th>\n",
              "      <th></th>\n",
              "      <th></th>\n",
              "      <th></th>\n",
              "      <th></th>\n",
              "      <th></th>\n",
              "      <th></th>\n",
              "      <th></th>\n",
              "      <th></th>\n",
              "      <th></th>\n",
              "      <th></th>\n",
              "      <th></th>\n",
              "      <th></th>\n",
              "      <th></th>\n",
              "      <th></th>\n",
              "      <th></th>\n",
              "      <th></th>\n",
              "      <th></th>\n",
              "      <th></th>\n",
              "      <th></th>\n",
              "      <th></th>\n",
              "      <th></th>\n",
              "      <th></th>\n",
              "      <th></th>\n",
              "      <th></th>\n",
              "      <th></th>\n",
              "      <th></th>\n",
              "      <th></th>\n",
              "      <th></th>\n",
              "      <th></th>\n",
              "      <th></th>\n",
              "      <th></th>\n",
              "      <th></th>\n",
              "      <th></th>\n",
              "      <th></th>\n",
              "      <th></th>\n",
              "      <th></th>\n",
              "      <th></th>\n",
              "      <th></th>\n",
              "      <th></th>\n",
              "      <th></th>\n",
              "      <th></th>\n",
              "      <th></th>\n",
              "      <th></th>\n",
              "      <th></th>\n",
              "      <th></th>\n",
              "      <th></th>\n",
              "      <th></th>\n",
              "      <th></th>\n",
              "      <th></th>\n",
              "      <th></th>\n",
              "      <th></th>\n",
              "      <th></th>\n",
              "      <th></th>\n",
              "      <th></th>\n",
              "      <th></th>\n",
              "      <th></th>\n",
              "      <th></th>\n",
              "      <th></th>\n",
              "      <th></th>\n",
              "      <th></th>\n",
              "      <th></th>\n",
              "      <th></th>\n",
              "      <th></th>\n",
              "      <th></th>\n",
              "      <th></th>\n",
              "      <th></th>\n",
              "      <th></th>\n",
              "      <th></th>\n",
              "      <th></th>\n",
              "      <th></th>\n",
              "      <th></th>\n",
              "      <th></th>\n",
              "      <th></th>\n",
              "      <th></th>\n",
              "      <th></th>\n",
              "      <th></th>\n",
              "    </tr>\n",
              "  </thead>\n",
              "  <tbody>\n",
              "    <tr>\n",
              "      <th rowspan=\"5\" valign=\"top\">0000D172-EA88-432F-8235-9FAA00D29072</th>\n",
              "      <th>2019-04-01</th>\n",
              "      <td>0</td>\n",
              "      <td>0</td>\n",
              "      <td>0</td>\n",
              "      <td>0</td>\n",
              "      <td>0</td>\n",
              "      <td>0</td>\n",
              "      <td>0</td>\n",
              "      <td>0</td>\n",
              "      <td>0</td>\n",
              "      <td>0</td>\n",
              "      <td>0</td>\n",
              "      <td>0</td>\n",
              "      <td>0</td>\n",
              "      <td>0</td>\n",
              "      <td>0</td>\n",
              "      <td>0</td>\n",
              "      <td>0</td>\n",
              "      <td>0</td>\n",
              "      <td>0</td>\n",
              "      <td>0</td>\n",
              "      <td>0</td>\n",
              "      <td>0</td>\n",
              "      <td>0</td>\n",
              "      <td>0</td>\n",
              "      <td>0</td>\n",
              "      <td>0</td>\n",
              "      <td>0</td>\n",
              "      <td>0</td>\n",
              "      <td>0</td>\n",
              "      <td>0</td>\n",
              "      <td>29</td>\n",
              "      <td>0</td>\n",
              "      <td>0</td>\n",
              "      <td>0</td>\n",
              "      <td>0</td>\n",
              "      <td>0</td>\n",
              "      <td>0</td>\n",
              "      <td>0</td>\n",
              "      <td>0</td>\n",
              "      <td>0</td>\n",
              "      <td>...</td>\n",
              "      <td>27</td>\n",
              "      <td>0</td>\n",
              "      <td>0</td>\n",
              "      <td>0</td>\n",
              "      <td>0</td>\n",
              "      <td>0</td>\n",
              "      <td>0</td>\n",
              "      <td>0</td>\n",
              "      <td>0</td>\n",
              "      <td>2</td>\n",
              "      <td>2</td>\n",
              "      <td>1</td>\n",
              "      <td>2</td>\n",
              "      <td>2</td>\n",
              "      <td>2</td>\n",
              "      <td>0</td>\n",
              "      <td>0</td>\n",
              "      <td>0</td>\n",
              "      <td>0</td>\n",
              "      <td>0</td>\n",
              "      <td>0</td>\n",
              "      <td>0</td>\n",
              "      <td>0</td>\n",
              "      <td>0</td>\n",
              "      <td>0</td>\n",
              "      <td>0</td>\n",
              "      <td>0</td>\n",
              "      <td>0</td>\n",
              "      <td>0</td>\n",
              "      <td>0</td>\n",
              "      <td>0</td>\n",
              "      <td>0</td>\n",
              "      <td>0</td>\n",
              "      <td>0</td>\n",
              "      <td>0</td>\n",
              "      <td>0</td>\n",
              "      <td>0</td>\n",
              "      <td>0</td>\n",
              "      <td>0</td>\n",
              "      <td>0</td>\n",
              "    </tr>\n",
              "    <tr>\n",
              "      <th>2019-05-01</th>\n",
              "      <td>0</td>\n",
              "      <td>0</td>\n",
              "      <td>0</td>\n",
              "      <td>0</td>\n",
              "      <td>0</td>\n",
              "      <td>0</td>\n",
              "      <td>0</td>\n",
              "      <td>0</td>\n",
              "      <td>0</td>\n",
              "      <td>0</td>\n",
              "      <td>0</td>\n",
              "      <td>0</td>\n",
              "      <td>0</td>\n",
              "      <td>0</td>\n",
              "      <td>0</td>\n",
              "      <td>0</td>\n",
              "      <td>0</td>\n",
              "      <td>0</td>\n",
              "      <td>0</td>\n",
              "      <td>0</td>\n",
              "      <td>0</td>\n",
              "      <td>0</td>\n",
              "      <td>0</td>\n",
              "      <td>0</td>\n",
              "      <td>0</td>\n",
              "      <td>0</td>\n",
              "      <td>0</td>\n",
              "      <td>0</td>\n",
              "      <td>0</td>\n",
              "      <td>0</td>\n",
              "      <td>31</td>\n",
              "      <td>0</td>\n",
              "      <td>0</td>\n",
              "      <td>0</td>\n",
              "      <td>0</td>\n",
              "      <td>0</td>\n",
              "      <td>0</td>\n",
              "      <td>0</td>\n",
              "      <td>0</td>\n",
              "      <td>0</td>\n",
              "      <td>...</td>\n",
              "      <td>30</td>\n",
              "      <td>0</td>\n",
              "      <td>0</td>\n",
              "      <td>0</td>\n",
              "      <td>0</td>\n",
              "      <td>0</td>\n",
              "      <td>0</td>\n",
              "      <td>0</td>\n",
              "      <td>0</td>\n",
              "      <td>2</td>\n",
              "      <td>2</td>\n",
              "      <td>1</td>\n",
              "      <td>2</td>\n",
              "      <td>2</td>\n",
              "      <td>2</td>\n",
              "      <td>0</td>\n",
              "      <td>0</td>\n",
              "      <td>0</td>\n",
              "      <td>0</td>\n",
              "      <td>0</td>\n",
              "      <td>0</td>\n",
              "      <td>0</td>\n",
              "      <td>0</td>\n",
              "      <td>0</td>\n",
              "      <td>0</td>\n",
              "      <td>0</td>\n",
              "      <td>0</td>\n",
              "      <td>0</td>\n",
              "      <td>0</td>\n",
              "      <td>0</td>\n",
              "      <td>0</td>\n",
              "      <td>0</td>\n",
              "      <td>0</td>\n",
              "      <td>0</td>\n",
              "      <td>0</td>\n",
              "      <td>0</td>\n",
              "      <td>0</td>\n",
              "      <td>0</td>\n",
              "      <td>0</td>\n",
              "      <td>0</td>\n",
              "    </tr>\n",
              "    <tr>\n",
              "      <th>2019-06-01</th>\n",
              "      <td>0</td>\n",
              "      <td>0</td>\n",
              "      <td>0</td>\n",
              "      <td>0</td>\n",
              "      <td>0</td>\n",
              "      <td>0</td>\n",
              "      <td>0</td>\n",
              "      <td>0</td>\n",
              "      <td>0</td>\n",
              "      <td>0</td>\n",
              "      <td>0</td>\n",
              "      <td>0</td>\n",
              "      <td>0</td>\n",
              "      <td>0</td>\n",
              "      <td>0</td>\n",
              "      <td>0</td>\n",
              "      <td>0</td>\n",
              "      <td>0</td>\n",
              "      <td>0</td>\n",
              "      <td>0</td>\n",
              "      <td>0</td>\n",
              "      <td>0</td>\n",
              "      <td>0</td>\n",
              "      <td>0</td>\n",
              "      <td>0</td>\n",
              "      <td>0</td>\n",
              "      <td>0</td>\n",
              "      <td>0</td>\n",
              "      <td>0</td>\n",
              "      <td>0</td>\n",
              "      <td>31</td>\n",
              "      <td>0</td>\n",
              "      <td>0</td>\n",
              "      <td>0</td>\n",
              "      <td>0</td>\n",
              "      <td>0</td>\n",
              "      <td>0</td>\n",
              "      <td>0</td>\n",
              "      <td>0</td>\n",
              "      <td>0</td>\n",
              "      <td>...</td>\n",
              "      <td>29</td>\n",
              "      <td>0</td>\n",
              "      <td>0</td>\n",
              "      <td>0</td>\n",
              "      <td>0</td>\n",
              "      <td>0</td>\n",
              "      <td>0</td>\n",
              "      <td>0</td>\n",
              "      <td>0</td>\n",
              "      <td>2</td>\n",
              "      <td>2</td>\n",
              "      <td>1</td>\n",
              "      <td>2</td>\n",
              "      <td>2</td>\n",
              "      <td>2</td>\n",
              "      <td>0</td>\n",
              "      <td>0</td>\n",
              "      <td>0</td>\n",
              "      <td>0</td>\n",
              "      <td>0</td>\n",
              "      <td>0</td>\n",
              "      <td>0</td>\n",
              "      <td>0</td>\n",
              "      <td>0</td>\n",
              "      <td>0</td>\n",
              "      <td>0</td>\n",
              "      <td>0</td>\n",
              "      <td>0</td>\n",
              "      <td>0</td>\n",
              "      <td>0</td>\n",
              "      <td>0</td>\n",
              "      <td>0</td>\n",
              "      <td>0</td>\n",
              "      <td>0</td>\n",
              "      <td>0</td>\n",
              "      <td>0</td>\n",
              "      <td>0</td>\n",
              "      <td>0</td>\n",
              "      <td>0</td>\n",
              "      <td>0</td>\n",
              "    </tr>\n",
              "    <tr>\n",
              "      <th>2019-07-01</th>\n",
              "      <td>0</td>\n",
              "      <td>0</td>\n",
              "      <td>0</td>\n",
              "      <td>0</td>\n",
              "      <td>0</td>\n",
              "      <td>0</td>\n",
              "      <td>0</td>\n",
              "      <td>0</td>\n",
              "      <td>0</td>\n",
              "      <td>0</td>\n",
              "      <td>0</td>\n",
              "      <td>0</td>\n",
              "      <td>0</td>\n",
              "      <td>0</td>\n",
              "      <td>0</td>\n",
              "      <td>0</td>\n",
              "      <td>0</td>\n",
              "      <td>0</td>\n",
              "      <td>0</td>\n",
              "      <td>0</td>\n",
              "      <td>0</td>\n",
              "      <td>0</td>\n",
              "      <td>0</td>\n",
              "      <td>0</td>\n",
              "      <td>0</td>\n",
              "      <td>0</td>\n",
              "      <td>0</td>\n",
              "      <td>0</td>\n",
              "      <td>0</td>\n",
              "      <td>0</td>\n",
              "      <td>32</td>\n",
              "      <td>0</td>\n",
              "      <td>0</td>\n",
              "      <td>0</td>\n",
              "      <td>0</td>\n",
              "      <td>0</td>\n",
              "      <td>0</td>\n",
              "      <td>0</td>\n",
              "      <td>0</td>\n",
              "      <td>0</td>\n",
              "      <td>...</td>\n",
              "      <td>30</td>\n",
              "      <td>0</td>\n",
              "      <td>0</td>\n",
              "      <td>0</td>\n",
              "      <td>0</td>\n",
              "      <td>0</td>\n",
              "      <td>0</td>\n",
              "      <td>0</td>\n",
              "      <td>0</td>\n",
              "      <td>2</td>\n",
              "      <td>2</td>\n",
              "      <td>1</td>\n",
              "      <td>2</td>\n",
              "      <td>2</td>\n",
              "      <td>2</td>\n",
              "      <td>0</td>\n",
              "      <td>0</td>\n",
              "      <td>0</td>\n",
              "      <td>0</td>\n",
              "      <td>0</td>\n",
              "      <td>0</td>\n",
              "      <td>0</td>\n",
              "      <td>0</td>\n",
              "      <td>0</td>\n",
              "      <td>0</td>\n",
              "      <td>0</td>\n",
              "      <td>0</td>\n",
              "      <td>0</td>\n",
              "      <td>0</td>\n",
              "      <td>0</td>\n",
              "      <td>0</td>\n",
              "      <td>0</td>\n",
              "      <td>0</td>\n",
              "      <td>0</td>\n",
              "      <td>0</td>\n",
              "      <td>0</td>\n",
              "      <td>0</td>\n",
              "      <td>0</td>\n",
              "      <td>0</td>\n",
              "      <td>0</td>\n",
              "    </tr>\n",
              "    <tr>\n",
              "      <th>2019-08-01</th>\n",
              "      <td>0</td>\n",
              "      <td>0</td>\n",
              "      <td>0</td>\n",
              "      <td>0</td>\n",
              "      <td>0</td>\n",
              "      <td>0</td>\n",
              "      <td>0</td>\n",
              "      <td>0</td>\n",
              "      <td>0</td>\n",
              "      <td>0</td>\n",
              "      <td>0</td>\n",
              "      <td>0</td>\n",
              "      <td>0</td>\n",
              "      <td>0</td>\n",
              "      <td>0</td>\n",
              "      <td>0</td>\n",
              "      <td>0</td>\n",
              "      <td>0</td>\n",
              "      <td>0</td>\n",
              "      <td>0</td>\n",
              "      <td>0</td>\n",
              "      <td>0</td>\n",
              "      <td>0</td>\n",
              "      <td>0</td>\n",
              "      <td>0</td>\n",
              "      <td>0</td>\n",
              "      <td>0</td>\n",
              "      <td>0</td>\n",
              "      <td>0</td>\n",
              "      <td>0</td>\n",
              "      <td>33</td>\n",
              "      <td>0</td>\n",
              "      <td>0</td>\n",
              "      <td>0</td>\n",
              "      <td>0</td>\n",
              "      <td>0</td>\n",
              "      <td>0</td>\n",
              "      <td>0</td>\n",
              "      <td>0</td>\n",
              "      <td>0</td>\n",
              "      <td>...</td>\n",
              "      <td>30</td>\n",
              "      <td>0</td>\n",
              "      <td>0</td>\n",
              "      <td>0</td>\n",
              "      <td>0</td>\n",
              "      <td>0</td>\n",
              "      <td>0</td>\n",
              "      <td>0</td>\n",
              "      <td>0</td>\n",
              "      <td>2</td>\n",
              "      <td>2</td>\n",
              "      <td>1</td>\n",
              "      <td>2</td>\n",
              "      <td>2</td>\n",
              "      <td>2</td>\n",
              "      <td>0</td>\n",
              "      <td>0</td>\n",
              "      <td>0</td>\n",
              "      <td>0</td>\n",
              "      <td>0</td>\n",
              "      <td>0</td>\n",
              "      <td>0</td>\n",
              "      <td>0</td>\n",
              "      <td>0</td>\n",
              "      <td>0</td>\n",
              "      <td>0</td>\n",
              "      <td>0</td>\n",
              "      <td>0</td>\n",
              "      <td>0</td>\n",
              "      <td>0</td>\n",
              "      <td>0</td>\n",
              "      <td>0</td>\n",
              "      <td>0</td>\n",
              "      <td>0</td>\n",
              "      <td>0</td>\n",
              "      <td>0</td>\n",
              "      <td>0</td>\n",
              "      <td>0</td>\n",
              "      <td>0</td>\n",
              "      <td>0</td>\n",
              "    </tr>\n",
              "  </tbody>\n",
              "</table>\n",
              "<p>5 rows × 339 columns</p>\n",
              "</div>"
            ],
            "text/plain": [
              "                                                              incident_catgry_care_concern_piv  ...  restrictivepractice_isemergency_true_piv\n",
              "_key_client_id                       _key_occurreddate_month                                    ...                                          \n",
              "0000D172-EA88-432F-8235-9FAA00D29072 2019-04-01                                              0  ...                                         0\n",
              "                                     2019-05-01                                              0  ...                                         0\n",
              "                                     2019-06-01                                              0  ...                                         0\n",
              "                                     2019-07-01                                              0  ...                                         0\n",
              "                                     2019-08-01                                              0  ...                                         0\n",
              "\n",
              "[5 rows x 339 columns]"
            ]
          },
          "metadata": {
            "tags": []
          },
          "execution_count": 10
        }
      ]
    },
    {
      "cell_type": "code",
      "metadata": {
        "id": "1IA3ZX1Q3J0j"
      },
      "source": [
        "client_id=list(Dataset.index.get_level_values(0)) # the value of '_key_client_id' index"
      ],
      "execution_count": 11,
      "outputs": []
    },
    {
      "cell_type": "markdown",
      "metadata": {
        "id": "4OuahIt2UWF2"
      },
      "source": [
        "### Remove the Useless records"
      ]
    },
    {
      "cell_type": "code",
      "metadata": {
        "id": "ZvzX1ELmMAfw"
      },
      "source": [
        "from collections import Counter\n",
        "occurrences = Counter(client_id)"
      ],
      "execution_count": 12,
      "outputs": []
    },
    {
      "cell_type": "code",
      "metadata": {
        "id": "NZxg9_39N7FR"
      },
      "source": [
        "used_id=[]\n",
        "usedless_id=[]\n",
        "for key, value in occurrences.items():\n",
        "  if value==12:  # number can be changed\n",
        "    used_id.append(key)\n",
        "  else:\n",
        "    usedless_id.append(key)"
      ],
      "execution_count": 13,
      "outputs": []
    },
    {
      "cell_type": "code",
      "metadata": {
        "id": "74FXgqe1lzb_",
        "outputId": "5f87c833-2f70-412e-a3c6-6f09236827d9",
        "colab": {
          "base_uri": "https://localhost:8080/",
          "height": 52
        }
      },
      "source": [
        "print(f'Useful client:  {len(used_id):d}\\nUseless client: {len(usedless_id):d}')"
      ],
      "execution_count": 14,
      "outputs": [
        {
          "output_type": "stream",
          "text": [
            "Useful client:  7380\n",
            "Useless client: 6025\n"
          ],
          "name": "stdout"
        }
      ]
    },
    {
      "cell_type": "code",
      "metadata": {
        "id": "FIqnQ5eWQ8Oy",
        "outputId": "bbd0880c-1da9-4059-d55f-3cb460a76638",
        "colab": {
          "base_uri": "https://localhost:8080/",
          "height": 35
        }
      },
      "source": [
        "# remove the rows that the record of client is less than 12 month \n",
        "Dataset=Dataset.drop(usedless_id,level=0) \n",
        "Dataset.shape"
      ],
      "execution_count": 15,
      "outputs": [
        {
          "output_type": "execute_result",
          "data": {
            "text/plain": [
              "(88560, 340)"
            ]
          },
          "metadata": {
            "tags": []
          },
          "execution_count": 15
        }
      ]
    },
    {
      "cell_type": "code",
      "metadata": {
        "id": "d38tzpQ6UBkf"
      },
      "source": [
        "Dataset.drop(['Incident'],axis=1,inplace=True)"
      ],
      "execution_count": 16,
      "outputs": []
    },
    {
      "cell_type": "markdown",
      "metadata": {
        "id": "obJNduOArMIa"
      },
      "source": [
        "## Perparing Dateset for Modelling"
      ]
    },
    {
      "cell_type": "markdown",
      "metadata": {
        "id": "l6T0_1bqg3J-"
      },
      "source": [
        "### Spliting to Train and Test Set"
      ]
    },
    {
      "cell_type": "code",
      "metadata": {
        "id": "XDdZl8hahLXe",
        "outputId": "faadd269-4029-43be-bb04-91b0031b1095",
        "colab": {
          "base_uri": "https://localhost:8080/",
          "height": 35
        }
      },
      "source": [
        "split=int(0.9*len(used_id))\n",
        "train_index=used_id[:split] # the clients who will in trainset\n",
        "test_index=used_id[split:] # the clients who will in testset\n",
        "\n",
        "# Train dataset\n",
        "train=Dataset.loc[train_index]\n",
        "train_x = train.drop('response_variable',axis=1)\n",
        "train_y = train.response_variable\n",
        "\n",
        "# Test Dataset\n",
        "test=Dataset.loc[test_index]\n",
        "test_x = test.drop('response_variable',axis=1)\n",
        "test_y = test.response_variable\n",
        "\n",
        "print(train.shape,test.shape)"
      ],
      "execution_count": 17,
      "outputs": [
        {
          "output_type": "stream",
          "text": [
            "(79704, 339) (8856, 339)\n"
          ],
          "name": "stdout"
        }
      ]
    },
    {
      "cell_type": "markdown",
      "metadata": {
        "id": "gVBhIWD6oqke"
      },
      "source": [
        "### Normalize the Data"
      ]
    },
    {
      "cell_type": "code",
      "metadata": {
        "id": "xjwqksZ3oJVi"
      },
      "source": [
        "from sklearn.preprocessing import MinMaxScaler\n",
        "scaler=MinMaxScaler()\n",
        "\n",
        "train_x = scaler.fit_transform(train_x)\n",
        "\n",
        "test_x = scaler.transform(test_x)"
      ],
      "execution_count": 18,
      "outputs": []
    },
    {
      "cell_type": "markdown",
      "metadata": {
        "id": "4aim_l66xgSI"
      },
      "source": [
        "###Serializing the Dataset"
      ]
    },
    {
      "cell_type": "code",
      "metadata": {
        "id": "pOhbC83Kq9QL"
      },
      "source": [
        "# 4D output\n",
        "import numpy as np\n",
        "\n",
        "def create_dataset(X, y, time_steps, window, number):\n",
        "  xs, ys,channel = [],[],0\n",
        "  while channel < number: # Ensure all client data have changed to time series type\n",
        "    xs_sub, ys_sub =[],[]\n",
        "    for i in range(window - time_steps):\n",
        "      shifft= window * channel\n",
        "      v = X[i+shifft:(i + shifft + time_steps)]\n",
        "      xs_sub.append(v)\n",
        "      ys_sub.append(y[i + shifft + time_steps])\n",
        "\n",
        "    channel+=1\n",
        "    xs.append(xs_sub)\n",
        "    ys.append(ys_sub)\n",
        "\n",
        "  return np.array(xs),np.array(ys)"
      ],
      "execution_count": 19,
      "outputs": []
    },
    {
      "cell_type": "code",
      "metadata": {
        "id": "ZJ9H29Sdq9QO"
      },
      "source": [
        "TIME_STEPS = 4\n",
        "WINDOW = 12 # control client change\n",
        "NUM_TRAIN = len(train_index)\n",
        "NUM_TEST = len(test_index)\n",
        "\n",
        "X_train, y_train = create_dataset(train_x,train_y, TIME_STEPS, WINDOW, NUM_TRAIN)\n",
        "X_test, y_test = create_dataset(test_x, test_y, TIME_STEPS, WINDOW,NUM_TEST)"
      ],
      "execution_count": 20,
      "outputs": []
    },
    {
      "cell_type": "code",
      "metadata": {
        "id": "u_1HVVXRq9QQ",
        "outputId": "cc84764c-5161-464c-892f-906d6ce0724f",
        "colab": {
          "base_uri": "https://localhost:8080/",
          "height": 35
        }
      },
      "source": [
        "# [n_samples, (n_sub_sequence),TIME_STEPS, n_features]\n",
        "print(X_train.shape, y_train.shape)"
      ],
      "execution_count": 21,
      "outputs": [
        {
          "output_type": "stream",
          "text": [
            "(6642, 8, 4, 338) (6642, 8)\n"
          ],
          "name": "stdout"
        }
      ]
    },
    {
      "cell_type": "code",
      "metadata": {
        "id": "07IahzPhcNX9"
      },
      "source": [
        "#y_train.counts(1)"
      ],
      "execution_count": null,
      "outputs": []
    },
    {
      "cell_type": "markdown",
      "metadata": {
        "id": "nonWCISJrpa7"
      },
      "source": [
        "## LSTM AutoEncoder"
      ]
    },
    {
      "cell_type": "code",
      "metadata": {
        "id": "rx4xhtWAkXXW"
      },
      "source": [
        "# https://machinelearningmastery.com/how-to-develop-lstm-models-for-time-series-forecasting/\n",
        "''' 4D input [n_samples, n_sub_sequence,TIME_STEPS, n_features]'''\n",
        "def ConvLSMT_autoencoder(X):\n",
        "  model = Sequential()\n",
        "  model.add(layers.TimeDistributed(layers.Conv1D(filters=16, kernel_size=1, activation='relu'), input_shape=(None, X.shape[2], X.shape[3])))\n",
        "  model.add(layers.TimeDistributed(layers.MaxPooling1D(pool_size=2)))\n",
        "  model.add(layers.TimeDistributed(layers.Flatten()))\n",
        "  model.add(layers.LSTM(32, activation='relu'))\n",
        "  model.add(layers.Dropout(0.2))\n",
        "  model.add(layers.RepeatVector(X.shape[2]))\n",
        "  model.add(layers.LSTM(4, activation='relu', return_sequences=True))\n",
        "  model.add(layers.Flatten())\n",
        "  model.add(layers.Dropout(0.2))\n",
        "  model.add(layers.Dense(X.shape[1],activation='sigmoid'))\n",
        "  return model"
      ],
      "execution_count": 22,
      "outputs": []
    },
    {
      "cell_type": "code",
      "metadata": {
        "id": "OluqSOE2fRNx",
        "outputId": "cf24d743-4f77-4d0b-dbd7-7aafae346f40",
        "colab": {
          "base_uri": "https://localhost:8080/",
          "height": 503
        }
      },
      "source": [
        "model = ConvLSMT_autoencoder(X_train)\n",
        "model.summary()"
      ],
      "execution_count": 23,
      "outputs": [
        {
          "output_type": "stream",
          "text": [
            "Model: \"sequential\"\n",
            "_________________________________________________________________\n",
            "Layer (type)                 Output Shape              Param #   \n",
            "=================================================================\n",
            "time_distributed (TimeDistri (None, None, 4, 16)       5424      \n",
            "_________________________________________________________________\n",
            "time_distributed_1 (TimeDist (None, None, 2, 16)       0         \n",
            "_________________________________________________________________\n",
            "time_distributed_2 (TimeDist (None, None, 32)          0         \n",
            "_________________________________________________________________\n",
            "lstm (LSTM)                  (None, 32)                8320      \n",
            "_________________________________________________________________\n",
            "dropout (Dropout)            (None, 32)                0         \n",
            "_________________________________________________________________\n",
            "repeat_vector (RepeatVector) (None, 4, 32)             0         \n",
            "_________________________________________________________________\n",
            "lstm_1 (LSTM)                (None, 4, 4)              592       \n",
            "_________________________________________________________________\n",
            "flatten_1 (Flatten)          (None, 16)                0         \n",
            "_________________________________________________________________\n",
            "dropout_1 (Dropout)          (None, 16)                0         \n",
            "_________________________________________________________________\n",
            "dense (Dense)                (None, 8)                 136       \n",
            "=================================================================\n",
            "Total params: 14,472\n",
            "Trainable params: 14,472\n",
            "Non-trainable params: 0\n",
            "_________________________________________________________________\n"
          ],
          "name": "stdout"
        }
      ]
    },
    {
      "cell_type": "code",
      "metadata": {
        "id": "fVvbWAb4dXUu"
      },
      "source": [
        "model.compile(loss=keras.losses.BinaryCrossentropy(from_logits=False),\n",
        "              optimizer=keras.optimizers.Adam(1e-4),\n",
        "              metrics=['accuracy'])"
      ],
      "execution_count": 24,
      "outputs": []
    },
    {
      "cell_type": "code",
      "metadata": {
        "id": "PgSPpteoeOLD",
        "outputId": "4cba3696-51c7-4a99-c8e3-200a0150c8dc",
        "colab": {
          "base_uri": "https://localhost:8080/",
          "height": 1000
        }
      },
      "source": [
        "history = model.fit(\n",
        "    X_train,y_train,\n",
        "    epochs = 500,\n",
        "    batch_size = 48,\n",
        "    validation_split = 0.1,\n",
        "    shuffle = False)"
      ],
      "execution_count": 25,
      "outputs": [
        {
          "output_type": "stream",
          "text": [
            "Epoch 1/500\n",
            "125/125 [==============================] - 2s 14ms/step - loss: 0.6908 - accuracy: 0.4388 - val_loss: 0.6806 - val_accuracy: 0.6316\n",
            "Epoch 2/500\n",
            "125/125 [==============================] - 1s 10ms/step - loss: 0.6535 - accuracy: 0.4695 - val_loss: 0.5934 - val_accuracy: 0.8211\n",
            "Epoch 3/500\n",
            "125/125 [==============================] - 1s 11ms/step - loss: 0.5732 - accuracy: 0.5093 - val_loss: 0.4991 - val_accuracy: 0.7970\n",
            "Epoch 4/500\n",
            "125/125 [==============================] - 1s 10ms/step - loss: 0.4954 - accuracy: 0.4440 - val_loss: 0.3984 - val_accuracy: 0.6707\n",
            "Epoch 5/500\n",
            "125/125 [==============================] - 1s 10ms/step - loss: 0.4116 - accuracy: 0.3425 - val_loss: 0.2863 - val_accuracy: 0.2045\n",
            "Epoch 6/500\n",
            "125/125 [==============================] - 1s 10ms/step - loss: 0.3356 - accuracy: 0.2749 - val_loss: 0.2312 - val_accuracy: 0.0902\n",
            "Epoch 7/500\n",
            "125/125 [==============================] - 1s 11ms/step - loss: 0.2949 - accuracy: 0.2490 - val_loss: 0.2132 - val_accuracy: 0.0902\n",
            "Epoch 8/500\n",
            "125/125 [==============================] - 1s 12ms/step - loss: 0.2697 - accuracy: 0.2255 - val_loss: 0.2036 - val_accuracy: 0.0571\n",
            "Epoch 9/500\n",
            "125/125 [==============================] - 1s 10ms/step - loss: 0.2441 - accuracy: 0.2096 - val_loss: 0.1929 - val_accuracy: 0.0241\n",
            "Epoch 10/500\n",
            "125/125 [==============================] - 1s 11ms/step - loss: 0.2269 - accuracy: 0.1847 - val_loss: 0.1836 - val_accuracy: 0.0241\n",
            "Epoch 11/500\n",
            "125/125 [==============================] - 1s 10ms/step - loss: 0.2139 - accuracy: 0.1740 - val_loss: 0.1778 - val_accuracy: 0.0271\n",
            "Epoch 12/500\n",
            "125/125 [==============================] - 1s 11ms/step - loss: 0.2026 - accuracy: 0.1758 - val_loss: 0.1737 - val_accuracy: 0.0361\n",
            "Epoch 13/500\n",
            "125/125 [==============================] - 1s 11ms/step - loss: 0.1966 - accuracy: 0.1812 - val_loss: 0.1708 - val_accuracy: 0.0391\n",
            "Epoch 14/500\n",
            "125/125 [==============================] - 1s 11ms/step - loss: 0.1873 - accuracy: 0.1907 - val_loss: 0.1685 - val_accuracy: 0.0391\n",
            "Epoch 15/500\n",
            "125/125 [==============================] - 1s 11ms/step - loss: 0.1850 - accuracy: 0.1829 - val_loss: 0.1666 - val_accuracy: 0.0376\n",
            "Epoch 16/500\n",
            "125/125 [==============================] - 1s 11ms/step - loss: 0.1800 - accuracy: 0.1855 - val_loss: 0.1651 - val_accuracy: 0.0376\n",
            "Epoch 17/500\n",
            "125/125 [==============================] - 1s 12ms/step - loss: 0.1770 - accuracy: 0.1812 - val_loss: 0.1642 - val_accuracy: 0.0376\n",
            "Epoch 18/500\n",
            "125/125 [==============================] - 1s 12ms/step - loss: 0.1745 - accuracy: 0.1947 - val_loss: 0.1629 - val_accuracy: 0.0376\n",
            "Epoch 19/500\n",
            "125/125 [==============================] - 1s 11ms/step - loss: 0.1716 - accuracy: 0.1911 - val_loss: 0.1615 - val_accuracy: 0.0391\n",
            "Epoch 20/500\n",
            "125/125 [==============================] - 1s 10ms/step - loss: 0.1694 - accuracy: 0.1979 - val_loss: 0.1605 - val_accuracy: 0.0391\n",
            "Epoch 21/500\n",
            "125/125 [==============================] - 1s 11ms/step - loss: 0.1685 - accuracy: 0.1999 - val_loss: 0.1596 - val_accuracy: 0.0406\n",
            "Epoch 22/500\n",
            "125/125 [==============================] - 1s 10ms/step - loss: 0.1666 - accuracy: 0.2024 - val_loss: 0.1586 - val_accuracy: 0.0391\n",
            "Epoch 23/500\n",
            "125/125 [==============================] - 1s 10ms/step - loss: 0.1641 - accuracy: 0.1941 - val_loss: 0.1571 - val_accuracy: 0.0436\n",
            "Epoch 24/500\n",
            "125/125 [==============================] - 1s 10ms/step - loss: 0.1623 - accuracy: 0.1942 - val_loss: 0.1566 - val_accuracy: 0.0391\n",
            "Epoch 25/500\n",
            "125/125 [==============================] - 1s 10ms/step - loss: 0.1623 - accuracy: 0.1860 - val_loss: 0.1554 - val_accuracy: 0.0451\n",
            "Epoch 26/500\n",
            "125/125 [==============================] - 1s 11ms/step - loss: 0.1614 - accuracy: 0.1849 - val_loss: 0.1555 - val_accuracy: 0.0391\n",
            "Epoch 27/500\n",
            "125/125 [==============================] - 1s 12ms/step - loss: 0.1606 - accuracy: 0.1847 - val_loss: 0.1542 - val_accuracy: 0.0451\n",
            "Epoch 28/500\n",
            "125/125 [==============================] - 1s 11ms/step - loss: 0.1592 - accuracy: 0.1891 - val_loss: 0.1531 - val_accuracy: 0.0496\n",
            "Epoch 29/500\n",
            "125/125 [==============================] - 1s 10ms/step - loss: 0.1567 - accuracy: 0.1894 - val_loss: 0.1524 - val_accuracy: 0.0481\n",
            "Epoch 30/500\n",
            "125/125 [==============================] - 1s 10ms/step - loss: 0.1556 - accuracy: 0.2028 - val_loss: 0.1532 - val_accuracy: 0.0496\n",
            "Epoch 31/500\n",
            "125/125 [==============================] - 1s 12ms/step - loss: 0.1562 - accuracy: 0.1968 - val_loss: 0.1512 - val_accuracy: 0.0526\n",
            "Epoch 32/500\n",
            "125/125 [==============================] - 1s 10ms/step - loss: 0.1530 - accuracy: 0.2088 - val_loss: 0.1504 - val_accuracy: 0.0647\n",
            "Epoch 33/500\n",
            "125/125 [==============================] - 1s 11ms/step - loss: 0.1526 - accuracy: 0.2016 - val_loss: 0.1499 - val_accuracy: 0.0692\n",
            "Epoch 34/500\n",
            "125/125 [==============================] - 1s 11ms/step - loss: 0.1522 - accuracy: 0.2162 - val_loss: 0.1497 - val_accuracy: 0.0767\n",
            "Epoch 35/500\n",
            "125/125 [==============================] - 1s 12ms/step - loss: 0.1501 - accuracy: 0.2110 - val_loss: 0.1489 - val_accuracy: 0.0827\n",
            "Epoch 36/500\n",
            "125/125 [==============================] - 1s 11ms/step - loss: 0.1502 - accuracy: 0.2177 - val_loss: 0.1482 - val_accuracy: 0.0902\n",
            "Epoch 37/500\n",
            "125/125 [==============================] - 1s 10ms/step - loss: 0.1501 - accuracy: 0.2183 - val_loss: 0.1478 - val_accuracy: 0.0947\n",
            "Epoch 38/500\n",
            "125/125 [==============================] - 1s 11ms/step - loss: 0.1487 - accuracy: 0.2297 - val_loss: 0.1479 - val_accuracy: 0.0932\n",
            "Epoch 39/500\n",
            "125/125 [==============================] - 1s 11ms/step - loss: 0.1474 - accuracy: 0.2284 - val_loss: 0.1475 - val_accuracy: 0.1038\n",
            "Epoch 40/500\n",
            "125/125 [==============================] - 1s 11ms/step - loss: 0.1483 - accuracy: 0.2213 - val_loss: 0.1471 - val_accuracy: 0.1098\n",
            "Epoch 41/500\n",
            "125/125 [==============================] - 1s 11ms/step - loss: 0.1466 - accuracy: 0.2317 - val_loss: 0.1466 - val_accuracy: 0.1128\n",
            "Epoch 42/500\n",
            "125/125 [==============================] - 1s 12ms/step - loss: 0.1467 - accuracy: 0.2265 - val_loss: 0.1466 - val_accuracy: 0.1173\n",
            "Epoch 43/500\n",
            "125/125 [==============================] - 1s 11ms/step - loss: 0.1453 - accuracy: 0.2314 - val_loss: 0.1452 - val_accuracy: 0.1188\n",
            "Epoch 44/500\n",
            "125/125 [==============================] - 1s 10ms/step - loss: 0.1446 - accuracy: 0.2304 - val_loss: 0.1452 - val_accuracy: 0.1278\n",
            "Epoch 45/500\n",
            "125/125 [==============================] - 1s 10ms/step - loss: 0.1441 - accuracy: 0.2438 - val_loss: 0.1450 - val_accuracy: 0.1308\n",
            "Epoch 46/500\n",
            "125/125 [==============================] - 1s 10ms/step - loss: 0.1433 - accuracy: 0.2213 - val_loss: 0.1444 - val_accuracy: 0.1323\n",
            "Epoch 47/500\n",
            "125/125 [==============================] - 1s 11ms/step - loss: 0.1429 - accuracy: 0.2302 - val_loss: 0.1439 - val_accuracy: 0.1353\n",
            "Epoch 48/500\n",
            "125/125 [==============================] - 1s 10ms/step - loss: 0.1424 - accuracy: 0.2321 - val_loss: 0.1436 - val_accuracy: 0.1549\n",
            "Epoch 49/500\n",
            "125/125 [==============================] - 1s 10ms/step - loss: 0.1418 - accuracy: 0.2185 - val_loss: 0.1435 - val_accuracy: 0.1444\n",
            "Epoch 50/500\n",
            "125/125 [==============================] - 1s 10ms/step - loss: 0.1414 - accuracy: 0.2232 - val_loss: 0.1432 - val_accuracy: 0.1398\n",
            "Epoch 51/500\n",
            "125/125 [==============================] - 1s 11ms/step - loss: 0.1410 - accuracy: 0.2160 - val_loss: 0.1422 - val_accuracy: 0.1534\n",
            "Epoch 52/500\n",
            "125/125 [==============================] - 1s 10ms/step - loss: 0.1400 - accuracy: 0.2349 - val_loss: 0.1427 - val_accuracy: 0.1669\n",
            "Epoch 53/500\n",
            "125/125 [==============================] - 1s 11ms/step - loss: 0.1400 - accuracy: 0.2168 - val_loss: 0.1425 - val_accuracy: 0.1444\n",
            "Epoch 54/500\n",
            "125/125 [==============================] - 1s 10ms/step - loss: 0.1389 - accuracy: 0.2309 - val_loss: 0.1412 - val_accuracy: 0.1654\n",
            "Epoch 55/500\n",
            "125/125 [==============================] - 1s 11ms/step - loss: 0.1401 - accuracy: 0.2113 - val_loss: 0.1407 - val_accuracy: 0.1579\n",
            "Epoch 56/500\n",
            "125/125 [==============================] - 1s 10ms/step - loss: 0.1383 - accuracy: 0.2080 - val_loss: 0.1411 - val_accuracy: 0.1414\n",
            "Epoch 57/500\n",
            "125/125 [==============================] - 1s 11ms/step - loss: 0.1380 - accuracy: 0.2105 - val_loss: 0.1405 - val_accuracy: 0.1609\n",
            "Epoch 58/500\n",
            "125/125 [==============================] - 1s 10ms/step - loss: 0.1380 - accuracy: 0.2130 - val_loss: 0.1394 - val_accuracy: 0.1639\n",
            "Epoch 59/500\n",
            "125/125 [==============================] - 1s 10ms/step - loss: 0.1365 - accuracy: 0.2160 - val_loss: 0.1395 - val_accuracy: 0.1519\n",
            "Epoch 60/500\n",
            "125/125 [==============================] - 1s 11ms/step - loss: 0.1368 - accuracy: 0.2034 - val_loss: 0.1382 - val_accuracy: 0.1714\n",
            "Epoch 61/500\n",
            "125/125 [==============================] - 1s 10ms/step - loss: 0.1363 - accuracy: 0.1961 - val_loss: 0.1379 - val_accuracy: 0.1474\n",
            "Epoch 62/500\n",
            "125/125 [==============================] - 1s 11ms/step - loss: 0.1354 - accuracy: 0.2028 - val_loss: 0.1375 - val_accuracy: 0.1564\n",
            "Epoch 63/500\n",
            "125/125 [==============================] - 1s 10ms/step - loss: 0.1351 - accuracy: 0.1968 - val_loss: 0.1373 - val_accuracy: 0.1459\n",
            "Epoch 64/500\n",
            "125/125 [==============================] - 1s 10ms/step - loss: 0.1347 - accuracy: 0.1844 - val_loss: 0.1366 - val_accuracy: 0.1459\n",
            "Epoch 65/500\n",
            "125/125 [==============================] - 1s 10ms/step - loss: 0.1343 - accuracy: 0.1999 - val_loss: 0.1363 - val_accuracy: 0.1489\n",
            "Epoch 66/500\n",
            "125/125 [==============================] - 1s 11ms/step - loss: 0.1334 - accuracy: 0.1865 - val_loss: 0.1358 - val_accuracy: 0.1549\n",
            "Epoch 67/500\n",
            "125/125 [==============================] - 1s 11ms/step - loss: 0.1330 - accuracy: 0.1881 - val_loss: 0.1353 - val_accuracy: 0.1459\n",
            "Epoch 68/500\n",
            "125/125 [==============================] - 1s 11ms/step - loss: 0.1329 - accuracy: 0.1738 - val_loss: 0.1352 - val_accuracy: 0.1474\n",
            "Epoch 69/500\n",
            "125/125 [==============================] - 1s 11ms/step - loss: 0.1309 - accuracy: 0.1768 - val_loss: 0.1340 - val_accuracy: 0.1474\n",
            "Epoch 70/500\n",
            "125/125 [==============================] - 1s 12ms/step - loss: 0.1318 - accuracy: 0.1797 - val_loss: 0.1342 - val_accuracy: 0.1398\n",
            "Epoch 71/500\n",
            "125/125 [==============================] - 1s 11ms/step - loss: 0.1304 - accuracy: 0.1690 - val_loss: 0.1340 - val_accuracy: 0.1398\n",
            "Epoch 72/500\n",
            "125/125 [==============================] - 1s 11ms/step - loss: 0.1302 - accuracy: 0.1676 - val_loss: 0.1329 - val_accuracy: 0.1398\n",
            "Epoch 73/500\n",
            "125/125 [==============================] - 1s 10ms/step - loss: 0.1295 - accuracy: 0.1640 - val_loss: 0.1332 - val_accuracy: 0.1338\n",
            "Epoch 74/500\n",
            "125/125 [==============================] - 1s 11ms/step - loss: 0.1303 - accuracy: 0.1660 - val_loss: 0.1321 - val_accuracy: 0.1353\n",
            "Epoch 75/500\n",
            "125/125 [==============================] - 1s 11ms/step - loss: 0.1296 - accuracy: 0.1615 - val_loss: 0.1319 - val_accuracy: 0.1323\n",
            "Epoch 76/500\n",
            "125/125 [==============================] - 1s 11ms/step - loss: 0.1290 - accuracy: 0.1544 - val_loss: 0.1325 - val_accuracy: 0.1323\n",
            "Epoch 77/500\n",
            "125/125 [==============================] - 1s 11ms/step - loss: 0.1283 - accuracy: 0.1606 - val_loss: 0.1309 - val_accuracy: 0.1368\n",
            "Epoch 78/500\n",
            "125/125 [==============================] - 1s 11ms/step - loss: 0.1287 - accuracy: 0.1523 - val_loss: 0.1306 - val_accuracy: 0.1308\n",
            "Epoch 79/500\n",
            "125/125 [==============================] - 1s 11ms/step - loss: 0.1288 - accuracy: 0.1519 - val_loss: 0.1302 - val_accuracy: 0.1338\n",
            "Epoch 80/500\n",
            "125/125 [==============================] - 1s 11ms/step - loss: 0.1263 - accuracy: 0.1506 - val_loss: 0.1300 - val_accuracy: 0.1429\n",
            "Epoch 81/500\n",
            "125/125 [==============================] - 1s 10ms/step - loss: 0.1264 - accuracy: 0.1539 - val_loss: 0.1296 - val_accuracy: 0.1368\n",
            "Epoch 82/500\n",
            "125/125 [==============================] - 1s 10ms/step - loss: 0.1264 - accuracy: 0.1594 - val_loss: 0.1294 - val_accuracy: 0.1398\n",
            "Epoch 83/500\n",
            "125/125 [==============================] - 1s 11ms/step - loss: 0.1255 - accuracy: 0.1486 - val_loss: 0.1290 - val_accuracy: 0.1368\n",
            "Epoch 84/500\n",
            "125/125 [==============================] - 1s 11ms/step - loss: 0.1258 - accuracy: 0.1405 - val_loss: 0.1290 - val_accuracy: 0.1383\n",
            "Epoch 85/500\n",
            "125/125 [==============================] - 1s 11ms/step - loss: 0.1250 - accuracy: 0.1424 - val_loss: 0.1281 - val_accuracy: 0.1398\n",
            "Epoch 86/500\n",
            "125/125 [==============================] - 1s 11ms/step - loss: 0.1251 - accuracy: 0.1484 - val_loss: 0.1274 - val_accuracy: 0.1414\n",
            "Epoch 87/500\n",
            "125/125 [==============================] - 1s 11ms/step - loss: 0.1239 - accuracy: 0.1436 - val_loss: 0.1274 - val_accuracy: 0.1414\n",
            "Epoch 88/500\n",
            "125/125 [==============================] - 1s 10ms/step - loss: 0.1246 - accuracy: 0.1469 - val_loss: 0.1264 - val_accuracy: 0.1414\n",
            "Epoch 89/500\n",
            "125/125 [==============================] - 1s 11ms/step - loss: 0.1246 - accuracy: 0.1419 - val_loss: 0.1272 - val_accuracy: 0.1414\n",
            "Epoch 90/500\n",
            "125/125 [==============================] - 2s 12ms/step - loss: 0.1231 - accuracy: 0.1471 - val_loss: 0.1265 - val_accuracy: 0.1459\n",
            "Epoch 91/500\n",
            "125/125 [==============================] - 1s 11ms/step - loss: 0.1217 - accuracy: 0.1400 - val_loss: 0.1256 - val_accuracy: 0.1489\n",
            "Epoch 92/500\n",
            "125/125 [==============================] - 1s 10ms/step - loss: 0.1221 - accuracy: 0.1436 - val_loss: 0.1255 - val_accuracy: 0.1519\n",
            "Epoch 93/500\n",
            "125/125 [==============================] - 1s 11ms/step - loss: 0.1215 - accuracy: 0.1437 - val_loss: 0.1240 - val_accuracy: 0.1429\n",
            "Epoch 94/500\n",
            "125/125 [==============================] - 2s 12ms/step - loss: 0.1208 - accuracy: 0.1449 - val_loss: 0.1252 - val_accuracy: 0.1459\n",
            "Epoch 95/500\n",
            "125/125 [==============================] - 1s 11ms/step - loss: 0.1214 - accuracy: 0.1444 - val_loss: 0.1243 - val_accuracy: 0.1429\n",
            "Epoch 96/500\n",
            "125/125 [==============================] - 1s 11ms/step - loss: 0.1201 - accuracy: 0.1481 - val_loss: 0.1249 - val_accuracy: 0.1474\n",
            "Epoch 97/500\n",
            "125/125 [==============================] - 1s 11ms/step - loss: 0.1205 - accuracy: 0.1464 - val_loss: 0.1237 - val_accuracy: 0.1489\n",
            "Epoch 98/500\n",
            "125/125 [==============================] - 1s 10ms/step - loss: 0.1204 - accuracy: 0.1439 - val_loss: 0.1240 - val_accuracy: 0.1489\n",
            "Epoch 99/500\n",
            "125/125 [==============================] - 1s 11ms/step - loss: 0.1204 - accuracy: 0.1469 - val_loss: 0.1229 - val_accuracy: 0.1459\n",
            "Epoch 100/500\n",
            "125/125 [==============================] - 1s 11ms/step - loss: 0.1185 - accuracy: 0.1441 - val_loss: 0.1237 - val_accuracy: 0.1534\n",
            "Epoch 101/500\n",
            "125/125 [==============================] - 1s 11ms/step - loss: 0.1178 - accuracy: 0.1541 - val_loss: 0.1215 - val_accuracy: 0.1519\n",
            "Epoch 102/500\n",
            "125/125 [==============================] - 1s 11ms/step - loss: 0.1178 - accuracy: 0.1427 - val_loss: 0.1224 - val_accuracy: 0.1549\n",
            "Epoch 103/500\n",
            "125/125 [==============================] - 1s 10ms/step - loss: 0.1188 - accuracy: 0.1350 - val_loss: 0.1216 - val_accuracy: 0.1534\n",
            "Epoch 104/500\n",
            "125/125 [==============================] - 1s 10ms/step - loss: 0.1178 - accuracy: 0.1504 - val_loss: 0.1224 - val_accuracy: 0.1489\n",
            "Epoch 105/500\n",
            "125/125 [==============================] - 1s 10ms/step - loss: 0.1173 - accuracy: 0.1437 - val_loss: 0.1205 - val_accuracy: 0.1594\n",
            "Epoch 106/500\n",
            "125/125 [==============================] - 1s 11ms/step - loss: 0.1166 - accuracy: 0.1419 - val_loss: 0.1204 - val_accuracy: 0.1534\n",
            "Epoch 107/500\n",
            "125/125 [==============================] - 1s 12ms/step - loss: 0.1164 - accuracy: 0.1402 - val_loss: 0.1208 - val_accuracy: 0.1639\n",
            "Epoch 108/500\n",
            "125/125 [==============================] - 1s 11ms/step - loss: 0.1156 - accuracy: 0.1479 - val_loss: 0.1218 - val_accuracy: 0.1564\n",
            "Epoch 109/500\n",
            "125/125 [==============================] - 2s 13ms/step - loss: 0.1163 - accuracy: 0.1504 - val_loss: 0.1211 - val_accuracy: 0.1609\n",
            "Epoch 110/500\n",
            "125/125 [==============================] - 1s 11ms/step - loss: 0.1159 - accuracy: 0.1434 - val_loss: 0.1189 - val_accuracy: 0.1579\n",
            "Epoch 111/500\n",
            "125/125 [==============================] - 1s 12ms/step - loss: 0.1150 - accuracy: 0.1519 - val_loss: 0.1186 - val_accuracy: 0.1609\n",
            "Epoch 112/500\n",
            "125/125 [==============================] - 1s 11ms/step - loss: 0.1149 - accuracy: 0.1489 - val_loss: 0.1197 - val_accuracy: 0.1579\n",
            "Epoch 113/500\n",
            "125/125 [==============================] - 1s 11ms/step - loss: 0.1143 - accuracy: 0.1499 - val_loss: 0.1184 - val_accuracy: 0.1639\n",
            "Epoch 114/500\n",
            "125/125 [==============================] - 1s 11ms/step - loss: 0.1140 - accuracy: 0.1514 - val_loss: 0.1178 - val_accuracy: 0.1654\n",
            "Epoch 115/500\n",
            "125/125 [==============================] - 1s 11ms/step - loss: 0.1139 - accuracy: 0.1616 - val_loss: 0.1180 - val_accuracy: 0.1684\n",
            "Epoch 116/500\n",
            "125/125 [==============================] - 1s 11ms/step - loss: 0.1122 - accuracy: 0.1543 - val_loss: 0.1190 - val_accuracy: 0.1624\n",
            "Epoch 117/500\n",
            "125/125 [==============================] - 1s 11ms/step - loss: 0.1130 - accuracy: 0.1528 - val_loss: 0.1166 - val_accuracy: 0.1669\n",
            "Epoch 118/500\n",
            "125/125 [==============================] - 1s 11ms/step - loss: 0.1130 - accuracy: 0.1623 - val_loss: 0.1178 - val_accuracy: 0.1699\n",
            "Epoch 119/500\n",
            "125/125 [==============================] - 1s 11ms/step - loss: 0.1119 - accuracy: 0.1517 - val_loss: 0.1162 - val_accuracy: 0.1699\n",
            "Epoch 120/500\n",
            "125/125 [==============================] - 2s 12ms/step - loss: 0.1109 - accuracy: 0.1593 - val_loss: 0.1167 - val_accuracy: 0.1744\n",
            "Epoch 121/500\n",
            "125/125 [==============================] - 1s 11ms/step - loss: 0.1114 - accuracy: 0.1625 - val_loss: 0.1167 - val_accuracy: 0.1729\n",
            "Epoch 122/500\n",
            "125/125 [==============================] - 1s 11ms/step - loss: 0.1118 - accuracy: 0.1591 - val_loss: 0.1144 - val_accuracy: 0.1789\n",
            "Epoch 123/500\n",
            "125/125 [==============================] - 1s 12ms/step - loss: 0.1110 - accuracy: 0.1658 - val_loss: 0.1148 - val_accuracy: 0.1729\n",
            "Epoch 124/500\n",
            "125/125 [==============================] - 1s 11ms/step - loss: 0.1102 - accuracy: 0.1712 - val_loss: 0.1126 - val_accuracy: 0.1759\n",
            "Epoch 125/500\n",
            "125/125 [==============================] - 1s 12ms/step - loss: 0.1094 - accuracy: 0.1615 - val_loss: 0.1129 - val_accuracy: 0.1729\n",
            "Epoch 126/500\n",
            "125/125 [==============================] - 1s 12ms/step - loss: 0.1098 - accuracy: 0.1564 - val_loss: 0.1138 - val_accuracy: 0.1789\n",
            "Epoch 127/500\n",
            "125/125 [==============================] - 1s 11ms/step - loss: 0.1086 - accuracy: 0.1581 - val_loss: 0.1148 - val_accuracy: 0.1729\n",
            "Epoch 128/500\n",
            "125/125 [==============================] - 1s 11ms/step - loss: 0.1072 - accuracy: 0.1678 - val_loss: 0.1123 - val_accuracy: 0.1820\n",
            "Epoch 129/500\n",
            "125/125 [==============================] - 1s 12ms/step - loss: 0.1087 - accuracy: 0.1715 - val_loss: 0.1114 - val_accuracy: 0.1774\n",
            "Epoch 130/500\n",
            "125/125 [==============================] - 1s 11ms/step - loss: 0.1089 - accuracy: 0.1615 - val_loss: 0.1119 - val_accuracy: 0.1805\n",
            "Epoch 131/500\n",
            "125/125 [==============================] - 1s 11ms/step - loss: 0.1069 - accuracy: 0.1599 - val_loss: 0.1116 - val_accuracy: 0.1774\n",
            "Epoch 132/500\n",
            "125/125 [==============================] - 1s 11ms/step - loss: 0.1073 - accuracy: 0.1623 - val_loss: 0.1122 - val_accuracy: 0.1774\n",
            "Epoch 133/500\n",
            "125/125 [==============================] - 1s 12ms/step - loss: 0.1067 - accuracy: 0.1615 - val_loss: 0.1129 - val_accuracy: 0.1835\n",
            "Epoch 134/500\n",
            "125/125 [==============================] - 1s 11ms/step - loss: 0.1068 - accuracy: 0.1613 - val_loss: 0.1108 - val_accuracy: 0.1820\n",
            "Epoch 135/500\n",
            "125/125 [==============================] - 1s 11ms/step - loss: 0.1058 - accuracy: 0.1636 - val_loss: 0.1106 - val_accuracy: 0.1850\n",
            "Epoch 136/500\n",
            "125/125 [==============================] - 1s 11ms/step - loss: 0.1060 - accuracy: 0.1663 - val_loss: 0.1114 - val_accuracy: 0.1865\n",
            "Epoch 137/500\n",
            "125/125 [==============================] - 1s 10ms/step - loss: 0.1051 - accuracy: 0.1633 - val_loss: 0.1099 - val_accuracy: 0.1865\n",
            "Epoch 138/500\n",
            "125/125 [==============================] - 1s 10ms/step - loss: 0.1059 - accuracy: 0.1606 - val_loss: 0.1099 - val_accuracy: 0.1865\n",
            "Epoch 139/500\n",
            "125/125 [==============================] - 1s 11ms/step - loss: 0.1048 - accuracy: 0.1727 - val_loss: 0.1101 - val_accuracy: 0.1865\n",
            "Epoch 140/500\n",
            "125/125 [==============================] - 1s 10ms/step - loss: 0.1049 - accuracy: 0.1717 - val_loss: 0.1086 - val_accuracy: 0.1880\n",
            "Epoch 141/500\n",
            "125/125 [==============================] - 1s 11ms/step - loss: 0.1040 - accuracy: 0.1670 - val_loss: 0.1076 - val_accuracy: 0.1880\n",
            "Epoch 142/500\n",
            "125/125 [==============================] - 1s 11ms/step - loss: 0.1040 - accuracy: 0.1680 - val_loss: 0.1077 - val_accuracy: 0.1925\n",
            "Epoch 143/500\n",
            "125/125 [==============================] - 1s 11ms/step - loss: 0.1033 - accuracy: 0.1670 - val_loss: 0.1076 - val_accuracy: 0.1880\n",
            "Epoch 144/500\n",
            "125/125 [==============================] - 1s 11ms/step - loss: 0.1027 - accuracy: 0.1693 - val_loss: 0.1065 - val_accuracy: 0.1925\n",
            "Epoch 145/500\n",
            "125/125 [==============================] - 1s 11ms/step - loss: 0.1031 - accuracy: 0.1681 - val_loss: 0.1052 - val_accuracy: 0.1910\n",
            "Epoch 146/500\n",
            "125/125 [==============================] - 1s 11ms/step - loss: 0.1020 - accuracy: 0.1665 - val_loss: 0.1096 - val_accuracy: 0.1850\n",
            "Epoch 147/500\n",
            "125/125 [==============================] - 1s 11ms/step - loss: 0.1022 - accuracy: 0.1698 - val_loss: 0.1059 - val_accuracy: 0.1865\n",
            "Epoch 148/500\n",
            "125/125 [==============================] - 1s 11ms/step - loss: 0.1022 - accuracy: 0.1676 - val_loss: 0.1047 - val_accuracy: 0.1895\n",
            "Epoch 149/500\n",
            "125/125 [==============================] - 1s 11ms/step - loss: 0.1023 - accuracy: 0.1668 - val_loss: 0.1062 - val_accuracy: 0.1910\n",
            "Epoch 150/500\n",
            "125/125 [==============================] - 1s 11ms/step - loss: 0.1012 - accuracy: 0.1608 - val_loss: 0.1041 - val_accuracy: 0.1880\n",
            "Epoch 151/500\n",
            "125/125 [==============================] - 1s 10ms/step - loss: 0.1007 - accuracy: 0.1651 - val_loss: 0.1060 - val_accuracy: 0.1895\n",
            "Epoch 152/500\n",
            "125/125 [==============================] - 1s 12ms/step - loss: 0.1008 - accuracy: 0.1645 - val_loss: 0.1052 - val_accuracy: 0.1880\n",
            "Epoch 153/500\n",
            "125/125 [==============================] - 1s 11ms/step - loss: 0.1012 - accuracy: 0.1665 - val_loss: 0.1077 - val_accuracy: 0.1865\n",
            "Epoch 154/500\n",
            "125/125 [==============================] - 1s 11ms/step - loss: 0.0996 - accuracy: 0.1686 - val_loss: 0.1037 - val_accuracy: 0.1895\n",
            "Epoch 155/500\n",
            "125/125 [==============================] - 1s 11ms/step - loss: 0.1000 - accuracy: 0.1748 - val_loss: 0.1038 - val_accuracy: 0.1850\n",
            "Epoch 156/500\n",
            "125/125 [==============================] - 1s 11ms/step - loss: 0.0995 - accuracy: 0.1703 - val_loss: 0.1053 - val_accuracy: 0.1910\n",
            "Epoch 157/500\n",
            "125/125 [==============================] - 1s 12ms/step - loss: 0.0994 - accuracy: 0.1718 - val_loss: 0.1037 - val_accuracy: 0.1880\n",
            "Epoch 158/500\n",
            "125/125 [==============================] - 1s 12ms/step - loss: 0.0982 - accuracy: 0.1681 - val_loss: 0.1067 - val_accuracy: 0.1895\n",
            "Epoch 159/500\n",
            "125/125 [==============================] - 1s 11ms/step - loss: 0.0995 - accuracy: 0.1606 - val_loss: 0.1030 - val_accuracy: 0.1910\n",
            "Epoch 160/500\n",
            "125/125 [==============================] - 1s 11ms/step - loss: 0.0979 - accuracy: 0.1728 - val_loss: 0.1036 - val_accuracy: 0.1910\n",
            "Epoch 161/500\n",
            "125/125 [==============================] - 1s 10ms/step - loss: 0.0989 - accuracy: 0.1650 - val_loss: 0.1046 - val_accuracy: 0.1910\n",
            "Epoch 162/500\n",
            "125/125 [==============================] - 1s 12ms/step - loss: 0.0984 - accuracy: 0.1698 - val_loss: 0.1035 - val_accuracy: 0.1925\n",
            "Epoch 163/500\n",
            "125/125 [==============================] - 1s 11ms/step - loss: 0.0971 - accuracy: 0.1723 - val_loss: 0.1073 - val_accuracy: 0.1910\n",
            "Epoch 164/500\n",
            "125/125 [==============================] - 1s 11ms/step - loss: 0.0979 - accuracy: 0.1675 - val_loss: 0.1062 - val_accuracy: 0.1925\n",
            "Epoch 165/500\n",
            "125/125 [==============================] - 1s 11ms/step - loss: 0.0974 - accuracy: 0.1750 - val_loss: 0.1035 - val_accuracy: 0.1925\n",
            "Epoch 166/500\n",
            "125/125 [==============================] - 1s 11ms/step - loss: 0.0959 - accuracy: 0.1670 - val_loss: 0.1040 - val_accuracy: 0.1940\n",
            "Epoch 167/500\n",
            "125/125 [==============================] - 1s 11ms/step - loss: 0.0969 - accuracy: 0.1681 - val_loss: 0.1019 - val_accuracy: 0.1985\n",
            "Epoch 168/500\n",
            "125/125 [==============================] - 1s 11ms/step - loss: 0.0965 - accuracy: 0.1688 - val_loss: 0.1017 - val_accuracy: 0.1970\n",
            "Epoch 169/500\n",
            "125/125 [==============================] - 1s 10ms/step - loss: 0.0967 - accuracy: 0.1668 - val_loss: 0.1013 - val_accuracy: 0.1910\n",
            "Epoch 170/500\n",
            "125/125 [==============================] - 1s 11ms/step - loss: 0.0977 - accuracy: 0.1745 - val_loss: 0.0988 - val_accuracy: 0.1925\n",
            "Epoch 171/500\n",
            "125/125 [==============================] - 1s 11ms/step - loss: 0.0963 - accuracy: 0.1715 - val_loss: 0.1003 - val_accuracy: 0.1925\n",
            "Epoch 172/500\n",
            "125/125 [==============================] - 1s 11ms/step - loss: 0.0953 - accuracy: 0.1666 - val_loss: 0.1017 - val_accuracy: 0.1985\n",
            "Epoch 173/500\n",
            "125/125 [==============================] - 1s 11ms/step - loss: 0.0953 - accuracy: 0.1767 - val_loss: 0.1014 - val_accuracy: 0.1940\n",
            "Epoch 174/500\n",
            "125/125 [==============================] - 1s 11ms/step - loss: 0.0957 - accuracy: 0.1785 - val_loss: 0.1001 - val_accuracy: 0.1910\n",
            "Epoch 175/500\n",
            "125/125 [==============================] - 1s 11ms/step - loss: 0.0947 - accuracy: 0.1703 - val_loss: 0.1007 - val_accuracy: 0.1985\n",
            "Epoch 176/500\n",
            "125/125 [==============================] - 1s 12ms/step - loss: 0.0943 - accuracy: 0.1748 - val_loss: 0.1010 - val_accuracy: 0.1940\n",
            "Epoch 177/500\n",
            "125/125 [==============================] - 2s 13ms/step - loss: 0.0945 - accuracy: 0.1718 - val_loss: 0.0985 - val_accuracy: 0.1925\n",
            "Epoch 178/500\n",
            "125/125 [==============================] - 1s 11ms/step - loss: 0.0945 - accuracy: 0.1763 - val_loss: 0.0974 - val_accuracy: 0.1925\n",
            "Epoch 179/500\n",
            "125/125 [==============================] - 2s 12ms/step - loss: 0.0953 - accuracy: 0.1787 - val_loss: 0.0984 - val_accuracy: 0.1955\n",
            "Epoch 180/500\n",
            "125/125 [==============================] - 1s 11ms/step - loss: 0.0937 - accuracy: 0.1753 - val_loss: 0.1003 - val_accuracy: 0.1985\n",
            "Epoch 181/500\n",
            "125/125 [==============================] - 1s 12ms/step - loss: 0.0940 - accuracy: 0.1747 - val_loss: 0.0996 - val_accuracy: 0.1970\n",
            "Epoch 182/500\n",
            "125/125 [==============================] - 2s 12ms/step - loss: 0.0935 - accuracy: 0.1789 - val_loss: 0.0991 - val_accuracy: 0.1925\n",
            "Epoch 183/500\n",
            "125/125 [==============================] - 1s 10ms/step - loss: 0.0934 - accuracy: 0.1698 - val_loss: 0.0981 - val_accuracy: 0.1940\n",
            "Epoch 184/500\n",
            "125/125 [==============================] - 1s 11ms/step - loss: 0.0935 - accuracy: 0.1722 - val_loss: 0.0975 - val_accuracy: 0.1910\n",
            "Epoch 185/500\n",
            "125/125 [==============================] - 1s 11ms/step - loss: 0.0922 - accuracy: 0.1737 - val_loss: 0.1004 - val_accuracy: 0.1895\n",
            "Epoch 186/500\n",
            "125/125 [==============================] - 1s 11ms/step - loss: 0.0930 - accuracy: 0.1797 - val_loss: 0.0991 - val_accuracy: 0.1925\n",
            "Epoch 187/500\n",
            "125/125 [==============================] - 1s 11ms/step - loss: 0.0934 - accuracy: 0.1708 - val_loss: 0.0983 - val_accuracy: 0.1910\n",
            "Epoch 188/500\n",
            "125/125 [==============================] - 1s 11ms/step - loss: 0.0923 - accuracy: 0.1643 - val_loss: 0.0990 - val_accuracy: 0.1925\n",
            "Epoch 189/500\n",
            "125/125 [==============================] - 1s 12ms/step - loss: 0.0911 - accuracy: 0.1780 - val_loss: 0.1007 - val_accuracy: 0.1910\n",
            "Epoch 190/500\n",
            "125/125 [==============================] - 1s 10ms/step - loss: 0.0921 - accuracy: 0.1784 - val_loss: 0.0989 - val_accuracy: 0.1910\n",
            "Epoch 191/500\n",
            "125/125 [==============================] - 2s 12ms/step - loss: 0.0917 - accuracy: 0.1807 - val_loss: 0.0966 - val_accuracy: 0.1895\n",
            "Epoch 192/500\n",
            "125/125 [==============================] - 1s 12ms/step - loss: 0.0908 - accuracy: 0.1685 - val_loss: 0.0963 - val_accuracy: 0.1895\n",
            "Epoch 193/500\n",
            "125/125 [==============================] - 2s 12ms/step - loss: 0.0919 - accuracy: 0.1702 - val_loss: 0.0978 - val_accuracy: 0.1865\n",
            "Epoch 194/500\n",
            "125/125 [==============================] - 1s 12ms/step - loss: 0.0901 - accuracy: 0.1720 - val_loss: 0.1002 - val_accuracy: 0.1850\n",
            "Epoch 195/500\n",
            "125/125 [==============================] - 1s 11ms/step - loss: 0.0908 - accuracy: 0.1814 - val_loss: 0.0984 - val_accuracy: 0.1835\n",
            "Epoch 196/500\n",
            "125/125 [==============================] - 1s 12ms/step - loss: 0.0915 - accuracy: 0.1720 - val_loss: 0.0948 - val_accuracy: 0.1850\n",
            "Epoch 197/500\n",
            "125/125 [==============================] - 1s 11ms/step - loss: 0.0914 - accuracy: 0.1707 - val_loss: 0.0964 - val_accuracy: 0.1835\n",
            "Epoch 198/500\n",
            "125/125 [==============================] - 1s 12ms/step - loss: 0.0906 - accuracy: 0.1750 - val_loss: 0.0961 - val_accuracy: 0.1850\n",
            "Epoch 199/500\n",
            "125/125 [==============================] - 1s 11ms/step - loss: 0.0908 - accuracy: 0.1666 - val_loss: 0.0965 - val_accuracy: 0.1850\n",
            "Epoch 200/500\n",
            "125/125 [==============================] - 1s 11ms/step - loss: 0.0900 - accuracy: 0.1715 - val_loss: 0.0946 - val_accuracy: 0.1805\n",
            "Epoch 201/500\n",
            "125/125 [==============================] - 1s 10ms/step - loss: 0.0894 - accuracy: 0.1660 - val_loss: 0.0961 - val_accuracy: 0.1789\n",
            "Epoch 202/500\n",
            "125/125 [==============================] - 1s 11ms/step - loss: 0.0898 - accuracy: 0.1695 - val_loss: 0.0928 - val_accuracy: 0.1820\n",
            "Epoch 203/500\n",
            "125/125 [==============================] - 1s 11ms/step - loss: 0.0899 - accuracy: 0.1722 - val_loss: 0.0942 - val_accuracy: 0.1835\n",
            "Epoch 204/500\n",
            "125/125 [==============================] - 1s 10ms/step - loss: 0.0888 - accuracy: 0.1740 - val_loss: 0.0965 - val_accuracy: 0.1774\n",
            "Epoch 205/500\n",
            "125/125 [==============================] - 1s 12ms/step - loss: 0.0893 - accuracy: 0.1655 - val_loss: 0.0963 - val_accuracy: 0.1820\n",
            "Epoch 206/500\n",
            "125/125 [==============================] - 1s 12ms/step - loss: 0.0886 - accuracy: 0.1710 - val_loss: 0.0931 - val_accuracy: 0.1759\n",
            "Epoch 207/500\n",
            "125/125 [==============================] - 1s 11ms/step - loss: 0.0891 - accuracy: 0.1717 - val_loss: 0.0929 - val_accuracy: 0.1835\n",
            "Epoch 208/500\n",
            "125/125 [==============================] - 1s 12ms/step - loss: 0.0886 - accuracy: 0.1707 - val_loss: 0.0967 - val_accuracy: 0.1774\n",
            "Epoch 209/500\n",
            "125/125 [==============================] - 1s 11ms/step - loss: 0.0896 - accuracy: 0.1680 - val_loss: 0.0948 - val_accuracy: 0.1789\n",
            "Epoch 210/500\n",
            "125/125 [==============================] - 1s 11ms/step - loss: 0.0877 - accuracy: 0.1697 - val_loss: 0.0931 - val_accuracy: 0.1805\n",
            "Epoch 211/500\n",
            "125/125 [==============================] - 1s 12ms/step - loss: 0.0872 - accuracy: 0.1630 - val_loss: 0.0931 - val_accuracy: 0.1820\n",
            "Epoch 212/500\n",
            "125/125 [==============================] - 2s 12ms/step - loss: 0.0883 - accuracy: 0.1715 - val_loss: 0.0942 - val_accuracy: 0.1835\n",
            "Epoch 213/500\n",
            "125/125 [==============================] - 1s 11ms/step - loss: 0.0882 - accuracy: 0.1680 - val_loss: 0.0943 - val_accuracy: 0.1835\n",
            "Epoch 214/500\n",
            "125/125 [==============================] - 1s 11ms/step - loss: 0.0876 - accuracy: 0.1693 - val_loss: 0.0947 - val_accuracy: 0.1774\n",
            "Epoch 215/500\n",
            "125/125 [==============================] - 1s 10ms/step - loss: 0.0876 - accuracy: 0.1737 - val_loss: 0.0923 - val_accuracy: 0.1805\n",
            "Epoch 216/500\n",
            "125/125 [==============================] - 1s 11ms/step - loss: 0.0866 - accuracy: 0.1671 - val_loss: 0.0921 - val_accuracy: 0.1820\n",
            "Epoch 217/500\n",
            "125/125 [==============================] - 2s 13ms/step - loss: 0.0866 - accuracy: 0.1676 - val_loss: 0.0935 - val_accuracy: 0.1789\n",
            "Epoch 218/500\n",
            "125/125 [==============================] - 1s 11ms/step - loss: 0.0863 - accuracy: 0.1697 - val_loss: 0.0920 - val_accuracy: 0.1789\n",
            "Epoch 219/500\n",
            "125/125 [==============================] - 1s 10ms/step - loss: 0.0869 - accuracy: 0.1655 - val_loss: 0.0918 - val_accuracy: 0.1820\n",
            "Epoch 220/500\n",
            "125/125 [==============================] - 1s 10ms/step - loss: 0.0871 - accuracy: 0.1616 - val_loss: 0.0935 - val_accuracy: 0.1774\n",
            "Epoch 221/500\n",
            "125/125 [==============================] - 1s 11ms/step - loss: 0.0872 - accuracy: 0.1641 - val_loss: 0.0932 - val_accuracy: 0.1759\n",
            "Epoch 222/500\n",
            "125/125 [==============================] - 1s 11ms/step - loss: 0.0874 - accuracy: 0.1616 - val_loss: 0.0920 - val_accuracy: 0.1759\n",
            "Epoch 223/500\n",
            "125/125 [==============================] - 1s 11ms/step - loss: 0.0869 - accuracy: 0.1668 - val_loss: 0.0885 - val_accuracy: 0.1759\n",
            "Epoch 224/500\n",
            "125/125 [==============================] - 1s 11ms/step - loss: 0.0861 - accuracy: 0.1678 - val_loss: 0.0909 - val_accuracy: 0.1744\n",
            "Epoch 225/500\n",
            "125/125 [==============================] - 1s 11ms/step - loss: 0.0856 - accuracy: 0.1705 - val_loss: 0.0893 - val_accuracy: 0.1789\n",
            "Epoch 226/500\n",
            "125/125 [==============================] - 2s 12ms/step - loss: 0.0862 - accuracy: 0.1717 - val_loss: 0.0864 - val_accuracy: 0.1820\n",
            "Epoch 227/500\n",
            "125/125 [==============================] - 1s 11ms/step - loss: 0.0859 - accuracy: 0.1702 - val_loss: 0.0918 - val_accuracy: 0.1820\n",
            "Epoch 228/500\n",
            "125/125 [==============================] - 1s 11ms/step - loss: 0.0853 - accuracy: 0.1683 - val_loss: 0.0914 - val_accuracy: 0.1789\n",
            "Epoch 229/500\n",
            "125/125 [==============================] - 1s 11ms/step - loss: 0.0846 - accuracy: 0.1681 - val_loss: 0.0910 - val_accuracy: 0.1805\n",
            "Epoch 230/500\n",
            "125/125 [==============================] - 1s 11ms/step - loss: 0.0850 - accuracy: 0.1686 - val_loss: 0.0928 - val_accuracy: 0.1805\n",
            "Epoch 231/500\n",
            "125/125 [==============================] - 1s 11ms/step - loss: 0.0847 - accuracy: 0.1666 - val_loss: 0.0921 - val_accuracy: 0.1805\n",
            "Epoch 232/500\n",
            "125/125 [==============================] - 1s 10ms/step - loss: 0.0845 - accuracy: 0.1676 - val_loss: 0.0902 - val_accuracy: 0.1835\n",
            "Epoch 233/500\n",
            "125/125 [==============================] - 1s 11ms/step - loss: 0.0844 - accuracy: 0.1676 - val_loss: 0.0883 - val_accuracy: 0.1820\n",
            "Epoch 234/500\n",
            "125/125 [==============================] - 1s 11ms/step - loss: 0.0842 - accuracy: 0.1661 - val_loss: 0.0920 - val_accuracy: 0.1835\n",
            "Epoch 235/500\n",
            "125/125 [==============================] - 1s 11ms/step - loss: 0.0841 - accuracy: 0.1656 - val_loss: 0.0884 - val_accuracy: 0.1835\n",
            "Epoch 236/500\n",
            "125/125 [==============================] - 1s 12ms/step - loss: 0.0846 - accuracy: 0.1673 - val_loss: 0.0873 - val_accuracy: 0.1805\n",
            "Epoch 237/500\n",
            "125/125 [==============================] - 1s 12ms/step - loss: 0.0839 - accuracy: 0.1675 - val_loss: 0.0879 - val_accuracy: 0.1835\n",
            "Epoch 238/500\n",
            "125/125 [==============================] - 1s 12ms/step - loss: 0.0828 - accuracy: 0.1668 - val_loss: 0.0889 - val_accuracy: 0.1850\n",
            "Epoch 239/500\n",
            "125/125 [==============================] - 1s 12ms/step - loss: 0.0828 - accuracy: 0.1762 - val_loss: 0.0886 - val_accuracy: 0.1850\n",
            "Epoch 240/500\n",
            "125/125 [==============================] - 2s 12ms/step - loss: 0.0835 - accuracy: 0.1666 - val_loss: 0.0876 - val_accuracy: 0.1820\n",
            "Epoch 241/500\n",
            "125/125 [==============================] - 1s 12ms/step - loss: 0.0837 - accuracy: 0.1660 - val_loss: 0.0881 - val_accuracy: 0.1865\n",
            "Epoch 242/500\n",
            "125/125 [==============================] - 1s 12ms/step - loss: 0.0830 - accuracy: 0.1708 - val_loss: 0.0923 - val_accuracy: 0.1820\n",
            "Epoch 243/500\n",
            "125/125 [==============================] - 1s 12ms/step - loss: 0.0830 - accuracy: 0.1645 - val_loss: 0.0935 - val_accuracy: 0.1805\n",
            "Epoch 244/500\n",
            "125/125 [==============================] - 1s 11ms/step - loss: 0.0833 - accuracy: 0.1673 - val_loss: 0.0871 - val_accuracy: 0.1835\n",
            "Epoch 245/500\n",
            "125/125 [==============================] - 1s 10ms/step - loss: 0.0836 - accuracy: 0.1653 - val_loss: 0.0918 - val_accuracy: 0.1835\n",
            "Epoch 246/500\n",
            "125/125 [==============================] - 1s 11ms/step - loss: 0.0833 - accuracy: 0.1651 - val_loss: 0.0880 - val_accuracy: 0.1835\n",
            "Epoch 247/500\n",
            "125/125 [==============================] - 1s 11ms/step - loss: 0.0830 - accuracy: 0.1708 - val_loss: 0.0827 - val_accuracy: 0.1820\n",
            "Epoch 248/500\n",
            "125/125 [==============================] - 1s 11ms/step - loss: 0.0828 - accuracy: 0.1681 - val_loss: 0.0864 - val_accuracy: 0.1865\n",
            "Epoch 249/500\n",
            "125/125 [==============================] - 1s 11ms/step - loss: 0.0816 - accuracy: 0.1666 - val_loss: 0.0872 - val_accuracy: 0.1865\n",
            "Epoch 250/500\n",
            "125/125 [==============================] - 2s 13ms/step - loss: 0.0815 - accuracy: 0.1653 - val_loss: 0.0916 - val_accuracy: 0.1850\n",
            "Epoch 251/500\n",
            "125/125 [==============================] - 1s 11ms/step - loss: 0.0810 - accuracy: 0.1626 - val_loss: 0.0901 - val_accuracy: 0.1865\n",
            "Epoch 252/500\n",
            "125/125 [==============================] - 1s 11ms/step - loss: 0.0812 - accuracy: 0.1651 - val_loss: 0.0844 - val_accuracy: 0.1850\n",
            "Epoch 253/500\n",
            "125/125 [==============================] - 1s 11ms/step - loss: 0.0816 - accuracy: 0.1648 - val_loss: 0.0867 - val_accuracy: 0.1835\n",
            "Epoch 254/500\n",
            "125/125 [==============================] - 1s 11ms/step - loss: 0.0813 - accuracy: 0.1623 - val_loss: 0.0885 - val_accuracy: 0.1880\n",
            "Epoch 255/500\n",
            "125/125 [==============================] - 1s 11ms/step - loss: 0.0810 - accuracy: 0.1666 - val_loss: 0.0887 - val_accuracy: 0.1850\n",
            "Epoch 256/500\n",
            "125/125 [==============================] - 1s 12ms/step - loss: 0.0810 - accuracy: 0.1678 - val_loss: 0.0875 - val_accuracy: 0.1850\n",
            "Epoch 257/500\n",
            "125/125 [==============================] - 1s 11ms/step - loss: 0.0810 - accuracy: 0.1695 - val_loss: 0.0866 - val_accuracy: 0.1865\n",
            "Epoch 258/500\n",
            "125/125 [==============================] - 2s 12ms/step - loss: 0.0808 - accuracy: 0.1643 - val_loss: 0.0893 - val_accuracy: 0.1820\n",
            "Epoch 259/500\n",
            "125/125 [==============================] - 1s 11ms/step - loss: 0.0802 - accuracy: 0.1616 - val_loss: 0.0871 - val_accuracy: 0.1835\n",
            "Epoch 260/500\n",
            "125/125 [==============================] - 1s 11ms/step - loss: 0.0805 - accuracy: 0.1673 - val_loss: 0.0840 - val_accuracy: 0.1880\n",
            "Epoch 261/500\n",
            "125/125 [==============================] - 1s 12ms/step - loss: 0.0808 - accuracy: 0.1651 - val_loss: 0.0899 - val_accuracy: 0.1850\n",
            "Epoch 262/500\n",
            "125/125 [==============================] - 1s 12ms/step - loss: 0.0804 - accuracy: 0.1628 - val_loss: 0.0828 - val_accuracy: 0.1895\n",
            "Epoch 263/500\n",
            "125/125 [==============================] - 1s 12ms/step - loss: 0.0805 - accuracy: 0.1666 - val_loss: 0.0878 - val_accuracy: 0.1850\n",
            "Epoch 264/500\n",
            "125/125 [==============================] - 1s 11ms/step - loss: 0.0799 - accuracy: 0.1656 - val_loss: 0.0816 - val_accuracy: 0.1865\n",
            "Epoch 265/500\n",
            "125/125 [==============================] - 1s 11ms/step - loss: 0.0804 - accuracy: 0.1631 - val_loss: 0.0868 - val_accuracy: 0.1865\n",
            "Epoch 266/500\n",
            "125/125 [==============================] - 1s 11ms/step - loss: 0.0796 - accuracy: 0.1625 - val_loss: 0.0871 - val_accuracy: 0.1865\n",
            "Epoch 267/500\n",
            "125/125 [==============================] - 1s 12ms/step - loss: 0.0801 - accuracy: 0.1653 - val_loss: 0.0874 - val_accuracy: 0.1865\n",
            "Epoch 268/500\n",
            "125/125 [==============================] - 1s 12ms/step - loss: 0.0796 - accuracy: 0.1681 - val_loss: 0.0843 - val_accuracy: 0.1865\n",
            "Epoch 269/500\n",
            "125/125 [==============================] - 1s 11ms/step - loss: 0.0802 - accuracy: 0.1618 - val_loss: 0.0865 - val_accuracy: 0.1850\n",
            "Epoch 270/500\n",
            "125/125 [==============================] - 1s 11ms/step - loss: 0.0789 - accuracy: 0.1604 - val_loss: 0.0860 - val_accuracy: 0.1850\n",
            "Epoch 271/500\n",
            "125/125 [==============================] - 1s 12ms/step - loss: 0.0793 - accuracy: 0.1593 - val_loss: 0.0836 - val_accuracy: 0.1910\n",
            "Epoch 272/500\n",
            "125/125 [==============================] - 1s 12ms/step - loss: 0.0797 - accuracy: 0.1658 - val_loss: 0.0895 - val_accuracy: 0.1865\n",
            "Epoch 273/500\n",
            "125/125 [==============================] - 1s 11ms/step - loss: 0.0786 - accuracy: 0.1650 - val_loss: 0.0890 - val_accuracy: 0.1865\n",
            "Epoch 274/500\n",
            "125/125 [==============================] - 2s 12ms/step - loss: 0.0791 - accuracy: 0.1618 - val_loss: 0.0874 - val_accuracy: 0.1865\n",
            "Epoch 275/500\n",
            "125/125 [==============================] - 1s 12ms/step - loss: 0.0784 - accuracy: 0.1620 - val_loss: 0.0831 - val_accuracy: 0.1895\n",
            "Epoch 276/500\n",
            "125/125 [==============================] - 2s 12ms/step - loss: 0.0792 - accuracy: 0.1666 - val_loss: 0.0834 - val_accuracy: 0.1880\n",
            "Epoch 277/500\n",
            "125/125 [==============================] - 1s 11ms/step - loss: 0.0789 - accuracy: 0.1643 - val_loss: 0.0839 - val_accuracy: 0.1880\n",
            "Epoch 278/500\n",
            "125/125 [==============================] - 2s 12ms/step - loss: 0.0777 - accuracy: 0.1608 - val_loss: 0.0858 - val_accuracy: 0.1895\n",
            "Epoch 279/500\n",
            "125/125 [==============================] - 1s 11ms/step - loss: 0.0779 - accuracy: 0.1566 - val_loss: 0.0841 - val_accuracy: 0.1910\n",
            "Epoch 280/500\n",
            "125/125 [==============================] - 1s 11ms/step - loss: 0.0783 - accuracy: 0.1630 - val_loss: 0.0881 - val_accuracy: 0.1910\n",
            "Epoch 281/500\n",
            "125/125 [==============================] - 1s 11ms/step - loss: 0.0784 - accuracy: 0.1653 - val_loss: 0.0836 - val_accuracy: 0.1865\n",
            "Epoch 282/500\n",
            "125/125 [==============================] - 1s 11ms/step - loss: 0.0781 - accuracy: 0.1554 - val_loss: 0.0851 - val_accuracy: 0.1865\n",
            "Epoch 283/500\n",
            "125/125 [==============================] - 1s 12ms/step - loss: 0.0778 - accuracy: 0.1656 - val_loss: 0.0843 - val_accuracy: 0.1940\n",
            "Epoch 284/500\n",
            "125/125 [==============================] - 1s 11ms/step - loss: 0.0791 - accuracy: 0.1655 - val_loss: 0.0809 - val_accuracy: 0.1865\n",
            "Epoch 285/500\n",
            "125/125 [==============================] - 1s 11ms/step - loss: 0.0767 - accuracy: 0.1615 - val_loss: 0.0819 - val_accuracy: 0.1940\n",
            "Epoch 286/500\n",
            "125/125 [==============================] - 2s 12ms/step - loss: 0.0778 - accuracy: 0.1599 - val_loss: 0.0850 - val_accuracy: 0.1895\n",
            "Epoch 287/500\n",
            "125/125 [==============================] - 1s 11ms/step - loss: 0.0774 - accuracy: 0.1630 - val_loss: 0.0859 - val_accuracy: 0.1910\n",
            "Epoch 288/500\n",
            "125/125 [==============================] - 1s 11ms/step - loss: 0.0772 - accuracy: 0.1601 - val_loss: 0.0831 - val_accuracy: 0.1880\n",
            "Epoch 289/500\n",
            "125/125 [==============================] - 1s 11ms/step - loss: 0.0781 - accuracy: 0.1626 - val_loss: 0.0828 - val_accuracy: 0.1895\n",
            "Epoch 290/500\n",
            "125/125 [==============================] - 1s 12ms/step - loss: 0.0773 - accuracy: 0.1593 - val_loss: 0.0808 - val_accuracy: 0.1895\n",
            "Epoch 291/500\n",
            "125/125 [==============================] - 1s 11ms/step - loss: 0.0768 - accuracy: 0.1655 - val_loss: 0.0840 - val_accuracy: 0.1895\n",
            "Epoch 292/500\n",
            "125/125 [==============================] - 1s 11ms/step - loss: 0.0775 - accuracy: 0.1625 - val_loss: 0.0814 - val_accuracy: 0.1910\n",
            "Epoch 293/500\n",
            "125/125 [==============================] - 1s 11ms/step - loss: 0.0768 - accuracy: 0.1599 - val_loss: 0.0862 - val_accuracy: 0.1880\n",
            "Epoch 294/500\n",
            "125/125 [==============================] - 1s 12ms/step - loss: 0.0764 - accuracy: 0.1615 - val_loss: 0.0811 - val_accuracy: 0.1925\n",
            "Epoch 295/500\n",
            "125/125 [==============================] - 2s 13ms/step - loss: 0.0766 - accuracy: 0.1628 - val_loss: 0.0830 - val_accuracy: 0.1940\n",
            "Epoch 296/500\n",
            "125/125 [==============================] - 2s 12ms/step - loss: 0.0766 - accuracy: 0.1608 - val_loss: 0.0867 - val_accuracy: 0.1925\n",
            "Epoch 297/500\n",
            "125/125 [==============================] - 1s 11ms/step - loss: 0.0763 - accuracy: 0.1638 - val_loss: 0.0838 - val_accuracy: 0.1910\n",
            "Epoch 298/500\n",
            "125/125 [==============================] - 1s 11ms/step - loss: 0.0761 - accuracy: 0.1665 - val_loss: 0.0809 - val_accuracy: 0.1925\n",
            "Epoch 299/500\n",
            "125/125 [==============================] - 2s 12ms/step - loss: 0.0757 - accuracy: 0.1661 - val_loss: 0.0812 - val_accuracy: 0.1925\n",
            "Epoch 300/500\n",
            "125/125 [==============================] - 1s 12ms/step - loss: 0.0753 - accuracy: 0.1665 - val_loss: 0.0840 - val_accuracy: 0.1895\n",
            "Epoch 301/500\n",
            "125/125 [==============================] - 1s 12ms/step - loss: 0.0751 - accuracy: 0.1635 - val_loss: 0.0823 - val_accuracy: 0.1925\n",
            "Epoch 302/500\n",
            "125/125 [==============================] - 1s 11ms/step - loss: 0.0759 - accuracy: 0.1645 - val_loss: 0.0819 - val_accuracy: 0.1925\n",
            "Epoch 303/500\n",
            "125/125 [==============================] - 1s 11ms/step - loss: 0.0755 - accuracy: 0.1631 - val_loss: 0.0801 - val_accuracy: 0.1970\n",
            "Epoch 304/500\n",
            "125/125 [==============================] - 1s 11ms/step - loss: 0.0762 - accuracy: 0.1604 - val_loss: 0.0856 - val_accuracy: 0.1895\n",
            "Epoch 305/500\n",
            "125/125 [==============================] - 1s 11ms/step - loss: 0.0752 - accuracy: 0.1651 - val_loss: 0.0773 - val_accuracy: 0.1940\n",
            "Epoch 306/500\n",
            "125/125 [==============================] - 1s 11ms/step - loss: 0.0765 - accuracy: 0.1626 - val_loss: 0.0795 - val_accuracy: 0.1940\n",
            "Epoch 307/500\n",
            "125/125 [==============================] - 1s 11ms/step - loss: 0.0745 - accuracy: 0.1615 - val_loss: 0.0806 - val_accuracy: 0.1925\n",
            "Epoch 308/500\n",
            "125/125 [==============================] - 1s 11ms/step - loss: 0.0757 - accuracy: 0.1606 - val_loss: 0.0789 - val_accuracy: 0.1985\n",
            "Epoch 309/500\n",
            "125/125 [==============================] - 1s 11ms/step - loss: 0.0762 - accuracy: 0.1641 - val_loss: 0.0817 - val_accuracy: 0.1940\n",
            "Epoch 310/500\n",
            "125/125 [==============================] - 1s 11ms/step - loss: 0.0753 - accuracy: 0.1611 - val_loss: 0.0814 - val_accuracy: 0.1940\n",
            "Epoch 311/500\n",
            "125/125 [==============================] - 1s 12ms/step - loss: 0.0745 - accuracy: 0.1625 - val_loss: 0.0796 - val_accuracy: 0.1955\n",
            "Epoch 312/500\n",
            "125/125 [==============================] - 1s 11ms/step - loss: 0.0754 - accuracy: 0.1623 - val_loss: 0.0804 - val_accuracy: 0.1940\n",
            "Epoch 313/500\n",
            "125/125 [==============================] - 1s 11ms/step - loss: 0.0755 - accuracy: 0.1636 - val_loss: 0.0818 - val_accuracy: 0.1910\n",
            "Epoch 314/500\n",
            "125/125 [==============================] - 1s 11ms/step - loss: 0.0746 - accuracy: 0.1586 - val_loss: 0.0843 - val_accuracy: 0.1940\n",
            "Epoch 315/500\n",
            "125/125 [==============================] - 1s 11ms/step - loss: 0.0734 - accuracy: 0.1660 - val_loss: 0.0803 - val_accuracy: 0.2000\n",
            "Epoch 316/500\n",
            "125/125 [==============================] - 1s 11ms/step - loss: 0.0749 - accuracy: 0.1631 - val_loss: 0.0862 - val_accuracy: 0.1940\n",
            "Epoch 317/500\n",
            "125/125 [==============================] - 1s 12ms/step - loss: 0.0751 - accuracy: 0.1648 - val_loss: 0.0757 - val_accuracy: 0.1970\n",
            "Epoch 318/500\n",
            "125/125 [==============================] - 1s 11ms/step - loss: 0.0746 - accuracy: 0.1615 - val_loss: 0.0790 - val_accuracy: 0.1955\n",
            "Epoch 319/500\n",
            "125/125 [==============================] - 1s 12ms/step - loss: 0.0741 - accuracy: 0.1621 - val_loss: 0.0835 - val_accuracy: 0.1955\n",
            "Epoch 320/500\n",
            "125/125 [==============================] - 1s 11ms/step - loss: 0.0740 - accuracy: 0.1635 - val_loss: 0.0815 - val_accuracy: 0.1955\n",
            "Epoch 321/500\n",
            "125/125 [==============================] - 1s 11ms/step - loss: 0.0743 - accuracy: 0.1621 - val_loss: 0.0762 - val_accuracy: 0.1985\n",
            "Epoch 322/500\n",
            "125/125 [==============================] - 1s 11ms/step - loss: 0.0749 - accuracy: 0.1583 - val_loss: 0.0822 - val_accuracy: 0.1970\n",
            "Epoch 323/500\n",
            "125/125 [==============================] - 2s 12ms/step - loss: 0.0737 - accuracy: 0.1653 - val_loss: 0.0778 - val_accuracy: 0.1985\n",
            "Epoch 324/500\n",
            "125/125 [==============================] - 1s 11ms/step - loss: 0.0743 - accuracy: 0.1626 - val_loss: 0.0771 - val_accuracy: 0.1955\n",
            "Epoch 325/500\n",
            "125/125 [==============================] - 1s 12ms/step - loss: 0.0749 - accuracy: 0.1594 - val_loss: 0.0767 - val_accuracy: 0.2000\n",
            "Epoch 326/500\n",
            "125/125 [==============================] - 1s 12ms/step - loss: 0.0735 - accuracy: 0.1638 - val_loss: 0.0788 - val_accuracy: 0.2015\n",
            "Epoch 327/500\n",
            "125/125 [==============================] - 2s 12ms/step - loss: 0.0741 - accuracy: 0.1631 - val_loss: 0.0755 - val_accuracy: 0.1955\n",
            "Epoch 328/500\n",
            "125/125 [==============================] - 2s 12ms/step - loss: 0.0727 - accuracy: 0.1611 - val_loss: 0.0757 - val_accuracy: 0.2015\n",
            "Epoch 329/500\n",
            "125/125 [==============================] - 1s 11ms/step - loss: 0.0738 - accuracy: 0.1633 - val_loss: 0.0814 - val_accuracy: 0.1985\n",
            "Epoch 330/500\n",
            "125/125 [==============================] - 2s 12ms/step - loss: 0.0735 - accuracy: 0.1625 - val_loss: 0.0773 - val_accuracy: 0.1940\n",
            "Epoch 331/500\n",
            "125/125 [==============================] - 2s 12ms/step - loss: 0.0734 - accuracy: 0.1630 - val_loss: 0.0800 - val_accuracy: 0.1970\n",
            "Epoch 332/500\n",
            "125/125 [==============================] - 1s 12ms/step - loss: 0.0735 - accuracy: 0.1621 - val_loss: 0.0791 - val_accuracy: 0.1955\n",
            "Epoch 333/500\n",
            "125/125 [==============================] - 1s 11ms/step - loss: 0.0727 - accuracy: 0.1636 - val_loss: 0.0779 - val_accuracy: 0.2030\n",
            "Epoch 334/500\n",
            "125/125 [==============================] - 1s 11ms/step - loss: 0.0727 - accuracy: 0.1650 - val_loss: 0.0801 - val_accuracy: 0.1985\n",
            "Epoch 335/500\n",
            "125/125 [==============================] - 1s 12ms/step - loss: 0.0726 - accuracy: 0.1643 - val_loss: 0.0842 - val_accuracy: 0.1985\n",
            "Epoch 336/500\n",
            "125/125 [==============================] - 1s 12ms/step - loss: 0.0724 - accuracy: 0.1625 - val_loss: 0.0780 - val_accuracy: 0.2000\n",
            "Epoch 337/500\n",
            "125/125 [==============================] - 2s 13ms/step - loss: 0.0733 - accuracy: 0.1633 - val_loss: 0.0766 - val_accuracy: 0.1985\n",
            "Epoch 338/500\n",
            "125/125 [==============================] - 2s 13ms/step - loss: 0.0724 - accuracy: 0.1611 - val_loss: 0.0798 - val_accuracy: 0.1985\n",
            "Epoch 339/500\n",
            "125/125 [==============================] - 1s 11ms/step - loss: 0.0724 - accuracy: 0.1656 - val_loss: 0.0764 - val_accuracy: 0.2000\n",
            "Epoch 340/500\n",
            "125/125 [==============================] - 1s 11ms/step - loss: 0.0737 - accuracy: 0.1653 - val_loss: 0.0771 - val_accuracy: 0.1955\n",
            "Epoch 341/500\n",
            "125/125 [==============================] - 1s 12ms/step - loss: 0.0736 - accuracy: 0.1593 - val_loss: 0.0812 - val_accuracy: 0.1955\n",
            "Epoch 342/500\n",
            "125/125 [==============================] - 2s 13ms/step - loss: 0.0718 - accuracy: 0.1656 - val_loss: 0.0813 - val_accuracy: 0.1970\n",
            "Epoch 343/500\n",
            "125/125 [==============================] - 1s 11ms/step - loss: 0.0729 - accuracy: 0.1635 - val_loss: 0.0828 - val_accuracy: 0.1955\n",
            "Epoch 344/500\n",
            "125/125 [==============================] - 1s 11ms/step - loss: 0.0722 - accuracy: 0.1626 - val_loss: 0.0787 - val_accuracy: 0.2000\n",
            "Epoch 345/500\n",
            "125/125 [==============================] - 1s 11ms/step - loss: 0.0730 - accuracy: 0.1615 - val_loss: 0.0787 - val_accuracy: 0.1970\n",
            "Epoch 346/500\n",
            "125/125 [==============================] - 1s 11ms/step - loss: 0.0719 - accuracy: 0.1678 - val_loss: 0.0748 - val_accuracy: 0.1955\n",
            "Epoch 347/500\n",
            "125/125 [==============================] - 2s 13ms/step - loss: 0.0720 - accuracy: 0.1594 - val_loss: 0.0828 - val_accuracy: 0.1955\n",
            "Epoch 348/500\n",
            "125/125 [==============================] - 1s 11ms/step - loss: 0.0728 - accuracy: 0.1630 - val_loss: 0.0800 - val_accuracy: 0.1970\n",
            "Epoch 349/500\n",
            "125/125 [==============================] - 1s 11ms/step - loss: 0.0718 - accuracy: 0.1655 - val_loss: 0.0772 - val_accuracy: 0.2015\n",
            "Epoch 350/500\n",
            "125/125 [==============================] - 2s 12ms/step - loss: 0.0717 - accuracy: 0.1636 - val_loss: 0.0755 - val_accuracy: 0.1985\n",
            "Epoch 351/500\n",
            "125/125 [==============================] - 1s 11ms/step - loss: 0.0714 - accuracy: 0.1635 - val_loss: 0.0783 - val_accuracy: 0.1985\n",
            "Epoch 352/500\n",
            "125/125 [==============================] - 1s 12ms/step - loss: 0.0708 - accuracy: 0.1643 - val_loss: 0.0735 - val_accuracy: 0.2000\n",
            "Epoch 353/500\n",
            "125/125 [==============================] - 1s 11ms/step - loss: 0.0718 - accuracy: 0.1630 - val_loss: 0.0769 - val_accuracy: 0.2015\n",
            "Epoch 354/500\n",
            "125/125 [==============================] - 1s 11ms/step - loss: 0.0716 - accuracy: 0.1646 - val_loss: 0.0747 - val_accuracy: 0.1955\n",
            "Epoch 355/500\n",
            "125/125 [==============================] - 1s 11ms/step - loss: 0.0703 - accuracy: 0.1650 - val_loss: 0.0767 - val_accuracy: 0.1940\n",
            "Epoch 356/500\n",
            "125/125 [==============================] - 1s 12ms/step - loss: 0.0717 - accuracy: 0.1641 - val_loss: 0.0731 - val_accuracy: 0.1940\n",
            "Epoch 357/500\n",
            "125/125 [==============================] - 2s 17ms/step - loss: 0.0714 - accuracy: 0.1636 - val_loss: 0.0768 - val_accuracy: 0.1970\n",
            "Epoch 358/500\n",
            "125/125 [==============================] - 3s 21ms/step - loss: 0.0713 - accuracy: 0.1640 - val_loss: 0.0740 - val_accuracy: 0.2000\n",
            "Epoch 359/500\n",
            "125/125 [==============================] - 2s 20ms/step - loss: 0.0704 - accuracy: 0.1640 - val_loss: 0.0773 - val_accuracy: 0.1970\n",
            "Epoch 360/500\n",
            "125/125 [==============================] - 1s 11ms/step - loss: 0.0710 - accuracy: 0.1643 - val_loss: 0.0741 - val_accuracy: 0.2015\n",
            "Epoch 361/500\n",
            "125/125 [==============================] - 1s 11ms/step - loss: 0.0716 - accuracy: 0.1643 - val_loss: 0.0774 - val_accuracy: 0.1955\n",
            "Epoch 362/500\n",
            "125/125 [==============================] - 1s 12ms/step - loss: 0.0705 - accuracy: 0.1641 - val_loss: 0.0774 - val_accuracy: 0.1895\n",
            "Epoch 363/500\n",
            "125/125 [==============================] - 2s 12ms/step - loss: 0.0704 - accuracy: 0.1598 - val_loss: 0.0765 - val_accuracy: 0.1955\n",
            "Epoch 364/500\n",
            "125/125 [==============================] - 1s 11ms/step - loss: 0.0704 - accuracy: 0.1646 - val_loss: 0.0754 - val_accuracy: 0.1940\n",
            "Epoch 365/500\n",
            "125/125 [==============================] - 1s 12ms/step - loss: 0.0711 - accuracy: 0.1638 - val_loss: 0.0783 - val_accuracy: 0.1985\n",
            "Epoch 366/500\n",
            "125/125 [==============================] - 2s 12ms/step - loss: 0.0707 - accuracy: 0.1640 - val_loss: 0.0733 - val_accuracy: 0.1940\n",
            "Epoch 367/500\n",
            "125/125 [==============================] - 1s 11ms/step - loss: 0.0709 - accuracy: 0.1616 - val_loss: 0.0740 - val_accuracy: 0.1895\n",
            "Epoch 368/500\n",
            "125/125 [==============================] - 1s 11ms/step - loss: 0.0708 - accuracy: 0.1643 - val_loss: 0.0753 - val_accuracy: 0.1895\n",
            "Epoch 369/500\n",
            "125/125 [==============================] - 1s 11ms/step - loss: 0.0704 - accuracy: 0.1611 - val_loss: 0.0783 - val_accuracy: 0.1955\n",
            "Epoch 370/500\n",
            "125/125 [==============================] - 1s 12ms/step - loss: 0.0705 - accuracy: 0.1631 - val_loss: 0.0746 - val_accuracy: 0.1940\n",
            "Epoch 371/500\n",
            "125/125 [==============================] - 2s 12ms/step - loss: 0.0698 - accuracy: 0.1650 - val_loss: 0.0721 - val_accuracy: 0.1895\n",
            "Epoch 372/500\n",
            "125/125 [==============================] - 2s 12ms/step - loss: 0.0709 - accuracy: 0.1625 - val_loss: 0.0772 - val_accuracy: 0.1955\n",
            "Epoch 373/500\n",
            "125/125 [==============================] - 1s 11ms/step - loss: 0.0706 - accuracy: 0.1621 - val_loss: 0.0769 - val_accuracy: 0.1970\n",
            "Epoch 374/500\n",
            "125/125 [==============================] - 1s 11ms/step - loss: 0.0696 - accuracy: 0.1651 - val_loss: 0.0765 - val_accuracy: 0.1970\n",
            "Epoch 375/500\n",
            "125/125 [==============================] - 1s 11ms/step - loss: 0.0699 - accuracy: 0.1636 - val_loss: 0.0764 - val_accuracy: 0.2000\n",
            "Epoch 376/500\n",
            "125/125 [==============================] - 1s 12ms/step - loss: 0.0700 - accuracy: 0.1626 - val_loss: 0.0770 - val_accuracy: 0.1955\n",
            "Epoch 377/500\n",
            "125/125 [==============================] - 1s 11ms/step - loss: 0.0699 - accuracy: 0.1640 - val_loss: 0.0749 - val_accuracy: 0.1940\n",
            "Epoch 378/500\n",
            "125/125 [==============================] - 1s 11ms/step - loss: 0.0699 - accuracy: 0.1615 - val_loss: 0.0731 - val_accuracy: 0.1970\n",
            "Epoch 379/500\n",
            "125/125 [==============================] - 1s 12ms/step - loss: 0.0697 - accuracy: 0.1636 - val_loss: 0.0739 - val_accuracy: 0.1955\n",
            "Epoch 380/500\n",
            "125/125 [==============================] - 1s 11ms/step - loss: 0.0718 - accuracy: 0.1628 - val_loss: 0.0755 - val_accuracy: 0.1955\n",
            "Epoch 381/500\n",
            "125/125 [==============================] - 2s 12ms/step - loss: 0.0699 - accuracy: 0.1631 - val_loss: 0.0778 - val_accuracy: 0.1955\n",
            "Epoch 382/500\n",
            "125/125 [==============================] - 1s 11ms/step - loss: 0.0690 - accuracy: 0.1618 - val_loss: 0.0761 - val_accuracy: 0.1955\n",
            "Epoch 383/500\n",
            "125/125 [==============================] - 1s 11ms/step - loss: 0.0692 - accuracy: 0.1604 - val_loss: 0.0767 - val_accuracy: 0.1940\n",
            "Epoch 384/500\n",
            "125/125 [==============================] - 1s 11ms/step - loss: 0.0703 - accuracy: 0.1643 - val_loss: 0.0783 - val_accuracy: 0.1985\n",
            "Epoch 385/500\n",
            "125/125 [==============================] - 1s 11ms/step - loss: 0.0700 - accuracy: 0.1650 - val_loss: 0.0756 - val_accuracy: 0.1955\n",
            "Epoch 386/500\n",
            "125/125 [==============================] - 1s 11ms/step - loss: 0.0698 - accuracy: 0.1625 - val_loss: 0.0766 - val_accuracy: 0.1940\n",
            "Epoch 387/500\n",
            "125/125 [==============================] - 1s 11ms/step - loss: 0.0688 - accuracy: 0.1661 - val_loss: 0.0737 - val_accuracy: 0.1955\n",
            "Epoch 388/500\n",
            "125/125 [==============================] - 1s 11ms/step - loss: 0.0684 - accuracy: 0.1631 - val_loss: 0.0727 - val_accuracy: 0.1970\n",
            "Epoch 389/500\n",
            "125/125 [==============================] - 1s 11ms/step - loss: 0.0701 - accuracy: 0.1650 - val_loss: 0.0741 - val_accuracy: 0.1955\n",
            "Epoch 390/500\n",
            "125/125 [==============================] - 1s 11ms/step - loss: 0.0699 - accuracy: 0.1621 - val_loss: 0.0764 - val_accuracy: 0.1985\n",
            "Epoch 391/500\n",
            "125/125 [==============================] - 1s 12ms/step - loss: 0.0689 - accuracy: 0.1610 - val_loss: 0.0745 - val_accuracy: 0.1985\n",
            "Epoch 392/500\n",
            "125/125 [==============================] - 1s 11ms/step - loss: 0.0696 - accuracy: 0.1610 - val_loss: 0.0746 - val_accuracy: 0.1955\n",
            "Epoch 393/500\n",
            "125/125 [==============================] - 1s 12ms/step - loss: 0.0693 - accuracy: 0.1645 - val_loss: 0.0805 - val_accuracy: 0.1940\n",
            "Epoch 394/500\n",
            "125/125 [==============================] - 1s 12ms/step - loss: 0.0686 - accuracy: 0.1650 - val_loss: 0.0735 - val_accuracy: 0.2000\n",
            "Epoch 395/500\n",
            "125/125 [==============================] - 1s 11ms/step - loss: 0.0693 - accuracy: 0.1635 - val_loss: 0.0744 - val_accuracy: 0.1955\n",
            "Epoch 396/500\n",
            "125/125 [==============================] - 2s 12ms/step - loss: 0.0689 - accuracy: 0.1633 - val_loss: 0.0744 - val_accuracy: 0.1940\n",
            "Epoch 397/500\n",
            "125/125 [==============================] - 1s 11ms/step - loss: 0.0694 - accuracy: 0.1611 - val_loss: 0.0737 - val_accuracy: 0.1955\n",
            "Epoch 398/500\n",
            "125/125 [==============================] - 1s 11ms/step - loss: 0.0680 - accuracy: 0.1631 - val_loss: 0.0727 - val_accuracy: 0.1955\n",
            "Epoch 399/500\n",
            "125/125 [==============================] - 1s 11ms/step - loss: 0.0696 - accuracy: 0.1646 - val_loss: 0.0736 - val_accuracy: 0.1955\n",
            "Epoch 400/500\n",
            "125/125 [==============================] - 1s 11ms/step - loss: 0.0681 - accuracy: 0.1640 - val_loss: 0.0746 - val_accuracy: 0.1955\n",
            "Epoch 401/500\n",
            "125/125 [==============================] - 1s 12ms/step - loss: 0.0692 - accuracy: 0.1620 - val_loss: 0.0735 - val_accuracy: 0.2000\n",
            "Epoch 402/500\n",
            "125/125 [==============================] - 1s 11ms/step - loss: 0.0688 - accuracy: 0.1658 - val_loss: 0.0751 - val_accuracy: 0.1970\n",
            "Epoch 403/500\n",
            "125/125 [==============================] - 1s 11ms/step - loss: 0.0678 - accuracy: 0.1646 - val_loss: 0.0740 - val_accuracy: 0.1940\n",
            "Epoch 404/500\n",
            "125/125 [==============================] - 1s 11ms/step - loss: 0.0688 - accuracy: 0.1671 - val_loss: 0.0765 - val_accuracy: 0.1940\n",
            "Epoch 405/500\n",
            "125/125 [==============================] - 1s 11ms/step - loss: 0.0685 - accuracy: 0.1638 - val_loss: 0.0763 - val_accuracy: 0.1970\n",
            "Epoch 406/500\n",
            "125/125 [==============================] - 1s 11ms/step - loss: 0.0680 - accuracy: 0.1645 - val_loss: 0.0747 - val_accuracy: 0.1970\n",
            "Epoch 407/500\n",
            "125/125 [==============================] - 1s 11ms/step - loss: 0.0677 - accuracy: 0.1645 - val_loss: 0.0764 - val_accuracy: 0.1955\n",
            "Epoch 408/500\n",
            "125/125 [==============================] - 2s 12ms/step - loss: 0.0681 - accuracy: 0.1640 - val_loss: 0.0725 - val_accuracy: 0.1955\n",
            "Epoch 409/500\n",
            "125/125 [==============================] - 1s 12ms/step - loss: 0.0683 - accuracy: 0.1661 - val_loss: 0.0741 - val_accuracy: 0.1985\n",
            "Epoch 410/500\n",
            "125/125 [==============================] - 1s 11ms/step - loss: 0.0681 - accuracy: 0.1640 - val_loss: 0.0717 - val_accuracy: 0.1955\n",
            "Epoch 411/500\n",
            "125/125 [==============================] - 1s 11ms/step - loss: 0.0687 - accuracy: 0.1678 - val_loss: 0.0726 - val_accuracy: 0.1955\n",
            "Epoch 412/500\n",
            "125/125 [==============================] - 2s 12ms/step - loss: 0.0686 - accuracy: 0.1633 - val_loss: 0.0708 - val_accuracy: 0.1985\n",
            "Epoch 413/500\n",
            "125/125 [==============================] - 2s 12ms/step - loss: 0.0672 - accuracy: 0.1665 - val_loss: 0.0705 - val_accuracy: 0.1940\n",
            "Epoch 414/500\n",
            "125/125 [==============================] - 2s 12ms/step - loss: 0.0678 - accuracy: 0.1680 - val_loss: 0.0727 - val_accuracy: 0.2000\n",
            "Epoch 415/500\n",
            "125/125 [==============================] - 1s 12ms/step - loss: 0.0682 - accuracy: 0.1638 - val_loss: 0.0742 - val_accuracy: 0.1985\n",
            "Epoch 416/500\n",
            "125/125 [==============================] - 1s 11ms/step - loss: 0.0689 - accuracy: 0.1658 - val_loss: 0.0726 - val_accuracy: 0.1955\n",
            "Epoch 417/500\n",
            "125/125 [==============================] - 2s 12ms/step - loss: 0.0679 - accuracy: 0.1635 - val_loss: 0.0729 - val_accuracy: 0.1985\n",
            "Epoch 418/500\n",
            "125/125 [==============================] - 1s 11ms/step - loss: 0.0676 - accuracy: 0.1656 - val_loss: 0.0720 - val_accuracy: 0.1970\n",
            "Epoch 419/500\n",
            "125/125 [==============================] - 1s 12ms/step - loss: 0.0674 - accuracy: 0.1643 - val_loss: 0.0713 - val_accuracy: 0.1985\n",
            "Epoch 420/500\n",
            "125/125 [==============================] - 1s 11ms/step - loss: 0.0664 - accuracy: 0.1655 - val_loss: 0.0795 - val_accuracy: 0.1970\n",
            "Epoch 421/500\n",
            "125/125 [==============================] - 1s 12ms/step - loss: 0.0677 - accuracy: 0.1643 - val_loss: 0.0768 - val_accuracy: 0.1940\n",
            "Epoch 422/500\n",
            "125/125 [==============================] - 2s 12ms/step - loss: 0.0666 - accuracy: 0.1685 - val_loss: 0.0747 - val_accuracy: 0.1985\n",
            "Epoch 423/500\n",
            "125/125 [==============================] - 1s 12ms/step - loss: 0.0683 - accuracy: 0.1628 - val_loss: 0.0733 - val_accuracy: 0.2000\n",
            "Epoch 424/500\n",
            "125/125 [==============================] - 1s 11ms/step - loss: 0.0668 - accuracy: 0.1645 - val_loss: 0.0799 - val_accuracy: 0.1940\n",
            "Epoch 425/500\n",
            "125/125 [==============================] - 1s 11ms/step - loss: 0.0675 - accuracy: 0.1670 - val_loss: 0.0762 - val_accuracy: 0.2000\n",
            "Epoch 426/500\n",
            "125/125 [==============================] - 1s 11ms/step - loss: 0.0681 - accuracy: 0.1635 - val_loss: 0.0750 - val_accuracy: 0.2015\n",
            "Epoch 427/500\n",
            "125/125 [==============================] - 1s 11ms/step - loss: 0.0672 - accuracy: 0.1673 - val_loss: 0.0732 - val_accuracy: 0.2015\n",
            "Epoch 428/500\n",
            "125/125 [==============================] - 1s 11ms/step - loss: 0.0675 - accuracy: 0.1645 - val_loss: 0.0726 - val_accuracy: 0.2000\n",
            "Epoch 429/500\n",
            "125/125 [==============================] - 1s 12ms/step - loss: 0.0670 - accuracy: 0.1646 - val_loss: 0.0740 - val_accuracy: 0.2015\n",
            "Epoch 430/500\n",
            "125/125 [==============================] - 1s 11ms/step - loss: 0.0664 - accuracy: 0.1651 - val_loss: 0.0752 - val_accuracy: 0.1985\n",
            "Epoch 431/500\n",
            "125/125 [==============================] - 2s 12ms/step - loss: 0.0666 - accuracy: 0.1620 - val_loss: 0.0739 - val_accuracy: 0.1970\n",
            "Epoch 432/500\n",
            "125/125 [==============================] - 1s 11ms/step - loss: 0.0679 - accuracy: 0.1640 - val_loss: 0.0747 - val_accuracy: 0.1940\n",
            "Epoch 433/500\n",
            "125/125 [==============================] - 2s 12ms/step - loss: 0.0674 - accuracy: 0.1660 - val_loss: 0.0710 - val_accuracy: 0.2000\n",
            "Epoch 434/500\n",
            "125/125 [==============================] - 2s 12ms/step - loss: 0.0669 - accuracy: 0.1651 - val_loss: 0.0729 - val_accuracy: 0.1985\n",
            "Epoch 435/500\n",
            "125/125 [==============================] - 1s 11ms/step - loss: 0.0674 - accuracy: 0.1660 - val_loss: 0.0743 - val_accuracy: 0.1985\n",
            "Epoch 436/500\n",
            "125/125 [==============================] - 1s 11ms/step - loss: 0.0672 - accuracy: 0.1640 - val_loss: 0.0743 - val_accuracy: 0.1970\n",
            "Epoch 437/500\n",
            "125/125 [==============================] - 1s 12ms/step - loss: 0.0662 - accuracy: 0.1670 - val_loss: 0.0732 - val_accuracy: 0.1970\n",
            "Epoch 438/500\n",
            "125/125 [==============================] - 2s 12ms/step - loss: 0.0671 - accuracy: 0.1630 - val_loss: 0.0757 - val_accuracy: 0.1970\n",
            "Epoch 439/500\n",
            "125/125 [==============================] - 1s 11ms/step - loss: 0.0672 - accuracy: 0.1663 - val_loss: 0.0723 - val_accuracy: 0.2000\n",
            "Epoch 440/500\n",
            "125/125 [==============================] - 1s 11ms/step - loss: 0.0679 - accuracy: 0.1660 - val_loss: 0.0727 - val_accuracy: 0.1985\n",
            "Epoch 441/500\n",
            "125/125 [==============================] - 1s 11ms/step - loss: 0.0663 - accuracy: 0.1666 - val_loss: 0.0733 - val_accuracy: 0.1985\n",
            "Epoch 442/500\n",
            "125/125 [==============================] - 1s 12ms/step - loss: 0.0662 - accuracy: 0.1655 - val_loss: 0.0757 - val_accuracy: 0.1985\n",
            "Epoch 443/500\n",
            "125/125 [==============================] - 1s 12ms/step - loss: 0.0669 - accuracy: 0.1633 - val_loss: 0.0738 - val_accuracy: 0.2045\n",
            "Epoch 444/500\n",
            "125/125 [==============================] - 1s 12ms/step - loss: 0.0659 - accuracy: 0.1635 - val_loss: 0.0710 - val_accuracy: 0.2045\n",
            "Epoch 445/500\n",
            "125/125 [==============================] - 1s 11ms/step - loss: 0.0671 - accuracy: 0.1656 - val_loss: 0.0741 - val_accuracy: 0.2000\n",
            "Epoch 446/500\n",
            "125/125 [==============================] - 1s 11ms/step - loss: 0.0663 - accuracy: 0.1656 - val_loss: 0.0731 - val_accuracy: 0.2015\n",
            "Epoch 447/500\n",
            "125/125 [==============================] - 1s 11ms/step - loss: 0.0659 - accuracy: 0.1690 - val_loss: 0.0781 - val_accuracy: 0.1985\n",
            "Epoch 448/500\n",
            "125/125 [==============================] - 1s 12ms/step - loss: 0.0663 - accuracy: 0.1675 - val_loss: 0.0694 - val_accuracy: 0.2045\n",
            "Epoch 449/500\n",
            "125/125 [==============================] - 2s 12ms/step - loss: 0.0655 - accuracy: 0.1663 - val_loss: 0.0762 - val_accuracy: 0.2000\n",
            "Epoch 450/500\n",
            "125/125 [==============================] - 2s 13ms/step - loss: 0.0658 - accuracy: 0.1668 - val_loss: 0.0737 - val_accuracy: 0.2015\n",
            "Epoch 451/500\n",
            "125/125 [==============================] - 2s 12ms/step - loss: 0.0654 - accuracy: 0.1686 - val_loss: 0.0730 - val_accuracy: 0.2045\n",
            "Epoch 452/500\n",
            "125/125 [==============================] - 2s 13ms/step - loss: 0.0661 - accuracy: 0.1691 - val_loss: 0.0727 - val_accuracy: 0.2015\n",
            "Epoch 453/500\n",
            "125/125 [==============================] - 2s 13ms/step - loss: 0.0661 - accuracy: 0.1678 - val_loss: 0.0755 - val_accuracy: 0.2030\n",
            "Epoch 454/500\n",
            "125/125 [==============================] - 2s 12ms/step - loss: 0.0647 - accuracy: 0.1675 - val_loss: 0.0775 - val_accuracy: 0.2015\n",
            "Epoch 455/500\n",
            "125/125 [==============================] - 1s 11ms/step - loss: 0.0653 - accuracy: 0.1675 - val_loss: 0.0755 - val_accuracy: 0.2000\n",
            "Epoch 456/500\n",
            "125/125 [==============================] - 1s 11ms/step - loss: 0.0657 - accuracy: 0.1695 - val_loss: 0.0735 - val_accuracy: 0.2045\n",
            "Epoch 457/500\n",
            "125/125 [==============================] - 1s 11ms/step - loss: 0.0649 - accuracy: 0.1660 - val_loss: 0.0697 - val_accuracy: 0.2060\n",
            "Epoch 458/500\n",
            "125/125 [==============================] - 1s 12ms/step - loss: 0.0668 - accuracy: 0.1650 - val_loss: 0.0720 - val_accuracy: 0.2015\n",
            "Epoch 459/500\n",
            "125/125 [==============================] - 1s 11ms/step - loss: 0.0668 - accuracy: 0.1635 - val_loss: 0.0728 - val_accuracy: 0.2030\n",
            "Epoch 460/500\n",
            "125/125 [==============================] - 1s 11ms/step - loss: 0.0653 - accuracy: 0.1668 - val_loss: 0.0733 - val_accuracy: 0.1985\n",
            "Epoch 461/500\n",
            "125/125 [==============================] - 1s 11ms/step - loss: 0.0654 - accuracy: 0.1690 - val_loss: 0.0774 - val_accuracy: 0.1970\n",
            "Epoch 462/500\n",
            "125/125 [==============================] - 1s 11ms/step - loss: 0.0667 - accuracy: 0.1651 - val_loss: 0.0746 - val_accuracy: 0.1985\n",
            "Epoch 463/500\n",
            "125/125 [==============================] - 1s 12ms/step - loss: 0.0650 - accuracy: 0.1663 - val_loss: 0.0699 - val_accuracy: 0.1985\n",
            "Epoch 464/500\n",
            "125/125 [==============================] - 1s 12ms/step - loss: 0.0642 - accuracy: 0.1640 - val_loss: 0.0766 - val_accuracy: 0.1970\n",
            "Epoch 465/500\n",
            "125/125 [==============================] - 1s 11ms/step - loss: 0.0649 - accuracy: 0.1668 - val_loss: 0.0712 - val_accuracy: 0.2030\n",
            "Epoch 466/500\n",
            "125/125 [==============================] - 1s 11ms/step - loss: 0.0669 - accuracy: 0.1636 - val_loss: 0.0719 - val_accuracy: 0.2015\n",
            "Epoch 467/500\n",
            "125/125 [==============================] - 1s 11ms/step - loss: 0.0649 - accuracy: 0.1663 - val_loss: 0.0750 - val_accuracy: 0.1970\n",
            "Epoch 468/500\n",
            "125/125 [==============================] - 1s 12ms/step - loss: 0.0656 - accuracy: 0.1645 - val_loss: 0.0760 - val_accuracy: 0.1955\n",
            "Epoch 469/500\n",
            "125/125 [==============================] - 1s 12ms/step - loss: 0.0652 - accuracy: 0.1641 - val_loss: 0.0707 - val_accuracy: 0.2015\n",
            "Epoch 470/500\n",
            "125/125 [==============================] - 1s 11ms/step - loss: 0.0656 - accuracy: 0.1660 - val_loss: 0.0742 - val_accuracy: 0.2015\n",
            "Epoch 471/500\n",
            "125/125 [==============================] - 1s 12ms/step - loss: 0.0642 - accuracy: 0.1646 - val_loss: 0.0714 - val_accuracy: 0.2000\n",
            "Epoch 472/500\n",
            "125/125 [==============================] - 1s 11ms/step - loss: 0.0657 - accuracy: 0.1697 - val_loss: 0.0745 - val_accuracy: 0.2015\n",
            "Epoch 473/500\n",
            "125/125 [==============================] - 2s 12ms/step - loss: 0.0647 - accuracy: 0.1666 - val_loss: 0.0711 - val_accuracy: 0.2030\n",
            "Epoch 474/500\n",
            "125/125 [==============================] - 1s 12ms/step - loss: 0.0660 - accuracy: 0.1638 - val_loss: 0.0708 - val_accuracy: 0.2015\n",
            "Epoch 475/500\n",
            "125/125 [==============================] - 1s 11ms/step - loss: 0.0652 - accuracy: 0.1660 - val_loss: 0.0708 - val_accuracy: 0.2060\n",
            "Epoch 476/500\n",
            "125/125 [==============================] - 1s 12ms/step - loss: 0.0648 - accuracy: 0.1671 - val_loss: 0.0748 - val_accuracy: 0.1985\n",
            "Epoch 477/500\n",
            "125/125 [==============================] - 1s 11ms/step - loss: 0.0645 - accuracy: 0.1660 - val_loss: 0.0752 - val_accuracy: 0.1985\n",
            "Epoch 478/500\n",
            "125/125 [==============================] - 1s 11ms/step - loss: 0.0645 - accuracy: 0.1621 - val_loss: 0.0772 - val_accuracy: 0.1985\n",
            "Epoch 479/500\n",
            "125/125 [==============================] - 1s 12ms/step - loss: 0.0645 - accuracy: 0.1660 - val_loss: 0.0710 - val_accuracy: 0.2030\n",
            "Epoch 480/500\n",
            "125/125 [==============================] - 1s 12ms/step - loss: 0.0655 - accuracy: 0.1675 - val_loss: 0.0771 - val_accuracy: 0.1985\n",
            "Epoch 481/500\n",
            "125/125 [==============================] - 1s 11ms/step - loss: 0.0657 - accuracy: 0.1638 - val_loss: 0.0706 - val_accuracy: 0.2030\n",
            "Epoch 482/500\n",
            "125/125 [==============================] - 1s 12ms/step - loss: 0.0654 - accuracy: 0.1665 - val_loss: 0.0719 - val_accuracy: 0.2015\n",
            "Epoch 483/500\n",
            "125/125 [==============================] - 2s 12ms/step - loss: 0.0658 - accuracy: 0.1643 - val_loss: 0.0687 - val_accuracy: 0.2060\n",
            "Epoch 484/500\n",
            "125/125 [==============================] - 2s 12ms/step - loss: 0.0648 - accuracy: 0.1658 - val_loss: 0.0722 - val_accuracy: 0.2060\n",
            "Epoch 485/500\n",
            "125/125 [==============================] - 2s 12ms/step - loss: 0.0645 - accuracy: 0.1636 - val_loss: 0.0730 - val_accuracy: 0.2000\n",
            "Epoch 486/500\n",
            "125/125 [==============================] - 1s 11ms/step - loss: 0.0649 - accuracy: 0.1655 - val_loss: 0.0754 - val_accuracy: 0.2000\n",
            "Epoch 487/500\n",
            "125/125 [==============================] - 1s 12ms/step - loss: 0.0652 - accuracy: 0.1660 - val_loss: 0.0714 - val_accuracy: 0.2030\n",
            "Epoch 488/500\n",
            "125/125 [==============================] - 1s 12ms/step - loss: 0.0645 - accuracy: 0.1648 - val_loss: 0.0690 - val_accuracy: 0.2060\n",
            "Epoch 489/500\n",
            "125/125 [==============================] - 1s 11ms/step - loss: 0.0642 - accuracy: 0.1663 - val_loss: 0.0685 - val_accuracy: 0.2075\n",
            "Epoch 490/500\n",
            "125/125 [==============================] - 1s 11ms/step - loss: 0.0646 - accuracy: 0.1688 - val_loss: 0.0722 - val_accuracy: 0.2000\n",
            "Epoch 491/500\n",
            "125/125 [==============================] - 1s 11ms/step - loss: 0.0647 - accuracy: 0.1670 - val_loss: 0.0720 - val_accuracy: 0.2045\n",
            "Epoch 492/500\n",
            "125/125 [==============================] - 1s 12ms/step - loss: 0.0654 - accuracy: 0.1658 - val_loss: 0.0731 - val_accuracy: 0.2030\n",
            "Epoch 493/500\n",
            "125/125 [==============================] - 1s 11ms/step - loss: 0.0645 - accuracy: 0.1650 - val_loss: 0.0761 - val_accuracy: 0.1985\n",
            "Epoch 494/500\n",
            "125/125 [==============================] - 1s 11ms/step - loss: 0.0644 - accuracy: 0.1673 - val_loss: 0.0713 - val_accuracy: 0.2030\n",
            "Epoch 495/500\n",
            "125/125 [==============================] - 1s 11ms/step - loss: 0.0642 - accuracy: 0.1653 - val_loss: 0.0766 - val_accuracy: 0.1985\n",
            "Epoch 496/500\n",
            "125/125 [==============================] - 1s 11ms/step - loss: 0.0638 - accuracy: 0.1648 - val_loss: 0.0710 - val_accuracy: 0.2030\n",
            "Epoch 497/500\n",
            "125/125 [==============================] - 1s 11ms/step - loss: 0.0637 - accuracy: 0.1643 - val_loss: 0.0702 - val_accuracy: 0.2060\n",
            "Epoch 498/500\n",
            "125/125 [==============================] - 1s 11ms/step - loss: 0.0642 - accuracy: 0.1641 - val_loss: 0.0710 - val_accuracy: 0.2045\n",
            "Epoch 499/500\n",
            "125/125 [==============================] - 2s 12ms/step - loss: 0.0632 - accuracy: 0.1656 - val_loss: 0.0722 - val_accuracy: 0.2030\n",
            "Epoch 500/500\n",
            "125/125 [==============================] - 1s 12ms/step - loss: 0.0644 - accuracy: 0.1683 - val_loss: 0.0730 - val_accuracy: 0.2015\n"
          ],
          "name": "stdout"
        }
      ]
    },
    {
      "cell_type": "code",
      "metadata": {
        "id": "euEvkju2BpWA",
        "outputId": "e09c3c38-b1ee-4b8b-e513-b77af069e4ed",
        "colab": {
          "base_uri": "https://localhost:8080/",
          "height": 279
        }
      },
      "source": [
        "import matplotlib.pyplot as plt\n",
        "plt.plot(history.epoch, history.history['loss'], label='Train')\n",
        "plt.plot(history.epoch, history.history['val_loss'], label='Test')\n",
        "plt.ylabel('Loss')\n",
        "plt.xlabel('Epoch')\n",
        "plt.legend()\n",
        "plt.show()"
      ],
      "execution_count": 26,
      "outputs": [
        {
          "output_type": "display_data",
          "data": {
            "image/png": "[encoded data removed]",
            "text/plain": [
              "<Figure size 432x288 with 1 Axes>"
            ]
          },
          "metadata": {
            "tags": [],
            "needs_background": "light"
          }
        }
      ]
    },
    {
      "cell_type": "markdown",
      "metadata": {
        "id": "IbZDKTvtaRRN"
      },
      "source": [
        "## Feature improtance\n",
        "https://machinelearningmastery.com/calculate-feature-importance-with-python/\n",
        "\n",
        "Permutation feature importance is a technique for calculating **relative** importance scores that is independent of the model used."
      ]
    },
    {
      "cell_type": "code",
      "metadata": {
        "id": "z52ru-BTopsY"
      },
      "source": [
        "from sklearn.inspection import permutation_importance\n",
        "from matplotlib import pyplot"
      ],
      "execution_count": 47,
      "outputs": []
    },
    {
      "cell_type": "code",
      "metadata": {
        "id": "idRZZA0Wotap"
      },
      "source": [
        "results = permutation_importance(model, X_train, y_train, scoring='neg_mean_squared_error')"
      ],
      "execution_count": null,
      "outputs": []
    },
    {
      "cell_type": "code",
      "metadata": {
        "id": "MVULvCaIouA0"
      },
      "source": [
        ""
      ],
      "execution_count": null,
      "outputs": []
    },
    {
      "cell_type": "code",
      "metadata": {
        "id": "MKFlVWPutzmF"
      },
      "source": [
        "#pip install eli5"
      ],
      "execution_count": null,
      "outputs": []
    },
    {
      "cell_type": "code",
      "metadata": {
        "id": "T7LZ7SGAaP2m"
      },
      "source": [
        "#import eli5\n",
        "#from eli5.sklearn import PermutationImportance"
      ],
      "execution_count": null,
      "outputs": []
    },
    {
      "cell_type": "code",
      "metadata": {
        "id": "8-AdXfm4cA5h"
      },
      "source": [
        "#perm = PermutationImportance(model, random_state=1,scoring=\"accuracy\").fit(X_train,y_train,)\n",
        "#eli5.show_weights(perm, feature_names = X_train.columns.tolist())"
      ],
      "execution_count": null,
      "outputs": []
    },
    {
      "cell_type": "markdown",
      "metadata": {
        "id": "w_3Ll_9mJlxS"
      },
      "source": [
        "## Find the threshold for dividing positive samples and neigative samples"
      ]
    },
    {
      "cell_type": "code",
      "metadata": {
        "id": "uoHUjMB_CY5j"
      },
      "source": [
        "predict = model.predict(X_test)\n",
        "#predict.shape"
      ],
      "execution_count": 27,
      "outputs": []
    },
    {
      "cell_type": "code",
      "metadata": {
        "id": "ktsucnyTWBjM"
      },
      "source": [
        "#predict[1]"
      ],
      "execution_count": null,
      "outputs": []
    },
    {
      "cell_type": "code",
      "metadata": {
        "id": "HT6wHCMMGCyI"
      },
      "source": [
        "#predict[0]"
      ],
      "execution_count": null,
      "outputs": []
    },
    {
      "cell_type": "code",
      "metadata": {
        "id": "OfhBF8XuGPg_"
      },
      "source": [
        "month=['May','Jun','Jul','Aug','Sep','Oct','Nov','Dec']\n",
        "Client = used_id[-y_test.shape[0]:]\n",
        "\n",
        "preidct_df = pd.DataFrame(predict,columns=month,index=Client,)\n",
        "True_df=pd.DataFrame(y_test,columns=month,index=Client)"
      ],
      "execution_count": 28,
      "outputs": []
    },
    {
      "cell_type": "code",
      "metadata": {
        "id": "AoavcnEJIsjx"
      },
      "source": [
        "preidct_df.describe()"
      ],
      "execution_count": null,
      "outputs": []
    },
    {
      "cell_type": "code",
      "metadata": {
        "id": "fxCTQs7LMhZh"
      },
      "source": [
        "preidct_df.head()"
      ],
      "execution_count": null,
      "outputs": []
    },
    {
      "cell_type": "code",
      "metadata": {
        "id": "CFEWbwOUiIug"
      },
      "source": [
        "True_df.head()"
      ],
      "execution_count": null,
      "outputs": []
    },
    {
      "cell_type": "markdown",
      "metadata": {
        "id": "9EkBsx03gi_Q"
      },
      "source": [
        "## Build a dataframe which contains two columns: Predited_value and True_Value for modelling"
      ]
    },
    {
      "cell_type": "code",
      "metadata": {
        "id": "Jdr7LEypW-70"
      },
      "source": [
        "# Combine dataframe to a single column\n",
        "len=preidct_df.shape[0]\n",
        "name_all=[] # predicted values\n",
        "value_all=[] # months\n",
        "true_all=[]\n",
        "for elem in month:\n",
        "  value_all+=(list(preidct_df[str(elem)]))\n",
        "  true_all += (list(True_df[str(elem)]))\n",
        "  name_all += [elem]*len"
      ],
      "execution_count": 29,
      "outputs": []
    },
    {
      "cell_type": "code",
      "metadata": {
        "id": "UpMyxhU2dzki"
      },
      "source": [
        "# build the client column\n",
        "client=[]\n",
        "for i in range(preidct_df.shape[1]):\n",
        "  client+=Client"
      ],
      "execution_count": 30,
      "outputs": []
    },
    {
      "cell_type": "code",
      "metadata": {
        "id": "i8JfJLmZZ3bo",
        "outputId": "e5558760-4a54-435e-ecdc-8187237eaf37",
        "colab": {
          "base_uri": "https://localhost:8080/",
          "height": 233
        }
      },
      "source": [
        "# Build the datafame\n",
        "dataset=pd.DataFrame(zip(value_all,name_all,true_all),columns=['Predict','Month','Label'])\n",
        "dataset['Client_id']=client\n",
        "dataset.set_index(['Month','Client_id'],inplace=True)\n",
        "dataset.head()"
      ],
      "execution_count": 31,
      "outputs": [
        {
          "output_type": "execute_result",
          "data": {
            "text/html": [
              "<div>\n",
              "<style scoped>\n",
              "    .dataframe tbody tr th:only-of-type {\n",
              "        vertical-align: middle;\n",
              "    }\n",
              "\n",
              "    .dataframe tbody tr th {\n",
              "        vertical-align: top;\n",
              "    }\n",
              "\n",
              "    .dataframe thead th {\n",
              "        text-align: right;\n",
              "    }\n",
              "</style>\n",
              "<table border=\"1\" class=\"dataframe\">\n",
              "  <thead>\n",
              "    <tr style=\"text-align: right;\">\n",
              "      <th></th>\n",
              "      <th></th>\n",
              "      <th>Predict</th>\n",
              "      <th>Label</th>\n",
              "    </tr>\n",
              "    <tr>\n",
              "      <th>Month</th>\n",
              "      <th>Client_id</th>\n",
              "      <th></th>\n",
              "      <th></th>\n",
              "    </tr>\n",
              "  </thead>\n",
              "  <tbody>\n",
              "    <tr>\n",
              "      <th rowspan=\"5\" valign=\"top\">May</th>\n",
              "      <th>DB10AF3E-0F92-E011-A5C6-B6A03279A8B3</th>\n",
              "      <td>3.209441e-36</td>\n",
              "      <td>0</td>\n",
              "    </tr>\n",
              "    <tr>\n",
              "      <th>DB1CE471-B20F-434C-B4D4-9F6D00D10976</th>\n",
              "      <td>1.339487e-29</td>\n",
              "      <td>0</td>\n",
              "    </tr>\n",
              "    <tr>\n",
              "      <th>F771E77B-341D-4672-B6AD-A43500AB411B</th>\n",
              "      <td>8.857987e-24</td>\n",
              "      <td>0</td>\n",
              "    </tr>\n",
              "    <tr>\n",
              "      <th>F77DFB42-B83B-47FD-BBA9-A88D00E983C1</th>\n",
              "      <td>1.588169e-38</td>\n",
              "      <td>0</td>\n",
              "    </tr>\n",
              "    <tr>\n",
              "      <th>E9D0885E-57E7-4EE6-A384-A61200D8ABF1</th>\n",
              "      <td>1.705792e-33</td>\n",
              "      <td>0</td>\n",
              "    </tr>\n",
              "  </tbody>\n",
              "</table>\n",
              "</div>"
            ],
            "text/plain": [
              "                                                 Predict  Label\n",
              "Month Client_id                                                \n",
              "May   DB10AF3E-0F92-E011-A5C6-B6A03279A8B3  3.209441e-36      0\n",
              "      DB1CE471-B20F-434C-B4D4-9F6D00D10976  1.339487e-29      0\n",
              "      F771E77B-341D-4672-B6AD-A43500AB411B  8.857987e-24      0\n",
              "      F77DFB42-B83B-47FD-BBA9-A88D00E983C1  1.588169e-38      0\n",
              "      E9D0885E-57E7-4EE6-A384-A61200D8ABF1  1.705792e-33      0"
            ]
          },
          "metadata": {
            "tags": []
          },
          "execution_count": 31
        }
      ]
    },
    {
      "cell_type": "markdown",
      "metadata": {
        "id": "0XHDWWzSQ1wb"
      },
      "source": [
        "## Spliting the predicted value to Test and Train sets for finding the threshold"
      ]
    },
    {
      "cell_type": "code",
      "metadata": {
        "id": "RZGZYVOGi8sq"
      },
      "source": [
        "from sklearn.model_selection import train_test_split"
      ],
      "execution_count": 32,
      "outputs": []
    },
    {
      "cell_type": "code",
      "metadata": {
        "id": "jvEJ88GVSAG7"
      },
      "source": [
        "rate=0.2\n",
        "train, test = train_test_split(dataset, test_size=rate, random_state=5)"
      ],
      "execution_count": 33,
      "outputs": []
    },
    {
      "cell_type": "code",
      "metadata": {
        "id": "SlJARs70Q0Nx",
        "outputId": "f91051cb-5c95-452d-fb82-90b2247a6305",
        "colab": {
          "base_uri": "https://localhost:8080/",
          "height": 52
        }
      },
      "source": [
        "'''splitting the dataset to X and Y'''\n",
        "# X\n",
        "train_xth = train.Predict\n",
        "test_xth = test.Predict\n",
        "\n",
        "# Y\n",
        "train_yth = train.Label\n",
        "test_yth = test.Label\n",
        "\n",
        "print('The sizes for training dataset and test dataset:\\n',train_xth.shape,test_xth.shape)"
      ],
      "execution_count": 34,
      "outputs": [
        {
          "output_type": "stream",
          "text": [
            "The sizes for training dataset and test dataset:\n",
            " (4723,) (1181,)\n"
          ],
          "name": "stdout"
        }
      ]
    },
    {
      "cell_type": "markdown",
      "metadata": {
        "id": "mrYIzBOHwEZS"
      },
      "source": [
        "### Plotting the Loss"
      ]
    },
    {
      "cell_type": "code",
      "metadata": {
        "id": "iHYBqPc7Gb-m",
        "outputId": "e2c7f373-af3e-42bc-bd30-27d20dd0f93b",
        "colab": {
          "base_uri": "https://localhost:8080/",
          "height": 385
        }
      },
      "source": [
        "import seaborn as sns\n",
        "fig, ax = plt.subplots(figsize=(5, 4))\n",
        "for i in [0,1]:\n",
        "  sns.distplot(train_xth.loc[train.Label==i], bins=50,kde=True)\n",
        "ax.set_ylabel('Total Count')\n",
        "ax.set_title('Loss')\n",
        "ax.legend('01')\n",
        "plt.savefig('lossPlot.png')"
      ],
      "execution_count": 45,
      "outputs": [
        {
          "output_type": "stream",
          "text": [
            "/usr/local/lib/python3.6/dist-packages/seaborn/distributions.py:2551: FutureWarning: `distplot` is a deprecated function and will be removed in a future version. Please adapt your code to use either `displot` (a figure-level function with similar flexibility) or `histplot` (an axes-level function for histograms).\n",
            "  warnings.warn(msg, FutureWarning)\n",
            "/usr/local/lib/python3.6/dist-packages/seaborn/distributions.py:2551: FutureWarning: `distplot` is a deprecated function and will be removed in a future version. Please adapt your code to use either `displot` (a figure-level function with similar flexibility) or `histplot` (an axes-level function for histograms).\n",
            "  warnings.warn(msg, FutureWarning)\n"
          ],
          "name": "stderr"
        },
        {
          "output_type": "display_data",
          "data": {
            "image/png": "[encoded data removed]",
            "text/plain": [
              "<Figure size 360x288 with 1 Axes>"
            ]
          },
          "metadata": {
            "tags": [],
            "needs_background": "light"
          }
        }
      ]
    },
    {
      "cell_type": "markdown",
      "metadata": {
        "id": "DjAjFXXllOYE"
      },
      "source": [
        "### Finding the best threshold"
      ]
    },
    {
      "cell_type": "code",
      "metadata": {
        "id": "9A6m-n_svXse"
      },
      "source": [
        "# from the above plot we can choose the threshold to be 0.2 or greater\n",
        "'''Generate the list for thresholds'''\n",
        "threshold = []\n",
        "num = 4000\n",
        "start=0.2\n",
        "for i in range(num):\n",
        "  val= start+0.0001*i\n",
        "  threshold.append(val)\n"
      ],
      "execution_count": 36,
      "outputs": []
    },
    {
      "cell_type": "code",
      "metadata": {
        "id": "8I4ibi3C24vR"
      },
      "source": [
        "# generate the list of f1_scores \n",
        "from sklearn.metrics import f1_score\n",
        "f1_scores=[]\n",
        "for thres in threshold:\n",
        "  Predited_label = []\n",
        "  for elem in test_xth:\n",
        "    if elem < thres:\n",
        "      Predited_label.append(0)\n",
        "    else:\n",
        "      Predited_label.append(1)\n",
        "  f1s=f1_score(test_yth, Predited_label, zero_division=0)\n",
        "  f1_scores.append(f1s)"
      ],
      "execution_count": 37,
      "outputs": []
    },
    {
      "cell_type": "code",
      "metadata": {
        "id": "9IUevWtx4a8s"
      },
      "source": [
        "# get the corrodinate of the largest f1_score\n",
        "y=max(f1_scores)\n",
        "max_index = f1_scores.index(max(f1_scores))\n",
        "x=threshold[max_index]"
      ],
      "execution_count": 38,
      "outputs": []
    },
    {
      "cell_type": "code",
      "metadata": {
        "id": "-dkXY410xIPr",
        "outputId": "b79cefbd-bb0e-482e-e071-6e4d4eaf93f0",
        "colab": {
          "base_uri": "https://localhost:8080/",
          "height": 295
        }
      },
      "source": [
        "plt.plot(threshold,f1_scores)\n",
        "plt.title('threshold VS f1_scores')\n",
        "plt.scatter(x, y, c='red')\n",
        "plt.xlabel('Threshold')\n",
        "plt.ylabel('f1_scores')\n",
        "plt.text(x, y, '({:5.3f}, {:5.3f})'.format(x, y))\n",
        "plt.savefig('threshold_choose.png')\n",
        "plt.show()"
      ],
      "execution_count": 39,
      "outputs": [
        {
          "output_type": "display_data",
          "data": {
            "image/png": "[encoded data removed]",
            "text/plain": [
              "<Figure size 432x288 with 1 Axes>"
            ]
          },
          "metadata": {
            "tags": [],
            "needs_background": "light"
          }
        }
      ]
    },
    {
      "cell_type": "code",
      "metadata": {
        "id": "D6i6qzYs-ng1",
        "outputId": "51d7c947-c8ad-4e46-c376-e9f8286bb9ca",
        "colab": {
          "base_uri": "https://localhost:8080/",
          "height": 35
        }
      },
      "source": [
        "print(f'The best f1_scores is{y: 5.4f} for threshold is{x: 5.4f}.')"
      ],
      "execution_count": 40,
      "outputs": [
        {
          "output_type": "stream",
          "text": [
            "The best f1_scores is 0.7961 for threshold is 0.4827.\n"
          ],
          "name": "stdout"
        }
      ]
    },
    {
      "cell_type": "markdown",
      "metadata": {
        "id": "wM0FTJZyfbYx"
      },
      "source": [
        "### Show the performance of the model"
      ]
    },
    {
      "cell_type": "code",
      "metadata": {
        "id": "xP5r6A5bla4k"
      },
      "source": [
        "# label the prediction with the choosen threshold\n",
        "predited_label=[]\n",
        "incident_index=[]# incident list\n",
        "for elem in test_xth:\n",
        "  if elem < x:\n",
        "    predited_label.append(0)\n",
        "  else:\n",
        "    predited_label.append(1)\n",
        "    indx = test_xth.loc[(test_xth.loc[:]==elem),:].index.values.tolist()\n",
        "    incident_index+=indx"
      ],
      "execution_count": 41,
      "outputs": []
    },
    {
      "cell_type": "code",
      "metadata": {
        "id": "ZIWJziKWfCuU",
        "outputId": "9eefd7c6-efe6-4f77-e002-29ecec146ec0",
        "colab": {
          "base_uri": "https://localhost:8080/",
          "height": 173
        }
      },
      "source": [
        "from sklearn.metrics import classification_report\n",
        "\n",
        "report = classification_report(test_yth, predited_label,labels=[1,0])\n",
        "print(report)"
      ],
      "execution_count": 42,
      "outputs": [
        {
          "output_type": "stream",
          "text": [
            "              precision    recall  f1-score   support\n",
            "\n",
            "           1       0.81      0.78      0.80       105\n",
            "           0       0.98      0.98      0.98      1076\n",
            "\n",
            "    accuracy                           0.96      1181\n",
            "   macro avg       0.90      0.88      0.89      1181\n",
            "weighted avg       0.96      0.96      0.96      1181\n",
            "\n"
          ],
          "name": "stdout"
        }
      ]
    },
    {
      "cell_type": "code",
      "metadata": {
        "id": "C17VdpEkdqaT",
        "outputId": "56243a3a-7181-446c-8905-8c3da3892aaa",
        "colab": {
          "base_uri": "https://localhost:8080/",
          "height": 331
        }
      },
      "source": [
        "from sklearn.metrics import confusion_matrix\n",
        "import seaborn as sns\n",
        "import pandas as pd\n",
        "import matplotlib.pyplot as plt\n",
        "\n",
        "cm = confusion_matrix(test_yth, predited_label)\n",
        "recal = cm[1][1]/sum(cm[1])\n",
        "\n",
        "sns.heatmap(cm, annot=True,cmap='Blues')\n",
        "plt.ylabel('True')\n",
        "plt.xlabel('Predicted')\n",
        "plt.title(f'Recall is {recal:0.3f}',y=1.05, fontsize=16)\n",
        "plt.suptitle('Confusion Matrix',y=1.06)\n",
        "\n",
        "plt.savefig('Confusion_matrix.png')\n",
        "plt.show()"
      ],
      "execution_count": 43,
      "outputs": [
        {
          "output_type": "display_data",
          "data": {
            "image/png": "[encoded data removed]",
            "text/plain": [
              "<Figure size 432x288 with 2 Axes>"
            ]
          },
          "metadata": {
            "tags": [],
            "needs_background": "light"
          }
        }
      ]
    },
    {
      "cell_type": "markdown",
      "metadata": {
        "id": "LET2Xa3bYUNk"
      },
      "source": [
        "The best result is when epcho is 500, threshold is 0.258, and f1_score is 0.771  and recall is 0.81. (drop out rate 0.2)"
      ]
    },
    {
      "cell_type": "markdown",
      "metadata": {
        "id": "ayBHfJ7i_o-j"
      },
      "source": [
        "## The clients who should pay attention to."
      ]
    },
    {
      "cell_type": "code",
      "metadata": {
        "id": "8YjucVZpDO3Q",
        "outputId": "37a6d9a6-b579-4d45-9a64-52b3d9d82f01",
        "colab": {
          "base_uri": "https://localhost:8080/",
          "height": 433
        }
      },
      "source": [
        "print('The risky clients in each month:')\n",
        "df=pd.DataFrame(incident_index,columns=['Month', 'Client_id'])\n",
        "df.sort_values(by=['Month'])"
      ],
      "execution_count": 46,
      "outputs": [
        {
          "output_type": "stream",
          "text": [
            "The risky clients in each month:\n"
          ],
          "name": "stdout"
        },
        {
          "output_type": "execute_result",
          "data": {
            "text/html": [
              "<div>\n",
              "<style scoped>\n",
              "    .dataframe tbody tr th:only-of-type {\n",
              "        vertical-align: middle;\n",
              "    }\n",
              "\n",
              "    .dataframe tbody tr th {\n",
              "        vertical-align: top;\n",
              "    }\n",
              "\n",
              "    .dataframe thead th {\n",
              "        text-align: right;\n",
              "    }\n",
              "</style>\n",
              "<table border=\"1\" class=\"dataframe\">\n",
              "  <thead>\n",
              "    <tr style=\"text-align: right;\">\n",
              "      <th></th>\n",
              "      <th>Month</th>\n",
              "      <th>Client_id</th>\n",
              "    </tr>\n",
              "  </thead>\n",
              "  <tbody>\n",
              "    <tr>\n",
              "      <th>24</th>\n",
              "      <td>Aug</td>\n",
              "      <td>F9820D32-26C4-4CE9-959C-A60400B41C28</td>\n",
              "    </tr>\n",
              "    <tr>\n",
              "      <th>39</th>\n",
              "      <td>Aug</td>\n",
              "      <td>E714D2C2-0D31-40CC-BA86-A462014699B8</td>\n",
              "    </tr>\n",
              "    <tr>\n",
              "      <th>3</th>\n",
              "      <td>Aug</td>\n",
              "      <td>F83448CE-AD2E-412C-B7EB-A8D000D9E91F</td>\n",
              "    </tr>\n",
              "    <tr>\n",
              "      <th>6</th>\n",
              "      <td>Aug</td>\n",
              "      <td>EEA15CAA-1BCC-4B77-858D-6411976138F9</td>\n",
              "    </tr>\n",
              "    <tr>\n",
              "      <th>92</th>\n",
              "      <td>Aug</td>\n",
              "      <td>F3FB6D6E-F935-4D13-8482-A2EA00AACFA0</td>\n",
              "    </tr>\n",
              "    <tr>\n",
              "      <th>...</th>\n",
              "      <td>...</td>\n",
              "      <td>...</td>\n",
              "    </tr>\n",
              "    <tr>\n",
              "      <th>36</th>\n",
              "      <td>Sep</td>\n",
              "      <td>FC3769A9-E075-E011-97F0-B6A03279A8B3</td>\n",
              "    </tr>\n",
              "    <tr>\n",
              "      <th>16</th>\n",
              "      <td>Sep</td>\n",
              "      <td>FA381413-9F46-4093-8E71-192D86BDB089</td>\n",
              "    </tr>\n",
              "    <tr>\n",
              "      <th>48</th>\n",
              "      <td>Sep</td>\n",
              "      <td>EF1E6180-A15F-4A21-BE0D-A86400FD634E</td>\n",
              "    </tr>\n",
              "    <tr>\n",
              "      <th>12</th>\n",
              "      <td>Sep</td>\n",
              "      <td>DF97393F-9427-409D-B221-A44800E853C7</td>\n",
              "    </tr>\n",
              "    <tr>\n",
              "      <th>57</th>\n",
              "      <td>Sep</td>\n",
              "      <td>F5A7C654-DE9F-4E73-BBE3-A8CC00BC3179</td>\n",
              "    </tr>\n",
              "  </tbody>\n",
              "</table>\n",
              "<p>101 rows × 2 columns</p>\n",
              "</div>"
            ],
            "text/plain": [
              "   Month                             Client_id\n",
              "24   Aug  F9820D32-26C4-4CE9-959C-A60400B41C28\n",
              "39   Aug  E714D2C2-0D31-40CC-BA86-A462014699B8\n",
              "3    Aug  F83448CE-AD2E-412C-B7EB-A8D000D9E91F\n",
              "6    Aug  EEA15CAA-1BCC-4B77-858D-6411976138F9\n",
              "92   Aug  F3FB6D6E-F935-4D13-8482-A2EA00AACFA0\n",
              "..   ...                                   ...\n",
              "36   Sep  FC3769A9-E075-E011-97F0-B6A03279A8B3\n",
              "16   Sep  FA381413-9F46-4093-8E71-192D86BDB089\n",
              "48   Sep  EF1E6180-A15F-4A21-BE0D-A86400FD634E\n",
              "12   Sep  DF97393F-9427-409D-B221-A44800E853C7\n",
              "57   Sep  F5A7C654-DE9F-4E73-BBE3-A8CC00BC3179\n",
              "\n",
              "[101 rows x 2 columns]"
            ]
          },
          "metadata": {
            "tags": []
          },
          "execution_count": 46
        }
      ]
    }
  ]
}